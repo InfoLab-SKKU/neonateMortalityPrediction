{
 "cells": [
  {
   "cell_type": "code",
   "execution_count": 15,
   "metadata": {},
   "outputs": [],
   "source": [
    "import pandas as pd\n",
    "from datetime import datetime\n",
    "import seaborn as sns\n",
    "import numpy as np \n",
    "import glob\n",
    "from os import listdir \n",
    "import os.path\n",
    "from os import path \n",
    "\n",
    "import warnings\n",
    "warnings.filterwarnings('ignore')"
   ]
  },
  {
   "cell_type": "code",
   "execution_count": 1,
   "metadata": {},
   "outputs": [],
   "source": [
    "def side_by_side(*objs, **kwds):\n",
    "    from pandas.io.formats.printing import adjoin\n",
    "    space = kwds.get('space', 4)\n",
    "    reprs = [repr(obj).split('\\n') for obj in objs]\n",
    "    print (adjoin(space, *reprs))\n",
    "    print()\n",
    "    return"
   ]
  },
  {
   "cell_type": "code",
   "execution_count": 4,
   "metadata": {},
   "outputs": [],
   "source": [
    "def list_files(directory):\n",
    "    files = []\n",
    "    counter = 0\n",
    "    for f in listdir(directory):\n",
    "        if f.endswith('.' + \"csv\"):\n",
    "            files.append(f)\n",
    "            counter = counter + 1\n",
    "    print (\"CSV Files: \" + str(counter))\n",
    "    return files"
   ]
  },
  {
   "cell_type": "code",
   "execution_count": 5,
   "metadata": {},
   "outputs": [
    {
     "name": "stdout",
     "output_type": "stream",
     "text": [
      "CSV Files: 13\n"
     ]
    },
    {
     "data": {
      "text/plain": [
       "['bp_cuff_diastolic_24.csv',\n",
       " 'bp_cuff_mean_24.csv',\n",
       " 'bp_cuff_systolic_24.csv',\n",
       " 'glucometer_24.csv',\n",
       " 'heart_rate_24.csv',\n",
       " 'hr_alarm_high_24.csv',\n",
       " 'hr_alarm_low_24.csv',\n",
       " 'resp_rate_24.csv',\n",
       " 'sao2_24.csv',\n",
       " 'sao2_alarm_high_24.csv',\n",
       " 'sao2_alarm_low_24.csv',\n",
       " 'skin_temperature_24.csv',\n",
       " 'temperature_24.csv']"
      ]
     },
     "execution_count": 5,
     "metadata": {},
     "output_type": "execute_result"
    }
   ],
   "source": [
    "main_directory = \"Data_3145_TS_24/\"\n",
    "\n",
    "list_files(main_directory)"
   ]
  },
  {
   "cell_type": "code",
   "execution_count": 9,
   "metadata": {},
   "outputs": [],
   "source": [
    "heartRateDF       = pd.read_csv(main_directory + \"heart_rate_24.csv\") \n",
    "respRateDF        = pd.read_csv(main_directory + \"resp_rate_24.csv\")\n",
    "sao2DF            = pd.read_csv(main_directory + \"sao2_24.csv\")\n",
    "hrAlarmHighDF     = pd.read_csv(main_directory + \"hr_alarm_high_24.csv\") \n",
    "\n",
    "hrAlarmLowDF      = pd.read_csv(main_directory + \"hr_alarm_low_24.csv\")\n",
    "sao2AlarmHighDF   = pd.read_csv(main_directory + \"sao2_alarm_high_24.csv\") \n",
    "sao2AlarmLowDF    = pd.read_csv(main_directory + \"sao2_alarm_low_24.csv\") \n",
    "skinTemperatureDF = pd.read_csv(main_directory + \"skin_temperature_24.csv\") \n",
    "temperatureDF     = pd.read_csv(main_directory + \"temperature_24.csv\") \n",
    "bpCuffDiastolicDF = pd.read_csv(main_directory + \"bp_cuff_diastolic_24.csv\") \n",
    "bpCuffMeanDF      = pd.read_csv(main_directory + \"bp_cuff_mean_24.csv\") \n",
    "bpCuffSystolicDF  = pd.read_csv(main_directory + \"bp_cuff_systolic_24.csv\") \n",
    "glucometerDF      = pd.read_csv(main_directory + \"glucometer_24.csv\")"
   ]
  },
  {
   "cell_type": "code",
   "execution_count": 6,
   "metadata": {},
   "outputs": [
    {
     "name": "stdout",
     "output_type": "stream",
     "text": [
      "CSV Files: 8\n"
     ]
    },
    {
     "data": {
      "text/plain": [
       "['bands_24.csv',\n",
       " 'birth_weight_24.csv',\n",
       " 'eosinophils_24.csv',\n",
       " 'head_circ_24.csv',\n",
       " 'lymphs_24.csv',\n",
       " 'monos_24.csv',\n",
       " 'neuts_24.csv',\n",
       " 'platelet_24.csv']"
      ]
     },
     "execution_count": 6,
     "metadata": {},
     "output_type": "execute_result"
    }
   ],
   "source": [
    "directory_sv = \"Data_3145_SV_24/\"\n",
    "\n",
    "list_files(directory_sv)"
   ]
  },
  {
   "cell_type": "code",
   "execution_count": 10,
   "metadata": {},
   "outputs": [],
   "source": [
    "birth_weight      = pd.read_csv(directory_sv + \"birth_weight_24.csv\")\n",
    "head_circ         = pd.read_csv(directory_sv + \"head_circ_24.csv\")\n",
    "\n",
    "bands             = pd.read_csv(directory_sv + \"bands_24.csv\")\n",
    "eosinophils       = pd.read_csv(directory_sv + \"eosinophils_24.csv\")\n",
    "lymphs            = pd.read_csv(directory_sv + \"lymphs_24.csv\")\n",
    "monos             = pd.read_csv(directory_sv + \"monos_24.csv\")\n",
    "neuts             = pd.read_csv(directory_sv + \"neuts_24.csv\")\n",
    "platelet          = pd.read_csv(directory_sv + \"platelet_24.csv\")"
   ]
  },
  {
   "cell_type": "markdown",
   "metadata": {},
   "source": [
    "### Removing Outliers with domain expert's boundries "
   ]
  },
  {
   "cell_type": "code",
   "execution_count": 7,
   "metadata": {},
   "outputs": [],
   "source": [
    "outlier_free_directory = \"Data/OutlierFreeData/\""
   ]
  },
  {
   "cell_type": "code",
   "execution_count": 11,
   "metadata": {},
   "outputs": [],
   "source": [
    "heartRateDF.to_csv(outlier_free_directory + \"heartRate.csv\", index=False) \n",
    "respRateDF.to_csv(outlier_free_directory + \"respRate.csv\", index=False) \n",
    "sao2DF.to_csv(outlier_free_directory + \"sao2.csv\", index=False) \n",
    "hrAlarmHighDF.to_csv(outlier_free_directory + \"hrAlarmHigh.csv\", index=False) "
   ]
  },
  {
   "cell_type": "markdown",
   "metadata": {},
   "source": [
    "### HR Alarm Low "
   ]
  },
  {
   "cell_type": "code",
   "execution_count": 12,
   "metadata": {},
   "outputs": [
    {
     "data": {
      "text/plain": [
       "<AxesSubplot:xlabel='VALUENUM'>"
      ]
     },
     "execution_count": 12,
     "metadata": {},
     "output_type": "execute_result"
    },
    {
     "data": {
      "image/png": "[encoded data removed]",
      "text/plain": [
       "<Figure size 432x288 with 1 Axes>"
      ]
     },
     "metadata": {
      "needs_background": "light"
     },
     "output_type": "display_data"
    }
   ],
   "source": [
    "sns.boxplot(x=hrAlarmLowDF['VALUENUM'])"
   ]
  },
  {
   "cell_type": "code",
   "execution_count": 13,
   "metadata": {},
   "outputs": [
    {
     "data": {
      "text/plain": [
       "(114, 5)"
      ]
     },
     "execution_count": 13,
     "metadata": {},
     "output_type": "execute_result"
    }
   ],
   "source": [
    "hrAlarmLowDF[hrAlarmLowDF.VALUENUM > 120].shape "
   ]
  },
  {
   "cell_type": "code",
   "execution_count": 16,
   "metadata": {},
   "outputs": [
    {
     "data": {
      "text/plain": [
       "subject_id      0\n",
       "HADM_ID         0\n",
       "CHARTTIME       0\n",
       "VALUENUM      134\n",
       "ADMITTIME       0\n",
       "dtype: int64"
      ]
     },
     "execution_count": 16,
     "metadata": {},
     "output_type": "execute_result"
    }
   ],
   "source": [
    "## Replacing outliers with NaN \n",
    "\n",
    "boolean_condition = hrAlarmLowDF.VALUENUM > 120 \n",
    "column_name = \"VALUENUM\"\n",
    "\n",
    "hrAlarmLowDF.loc[boolean_condition, column_name] = np.nan\n",
    "\n",
    "hrAlarmLowDF.to_csv(outlier_free_directory + 'hrAlarmLow.csv', index=False)\n",
    "\n",
    "hrAlarmLowDF.isnull().sum()"
   ]
  },
  {
   "cell_type": "code",
   "execution_count": 17,
   "metadata": {},
   "outputs": [
    {
     "data": {
      "text/plain": [
       "<AxesSubplot:xlabel='VALUENUM'>"
      ]
     },
     "execution_count": 17,
     "metadata": {},
     "output_type": "execute_result"
    },
    {
     "data": {
      "image/png": "[encoded data removed]",
      "text/plain": [
       "<Figure size 432x288 with 1 Axes>"
      ]
     },
     "metadata": {
      "needs_background": "light"
     },
     "output_type": "display_data"
    }
   ],
   "source": [
    "sns.boxplot(x=hrAlarmLowDF['VALUENUM'])"
   ]
  },
  {
   "cell_type": "markdown",
   "metadata": {},
   "source": [
    "### SaO2 Alarm High"
   ]
  },
  {
   "cell_type": "code",
   "execution_count": 18,
   "metadata": {},
   "outputs": [
    {
     "data": {
      "text/plain": [
       "(22, 5)"
      ]
     },
     "execution_count": 18,
     "metadata": {},
     "output_type": "execute_result"
    }
   ],
   "source": [
    "sao2AlarmHighDF[sao2AlarmHighDF.VALUENUM < 80].shape "
   ]
  },
  {
   "cell_type": "code",
   "execution_count": 19,
   "metadata": {},
   "outputs": [
    {
     "data": {
      "text/plain": [
       "subject_id     0\n",
       "HADM_ID        0\n",
       "CHARTTIME      0\n",
       "VALUENUM      22\n",
       "ADMITTIME      0\n",
       "dtype: int64"
      ]
     },
     "execution_count": 19,
     "metadata": {},
     "output_type": "execute_result"
    }
   ],
   "source": [
    "## Replacing outliers with NaN \n",
    "\n",
    "boolean_condition = sao2AlarmHighDF.VALUENUM < 80 \n",
    "column_name = \"VALUENUM\"\n",
    "\n",
    "sao2AlarmHighDF.loc[boolean_condition, column_name] = np.nan\n",
    "\n",
    "sao2AlarmHighDF.to_csv('Data/OutlierFreeData/sao2AlarmHigh.csv', index=False)\n",
    "\n",
    "sao2AlarmHighDF.isnull().sum()"
   ]
  },
  {
   "cell_type": "code",
   "execution_count": 20,
   "metadata": {},
   "outputs": [
    {
     "data": {
      "text/plain": [
       "<AxesSubplot:xlabel='VALUENUM'>"
      ]
     },
     "execution_count": 20,
     "metadata": {},
     "output_type": "execute_result"
    },
    {
     "data": {
      "image/png": "[encoded data removed]",
      "text/plain": [
       "<Figure size 432x288 with 1 Axes>"
      ]
     },
     "metadata": {
      "needs_background": "light"
     },
     "output_type": "display_data"
    }
   ],
   "source": [
    "sns.boxplot(x=sao2AlarmHighDF['VALUENUM'])"
   ]
  },
  {
   "cell_type": "markdown",
   "metadata": {},
   "source": [
    "### SaO2 Alarm Low "
   ]
  },
  {
   "cell_type": "code",
   "execution_count": 21,
   "metadata": {},
   "outputs": [
    {
     "data": {
      "text/plain": [
       "<AxesSubplot:xlabel='VALUENUM'>"
      ]
     },
     "execution_count": 21,
     "metadata": {},
     "output_type": "execute_result"
    },
    {
     "data": {
      "image/png": "[encoded data removed]",
      "text/plain": [
       "<Figure size 432x288 with 1 Axes>"
      ]
     },
     "metadata": {
      "needs_background": "light"
     },
     "output_type": "display_data"
    }
   ],
   "source": [
    "sns.boxplot(x=sao2AlarmLowDF['VALUENUM'])"
   ]
  },
  {
   "cell_type": "code",
   "execution_count": 22,
   "metadata": {},
   "outputs": [
    {
     "data": {
      "text/plain": [
       "(93, 5)"
      ]
     },
     "execution_count": 22,
     "metadata": {},
     "output_type": "execute_result"
    }
   ],
   "source": [
    "sao2AlarmLowDF[sao2AlarmLowDF.VALUENUM < 85].shape "
   ]
  },
  {
   "cell_type": "code",
   "execution_count": 23,
   "metadata": {},
   "outputs": [],
   "source": [
    "sao2AlarmLowDF.to_csv('Data/OutlierFreeData/sao2AlarmLow.csv', index=False)"
   ]
  },
  {
   "cell_type": "markdown",
   "metadata": {},
   "source": [
    "### SkinTemperature"
   ]
  },
  {
   "cell_type": "code",
   "execution_count": 24,
   "metadata": {},
   "outputs": [
    {
     "data": {
      "text/plain": [
       "<AxesSubplot:xlabel='VALUENUM'>"
      ]
     },
     "execution_count": 24,
     "metadata": {},
     "output_type": "execute_result"
    },
    {
     "data": {
      "image/png": "[encoded data removed]",
      "text/plain": [
       "<Figure size 432x288 with 1 Axes>"
      ]
     },
     "metadata": {
      "needs_background": "light"
     },
     "output_type": "display_data"
    }
   ],
   "source": [
    "sns.boxplot(x=skinTemperatureDF['VALUENUM'])"
   ]
  },
  {
   "cell_type": "code",
   "execution_count": 25,
   "metadata": {},
   "outputs": [
    {
     "data": {
      "text/plain": [
       "(22, 5)"
      ]
     },
     "execution_count": 25,
     "metadata": {},
     "output_type": "execute_result"
    }
   ],
   "source": [
    "skinTemperatureDF[skinTemperatureDF.VALUENUM < 25].shape "
   ]
  },
  {
   "cell_type": "code",
   "execution_count": 26,
   "metadata": {},
   "outputs": [
    {
     "data": {
      "text/plain": [
       "(31, 5)"
      ]
     },
     "execution_count": 26,
     "metadata": {},
     "output_type": "execute_result"
    }
   ],
   "source": [
    "skinTemperatureDF[skinTemperatureDF.VALUENUM > 42].shape "
   ]
  },
  {
   "cell_type": "code",
   "execution_count": 27,
   "metadata": {},
   "outputs": [
    {
     "data": {
      "text/plain": [
       "subject_id       0\n",
       "HADM_ID          0\n",
       "CHARTTIME        0\n",
       "VALUENUM      1030\n",
       "ADMITTIME        0\n",
       "dtype: int64"
      ]
     },
     "execution_count": 27,
     "metadata": {},
     "output_type": "execute_result"
    }
   ],
   "source": [
    "## Replacing outliers with NaN \n",
    "\n",
    "boolean_condition1 = skinTemperatureDF.VALUENUM < 25\n",
    "boolean_condition2 = skinTemperatureDF.VALUENUM > 42\n",
    "column_name = \"VALUENUM\"\n",
    "\n",
    "skinTemperatureDF.loc[boolean_condition1, column_name] = np.nan\n",
    "skinTemperatureDF.loc[boolean_condition2, column_name] = np.nan\n",
    "\n",
    "skinTemperatureDF.to_csv('Data/OutlierFreeData/skinTemperature.csv', index=False)\n",
    "\n",
    "skinTemperatureDF.isnull().sum()"
   ]
  },
  {
   "cell_type": "code",
   "execution_count": 28,
   "metadata": {},
   "outputs": [
    {
     "data": {
      "text/plain": [
       "<AxesSubplot:xlabel='VALUENUM'>"
      ]
     },
     "execution_count": 28,
     "metadata": {},
     "output_type": "execute_result"
    },
    {
     "data": {
      "image/png": "[encoded data removed]",
      "text/plain": [
       "<Figure size 432x288 with 1 Axes>"
      ]
     },
     "metadata": {
      "needs_background": "light"
     },
     "output_type": "display_data"
    }
   ],
   "source": [
    "sns.boxplot(x=skinTemperatureDF['VALUENUM'])"
   ]
  },
  {
   "cell_type": "markdown",
   "metadata": {},
   "source": [
    "### Temperature "
   ]
  },
  {
   "cell_type": "code",
   "execution_count": 29,
   "metadata": {},
   "outputs": [
    {
     "data": {
      "text/plain": [
       "<AxesSubplot:xlabel='VALUENUM'>"
      ]
     },
     "execution_count": 29,
     "metadata": {},
     "output_type": "execute_result"
    },
    {
     "data": {
      "image/png": "[encoded data removed]",
      "text/plain": [
       "<Figure size 432x288 with 1 Axes>"
      ]
     },
     "metadata": {
      "needs_background": "light"
     },
     "output_type": "display_data"
    }
   ],
   "source": [
    "sns.boxplot(x=temperatureDF['VALUENUM'])"
   ]
  },
  {
   "cell_type": "code",
   "execution_count": 30,
   "metadata": {},
   "outputs": [
    {
     "data": {
      "text/plain": [
       "subject_id      0\n",
       "HADM_ID         0\n",
       "CHARTTIME       0\n",
       "VALUENUM      527\n",
       "ADMITTIME       0\n",
       "dtype: int64"
      ]
     },
     "execution_count": 30,
     "metadata": {},
     "output_type": "execute_result"
    }
   ],
   "source": [
    "## Replacing outliers with NaN \n",
    "\n",
    "boolean_condition = temperatureDF.VALUENUM < 25\n",
    "column_name = \"VALUENUM\"\n",
    "\n",
    "temperatureDF.loc[boolean_condition, column_name] = np.nan\n",
    "\n",
    "temperatureDF.to_csv('Data/OutlierFreeData/temperature.csv', index=False)\n",
    "\n",
    "temperatureDF.isnull().sum()"
   ]
  },
  {
   "cell_type": "code",
   "execution_count": 31,
   "metadata": {},
   "outputs": [
    {
     "data": {
      "text/plain": [
       "<AxesSubplot:xlabel='VALUENUM'>"
      ]
     },
     "execution_count": 31,
     "metadata": {},
     "output_type": "execute_result"
    },
    {
     "data": {
      "image/png": "[encoded data removed]",
      "text/plain": [
       "<Figure size 432x288 with 1 Axes>"
      ]
     },
     "metadata": {
      "needs_background": "light"
     },
     "output_type": "display_data"
    }
   ],
   "source": [
    "sns.boxplot(x=temperatureDF['VALUENUM'])"
   ]
  },
  {
   "cell_type": "markdown",
   "metadata": {},
   "source": [
    "### BP Cuff Diastolic "
   ]
  },
  {
   "cell_type": "code",
   "execution_count": 32,
   "metadata": {},
   "outputs": [
    {
     "data": {
      "text/plain": [
       "<AxesSubplot:xlabel='VALUENUM'>"
      ]
     },
     "execution_count": 32,
     "metadata": {},
     "output_type": "execute_result"
    },
    {
     "data": {
      "image/png": "[encoded data removed]",
      "text/plain": [
       "<Figure size 432x288 with 1 Axes>"
      ]
     },
     "metadata": {
      "needs_background": "light"
     },
     "output_type": "display_data"
    }
   ],
   "source": [
    "sns.boxplot(x=bpCuffDiastolicDF['VALUENUM'])"
   ]
  },
  {
   "cell_type": "code",
   "execution_count": 33,
   "metadata": {},
   "outputs": [
    {
     "data": {
      "text/plain": [
       "(3, 5)"
      ]
     },
     "execution_count": 33,
     "metadata": {},
     "output_type": "execute_result"
    }
   ],
   "source": [
    "bpCuffDiastolicDF[bpCuffDiastolicDF.VALUENUM > 200].shape "
   ]
  },
  {
   "cell_type": "code",
   "execution_count": 34,
   "metadata": {},
   "outputs": [
    {
     "data": {
      "text/plain": [
       "subject_id    0\n",
       "HADM_ID       0\n",
       "CHARTTIME     0\n",
       "VALUENUM      3\n",
       "ADMITTIME     0\n",
       "dtype: int64"
      ]
     },
     "execution_count": 34,
     "metadata": {},
     "output_type": "execute_result"
    }
   ],
   "source": [
    "## Replacing outliers with NaN \n",
    "\n",
    "boolean_condition = bpCuffDiastolicDF.VALUENUM > 200\n",
    "column_name = \"VALUENUM\"\n",
    "\n",
    "bpCuffDiastolicDF.loc[boolean_condition, column_name] = np.nan\n",
    "\n",
    "bpCuffDiastolicDF.to_csv('Data/OutlierFreeData/bpCuffDiastolic.csv', index=False)\n",
    "\n",
    "bpCuffDiastolicDF.isnull().sum()"
   ]
  },
  {
   "cell_type": "code",
   "execution_count": 35,
   "metadata": {},
   "outputs": [
    {
     "data": {
      "text/plain": [
       "<AxesSubplot:xlabel='VALUENUM'>"
      ]
     },
     "execution_count": 35,
     "metadata": {},
     "output_type": "execute_result"
    },
    {
     "data": {
      "image/png": "[encoded data removed]",
      "text/plain": [
       "<Figure size 432x288 with 1 Axes>"
      ]
     },
     "metadata": {
      "needs_background": "light"
     },
     "output_type": "display_data"
    }
   ],
   "source": [
    "sns.boxplot(x=bpCuffDiastolicDF['VALUENUM'])"
   ]
  },
  {
   "cell_type": "markdown",
   "metadata": {},
   "source": [
    "### BP Cuff Mean "
   ]
  },
  {
   "cell_type": "code",
   "execution_count": 36,
   "metadata": {},
   "outputs": [
    {
     "data": {
      "text/plain": [
       "<AxesSubplot:xlabel='VALUENUM'>"
      ]
     },
     "execution_count": 36,
     "metadata": {},
     "output_type": "execute_result"
    },
    {
     "data": {
      "image/png": "[encoded data removed]",
      "text/plain": [
       "<Figure size 432x288 with 1 Axes>"
      ]
     },
     "metadata": {
      "needs_background": "light"
     },
     "output_type": "display_data"
    }
   ],
   "source": [
    "sns.boxplot(x=bpCuffMeanDF['VALUENUM'])"
   ]
  },
  {
   "cell_type": "code",
   "execution_count": 38,
   "metadata": {},
   "outputs": [
    {
     "data": {
      "text/plain": [
       "(1, 5)"
      ]
     },
     "execution_count": 38,
     "metadata": {},
     "output_type": "execute_result"
    }
   ],
   "source": [
    "bpCuffMeanDF[bpCuffMeanDF.VALUENUM > 100].shape "
   ]
  },
  {
   "cell_type": "code",
   "execution_count": 39,
   "metadata": {},
   "outputs": [
    {
     "data": {
      "text/plain": [
       "subject_id     0\n",
       "HADM_ID        0\n",
       "CHARTTIME      0\n",
       "VALUENUM      81\n",
       "ADMITTIME      0\n",
       "dtype: int64"
      ]
     },
     "execution_count": 39,
     "metadata": {},
     "output_type": "execute_result"
    }
   ],
   "source": [
    "## Replacing outliers with NaN \n",
    "\n",
    "boolean_condition = bpCuffMeanDF.VALUENUM > 100\n",
    "column_name = \"VALUENUM\"\n",
    "\n",
    "bpCuffMeanDF.loc[boolean_condition, column_name] = np.nan\n",
    "\n",
    "bpCuffMeanDF.to_csv('Data/OutlierFreeData/bpCuffMean.csv', index=False)\n",
    "\n",
    "bpCuffMeanDF.isnull().sum()"
   ]
  },
  {
   "cell_type": "markdown",
   "metadata": {},
   "source": [
    "### BP Cuff Systolic"
   ]
  },
  {
   "cell_type": "code",
   "execution_count": 40,
   "metadata": {},
   "outputs": [
    {
     "data": {
      "text/plain": [
       "<AxesSubplot:xlabel='VALUENUM'>"
      ]
     },
     "execution_count": 40,
     "metadata": {},
     "output_type": "execute_result"
    },
    {
     "data": {
      "image/png": "[encoded data removed]",
      "text/plain": [
       "<Figure size 432x288 with 1 Axes>"
      ]
     },
     "metadata": {
      "needs_background": "light"
     },
     "output_type": "display_data"
    }
   ],
   "source": [
    "sns.boxplot(x=bpCuffSystolicDF['VALUENUM'])"
   ]
  },
  {
   "cell_type": "code",
   "execution_count": 41,
   "metadata": {},
   "outputs": [
    {
     "data": {
      "text/plain": [
       "(2, 5)"
      ]
     },
     "execution_count": 41,
     "metadata": {},
     "output_type": "execute_result"
    }
   ],
   "source": [
    "bpCuffSystolicDF[bpCuffSystolicDF.VALUENUM > 200].shape "
   ]
  },
  {
   "cell_type": "code",
   "execution_count": 42,
   "metadata": {},
   "outputs": [
    {
     "data": {
      "text/plain": [
       "subject_id      0\n",
       "HADM_ID         0\n",
       "CHARTTIME       0\n",
       "VALUENUM      113\n",
       "ADMITTIME       0\n",
       "dtype: int64"
      ]
     },
     "execution_count": 42,
     "metadata": {},
     "output_type": "execute_result"
    }
   ],
   "source": [
    "## Replacing outliers with NaN \n",
    "\n",
    "boolean_condition = bpCuffSystolicDF.VALUENUM > 200\n",
    "column_name = \"VALUENUM\"\n",
    "\n",
    "bpCuffSystolicDF.loc[boolean_condition, column_name] = np.nan\n",
    "\n",
    "bpCuffSystolicDF.to_csv('Data/OutlierFreeData/bpCuffSystolic.csv', index=False)\n",
    "\n",
    "bpCuffSystolicDF.isnull().sum()"
   ]
  },
  {
   "cell_type": "code",
   "execution_count": 43,
   "metadata": {},
   "outputs": [
    {
     "data": {
      "text/plain": [
       "<AxesSubplot:xlabel='VALUENUM'>"
      ]
     },
     "execution_count": 43,
     "metadata": {},
     "output_type": "execute_result"
    },
    {
     "data": {
      "image/png": "[encoded data removed]",
      "text/plain": [
       "<Figure size 432x288 with 1 Axes>"
      ]
     },
     "metadata": {
      "needs_background": "light"
     },
     "output_type": "display_data"
    }
   ],
   "source": [
    "sns.boxplot(x=bpCuffSystolicDF['VALUENUM'])"
   ]
  },
  {
   "cell_type": "markdown",
   "metadata": {},
   "source": [
    "## Glucometer "
   ]
  },
  {
   "cell_type": "code",
   "execution_count": 44,
   "metadata": {},
   "outputs": [
    {
     "data": {
      "text/plain": [
       "<AxesSubplot:xlabel='VALUENUM'>"
      ]
     },
     "execution_count": 44,
     "metadata": {},
     "output_type": "execute_result"
    },
    {
     "data": {
      "image/png": "[encoded data removed]",
      "text/plain": [
       "<Figure size 432x288 with 1 Axes>"
      ]
     },
     "metadata": {
      "needs_background": "light"
     },
     "output_type": "display_data"
    }
   ],
   "source": [
    "sns.boxplot(x=glucometerDF['VALUENUM'])"
   ]
  },
  {
   "cell_type": "code",
   "execution_count": 45,
   "metadata": {},
   "outputs": [
    {
     "data": {
      "text/plain": [
       "subject_id     0\n",
       "HADM_ID        0\n",
       "CHARTTIME      0\n",
       "VALUENUM      69\n",
       "ADMITTIME      0\n",
       "dtype: int64"
      ]
     },
     "execution_count": 45,
     "metadata": {},
     "output_type": "execute_result"
    }
   ],
   "source": [
    "## Replacing outliers with NaN \n",
    "\n",
    "boolean_condition1 = glucometerDF.VALUENUM > 400\n",
    "boolean_condition2 = glucometerDF.VALUENUM < 0\n",
    "column_name = \"VALUENUM\"\n",
    "\n",
    "glucometerDF.loc[boolean_condition1, column_name] = np.nan\n",
    "glucometerDF.loc[boolean_condition2, column_name] = np.nan\n",
    "\n",
    "glucometerDF.to_csv('Data/OutlierFreeData/glucometer.csv', index=False)\n",
    "\n",
    "glucometerDF.isnull().sum()"
   ]
  },
  {
   "cell_type": "code",
   "execution_count": null,
   "metadata": {},
   "outputs": [],
   "source": []
  }
 ],
 "metadata": {
  "kernelspec": {
   "display_name": "Python 3",
   "language": "python",
   "name": "python3"
  },
  "language_info": {
   "codemirror_mode": {
    "name": "ipython",
    "version": 3
   },
   "file_extension": ".py",
   "mimetype": "text/x-python",
   "name": "python",
   "nbconvert_exporter": "python",
   "pygments_lexer": "ipython3",
   "version": "3.8.5"
  }
 },
 "nbformat": 4,
 "nbformat_minor": 4
}
