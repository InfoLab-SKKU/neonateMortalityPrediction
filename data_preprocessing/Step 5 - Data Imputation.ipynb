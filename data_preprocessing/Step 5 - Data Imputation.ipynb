{
 "cells": [
  {
   "cell_type": "markdown",
   "metadata": {},
   "source": [
    "# Data Imputation \n",
    "\n",
    "* by Firuz Juraev (PhD student)"
   ]
  },
  {
   "cell_type": "code",
   "execution_count": 26,
   "metadata": {},
   "outputs": [],
   "source": [
    "import pandas as pd\n",
    "from datetime import datetime\n",
    "import seaborn as sns\n",
    "import glob\n",
    "from os import listdir \n",
    "import os.path\n",
    "from os import path \n",
    "\n",
    "import warnings\n",
    "warnings.filterwarnings('ignore')"
   ]
  },
  {
   "cell_type": "code",
   "execution_count": 2,
   "metadata": {},
   "outputs": [],
   "source": [
    "def side_by_side(*objs, **kwds):\n",
    "    from pandas.io.formats.printing import adjoin\n",
    "    space = kwds.get('space', 4)\n",
    "    reprs = [repr(obj).split('\\n') for obj in objs]\n",
    "    print (adjoin(space, *reprs))\n",
    "    print()\n",
    "    return"
   ]
  },
  {
   "cell_type": "markdown",
   "metadata": {},
   "source": [
    "## Defining Functions "
   ]
  },
  {
   "cell_type": "code",
   "execution_count": 23,
   "metadata": {},
   "outputs": [],
   "source": [
    "def fillNaN(df, filename): \n",
    "    if pd.isnull(df['VALUENUM'].iloc[0]) and df['row'].iloc[0] == 1: \n",
    "        df['VALUENUM'].fillna(method='bfill', inplace=True)\n",
    "    else: \n",
    "        df['VALUENUM'].fillna(method='ffill', inplace=True)\n",
    "    \n",
    "    if path.exists(filename): \n",
    "        df.to_csv(filename, mode='a', header=False, index=False)\n",
    "    else: \n",
    "        df.to_csv(filename, index=False, header=True)"
   ]
  },
  {
   "cell_type": "code",
   "execution_count": 24,
   "metadata": {},
   "outputs": [],
   "source": [
    "def fillNaN_Avg(df, filename):\n",
    "    df['VALUENUM'].fillna(df['VALUENUM'].mean(), inplace=True)\n",
    "    \n",
    "    if path.exists(filename): \n",
    "        df.to_csv(filename, mode='a', header=False, index=False)\n",
    "    else: \n",
    "        df.to_csv(filename, index=False, header=True)"
   ]
  },
  {
   "cell_type": "code",
   "execution_count": 37,
   "metadata": {},
   "outputs": [],
   "source": [
    "directory_FB = \"Data/Data_FB/\"\n",
    "directory_Mean = \"Data/Data_Mean/\" \n",
    "directory_NaN = \"Data/Data_NaN/\" \n",
    "\n",
    "main_directory = \"Data/OutlierFreeData/\""
   ]
  },
  {
   "cell_type": "code",
   "execution_count": 38,
   "metadata": {},
   "outputs": [],
   "source": [
    "def list_files(directory):\n",
    "    files = []\n",
    "    counter = 0\n",
    "    for f in listdir(directory):\n",
    "        if f.endswith('.' + \"csv\"):\n",
    "            files.append(f)\n",
    "            counter = counter + 1\n",
    "    print (\"CSV Files: \" + str(counter))\n",
    "    return files"
   ]
  },
  {
   "cell_type": "code",
   "execution_count": 39,
   "metadata": {},
   "outputs": [
    {
     "name": "stdout",
     "output_type": "stream",
     "text": [
      "CSV Files: 13\n"
     ]
    },
    {
     "data": {
      "text/plain": [
       "['bpCuffDiastolic.csv',\n",
       " 'bpCuffMean.csv',\n",
       " 'bpCuffSystolic.csv',\n",
       " 'glucometer.csv',\n",
       " 'heartRate.csv',\n",
       " 'hrAlarmHigh.csv',\n",
       " 'hrAlarmLow.csv',\n",
       " 'respRate.csv',\n",
       " 'sao2.csv',\n",
       " 'sao2AlarmHigh.csv',\n",
       " 'sao2AlarmLow.csv',\n",
       " 'skinTemperature.csv',\n",
       " 'temperature.csv']"
      ]
     },
     "execution_count": 39,
     "metadata": {},
     "output_type": "execute_result"
    }
   ],
   "source": [
    "list_files(main_directory)"
   ]
  },
  {
   "cell_type": "code",
   "execution_count": 16,
   "metadata": {},
   "outputs": [
    {
     "name": "stdout",
     "output_type": "stream",
     "text": [
      "CSV Files: 13\n"
     ]
    },
    {
     "data": {
      "text/plain": [
       "'bp_cuff_diastolic'"
      ]
     },
     "execution_count": 16,
     "metadata": {},
     "output_type": "execute_result"
    }
   ],
   "source": [
    "list_files(\"Data_3145_TS_24/\")[0].replace('_24.csv', '')"
   ]
  },
  {
   "cell_type": "markdown",
   "metadata": {},
   "source": [
    "### Data Imputation Function "
   ]
  },
  {
   "cell_type": "code",
   "execution_count": 41,
   "metadata": {},
   "outputs": [],
   "source": [
    "def data_imputation(filename): \n",
    "    \n",
    "    df = pd.read_csv(main_directory + filename)\n",
    "    \n",
    "    #filename = filename.replace('_24.csv', '.csv')\n",
    "    \n",
    "    drop_list = []\n",
    "\n",
    "    i = df[df['HADM_ID'] == 146110].index                             \n",
    "\n",
    "    # Appending indeces to drop list  \n",
    "    drop_list.append(i) \n",
    "\n",
    "    ## droping rows \n",
    "    for i in drop_list: \n",
    "        df.drop(i, axis=0, inplace=True)\n",
    "    \n",
    "    ## Not filling, just saving \n",
    "    df.to_csv(directory_NaN + filename, index=False)\n",
    "    \n",
    "    ## Sorting Data \n",
    "    df.sort_values(by=['HADM_ID', 'CHARTTIME'], inplace=True) \n",
    "\n",
    "    ## Giving row id by group \n",
    "    df['row'] = df.groupby(['HADM_ID']).cumcount()+1\n",
    "\n",
    "    ## Finding only unique values \n",
    "    unique_hadm_ids = df['HADM_ID'].unique()\n",
    "    \n",
    "    ## Filling with Mean \n",
    "    for i in range(0, len(unique_hadm_ids)): \n",
    "        fillNaN_Avg(df.loc[df['HADM_ID'] == unique_hadm_ids[i]], directory_Mean + filename) \n",
    "        \n",
    "    ## Filling with Mean \n",
    "    for i in range(0, len(unique_hadm_ids)): \n",
    "        fillNaN(df.loc[df['HADM_ID'] == unique_hadm_ids[i]], directory_FB + filename)  \n",
    "    \n",
    "    print(filename) \n",
    "    \n",
    "    ## Checking \n",
    "    check_mean_df = pd.read_csv(directory_Mean + filename)\n",
    "    check_fb_df = pd.read_csv(directory_FB + filename) \n",
    "    \n",
    "    print(\"Unique Neonates NaN: \" + str(df['HADM_ID'].nunique()))\n",
    "    print(\"Unique Neonates Mean: \" + str(check_mean_df['HADM_ID'].nunique())) \n",
    "    print(\"Unique Neonates FB: \" + str(check_fb_df['HADM_ID'].nunique())) \n",
    "    \n",
    "    side_by_side(check_fb_df.isnull().sum(), check_fb_df.count())\n",
    "    "
   ]
  },
  {
   "cell_type": "markdown",
   "metadata": {},
   "source": [
    "### Filling Data "
   ]
  },
  {
   "cell_type": "code",
   "execution_count": 42,
   "metadata": {},
   "outputs": [
    {
     "name": "stdout",
     "output_type": "stream",
     "text": [
      "CSV Files: 13\n",
      "bpCuffDiastolic.csv\n",
      "Unique Neonates NaN: 3144\n",
      "Unique Neonates Mean: 3144\n",
      "Unique Neonates FB: 3144\n",
      "subject_id    0    subject_id    24509\n",
      "HADM_ID       0    HADM_ID       24509\n",
      "CHARTTIME     0    CHARTTIME     24509\n",
      "VALUENUM      0    VALUENUM      24509\n",
      "ADMITTIME     0    ADMITTIME     24509\n",
      "row           0    row           24509\n",
      "dtype: int64       dtype: int64       \n",
      "\n",
      "bpCuffMean.csv\n",
      "Unique Neonates NaN: 3144\n",
      "Unique Neonates Mean: 3144\n",
      "Unique Neonates FB: 3144\n",
      "subject_id    0    subject_id    24612\n",
      "HADM_ID       0    HADM_ID       24612\n",
      "CHARTTIME     0    CHARTTIME     24612\n",
      "VALUENUM      0    VALUENUM      24612\n",
      "ADMITTIME     0    ADMITTIME     24612\n",
      "row           0    row           24612\n",
      "dtype: int64       dtype: int64       \n",
      "\n",
      "bpCuffSystolic.csv\n",
      "Unique Neonates NaN: 3144\n",
      "Unique Neonates Mean: 3144\n",
      "Unique Neonates FB: 3144\n",
      "subject_id    0    subject_id    24619\n",
      "HADM_ID       0    HADM_ID       24619\n",
      "CHARTTIME     0    CHARTTIME     24619\n",
      "VALUENUM      0    VALUENUM      24619\n",
      "ADMITTIME     0    ADMITTIME     24619\n",
      "row           0    row           24619\n",
      "dtype: int64       dtype: int64       \n",
      "\n",
      "glucometer.csv\n",
      "Unique Neonates NaN: 3144\n",
      "Unique Neonates Mean: 3144\n",
      "Unique Neonates FB: 3144\n",
      "subject_id    0    subject_id    15090\n",
      "HADM_ID       0    HADM_ID       15090\n",
      "CHARTTIME     0    CHARTTIME     15090\n",
      "VALUENUM      0    VALUENUM      15090\n",
      "ADMITTIME     0    ADMITTIME     15090\n",
      "row           0    row           15090\n",
      "dtype: int64       dtype: int64       \n",
      "\n",
      "heartRate.csv\n",
      "Unique Neonates NaN: 3144\n",
      "Unique Neonates Mean: 3144\n",
      "Unique Neonates FB: 3144\n",
      "subject_id    0    subject_id    78159\n",
      "HADM_ID       0    HADM_ID       78159\n",
      "CHARTTIME     0    CHARTTIME     78159\n",
      "VALUENUM      0    VALUENUM      78159\n",
      "ADMITTIME     0    ADMITTIME     78159\n",
      "row           0    row           78159\n",
      "dtype: int64       dtype: int64       \n",
      "\n",
      "hrAlarmHigh.csv\n",
      "Unique Neonates NaN: 3144\n",
      "Unique Neonates Mean: 3144\n",
      "Unique Neonates FB: 3144\n",
      "subject_id    0    subject_id    74375\n",
      "HADM_ID       0    HADM_ID       74375\n",
      "CHARTTIME     0    CHARTTIME     74375\n",
      "VALUENUM      0    VALUENUM      74375\n",
      "ADMITTIME     0    ADMITTIME     74375\n",
      "row           0    row           74375\n",
      "dtype: int64       dtype: int64       \n",
      "\n",
      "hrAlarmLow.csv\n",
      "Unique Neonates NaN: 3144\n",
      "Unique Neonates Mean: 3144\n",
      "Unique Neonates FB: 3144\n",
      "subject_id     0    subject_id    74401\n",
      "HADM_ID        0    HADM_ID       74401\n",
      "CHARTTIME      0    CHARTTIME     74401\n",
      "VALUENUM      15    VALUENUM      74386\n",
      "ADMITTIME      0    ADMITTIME     74401\n",
      "row            0    row           74401\n",
      "dtype: int64        dtype: int64       \n",
      "\n",
      "respRate.csv\n",
      "Unique Neonates NaN: 3144\n",
      "Unique Neonates Mean: 3144\n",
      "Unique Neonates FB: 3144\n",
      "subject_id    0    subject_id    76141\n",
      "HADM_ID       0    HADM_ID       76141\n",
      "CHARTTIME     0    CHARTTIME     76141\n",
      "VALUENUM      1    VALUENUM      76140\n",
      "ADMITTIME     0    ADMITTIME     76141\n",
      "row           0    row           76141\n",
      "dtype: int64       dtype: int64       \n",
      "\n",
      "sao2.csv\n",
      "Unique Neonates NaN: 3144\n",
      "Unique Neonates Mean: 3144\n",
      "Unique Neonates FB: 3144\n",
      "subject_id    0    subject_id    77742\n",
      "HADM_ID       0    HADM_ID       77742\n",
      "CHARTTIME     0    CHARTTIME     77742\n",
      "VALUENUM      0    VALUENUM      77742\n",
      "ADMITTIME     0    ADMITTIME     77742\n",
      "row           0    row           77742\n",
      "dtype: int64       dtype: int64       \n",
      "\n",
      "sao2AlarmHigh.csv\n",
      "Unique Neonates NaN: 3144\n",
      "Unique Neonates Mean: 3144\n",
      "Unique Neonates FB: 3144\n",
      "subject_id    0    subject_id    74195\n",
      "HADM_ID       0    HADM_ID       74195\n",
      "CHARTTIME     0    CHARTTIME     74195\n",
      "VALUENUM      0    VALUENUM      74195\n",
      "ADMITTIME     0    ADMITTIME     74195\n",
      "row           0    row           74195\n",
      "dtype: int64       dtype: int64       \n",
      "\n",
      "sao2AlarmLow.csv\n",
      "Unique Neonates NaN: 3144\n",
      "Unique Neonates Mean: 3144\n",
      "Unique Neonates FB: 3144\n",
      "subject_id    0    subject_id    74246\n",
      "HADM_ID       0    HADM_ID       74246\n",
      "CHARTTIME     0    CHARTTIME     74246\n",
      "VALUENUM      0    VALUENUM      74246\n",
      "ADMITTIME     0    ADMITTIME     74246\n",
      "row           0    row           74246\n",
      "dtype: int64       dtype: int64       \n",
      "\n",
      "skinTemperature.csv\n",
      "Unique Neonates NaN: 3144\n",
      "Unique Neonates Mean: 3144\n",
      "Unique Neonates FB: 3144\n",
      "subject_id    0    subject_id    62396\n",
      "HADM_ID       0    HADM_ID       62396\n",
      "CHARTTIME     0    CHARTTIME     62396\n",
      "VALUENUM      8    VALUENUM      62388\n",
      "ADMITTIME     0    ADMITTIME     62396\n",
      "row           0    row           62396\n",
      "dtype: int64       dtype: int64       \n",
      "\n",
      "temperature.csv\n",
      "Unique Neonates NaN: 3144\n",
      "Unique Neonates Mean: 3144\n",
      "Unique Neonates FB: 3144\n",
      "subject_id    0    subject_id    61923\n",
      "HADM_ID       0    HADM_ID       61923\n",
      "CHARTTIME     0    CHARTTIME     61923\n",
      "VALUENUM      5    VALUENUM      61918\n",
      "ADMITTIME     0    ADMITTIME     61923\n",
      "row           0    row           61923\n",
      "dtype: int64       dtype: int64       \n",
      "\n"
     ]
    }
   ],
   "source": [
    "files = list_files(main_directory) \n",
    "\n",
    "for f in files: \n",
    "    data_imputation(f) "
   ]
  },
  {
   "cell_type": "code",
   "execution_count": null,
   "metadata": {},
   "outputs": [],
   "source": []
  }
 ],
 "metadata": {
  "kernelspec": {
   "display_name": "Python 3",
   "language": "python",
   "name": "python3"
  },
  "language_info": {
   "codemirror_mode": {
    "name": "ipython",
    "version": 3
   },
   "file_extension": ".py",
   "mimetype": "text/x-python",
   "name": "python",
   "nbconvert_exporter": "python",
   "pygments_lexer": "ipython3",
   "version": "3.8.5"
  }
 },
 "nbformat": 4,
 "nbformat_minor": 4
}
