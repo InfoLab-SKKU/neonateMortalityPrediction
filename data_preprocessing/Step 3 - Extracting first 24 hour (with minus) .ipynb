{
 "cells": [
  {
   "cell_type": "code",
   "execution_count": 1,
   "metadata": {},
   "outputs": [],
   "source": [
    "import pandas as pd\n",
    "from datetime import datetime\n",
    "import seaborn as sns\n",
    "\n",
    "import warnings\n",
    "warnings.filterwarnings('ignore')"
   ]
  },
  {
   "cell_type": "code",
   "execution_count": 2,
   "metadata": {},
   "outputs": [],
   "source": [
    "def side_by_side(*objs, **kwds):\n",
    "    from pandas.io.formats.printing import adjoin\n",
    "    space = kwds.get('space', 4)\n",
    "    reprs = [repr(obj).split('\\n') for obj in objs]\n",
    "    print (adjoin(space, *reprs))\n",
    "    print()\n",
    "    return"
   ]
  },
  {
   "cell_type": "markdown",
   "metadata": {},
   "source": [
    "## Load Data "
   ]
  },
  {
   "cell_type": "code",
   "execution_count": 2,
   "metadata": {},
   "outputs": [],
   "source": [
    "admissions = pd.read_csv(\"admissions_3K.csv\")"
   ]
  },
  {
   "cell_type": "code",
   "execution_count": 3,
   "metadata": {},
   "outputs": [
    {
     "data": {
      "text/plain": [
       "(3299, 22)"
      ]
     },
     "execution_count": 3,
     "metadata": {},
     "output_type": "execute_result"
    }
   ],
   "source": [
    "admissions.shape "
   ]
  },
  {
   "cell_type": "code",
   "execution_count": 6,
   "metadata": {},
   "outputs": [
    {
     "data": {
      "text/plain": [
       "Index(['HADM_ID', 'HeartRate', 'RespRate', 'SaO2', 'hrAlarmHigh', 'hrAlarmLow',\n",
       "       'sao2AlarmHigh', 'sao2AlarmLow', 'temperature', 'SkinTemperature',\n",
       "       'BPCuffDiastolic', 'BPCuffMean', 'BPCuffSystolic', 'Glucometer',\n",
       "       'BirthWeight', 'HeadCirc', 'Bands', 'Eosinophils', 'Lymphs', 'Monos',\n",
       "       'Neuts', 'Platelet'],\n",
       "      dtype='object')"
      ]
     },
     "execution_count": 6,
     "metadata": {},
     "output_type": "execute_result"
    }
   ],
   "source": [
    "admissions.columns"
   ]
  },
  {
   "cell_type": "code",
   "execution_count": 4,
   "metadata": {},
   "outputs": [],
   "source": [
    "master_neonates = admissions.loc[(admissions.HeartRate==True) & (admissions.RespRate==True) & (admissions.SaO2==True) \n",
    "               & (admissions.hrAlarmHigh==True) & (admissions.hrAlarmLow==True) & (admissions.sao2AlarmHigh==True)\n",
    "               & (admissions.sao2AlarmLow==True) & (admissions.BPCuffDiastolic==True) & (admissions.BPCuffMean==True)\n",
    "               & (admissions.BPCuffSystolic==True) & (admissions.SkinTemperature==True) & (admissions.temperature==True)\n",
    "               & (admissions.HeadCirc==True) & (admissions.Glucometer==True)\n",
    "               & (admissions.Eosinophils==True)\n",
    "               & (admissions.Lymphs==True) & (admissions.Monos==True) & (admissions.Neuts==True)\n",
    "               & (admissions.Bands==True) & (admissions.Platelet==True)\n",
    "               & (admissions.BirthWeight==True)\n",
    "               ] "
   ]
  },
  {
   "cell_type": "code",
   "execution_count": 5,
   "metadata": {},
   "outputs": [
    {
     "data": {
      "text/plain": [
       "(3145, 22)"
      ]
     },
     "execution_count": 5,
     "metadata": {},
     "output_type": "execute_result"
    }
   ],
   "source": [
    "master_neonates.shape "
   ]
  },
  {
   "cell_type": "code",
   "execution_count": 39,
   "metadata": {},
   "outputs": [],
   "source": [
    "master_neonates = master_neonates['HADM_ID'].to_frame()"
   ]
  },
  {
   "cell_type": "markdown",
   "metadata": {},
   "source": [
    "## Defining Extracting Function "
   ]
  },
  {
   "cell_type": "code",
   "execution_count": 81,
   "metadata": {},
   "outputs": [],
   "source": [
    "def extract_24(df, master_ids, filename):\n",
    "    ## Renaming columns \n",
    "    df.rename(columns = {'subject_id_x': 'subject_id'}, inplace=True) \n",
    "    \n",
    "    ## Dropping extra columns \n",
    "    df.drop(['subject_id_y', 'DISCHTIME', 'Dead'], axis=1, inplace=True)\n",
    "    \n",
    "    ## Merging with master neonates \n",
    "    df = pd.merge(df, master_ids, on='HADM_ID', how='inner')\n",
    "    \n",
    "    ## Converting dates \n",
    "    df['CHARTTIME'] = df['CHARTTIME'].astype('datetime64[ns]')\n",
    "    df['ADMITTIME'] = df['ADMITTIME'].astype('datetime64[ns]') \n",
    "    \n",
    "    ## Calculating time interval \n",
    "    df['TIME_INTERVAL'] = df['CHARTTIME'] - df['ADMITTIME']\n",
    "\n",
    "    ## Extracting only 24 hours data \n",
    "    df_24 = df[(df.TIME_INTERVAL <= '1 days') & (df.TIME_INTERVAL >= '-1 days')]\n",
    "\n",
    "    df_24.drop(['TIME_INTERVAL'], axis=1, inplace=True) \n",
    "    \n",
    "    ## Saving into a given file \n",
    "    df_24.to_csv(filename, index=False)\n",
    "    "
   ]
  },
  {
   "cell_type": "markdown",
   "metadata": {},
   "source": [
    "## 1 Load Chart Events "
   ]
  },
  {
   "cell_type": "markdown",
   "metadata": {},
   "source": [
    "## 1.1 Heart Rate "
   ]
  },
  {
   "cell_type": "code",
   "execution_count": 86,
   "metadata": {},
   "outputs": [],
   "source": [
    "heart_rate_df = pd.read_csv(\"Data_3173_TS/heart_rate.csv\")  "
   ]
  },
  {
   "cell_type": "code",
   "execution_count": 40,
   "metadata": {},
   "outputs": [
    {
     "data": {
      "text/html": [
       "<div>\n",
       "<style scoped>\n",
       "    .dataframe tbody tr th:only-of-type {\n",
       "        vertical-align: middle;\n",
       "    }\n",
       "\n",
       "    .dataframe tbody tr th {\n",
       "        vertical-align: top;\n",
       "    }\n",
       "\n",
       "    .dataframe thead th {\n",
       "        text-align: right;\n",
       "    }\n",
       "</style>\n",
       "<table border=\"1\" class=\"dataframe\">\n",
       "  <thead>\n",
       "    <tr style=\"text-align: right;\">\n",
       "      <th></th>\n",
       "      <th>subject_id_x</th>\n",
       "      <th>HADM_ID</th>\n",
       "      <th>CHARTTIME</th>\n",
       "      <th>VALUENUM</th>\n",
       "      <th>subject_id_y</th>\n",
       "      <th>ADMITTIME</th>\n",
       "      <th>DISCHTIME</th>\n",
       "      <th>Dead</th>\n",
       "    </tr>\n",
       "  </thead>\n",
       "  <tbody>\n",
       "    <tr>\n",
       "      <th>0</th>\n",
       "      <td>10824</td>\n",
       "      <td>143406</td>\n",
       "      <td>2126-07-01 06:00:00</td>\n",
       "      <td>145.0</td>\n",
       "      <td>10824</td>\n",
       "      <td>2126-06-12 22:08:00</td>\n",
       "      <td>2126-07-15 13:40:00</td>\n",
       "      <td>0</td>\n",
       "    </tr>\n",
       "    <tr>\n",
       "      <th>1</th>\n",
       "      <td>10824</td>\n",
       "      <td>143406</td>\n",
       "      <td>2126-07-01 07:00:00</td>\n",
       "      <td>136.0</td>\n",
       "      <td>10824</td>\n",
       "      <td>2126-06-12 22:08:00</td>\n",
       "      <td>2126-07-15 13:40:00</td>\n",
       "      <td>0</td>\n",
       "    </tr>\n",
       "    <tr>\n",
       "      <th>2</th>\n",
       "      <td>10824</td>\n",
       "      <td>143406</td>\n",
       "      <td>2126-07-03 16:00:00</td>\n",
       "      <td>147.0</td>\n",
       "      <td>10824</td>\n",
       "      <td>2126-06-12 22:08:00</td>\n",
       "      <td>2126-07-15 13:40:00</td>\n",
       "      <td>0</td>\n",
       "    </tr>\n",
       "    <tr>\n",
       "      <th>3</th>\n",
       "      <td>10824</td>\n",
       "      <td>143406</td>\n",
       "      <td>2126-06-18 16:00:00</td>\n",
       "      <td>153.0</td>\n",
       "      <td>10824</td>\n",
       "      <td>2126-06-12 22:08:00</td>\n",
       "      <td>2126-07-15 13:40:00</td>\n",
       "      <td>0</td>\n",
       "    </tr>\n",
       "    <tr>\n",
       "      <th>4</th>\n",
       "      <td>10824</td>\n",
       "      <td>143406</td>\n",
       "      <td>2126-06-18 17:00:00</td>\n",
       "      <td>151.0</td>\n",
       "      <td>10824</td>\n",
       "      <td>2126-06-12 22:08:00</td>\n",
       "      <td>2126-07-15 13:40:00</td>\n",
       "      <td>0</td>\n",
       "    </tr>\n",
       "  </tbody>\n",
       "</table>\n",
       "</div>"
      ],
      "text/plain": [
       "   subject_id_x  HADM_ID            CHARTTIME  VALUENUM  subject_id_y  \\\n",
       "0         10824   143406  2126-07-01 06:00:00     145.0         10824   \n",
       "1         10824   143406  2126-07-01 07:00:00     136.0         10824   \n",
       "2         10824   143406  2126-07-03 16:00:00     147.0         10824   \n",
       "3         10824   143406  2126-06-18 16:00:00     153.0         10824   \n",
       "4         10824   143406  2126-06-18 17:00:00     151.0         10824   \n",
       "\n",
       "             ADMITTIME            DISCHTIME  Dead  \n",
       "0  2126-06-12 22:08:00  2126-07-15 13:40:00     0  \n",
       "1  2126-06-12 22:08:00  2126-07-15 13:40:00     0  \n",
       "2  2126-06-12 22:08:00  2126-07-15 13:40:00     0  \n",
       "3  2126-06-12 22:08:00  2126-07-15 13:40:00     0  \n",
       "4  2126-06-12 22:08:00  2126-07-15 13:40:00     0  "
      ]
     },
     "execution_count": 40,
     "metadata": {},
     "output_type": "execute_result"
    }
   ],
   "source": [
    "heart_rate_df.head()"
   ]
  },
  {
   "cell_type": "code",
   "execution_count": 41,
   "metadata": {},
   "outputs": [],
   "source": [
    "heart_rate_df.rename(columns = {'subject_id_x': 'subject_id'}, inplace=True) \n",
    "heart_rate_df.drop(['subject_id_y', 'DISCHTIME', 'Dead'], axis=1, inplace=True)"
   ]
  },
  {
   "cell_type": "code",
   "execution_count": 42,
   "metadata": {},
   "outputs": [
    {
     "data": {
      "text/html": [
       "<div>\n",
       "<style scoped>\n",
       "    .dataframe tbody tr th:only-of-type {\n",
       "        vertical-align: middle;\n",
       "    }\n",
       "\n",
       "    .dataframe tbody tr th {\n",
       "        vertical-align: top;\n",
       "    }\n",
       "\n",
       "    .dataframe thead th {\n",
       "        text-align: right;\n",
       "    }\n",
       "</style>\n",
       "<table border=\"1\" class=\"dataframe\">\n",
       "  <thead>\n",
       "    <tr style=\"text-align: right;\">\n",
       "      <th></th>\n",
       "      <th>subject_id</th>\n",
       "      <th>HADM_ID</th>\n",
       "      <th>CHARTTIME</th>\n",
       "      <th>VALUENUM</th>\n",
       "      <th>ADMITTIME</th>\n",
       "    </tr>\n",
       "  </thead>\n",
       "  <tbody>\n",
       "    <tr>\n",
       "      <th>0</th>\n",
       "      <td>10824</td>\n",
       "      <td>143406</td>\n",
       "      <td>2126-07-01 06:00:00</td>\n",
       "      <td>145.0</td>\n",
       "      <td>2126-06-12 22:08:00</td>\n",
       "    </tr>\n",
       "    <tr>\n",
       "      <th>1</th>\n",
       "      <td>10824</td>\n",
       "      <td>143406</td>\n",
       "      <td>2126-07-01 07:00:00</td>\n",
       "      <td>136.0</td>\n",
       "      <td>2126-06-12 22:08:00</td>\n",
       "    </tr>\n",
       "    <tr>\n",
       "      <th>2</th>\n",
       "      <td>10824</td>\n",
       "      <td>143406</td>\n",
       "      <td>2126-07-03 16:00:00</td>\n",
       "      <td>147.0</td>\n",
       "      <td>2126-06-12 22:08:00</td>\n",
       "    </tr>\n",
       "    <tr>\n",
       "      <th>3</th>\n",
       "      <td>10824</td>\n",
       "      <td>143406</td>\n",
       "      <td>2126-06-18 16:00:00</td>\n",
       "      <td>153.0</td>\n",
       "      <td>2126-06-12 22:08:00</td>\n",
       "    </tr>\n",
       "    <tr>\n",
       "      <th>4</th>\n",
       "      <td>10824</td>\n",
       "      <td>143406</td>\n",
       "      <td>2126-06-18 17:00:00</td>\n",
       "      <td>151.0</td>\n",
       "      <td>2126-06-12 22:08:00</td>\n",
       "    </tr>\n",
       "  </tbody>\n",
       "</table>\n",
       "</div>"
      ],
      "text/plain": [
       "   subject_id  HADM_ID            CHARTTIME  VALUENUM            ADMITTIME\n",
       "0       10824   143406  2126-07-01 06:00:00     145.0  2126-06-12 22:08:00\n",
       "1       10824   143406  2126-07-01 07:00:00     136.0  2126-06-12 22:08:00\n",
       "2       10824   143406  2126-07-03 16:00:00     147.0  2126-06-12 22:08:00\n",
       "3       10824   143406  2126-06-18 16:00:00     153.0  2126-06-12 22:08:00\n",
       "4       10824   143406  2126-06-18 17:00:00     151.0  2126-06-12 22:08:00"
      ]
     },
     "execution_count": 42,
     "metadata": {},
     "output_type": "execute_result"
    }
   ],
   "source": [
    "heart_rate_df.head()"
   ]
  },
  {
   "cell_type": "code",
   "execution_count": 43,
   "metadata": {},
   "outputs": [
    {
     "data": {
      "text/plain": [
       "3299"
      ]
     },
     "execution_count": 43,
     "metadata": {},
     "output_type": "execute_result"
    }
   ],
   "source": [
    "heart_rate_df['HADM_ID'].nunique()"
   ]
  },
  {
   "cell_type": "code",
   "execution_count": 44,
   "metadata": {},
   "outputs": [
    {
     "data": {
      "text/plain": [
       "(1542782, 5)"
      ]
     },
     "execution_count": 44,
     "metadata": {},
     "output_type": "execute_result"
    }
   ],
   "source": [
    "heart_rate_df.shape "
   ]
  },
  {
   "cell_type": "code",
   "execution_count": 45,
   "metadata": {},
   "outputs": [],
   "source": [
    "heart_rate_df = pd.merge(heart_rate_df, master_neonates, on='HADM_ID', how='inner')"
   ]
  },
  {
   "cell_type": "code",
   "execution_count": 46,
   "metadata": {},
   "outputs": [
    {
     "data": {
      "text/plain": [
       "3145"
      ]
     },
     "execution_count": 46,
     "metadata": {},
     "output_type": "execute_result"
    }
   ],
   "source": [
    "heart_rate_df['HADM_ID'].nunique()"
   ]
  },
  {
   "cell_type": "code",
   "execution_count": 47,
   "metadata": {},
   "outputs": [
    {
     "data": {
      "text/plain": [
       "(1453910, 5)"
      ]
     },
     "execution_count": 47,
     "metadata": {},
     "output_type": "execute_result"
    }
   ],
   "source": [
    "heart_rate_df.shape "
   ]
  },
  {
   "cell_type": "code",
   "execution_count": 48,
   "metadata": {},
   "outputs": [
    {
     "data": {
      "text/html": [
       "<div>\n",
       "<style scoped>\n",
       "    .dataframe tbody tr th:only-of-type {\n",
       "        vertical-align: middle;\n",
       "    }\n",
       "\n",
       "    .dataframe tbody tr th {\n",
       "        vertical-align: top;\n",
       "    }\n",
       "\n",
       "    .dataframe thead th {\n",
       "        text-align: right;\n",
       "    }\n",
       "</style>\n",
       "<table border=\"1\" class=\"dataframe\">\n",
       "  <thead>\n",
       "    <tr style=\"text-align: right;\">\n",
       "      <th></th>\n",
       "      <th>subject_id</th>\n",
       "      <th>HADM_ID</th>\n",
       "      <th>CHARTTIME</th>\n",
       "      <th>VALUENUM</th>\n",
       "      <th>ADMITTIME</th>\n",
       "    </tr>\n",
       "  </thead>\n",
       "  <tbody>\n",
       "    <tr>\n",
       "      <th>0</th>\n",
       "      <td>10824</td>\n",
       "      <td>143406</td>\n",
       "      <td>2126-07-01 06:00:00</td>\n",
       "      <td>145.0</td>\n",
       "      <td>2126-06-12 22:08:00</td>\n",
       "    </tr>\n",
       "    <tr>\n",
       "      <th>1</th>\n",
       "      <td>10824</td>\n",
       "      <td>143406</td>\n",
       "      <td>2126-07-01 07:00:00</td>\n",
       "      <td>136.0</td>\n",
       "      <td>2126-06-12 22:08:00</td>\n",
       "    </tr>\n",
       "  </tbody>\n",
       "</table>\n",
       "</div>"
      ],
      "text/plain": [
       "   subject_id  HADM_ID            CHARTTIME  VALUENUM            ADMITTIME\n",
       "0       10824   143406  2126-07-01 06:00:00     145.0  2126-06-12 22:08:00\n",
       "1       10824   143406  2126-07-01 07:00:00     136.0  2126-06-12 22:08:00"
      ]
     },
     "execution_count": 48,
     "metadata": {},
     "output_type": "execute_result"
    }
   ],
   "source": [
    "heart_rate_df.head(2)"
   ]
  },
  {
   "cell_type": "code",
   "execution_count": 49,
   "metadata": {},
   "outputs": [
    {
     "name": "stdout",
     "output_type": "stream",
     "text": [
      "Computing time takes 0:00:01.028336\n"
     ]
    }
   ],
   "source": [
    "start = datetime.now()\n",
    "heart_rate_df['CHARTTIME'] = heart_rate_df['CHARTTIME'].astype('datetime64[ns]')\n",
    "heart_rate_df['ADMITTIME'] = heart_rate_df['ADMITTIME'].astype('datetime64[ns]')\n",
    "\n",
    "print(\"Computing time takes %s\" %(datetime.now()-start))"
   ]
  },
  {
   "cell_type": "code",
   "execution_count": 50,
   "metadata": {},
   "outputs": [],
   "source": [
    "heart_rate_df['TIME_INTERVAL'] = heart_rate_df['CHARTTIME'] - heart_rate_df['ADMITTIME']"
   ]
  },
  {
   "cell_type": "code",
   "execution_count": 51,
   "metadata": {},
   "outputs": [],
   "source": [
    "heart_rate_24 = heart_rate_df[(heart_rate_df.TIME_INTERVAL <= '1 days') & (heart_rate_df.TIME_INTERVAL >= '-1 days')]"
   ]
  },
  {
   "cell_type": "code",
   "execution_count": 52,
   "metadata": {},
   "outputs": [
    {
     "data": {
      "text/plain": [
       "(78178, 6)"
      ]
     },
     "execution_count": 52,
     "metadata": {},
     "output_type": "execute_result"
    }
   ],
   "source": [
    "heart_rate_24.shape "
   ]
  },
  {
   "cell_type": "code",
   "execution_count": 53,
   "metadata": {},
   "outputs": [
    {
     "data": {
      "text/plain": [
       "3145"
      ]
     },
     "execution_count": 53,
     "metadata": {},
     "output_type": "execute_result"
    }
   ],
   "source": [
    "heart_rate_24['HADM_ID'].nunique()"
   ]
  },
  {
   "cell_type": "code",
   "execution_count": 54,
   "metadata": {},
   "outputs": [],
   "source": [
    "heart_rate_24.to_csv('Data_3145_TS_24/heart_rate_24.csv', index=False)"
   ]
  },
  {
   "cell_type": "code",
   "execution_count": 87,
   "metadata": {},
   "outputs": [],
   "source": [
    "extract_24(heart_rate_df, master_neonates, 'Data_3145_TS_24/heart_rate_24.csv')"
   ]
  },
  {
   "cell_type": "markdown",
   "metadata": {},
   "source": [
    "## 1.2 Resp Rate "
   ]
  },
  {
   "cell_type": "code",
   "execution_count": 84,
   "metadata": {},
   "outputs": [
    {
     "data": {
      "text/html": [
       "<div>\n",
       "<style scoped>\n",
       "    .dataframe tbody tr th:only-of-type {\n",
       "        vertical-align: middle;\n",
       "    }\n",
       "\n",
       "    .dataframe tbody tr th {\n",
       "        vertical-align: top;\n",
       "    }\n",
       "\n",
       "    .dataframe thead th {\n",
       "        text-align: right;\n",
       "    }\n",
       "</style>\n",
       "<table border=\"1\" class=\"dataframe\">\n",
       "  <thead>\n",
       "    <tr style=\"text-align: right;\">\n",
       "      <th></th>\n",
       "      <th>subject_id_x</th>\n",
       "      <th>HADM_ID</th>\n",
       "      <th>CHARTTIME</th>\n",
       "      <th>VALUENUM</th>\n",
       "      <th>subject_id_y</th>\n",
       "      <th>ADMITTIME</th>\n",
       "      <th>DISCHTIME</th>\n",
       "      <th>Dead</th>\n",
       "    </tr>\n",
       "  </thead>\n",
       "  <tbody>\n",
       "    <tr>\n",
       "      <th>0</th>\n",
       "      <td>1291</td>\n",
       "      <td>141087</td>\n",
       "      <td>2100-07-04 09:30:00</td>\n",
       "      <td>60.0</td>\n",
       "      <td>1291</td>\n",
       "      <td>2100-07-04 10:18:00</td>\n",
       "      <td>2100-07-23 15:30:00</td>\n",
       "      <td>0</td>\n",
       "    </tr>\n",
       "    <tr>\n",
       "      <th>1</th>\n",
       "      <td>1291</td>\n",
       "      <td>141087</td>\n",
       "      <td>2100-07-04 10:00:00</td>\n",
       "      <td>49.0</td>\n",
       "      <td>1291</td>\n",
       "      <td>2100-07-04 10:18:00</td>\n",
       "      <td>2100-07-23 15:30:00</td>\n",
       "      <td>0</td>\n",
       "    </tr>\n",
       "  </tbody>\n",
       "</table>\n",
       "</div>"
      ],
      "text/plain": [
       "   subject_id_x  HADM_ID            CHARTTIME  VALUENUM  subject_id_y  \\\n",
       "0          1291   141087  2100-07-04 09:30:00      60.0          1291   \n",
       "1          1291   141087  2100-07-04 10:00:00      49.0          1291   \n",
       "\n",
       "             ADMITTIME            DISCHTIME  Dead  \n",
       "0  2100-07-04 10:18:00  2100-07-23 15:30:00     0  \n",
       "1  2100-07-04 10:18:00  2100-07-23 15:30:00     0  "
      ]
     },
     "execution_count": 84,
     "metadata": {},
     "output_type": "execute_result"
    }
   ],
   "source": [
    "resp_rate_df = pd.read_csv(\"Data_3173_TS/resp_rate.csv\") \n",
    "resp_rate_df.head(2)"
   ]
  },
  {
   "cell_type": "code",
   "execution_count": 85,
   "metadata": {},
   "outputs": [],
   "source": [
    "extract_24(resp_rate_df, master_neonates, 'Data_3145_TS_24/resp_rate_24.csv')"
   ]
  },
  {
   "cell_type": "markdown",
   "metadata": {},
   "source": [
    "## 1.3 SaO2 "
   ]
  },
  {
   "cell_type": "code",
   "execution_count": 82,
   "metadata": {},
   "outputs": [
    {
     "data": {
      "text/html": [
       "<div>\n",
       "<style scoped>\n",
       "    .dataframe tbody tr th:only-of-type {\n",
       "        vertical-align: middle;\n",
       "    }\n",
       "\n",
       "    .dataframe tbody tr th {\n",
       "        vertical-align: top;\n",
       "    }\n",
       "\n",
       "    .dataframe thead th {\n",
       "        text-align: right;\n",
       "    }\n",
       "</style>\n",
       "<table border=\"1\" class=\"dataframe\">\n",
       "  <thead>\n",
       "    <tr style=\"text-align: right;\">\n",
       "      <th></th>\n",
       "      <th>subject_id_x</th>\n",
       "      <th>HADM_ID</th>\n",
       "      <th>CHARTTIME</th>\n",
       "      <th>VALUENUM</th>\n",
       "      <th>subject_id_y</th>\n",
       "      <th>ADMITTIME</th>\n",
       "      <th>DISCHTIME</th>\n",
       "      <th>Dead</th>\n",
       "    </tr>\n",
       "  </thead>\n",
       "  <tbody>\n",
       "    <tr>\n",
       "      <th>0</th>\n",
       "      <td>10824</td>\n",
       "      <td>143406</td>\n",
       "      <td>2126-07-01 06:00:00</td>\n",
       "      <td>95.0</td>\n",
       "      <td>10824</td>\n",
       "      <td>2126-06-12 22:08:00</td>\n",
       "      <td>2126-07-15 13:40:00</td>\n",
       "      <td>0</td>\n",
       "    </tr>\n",
       "    <tr>\n",
       "      <th>1</th>\n",
       "      <td>10824</td>\n",
       "      <td>143406</td>\n",
       "      <td>2126-07-01 07:00:00</td>\n",
       "      <td>97.0</td>\n",
       "      <td>10824</td>\n",
       "      <td>2126-06-12 22:08:00</td>\n",
       "      <td>2126-07-15 13:40:00</td>\n",
       "      <td>0</td>\n",
       "    </tr>\n",
       "  </tbody>\n",
       "</table>\n",
       "</div>"
      ],
      "text/plain": [
       "   subject_id_x  HADM_ID            CHARTTIME  VALUENUM  subject_id_y  \\\n",
       "0         10824   143406  2126-07-01 06:00:00      95.0         10824   \n",
       "1         10824   143406  2126-07-01 07:00:00      97.0         10824   \n",
       "\n",
       "             ADMITTIME            DISCHTIME  Dead  \n",
       "0  2126-06-12 22:08:00  2126-07-15 13:40:00     0  \n",
       "1  2126-06-12 22:08:00  2126-07-15 13:40:00     0  "
      ]
     },
     "execution_count": 82,
     "metadata": {},
     "output_type": "execute_result"
    }
   ],
   "source": [
    "sao2_df = pd.read_csv(\"Data_3173_TS/sao2.csv\")  \n",
    "sao2_df.head(2)"
   ]
  },
  {
   "cell_type": "code",
   "execution_count": 83,
   "metadata": {},
   "outputs": [],
   "source": [
    "extract_24(sao2_df, master_neonates, 'Data_3145_TS_24/sao2_24.csv')"
   ]
  },
  {
   "cell_type": "markdown",
   "metadata": {},
   "source": [
    "## 1.4 HR Alarm High "
   ]
  },
  {
   "cell_type": "code",
   "execution_count": 88,
   "metadata": {},
   "outputs": [
    {
     "data": {
      "text/html": [
       "<div>\n",
       "<style scoped>\n",
       "    .dataframe tbody tr th:only-of-type {\n",
       "        vertical-align: middle;\n",
       "    }\n",
       "\n",
       "    .dataframe tbody tr th {\n",
       "        vertical-align: top;\n",
       "    }\n",
       "\n",
       "    .dataframe thead th {\n",
       "        text-align: right;\n",
       "    }\n",
       "</style>\n",
       "<table border=\"1\" class=\"dataframe\">\n",
       "  <thead>\n",
       "    <tr style=\"text-align: right;\">\n",
       "      <th></th>\n",
       "      <th>subject_id_x</th>\n",
       "      <th>HADM_ID</th>\n",
       "      <th>CHARTTIME</th>\n",
       "      <th>VALUENUM</th>\n",
       "      <th>subject_id_y</th>\n",
       "      <th>ADMITTIME</th>\n",
       "      <th>DISCHTIME</th>\n",
       "      <th>Dead</th>\n",
       "    </tr>\n",
       "  </thead>\n",
       "  <tbody>\n",
       "    <tr>\n",
       "      <th>0</th>\n",
       "      <td>69</td>\n",
       "      <td>190201</td>\n",
       "      <td>2129-03-25 03:00:00</td>\n",
       "      <td>200.0</td>\n",
       "      <td>69</td>\n",
       "      <td>2129-03-21 15:33:00</td>\n",
       "      <td>2129-04-09 13:30:00</td>\n",
       "      <td>0</td>\n",
       "    </tr>\n",
       "    <tr>\n",
       "      <th>1</th>\n",
       "      <td>69</td>\n",
       "      <td>190201</td>\n",
       "      <td>2129-03-25 04:00:00</td>\n",
       "      <td>200.0</td>\n",
       "      <td>69</td>\n",
       "      <td>2129-03-21 15:33:00</td>\n",
       "      <td>2129-04-09 13:30:00</td>\n",
       "      <td>0</td>\n",
       "    </tr>\n",
       "  </tbody>\n",
       "</table>\n",
       "</div>"
      ],
      "text/plain": [
       "   subject_id_x  HADM_ID            CHARTTIME  VALUENUM  subject_id_y  \\\n",
       "0            69   190201  2129-03-25 03:00:00     200.0            69   \n",
       "1            69   190201  2129-03-25 04:00:00     200.0            69   \n",
       "\n",
       "             ADMITTIME            DISCHTIME  Dead  \n",
       "0  2129-03-21 15:33:00  2129-04-09 13:30:00     0  \n",
       "1  2129-03-21 15:33:00  2129-04-09 13:30:00     0  "
      ]
     },
     "execution_count": 88,
     "metadata": {},
     "output_type": "execute_result"
    }
   ],
   "source": [
    "hr_alarm_high_df = pd.read_csv(\"Data_3173_TS/hr_alarm_high.csv\")  \n",
    "hr_alarm_high_df.head(2)"
   ]
  },
  {
   "cell_type": "code",
   "execution_count": 89,
   "metadata": {},
   "outputs": [],
   "source": [
    "extract_24(hr_alarm_high_df, master_neonates, 'Data_3145_TS_24/hr_alarm_high_24.csv')"
   ]
  },
  {
   "cell_type": "markdown",
   "metadata": {},
   "source": [
    "## 1.5 HR Alarm Low "
   ]
  },
  {
   "cell_type": "code",
   "execution_count": 90,
   "metadata": {},
   "outputs": [],
   "source": [
    "hr_alarm_low_df = pd.read_csv(\"Data_3173_TS/hr_alarm_low.csv\")  \n",
    "extract_24(hr_alarm_low_df, master_neonates, 'Data_3145_TS_24/hr_alarm_low_24.csv')"
   ]
  },
  {
   "cell_type": "markdown",
   "metadata": {},
   "source": [
    "## 1.6 SaO2 Alarm High "
   ]
  },
  {
   "cell_type": "code",
   "execution_count": 91,
   "metadata": {},
   "outputs": [],
   "source": [
    "sao2_alarm_high_df = pd.read_csv(\"Data_3173_TS/sao2_alarm_high.csv\")  \n",
    "extract_24(sao2_alarm_high_df, master_neonates, 'Data_3145_TS_24/sao2_alarm_high_24.csv')"
   ]
  },
  {
   "cell_type": "markdown",
   "metadata": {},
   "source": [
    "## 1.7 SaO2 Alarm Low "
   ]
  },
  {
   "cell_type": "code",
   "execution_count": 92,
   "metadata": {},
   "outputs": [],
   "source": [
    "sao2_alarm_low_df = pd.read_csv(\"Data_3173_TS/sao2_alarm_low.csv\")  \n",
    "extract_24(sao2_alarm_low_df, master_neonates, 'Data_3145_TS_24/sao2_alarm_low_24.csv')"
   ]
  },
  {
   "cell_type": "markdown",
   "metadata": {},
   "source": [
    "## 1.8 BP Cuff Diastolic "
   ]
  },
  {
   "cell_type": "code",
   "execution_count": 93,
   "metadata": {},
   "outputs": [],
   "source": [
    "bp_cuff_diastolic_df = pd.read_csv(\"Data_3173_TS/bp_cuff_diastolic.csv\")  \n",
    "extract_24(bp_cuff_diastolic_df, master_neonates, 'Data_3145_TS_24/bp_cuff_diastolic_24.csv')"
   ]
  },
  {
   "cell_type": "markdown",
   "metadata": {},
   "source": [
    "## 1.9 BP Cuff Mean "
   ]
  },
  {
   "cell_type": "code",
   "execution_count": 94,
   "metadata": {},
   "outputs": [],
   "source": [
    "bp_cuff_mean_df = pd.read_csv(\"Data_3173_TS/bp_cuff_mean.csv\")  \n",
    "extract_24(bp_cuff_mean_df, master_neonates, 'Data_3145_TS_24/bp_cuff_mean_24.csv')"
   ]
  },
  {
   "cell_type": "markdown",
   "metadata": {},
   "source": [
    "## 1.10 BP Cuff Systolic "
   ]
  },
  {
   "cell_type": "code",
   "execution_count": 95,
   "metadata": {},
   "outputs": [],
   "source": [
    "bp_cuff_systolic_df = pd.read_csv(\"Data_3173_TS/bp_cuff_systolic.csv\")  \n",
    "extract_24(bp_cuff_systolic_df, master_neonates, 'Data_3145_TS_24/bp_cuff_systolic_24.csv')"
   ]
  },
  {
   "cell_type": "markdown",
   "metadata": {},
   "source": [
    "## 1.11 Temperature "
   ]
  },
  {
   "cell_type": "code",
   "execution_count": 96,
   "metadata": {},
   "outputs": [],
   "source": [
    "temperature_df = pd.read_csv(\"Data_3173_TS/temperature.csv\")  \n",
    "extract_24(temperature_df, master_neonates, 'Data_3145_TS_24/temperature_24.csv')"
   ]
  },
  {
   "cell_type": "markdown",
   "metadata": {},
   "source": [
    "## 1.12 Skin Temperature "
   ]
  },
  {
   "cell_type": "code",
   "execution_count": 97,
   "metadata": {},
   "outputs": [],
   "source": [
    "skin_temperature_df = pd.read_csv(\"Data_3173_TS/skin_temperature.csv\")  \n",
    "extract_24(skin_temperature_df, master_neonates, 'Data_3145_TS_24/skin_temperature_24.csv')"
   ]
  },
  {
   "cell_type": "markdown",
   "metadata": {},
   "source": [
    "## 1.13 Glucometer"
   ]
  },
  {
   "cell_type": "code",
   "execution_count": 98,
   "metadata": {},
   "outputs": [],
   "source": [
    "glucometer_df = pd.read_csv(\"Data_3173_TS/glucometer.csv\")  \n",
    "extract_24(glucometer_df, master_neonates, 'Data_3145_TS_24/glucometer_24.csv')"
   ]
  },
  {
   "cell_type": "markdown",
   "metadata": {},
   "source": [
    "## Other Chart Event Features "
   ]
  },
  {
   "cell_type": "code",
   "execution_count": 105,
   "metadata": {},
   "outputs": [],
   "source": [
    "def extract_24_bw(df, master_ids, filename):\n",
    "    ## Renaming columns \n",
    "    df.rename(columns = {'subject_id_x': 'subject_id'}, inplace=True) \n",
    "    \n",
    "    ## Dropping extra columns \n",
    "    df.drop(['subject_id_y', 'DISCHTIME', 'Dead'], axis=1, inplace=True)\n",
    "    \n",
    "    ## Merging with master neonates \n",
    "    df = pd.merge(df, master_ids, on='HADM_ID', how='inner')\n",
    "    \n",
    "    ## Saving into a given file \n",
    "    df.to_csv(filename, index=False)"
   ]
  },
  {
   "cell_type": "markdown",
   "metadata": {},
   "source": [
    "## 2.1 Birth Weight "
   ]
  },
  {
   "cell_type": "code",
   "execution_count": 99,
   "metadata": {},
   "outputs": [],
   "source": [
    "birth_weight_df = pd.read_csv(\"Data_3173_SV/birth_weight.csv\") "
   ]
  },
  {
   "cell_type": "code",
   "execution_count": 100,
   "metadata": {},
   "outputs": [
    {
     "data": {
      "text/html": [
       "<div>\n",
       "<style scoped>\n",
       "    .dataframe tbody tr th:only-of-type {\n",
       "        vertical-align: middle;\n",
       "    }\n",
       "\n",
       "    .dataframe tbody tr th {\n",
       "        vertical-align: top;\n",
       "    }\n",
       "\n",
       "    .dataframe thead th {\n",
       "        text-align: right;\n",
       "    }\n",
       "</style>\n",
       "<table border=\"1\" class=\"dataframe\">\n",
       "  <thead>\n",
       "    <tr style=\"text-align: right;\">\n",
       "      <th></th>\n",
       "      <th>Unnamed: 0</th>\n",
       "      <th>subject_id_x</th>\n",
       "      <th>HADM_ID</th>\n",
       "      <th>CHARTTIME</th>\n",
       "      <th>VALUENUM</th>\n",
       "      <th>subject_id_y</th>\n",
       "      <th>ADMITTIME</th>\n",
       "      <th>DISCHTIME</th>\n",
       "      <th>Dead</th>\n",
       "    </tr>\n",
       "  </thead>\n",
       "  <tbody>\n",
       "    <tr>\n",
       "      <th>0</th>\n",
       "      <td>1</td>\n",
       "      <td>10</td>\n",
       "      <td>184167</td>\n",
       "      <td>2103-06-28 10:00:00</td>\n",
       "      <td>1.385</td>\n",
       "      <td>10</td>\n",
       "      <td>2103-06-28 11:36:00</td>\n",
       "      <td>2103-07-06 12:10:00</td>\n",
       "      <td>0</td>\n",
       "    </tr>\n",
       "    <tr>\n",
       "      <th>1</th>\n",
       "      <td>2</td>\n",
       "      <td>39</td>\n",
       "      <td>106266</td>\n",
       "      <td>2114-11-29 22:00:00</td>\n",
       "      <td>2.775</td>\n",
       "      <td>39</td>\n",
       "      <td>2114-11-29 21:04:00</td>\n",
       "      <td>2114-12-09 15:10:00</td>\n",
       "      <td>0</td>\n",
       "    </tr>\n",
       "  </tbody>\n",
       "</table>\n",
       "</div>"
      ],
      "text/plain": [
       "   Unnamed: 0  subject_id_x  HADM_ID            CHARTTIME  VALUENUM  \\\n",
       "0           1            10   184167  2103-06-28 10:00:00     1.385   \n",
       "1           2            39   106266  2114-11-29 22:00:00     2.775   \n",
       "\n",
       "   subject_id_y            ADMITTIME            DISCHTIME  Dead  \n",
       "0            10  2103-06-28 11:36:00  2103-07-06 12:10:00     0  \n",
       "1            39  2114-11-29 21:04:00  2114-12-09 15:10:00     0  "
      ]
     },
     "execution_count": 100,
     "metadata": {},
     "output_type": "execute_result"
    }
   ],
   "source": [
    "birth_weight_df.head(2)"
   ]
  },
  {
   "cell_type": "code",
   "execution_count": 102,
   "metadata": {},
   "outputs": [],
   "source": [
    "extract_24_bw(birth_weight_df, master_neonates,'Data_3145_SV_24/birth_weight_24.csv')"
   ]
  },
  {
   "cell_type": "markdown",
   "metadata": {},
   "source": [
    "## 2.2 Head Circ "
   ]
  },
  {
   "cell_type": "code",
   "execution_count": 103,
   "metadata": {},
   "outputs": [],
   "source": [
    "head_circ_df = pd.read_csv(\"Data_3173_SV/head_circ.csv\") "
   ]
  },
  {
   "cell_type": "code",
   "execution_count": 104,
   "metadata": {},
   "outputs": [
    {
     "data": {
      "text/html": [
       "<div>\n",
       "<style scoped>\n",
       "    .dataframe tbody tr th:only-of-type {\n",
       "        vertical-align: middle;\n",
       "    }\n",
       "\n",
       "    .dataframe tbody tr th {\n",
       "        vertical-align: top;\n",
       "    }\n",
       "\n",
       "    .dataframe thead th {\n",
       "        text-align: right;\n",
       "    }\n",
       "</style>\n",
       "<table border=\"1\" class=\"dataframe\">\n",
       "  <thead>\n",
       "    <tr style=\"text-align: right;\">\n",
       "      <th></th>\n",
       "      <th>HADM_ID</th>\n",
       "      <th>CHARTTIME</th>\n",
       "      <th>VALUENUM</th>\n",
       "      <th>subject_id_x</th>\n",
       "      <th>subject_id_y</th>\n",
       "      <th>ADMITTIME</th>\n",
       "      <th>DISCHTIME</th>\n",
       "      <th>Dead</th>\n",
       "    </tr>\n",
       "  </thead>\n",
       "  <tbody>\n",
       "    <tr>\n",
       "      <th>0</th>\n",
       "      <td>184167</td>\n",
       "      <td>2103-06-28 10:00:00</td>\n",
       "      <td>27.5</td>\n",
       "      <td>10</td>\n",
       "      <td>10</td>\n",
       "      <td>2103-06-28 11:36:00</td>\n",
       "      <td>2103-07-06 12:10:00</td>\n",
       "      <td>0</td>\n",
       "    </tr>\n",
       "    <tr>\n",
       "      <th>1</th>\n",
       "      <td>106266</td>\n",
       "      <td>2114-11-29 22:00:00</td>\n",
       "      <td>34.0</td>\n",
       "      <td>39</td>\n",
       "      <td>39</td>\n",
       "      <td>2114-11-29 21:04:00</td>\n",
       "      <td>2114-12-09 15:10:00</td>\n",
       "      <td>0</td>\n",
       "    </tr>\n",
       "  </tbody>\n",
       "</table>\n",
       "</div>"
      ],
      "text/plain": [
       "   HADM_ID            CHARTTIME  VALUENUM  subject_id_x  subject_id_y  \\\n",
       "0   184167  2103-06-28 10:00:00      27.5            10            10   \n",
       "1   106266  2114-11-29 22:00:00      34.0            39            39   \n",
       "\n",
       "             ADMITTIME            DISCHTIME  Dead  \n",
       "0  2103-06-28 11:36:00  2103-07-06 12:10:00     0  \n",
       "1  2114-11-29 21:04:00  2114-12-09 15:10:00     0  "
      ]
     },
     "execution_count": 104,
     "metadata": {},
     "output_type": "execute_result"
    }
   ],
   "source": [
    "head_circ_df.head(2)"
   ]
  },
  {
   "cell_type": "code",
   "execution_count": 106,
   "metadata": {},
   "outputs": [],
   "source": [
    "extract_24_bw(head_circ_df, master_neonates,'Data_3145_SV_24/head_circ_24.csv')"
   ]
  },
  {
   "cell_type": "markdown",
   "metadata": {},
   "source": [
    "## Blood Test "
   ]
  },
  {
   "cell_type": "markdown",
   "metadata": {},
   "source": [
    "## 3.1 Bands "
   ]
  },
  {
   "cell_type": "code",
   "execution_count": 107,
   "metadata": {},
   "outputs": [],
   "source": [
    "bands_df = pd.read_csv(\"Data_3173_SV/bands.csv\") "
   ]
  },
  {
   "cell_type": "code",
   "execution_count": 108,
   "metadata": {},
   "outputs": [
    {
     "data": {
      "text/html": [
       "<div>\n",
       "<style scoped>\n",
       "    .dataframe tbody tr th:only-of-type {\n",
       "        vertical-align: middle;\n",
       "    }\n",
       "\n",
       "    .dataframe tbody tr th {\n",
       "        vertical-align: top;\n",
       "    }\n",
       "\n",
       "    .dataframe thead th {\n",
       "        text-align: right;\n",
       "    }\n",
       "</style>\n",
       "<table border=\"1\" class=\"dataframe\">\n",
       "  <thead>\n",
       "    <tr style=\"text-align: right;\">\n",
       "      <th></th>\n",
       "      <th>subject_id_x</th>\n",
       "      <th>HADM_ID</th>\n",
       "      <th>CHARTTIME</th>\n",
       "      <th>VALUENUM</th>\n",
       "      <th>subject_id_y</th>\n",
       "      <th>ADMITTIME</th>\n",
       "      <th>DISCHTIME</th>\n",
       "      <th>Dead</th>\n",
       "    </tr>\n",
       "  </thead>\n",
       "  <tbody>\n",
       "    <tr>\n",
       "      <th>0</th>\n",
       "      <td>10824</td>\n",
       "      <td>143406</td>\n",
       "      <td>2126-06-24 12:05:00</td>\n",
       "      <td>6.0</td>\n",
       "      <td>10824</td>\n",
       "      <td>2126-06-12 22:08:00</td>\n",
       "      <td>2126-07-15 13:40:00</td>\n",
       "      <td>0</td>\n",
       "    </tr>\n",
       "    <tr>\n",
       "      <th>1</th>\n",
       "      <td>10824</td>\n",
       "      <td>143406</td>\n",
       "      <td>2126-06-23 23:05:00</td>\n",
       "      <td>3.0</td>\n",
       "      <td>10824</td>\n",
       "      <td>2126-06-12 22:08:00</td>\n",
       "      <td>2126-07-15 13:40:00</td>\n",
       "      <td>0</td>\n",
       "    </tr>\n",
       "  </tbody>\n",
       "</table>\n",
       "</div>"
      ],
      "text/plain": [
       "   subject_id_x  HADM_ID            CHARTTIME  VALUENUM  subject_id_y  \\\n",
       "0         10824   143406  2126-06-24 12:05:00       6.0         10824   \n",
       "1         10824   143406  2126-06-23 23:05:00       3.0         10824   \n",
       "\n",
       "             ADMITTIME            DISCHTIME  Dead  \n",
       "0  2126-06-12 22:08:00  2126-07-15 13:40:00     0  \n",
       "1  2126-06-12 22:08:00  2126-07-15 13:40:00     0  "
      ]
     },
     "execution_count": 108,
     "metadata": {},
     "output_type": "execute_result"
    }
   ],
   "source": [
    "bands_df.head(2)"
   ]
  },
  {
   "cell_type": "code",
   "execution_count": 109,
   "metadata": {},
   "outputs": [],
   "source": [
    "extract_24(bands_df, master_neonates,'Data_3145_SV_24/bands_24.csv')"
   ]
  },
  {
   "cell_type": "markdown",
   "metadata": {},
   "source": [
    "## 3.2 Eosinophils"
   ]
  },
  {
   "cell_type": "code",
   "execution_count": 110,
   "metadata": {},
   "outputs": [
    {
     "data": {
      "text/html": [
       "<div>\n",
       "<style scoped>\n",
       "    .dataframe tbody tr th:only-of-type {\n",
       "        vertical-align: middle;\n",
       "    }\n",
       "\n",
       "    .dataframe tbody tr th {\n",
       "        vertical-align: top;\n",
       "    }\n",
       "\n",
       "    .dataframe thead th {\n",
       "        text-align: right;\n",
       "    }\n",
       "</style>\n",
       "<table border=\"1\" class=\"dataframe\">\n",
       "  <thead>\n",
       "    <tr style=\"text-align: right;\">\n",
       "      <th></th>\n",
       "      <th>subject_id_x</th>\n",
       "      <th>HADM_ID</th>\n",
       "      <th>CHARTTIME</th>\n",
       "      <th>VALUENUM</th>\n",
       "      <th>subject_id_y</th>\n",
       "      <th>ADMITTIME</th>\n",
       "      <th>DISCHTIME</th>\n",
       "      <th>Dead</th>\n",
       "    </tr>\n",
       "  </thead>\n",
       "  <tbody>\n",
       "    <tr>\n",
       "      <th>0</th>\n",
       "      <td>10824</td>\n",
       "      <td>143406</td>\n",
       "      <td>2126-06-24 12:05:00</td>\n",
       "      <td>1.0</td>\n",
       "      <td>10824</td>\n",
       "      <td>2126-06-12 22:08:00</td>\n",
       "      <td>2126-07-15 13:40:00</td>\n",
       "      <td>0</td>\n",
       "    </tr>\n",
       "    <tr>\n",
       "      <th>1</th>\n",
       "      <td>10824</td>\n",
       "      <td>143406</td>\n",
       "      <td>2126-06-23 23:05:00</td>\n",
       "      <td>5.0</td>\n",
       "      <td>10824</td>\n",
       "      <td>2126-06-12 22:08:00</td>\n",
       "      <td>2126-07-15 13:40:00</td>\n",
       "      <td>0</td>\n",
       "    </tr>\n",
       "  </tbody>\n",
       "</table>\n",
       "</div>"
      ],
      "text/plain": [
       "   subject_id_x  HADM_ID            CHARTTIME  VALUENUM  subject_id_y  \\\n",
       "0         10824   143406  2126-06-24 12:05:00       1.0         10824   \n",
       "1         10824   143406  2126-06-23 23:05:00       5.0         10824   \n",
       "\n",
       "             ADMITTIME            DISCHTIME  Dead  \n",
       "0  2126-06-12 22:08:00  2126-07-15 13:40:00     0  \n",
       "1  2126-06-12 22:08:00  2126-07-15 13:40:00     0  "
      ]
     },
     "execution_count": 110,
     "metadata": {},
     "output_type": "execute_result"
    }
   ],
   "source": [
    "eosinophils_df = pd.read_csv(\"Data_3173_SV/eosinophils.csv\")  \n",
    "eosinophils_df.head(2)"
   ]
  },
  {
   "cell_type": "code",
   "execution_count": 111,
   "metadata": {},
   "outputs": [],
   "source": [
    "extract_24(eosinophils_df, master_neonates,'Data_3145_SV_24/eosinophils_24.csv')"
   ]
  },
  {
   "cell_type": "markdown",
   "metadata": {},
   "source": [
    "## 3.3 Lymphs"
   ]
  },
  {
   "cell_type": "code",
   "execution_count": 112,
   "metadata": {},
   "outputs": [],
   "source": [
    "lymphs_df = pd.read_csv(\"Data_3173_SV/lymphs.csv\")  \n",
    "extract_24(lymphs_df, master_neonates,'Data_3145_SV_24/lymphs_24.csv')"
   ]
  },
  {
   "cell_type": "markdown",
   "metadata": {},
   "source": [
    "## 3.4 MONOs"
   ]
  },
  {
   "cell_type": "code",
   "execution_count": 113,
   "metadata": {},
   "outputs": [],
   "source": [
    "monos_df = pd.read_csv(\"Data_3173_SV/monos.csv\")  \n",
    "extract_24(monos_df, master_neonates,'Data_3145_SV_24/monos_24.csv')"
   ]
  },
  {
   "cell_type": "markdown",
   "metadata": {},
   "source": [
    "## 3.5 NEUTs"
   ]
  },
  {
   "cell_type": "code",
   "execution_count": 114,
   "metadata": {},
   "outputs": [],
   "source": [
    "neuts_df = pd.read_csv(\"Data_3173_SV/neuts.csv\")  \n",
    "extract_24(neuts_df, master_neonates,'Data_3145_SV_24/neuts_24.csv')"
   ]
  },
  {
   "cell_type": "markdown",
   "metadata": {},
   "source": [
    "## 3.6 Platelet"
   ]
  },
  {
   "cell_type": "code",
   "execution_count": 115,
   "metadata": {},
   "outputs": [],
   "source": [
    "platelet_df = pd.read_csv(\"Data_3173_SV/platelet.csv\")  \n",
    "extract_24(platelet_df, master_neonates,'Data_3145_SV_24/platelet_24.csv')"
   ]
  },
  {
   "cell_type": "markdown",
   "metadata": {},
   "source": [
    "## Statistical Data "
   ]
  },
  {
   "cell_type": "code",
   "execution_count": 137,
   "metadata": {},
   "outputs": [],
   "source": [
    "master_neonates_ids = pd.read_csv(\"neonates_admissions.csv\")"
   ]
  },
  {
   "cell_type": "code",
   "execution_count": 138,
   "metadata": {},
   "outputs": [],
   "source": [
    "master_neonates_ids = pd.merge(master_neonates_ids, master_neonates, on='HADM_ID', how='inner')"
   ]
  },
  {
   "cell_type": "code",
   "execution_count": 139,
   "metadata": {},
   "outputs": [
    {
     "data": {
      "text/plain": [
       "Index(['subject_id', 'HADM_ID', 'ADMITTIME', 'DISCHTIME', 'ETHNICITY',\n",
       "       'GENDER', 'EXPIRE_FLAG'],\n",
       "      dtype='object')"
      ]
     },
     "execution_count": 139,
     "metadata": {},
     "output_type": "execute_result"
    }
   ],
   "source": [
    "master_neonates_ids.columns "
   ]
  },
  {
   "cell_type": "code",
   "execution_count": 140,
   "metadata": {},
   "outputs": [],
   "source": [
    "master_neonates_ids.drop(['subject_id', 'DISCHTIME', 'ETHNICITY',\n",
    "       'GENDER', 'EXPIRE_FLAG'], axis=1, inplace=True)"
   ]
  },
  {
   "cell_type": "code",
   "execution_count": 141,
   "metadata": {},
   "outputs": [
    {
     "data": {
      "text/html": [
       "<div>\n",
       "<style scoped>\n",
       "    .dataframe tbody tr th:only-of-type {\n",
       "        vertical-align: middle;\n",
       "    }\n",
       "\n",
       "    .dataframe tbody tr th {\n",
       "        vertical-align: top;\n",
       "    }\n",
       "\n",
       "    .dataframe thead th {\n",
       "        text-align: right;\n",
       "    }\n",
       "</style>\n",
       "<table border=\"1\" class=\"dataframe\">\n",
       "  <thead>\n",
       "    <tr style=\"text-align: right;\">\n",
       "      <th></th>\n",
       "      <th>HADM_ID</th>\n",
       "      <th>ADMITTIME</th>\n",
       "    </tr>\n",
       "  </thead>\n",
       "  <tbody>\n",
       "    <tr>\n",
       "      <th>0</th>\n",
       "      <td>106266</td>\n",
       "      <td>2114-11-29 21:04:00</td>\n",
       "    </tr>\n",
       "    <tr>\n",
       "      <th>1</th>\n",
       "      <td>110872</td>\n",
       "      <td>2168-10-24 23:48:00</td>\n",
       "    </tr>\n",
       "  </tbody>\n",
       "</table>\n",
       "</div>"
      ],
      "text/plain": [
       "   HADM_ID            ADMITTIME\n",
       "0   106266  2114-11-29 21:04:00\n",
       "1   110872  2168-10-24 23:48:00"
      ]
     },
     "execution_count": 141,
     "metadata": {},
     "output_type": "execute_result"
    }
   ],
   "source": [
    "master_neonates_ids.head(2)"
   ]
  },
  {
   "cell_type": "code",
   "execution_count": 142,
   "metadata": {},
   "outputs": [
    {
     "data": {
      "text/plain": [
       "(3145, 2)"
      ]
     },
     "execution_count": 142,
     "metadata": {},
     "output_type": "execute_result"
    }
   ],
   "source": [
    "master_neonates_ids.shape "
   ]
  },
  {
   "cell_type": "markdown",
   "metadata": {},
   "source": [
    "## 4.1 DateTimeEvents "
   ]
  },
  {
   "cell_type": "code",
   "execution_count": 116,
   "metadata": {},
   "outputs": [],
   "source": [
    "datetimeevents_df = pd.read_csv(\"Data_3173_Stat/datetimeevents.csv\")"
   ]
  },
  {
   "cell_type": "code",
   "execution_count": 117,
   "metadata": {},
   "outputs": [
    {
     "data": {
      "text/html": [
       "<div>\n",
       "<style scoped>\n",
       "    .dataframe tbody tr th:only-of-type {\n",
       "        vertical-align: middle;\n",
       "    }\n",
       "\n",
       "    .dataframe tbody tr th {\n",
       "        vertical-align: top;\n",
       "    }\n",
       "\n",
       "    .dataframe thead th {\n",
       "        text-align: right;\n",
       "    }\n",
       "</style>\n",
       "<table border=\"1\" class=\"dataframe\">\n",
       "  <thead>\n",
       "    <tr style=\"text-align: right;\">\n",
       "      <th></th>\n",
       "      <th>HADM_ID</th>\n",
       "      <th>subject_id</th>\n",
       "      <th>CHARTTIME</th>\n",
       "    </tr>\n",
       "  </thead>\n",
       "  <tbody>\n",
       "    <tr>\n",
       "      <th>0</th>\n",
       "      <td>106266</td>\n",
       "      <td>39</td>\n",
       "      <td>2114-11-29 22:00:00</td>\n",
       "    </tr>\n",
       "    <tr>\n",
       "      <th>1</th>\n",
       "      <td>106266</td>\n",
       "      <td>39</td>\n",
       "      <td>2114-11-29 23:00:00</td>\n",
       "    </tr>\n",
       "    <tr>\n",
       "      <th>2</th>\n",
       "      <td>106266</td>\n",
       "      <td>39</td>\n",
       "      <td>2114-11-30 00:00:00</td>\n",
       "    </tr>\n",
       "    <tr>\n",
       "      <th>3</th>\n",
       "      <td>106266</td>\n",
       "      <td>39</td>\n",
       "      <td>2114-11-30 01:00:00</td>\n",
       "    </tr>\n",
       "    <tr>\n",
       "      <th>4</th>\n",
       "      <td>106266</td>\n",
       "      <td>39</td>\n",
       "      <td>2114-11-30 02:00:00</td>\n",
       "    </tr>\n",
       "  </tbody>\n",
       "</table>\n",
       "</div>"
      ],
      "text/plain": [
       "   HADM_ID  subject_id            CHARTTIME\n",
       "0   106266          39  2114-11-29 22:00:00\n",
       "1   106266          39  2114-11-29 23:00:00\n",
       "2   106266          39  2114-11-30 00:00:00\n",
       "3   106266          39  2114-11-30 01:00:00\n",
       "4   106266          39  2114-11-30 02:00:00"
      ]
     },
     "execution_count": 117,
     "metadata": {},
     "output_type": "execute_result"
    }
   ],
   "source": [
    "datetimeevents_df.head()"
   ]
  },
  {
   "cell_type": "code",
   "execution_count": 143,
   "metadata": {},
   "outputs": [],
   "source": [
    "datetimeevents_df = pd.merge(datetimeevents_df, master_neonates_ids, on='HADM_ID', how='inner')"
   ]
  },
  {
   "cell_type": "code",
   "execution_count": 144,
   "metadata": {},
   "outputs": [
    {
     "data": {
      "text/html": [
       "<div>\n",
       "<style scoped>\n",
       "    .dataframe tbody tr th:only-of-type {\n",
       "        vertical-align: middle;\n",
       "    }\n",
       "\n",
       "    .dataframe tbody tr th {\n",
       "        vertical-align: top;\n",
       "    }\n",
       "\n",
       "    .dataframe thead th {\n",
       "        text-align: right;\n",
       "    }\n",
       "</style>\n",
       "<table border=\"1\" class=\"dataframe\">\n",
       "  <thead>\n",
       "    <tr style=\"text-align: right;\">\n",
       "      <th></th>\n",
       "      <th>HADM_ID</th>\n",
       "      <th>subject_id</th>\n",
       "      <th>CHARTTIME</th>\n",
       "      <th>ADMITTIME</th>\n",
       "    </tr>\n",
       "  </thead>\n",
       "  <tbody>\n",
       "    <tr>\n",
       "      <th>0</th>\n",
       "      <td>106266</td>\n",
       "      <td>39</td>\n",
       "      <td>2114-11-29 22:00:00</td>\n",
       "      <td>2114-11-29 21:04:00</td>\n",
       "    </tr>\n",
       "    <tr>\n",
       "      <th>1</th>\n",
       "      <td>106266</td>\n",
       "      <td>39</td>\n",
       "      <td>2114-11-29 23:00:00</td>\n",
       "      <td>2114-11-29 21:04:00</td>\n",
       "    </tr>\n",
       "  </tbody>\n",
       "</table>\n",
       "</div>"
      ],
      "text/plain": [
       "   HADM_ID  subject_id            CHARTTIME            ADMITTIME\n",
       "0   106266          39  2114-11-29 22:00:00  2114-11-29 21:04:00\n",
       "1   106266          39  2114-11-29 23:00:00  2114-11-29 21:04:00"
      ]
     },
     "execution_count": 144,
     "metadata": {},
     "output_type": "execute_result"
    }
   ],
   "source": [
    "datetimeevents_df.head(2)"
   ]
  },
  {
   "cell_type": "code",
   "execution_count": 147,
   "metadata": {},
   "outputs": [
    {
     "data": {
      "text/plain": [
       "(180007, 5)"
      ]
     },
     "execution_count": 147,
     "metadata": {},
     "output_type": "execute_result"
    }
   ],
   "source": [
    "datetimeevents_df.shape "
   ]
  },
  {
   "cell_type": "code",
   "execution_count": 145,
   "metadata": {},
   "outputs": [],
   "source": [
    "datetimeevents_df['CHARTTIME'] = datetimeevents_df['CHARTTIME'].astype('datetime64[ns]')\n",
    "datetimeevents_df['ADMITTIME'] = datetimeevents_df['ADMITTIME'].astype('datetime64[ns]') \n",
    "    \n",
    "## Calculating time interval \n",
    "datetimeevents_df['TIME_INTERVAL'] = datetimeevents_df['CHARTTIME'] - datetimeevents_df['ADMITTIME']\n",
    "\n",
    "## Extracting only 24 hours data \n",
    "datetimeevents_24 = datetimeevents_df[(datetimeevents_df.TIME_INTERVAL <= '1 days') & (datetimeevents_df.TIME_INTERVAL >= '-1 days')]\n",
    "\n",
    "datetimeevents_24.drop(['TIME_INTERVAL'], axis=1, inplace=True) \n",
    "    \n",
    "## Saving into a given file \n",
    "datetimeevents_24.to_csv(\"Data_3145_Stat_24/datetimeevents_24.csv\", index=False)"
   ]
  },
  {
   "cell_type": "code",
   "execution_count": 146,
   "metadata": {},
   "outputs": [
    {
     "data": {
      "text/plain": [
       "(19182, 4)"
      ]
     },
     "execution_count": 146,
     "metadata": {},
     "output_type": "execute_result"
    }
   ],
   "source": [
    "datetimeevents_24.shape"
   ]
  },
  {
   "cell_type": "markdown",
   "metadata": {},
   "source": [
    "## 4.2 InputEvents "
   ]
  },
  {
   "cell_type": "code",
   "execution_count": 148,
   "metadata": {},
   "outputs": [],
   "source": [
    "inputevents_df = pd.read_csv(\"Data_3173_Stat/neonates_inputevents.csv\")"
   ]
  },
  {
   "cell_type": "code",
   "execution_count": 149,
   "metadata": {},
   "outputs": [
    {
     "data": {
      "text/html": [
       "<div>\n",
       "<style scoped>\n",
       "    .dataframe tbody tr th:only-of-type {\n",
       "        vertical-align: middle;\n",
       "    }\n",
       "\n",
       "    .dataframe tbody tr th {\n",
       "        vertical-align: top;\n",
       "    }\n",
       "\n",
       "    .dataframe thead th {\n",
       "        text-align: right;\n",
       "    }\n",
       "</style>\n",
       "<table border=\"1\" class=\"dataframe\">\n",
       "  <thead>\n",
       "    <tr style=\"text-align: right;\">\n",
       "      <th></th>\n",
       "      <th>HADM_ID</th>\n",
       "      <th>subject_id</th>\n",
       "      <th>CHARTTIME</th>\n",
       "      <th>ITEMID</th>\n",
       "      <th>AMOUNT</th>\n",
       "      <th>LABEL</th>\n",
       "    </tr>\n",
       "  </thead>\n",
       "  <tbody>\n",
       "    <tr>\n",
       "      <th>0</th>\n",
       "      <td>106266</td>\n",
       "      <td>39</td>\n",
       "      <td>2114-11-29 21:30:00</td>\n",
       "      <td>30187</td>\n",
       "      <td>NaN</td>\n",
       "      <td>D10W</td>\n",
       "    </tr>\n",
       "    <tr>\n",
       "      <th>1</th>\n",
       "      <td>106266</td>\n",
       "      <td>39</td>\n",
       "      <td>2114-11-29 22:00:00</td>\n",
       "      <td>30187</td>\n",
       "      <td>2.9</td>\n",
       "      <td>D10W</td>\n",
       "    </tr>\n",
       "  </tbody>\n",
       "</table>\n",
       "</div>"
      ],
      "text/plain": [
       "   HADM_ID  subject_id            CHARTTIME  ITEMID  AMOUNT LABEL\n",
       "0   106266          39  2114-11-29 21:30:00   30187     NaN  D10W\n",
       "1   106266          39  2114-11-29 22:00:00   30187     2.9  D10W"
      ]
     },
     "execution_count": 149,
     "metadata": {},
     "output_type": "execute_result"
    }
   ],
   "source": [
    "inputevents_df.head(2)"
   ]
  },
  {
   "cell_type": "code",
   "execution_count": 152,
   "metadata": {},
   "outputs": [
    {
     "data": {
      "text/plain": [
       "(2028792, 8)"
      ]
     },
     "execution_count": 152,
     "metadata": {},
     "output_type": "execute_result"
    }
   ],
   "source": [
    "inputevents_df.shape "
   ]
  },
  {
   "cell_type": "code",
   "execution_count": 150,
   "metadata": {},
   "outputs": [],
   "source": [
    "inputevents_df = pd.merge(inputevents_df, master_neonates_ids, on='HADM_ID', how='inner')\n",
    "\n",
    "inputevents_df['CHARTTIME'] = inputevents_df['CHARTTIME'].astype('datetime64[ns]')\n",
    "inputevents_df['ADMITTIME'] = inputevents_df['ADMITTIME'].astype('datetime64[ns]') \n",
    "    \n",
    "## Calculating time interval \n",
    "inputevents_df['TIME_INTERVAL'] = inputevents_df['CHARTTIME'] - inputevents_df['ADMITTIME']\n",
    "\n",
    "## Extracting only 24 hours data \n",
    "inputevents_24 = inputevents_df[(inputevents_df.TIME_INTERVAL <= '1 days') & (inputevents_df.TIME_INTERVAL >= '-1 days')]\n",
    "\n",
    "inputevents_24.drop(['TIME_INTERVAL'], axis=1, inplace=True) \n",
    "    \n",
    "## Saving into a given file \n",
    "inputevents_24.to_csv(\"Data_3145_Stat_24/inputevents_24.csv\", index=False)"
   ]
  },
  {
   "cell_type": "code",
   "execution_count": 151,
   "metadata": {},
   "outputs": [
    {
     "data": {
      "text/plain": [
       "(115545, 7)"
      ]
     },
     "execution_count": 151,
     "metadata": {},
     "output_type": "execute_result"
    }
   ],
   "source": [
    "inputevents_24.shape "
   ]
  },
  {
   "cell_type": "code",
   "execution_count": 153,
   "metadata": {},
   "outputs": [
    {
     "data": {
      "text/plain": [
       "3091"
      ]
     },
     "execution_count": 153,
     "metadata": {},
     "output_type": "execute_result"
    }
   ],
   "source": [
    "inputevents_24['HADM_ID'].nunique()"
   ]
  },
  {
   "cell_type": "markdown",
   "metadata": {},
   "source": [
    "## 4.3 Microbiologyevents"
   ]
  },
  {
   "cell_type": "code",
   "execution_count": 154,
   "metadata": {},
   "outputs": [
    {
     "data": {
      "text/html": [
       "<div>\n",
       "<style scoped>\n",
       "    .dataframe tbody tr th:only-of-type {\n",
       "        vertical-align: middle;\n",
       "    }\n",
       "\n",
       "    .dataframe tbody tr th {\n",
       "        vertical-align: top;\n",
       "    }\n",
       "\n",
       "    .dataframe thead th {\n",
       "        text-align: right;\n",
       "    }\n",
       "</style>\n",
       "<table border=\"1\" class=\"dataframe\">\n",
       "  <thead>\n",
       "    <tr style=\"text-align: right;\">\n",
       "      <th></th>\n",
       "      <th>HADM_ID</th>\n",
       "      <th>subject_id</th>\n",
       "      <th>CHARTTIME</th>\n",
       "      <th>SPEC_ITEMID</th>\n",
       "      <th>ORG_ITEMID</th>\n",
       "      <th>AB_ITEMID</th>\n",
       "    </tr>\n",
       "  </thead>\n",
       "  <tbody>\n",
       "    <tr>\n",
       "      <th>0</th>\n",
       "      <td>106266</td>\n",
       "      <td>39</td>\n",
       "      <td>2114-11-29 21:45:00</td>\n",
       "      <td>70014.0</td>\n",
       "      <td>0.0</td>\n",
       "      <td>0.0</td>\n",
       "    </tr>\n",
       "    <tr>\n",
       "      <th>1</th>\n",
       "      <td>104518</td>\n",
       "      <td>66</td>\n",
       "      <td>2188-08-25 00:45:00</td>\n",
       "      <td>70014.0</td>\n",
       "      <td>0.0</td>\n",
       "      <td>0.0</td>\n",
       "    </tr>\n",
       "  </tbody>\n",
       "</table>\n",
       "</div>"
      ],
      "text/plain": [
       "   HADM_ID  subject_id            CHARTTIME  SPEC_ITEMID  ORG_ITEMID  \\\n",
       "0   106266          39  2114-11-29 21:45:00      70014.0         0.0   \n",
       "1   104518          66  2188-08-25 00:45:00      70014.0         0.0   \n",
       "\n",
       "   AB_ITEMID  \n",
       "0        0.0  \n",
       "1        0.0  "
      ]
     },
     "execution_count": 154,
     "metadata": {},
     "output_type": "execute_result"
    }
   ],
   "source": [
    "microbiologyevents_df = pd.read_csv(\"Data_3173_Stat/neonates_microbiologyevents.csv\")\n",
    "microbiologyevents_df.head(2)"
   ]
  },
  {
   "cell_type": "code",
   "execution_count": 155,
   "metadata": {},
   "outputs": [
    {
     "data": {
      "text/plain": [
       "(10352, 6)"
      ]
     },
     "execution_count": 155,
     "metadata": {},
     "output_type": "execute_result"
    }
   ],
   "source": [
    "microbiologyevents_df.shape "
   ]
  },
  {
   "cell_type": "code",
   "execution_count": 156,
   "metadata": {},
   "outputs": [],
   "source": [
    "microbiologyevents_df = pd.merge(microbiologyevents_df, master_neonates_ids, on='HADM_ID', how='inner')\n",
    "\n",
    "microbiologyevents_df['CHARTTIME'] = microbiologyevents_df['CHARTTIME'].astype('datetime64[ns]')\n",
    "microbiologyevents_df['ADMITTIME'] = microbiologyevents_df['ADMITTIME'].astype('datetime64[ns]') \n",
    "    \n",
    "## Calculating time interval \n",
    "microbiologyevents_df['TIME_INTERVAL'] = microbiologyevents_df['CHARTTIME'] - microbiologyevents_df['ADMITTIME']\n",
    "\n",
    "## Extracting only 24 hours data \n",
    "microbiologyevents_24 = microbiologyevents_df[(microbiologyevents_df.TIME_INTERVAL <= '1 days') & (microbiologyevents_df.TIME_INTERVAL >= '-1 days')]\n",
    "\n",
    "microbiologyevents_24.drop(['TIME_INTERVAL'], axis=1, inplace=True) \n",
    "    \n",
    "## Saving into a given file \n",
    "microbiologyevents_24.to_csv(\"Data_3145_Stat_24/microbiologyevents_24.csv\", index=False)"
   ]
  },
  {
   "cell_type": "code",
   "execution_count": 157,
   "metadata": {},
   "outputs": [
    {
     "data": {
      "text/plain": [
       "(3283, 7)"
      ]
     },
     "execution_count": 157,
     "metadata": {},
     "output_type": "execute_result"
    }
   ],
   "source": [
    "microbiologyevents_24.shape"
   ]
  },
  {
   "cell_type": "markdown",
   "metadata": {},
   "source": [
    "## 4.4 Outputevents"
   ]
  },
  {
   "cell_type": "code",
   "execution_count": 158,
   "metadata": {},
   "outputs": [
    {
     "data": {
      "text/html": [
       "<div>\n",
       "<style scoped>\n",
       "    .dataframe tbody tr th:only-of-type {\n",
       "        vertical-align: middle;\n",
       "    }\n",
       "\n",
       "    .dataframe tbody tr th {\n",
       "        vertical-align: top;\n",
       "    }\n",
       "\n",
       "    .dataframe thead th {\n",
       "        text-align: right;\n",
       "    }\n",
       "</style>\n",
       "<table border=\"1\" class=\"dataframe\">\n",
       "  <thead>\n",
       "    <tr style=\"text-align: right;\">\n",
       "      <th></th>\n",
       "      <th>HADM_ID</th>\n",
       "      <th>subject_id</th>\n",
       "      <th>CHARTTIME</th>\n",
       "      <th>ITEMID</th>\n",
       "      <th>VALUE</th>\n",
       "      <th>CGID</th>\n",
       "      <th>LABEL</th>\n",
       "    </tr>\n",
       "  </thead>\n",
       "  <tbody>\n",
       "    <tr>\n",
       "      <th>0</th>\n",
       "      <td>106266</td>\n",
       "      <td>39</td>\n",
       "      <td>2114-11-30 05:00:00</td>\n",
       "      <td>43175</td>\n",
       "      <td>9.0</td>\n",
       "      <td>15658</td>\n",
       "      <td>Urine .</td>\n",
       "    </tr>\n",
       "    <tr>\n",
       "      <th>1</th>\n",
       "      <td>106266</td>\n",
       "      <td>39</td>\n",
       "      <td>2114-11-30 13:00:00</td>\n",
       "      <td>43175</td>\n",
       "      <td>33.0</td>\n",
       "      <td>14440</td>\n",
       "      <td>Urine .</td>\n",
       "    </tr>\n",
       "  </tbody>\n",
       "</table>\n",
       "</div>"
      ],
      "text/plain": [
       "   HADM_ID  subject_id            CHARTTIME  ITEMID  VALUE   CGID    LABEL\n",
       "0   106266          39  2114-11-30 05:00:00   43175    9.0  15658  Urine .\n",
       "1   106266          39  2114-11-30 13:00:00   43175   33.0  14440  Urine ."
      ]
     },
     "execution_count": 158,
     "metadata": {},
     "output_type": "execute_result"
    }
   ],
   "source": [
    "outputevents_df = pd.read_csv(\"Data_3173_Stat/neonates_outputevents.csv\")\n",
    "outputevents_df.head(2)"
   ]
  },
  {
   "cell_type": "code",
   "execution_count": 161,
   "metadata": {},
   "outputs": [
    {
     "data": {
      "text/plain": [
       "(113199, 9)"
      ]
     },
     "execution_count": 161,
     "metadata": {},
     "output_type": "execute_result"
    }
   ],
   "source": [
    "outputevents_df.shape "
   ]
  },
  {
   "cell_type": "code",
   "execution_count": 159,
   "metadata": {},
   "outputs": [],
   "source": [
    "outputevents_df = pd.merge(outputevents_df, master_neonates_ids, on='HADM_ID', how='inner')\n",
    "\n",
    "outputevents_df['CHARTTIME'] = outputevents_df['CHARTTIME'].astype('datetime64[ns]')\n",
    "outputevents_df['ADMITTIME'] = outputevents_df['ADMITTIME'].astype('datetime64[ns]') \n",
    "    \n",
    "## Calculating time interval \n",
    "outputevents_df['TIME_INTERVAL'] = outputevents_df['CHARTTIME'] - outputevents_df['ADMITTIME']\n",
    "\n",
    "## Extracting only 24 hours data \n",
    "outputevents_24 = outputevents_df[(outputevents_df.TIME_INTERVAL <= '1 days') & (outputevents_df.TIME_INTERVAL >= '-1 days')]\n",
    "\n",
    "outputevents_24.drop(['TIME_INTERVAL'], axis=1, inplace=True) \n",
    "    \n",
    "## Saving into a given file \n",
    "outputevents_24.to_csv(\"Data_3145_Stat_24/outputevents_24.csv\", index=False)"
   ]
  },
  {
   "cell_type": "code",
   "execution_count": 160,
   "metadata": {},
   "outputs": [
    {
     "data": {
      "text/plain": [
       "(14320, 8)"
      ]
     },
     "execution_count": 160,
     "metadata": {},
     "output_type": "execute_result"
    }
   ],
   "source": [
    "outputevents_24.shape "
   ]
  },
  {
   "cell_type": "markdown",
   "metadata": {},
   "source": [
    "## 4.5 Prescriptions"
   ]
  },
  {
   "cell_type": "code",
   "execution_count": 162,
   "metadata": {},
   "outputs": [
    {
     "data": {
      "text/html": [
       "<div>\n",
       "<style scoped>\n",
       "    .dataframe tbody tr th:only-of-type {\n",
       "        vertical-align: middle;\n",
       "    }\n",
       "\n",
       "    .dataframe tbody tr th {\n",
       "        vertical-align: top;\n",
       "    }\n",
       "\n",
       "    .dataframe thead th {\n",
       "        text-align: right;\n",
       "    }\n",
       "</style>\n",
       "<table border=\"1\" class=\"dataframe\">\n",
       "  <thead>\n",
       "    <tr style=\"text-align: right;\">\n",
       "      <th></th>\n",
       "      <th>HADM_ID</th>\n",
       "      <th>subject_id</th>\n",
       "      <th>STARTDATE</th>\n",
       "      <th>ENDDATE</th>\n",
       "      <th>DRUG_TYPE</th>\n",
       "      <th>DRUG</th>\n",
       "      <th>DOSE_VAL_RX</th>\n",
       "    </tr>\n",
       "  </thead>\n",
       "  <tbody>\n",
       "    <tr>\n",
       "      <th>0</th>\n",
       "      <td>104518</td>\n",
       "      <td>66</td>\n",
       "      <td>2188-08-25 00:00:00</td>\n",
       "      <td>2188-08-27 00:00:00</td>\n",
       "      <td>BASE</td>\n",
       "      <td>Syringe (Neonatal) *D5W*</td>\n",
       "      <td>2.4</td>\n",
       "    </tr>\n",
       "    <tr>\n",
       "      <th>1</th>\n",
       "      <td>104518</td>\n",
       "      <td>66</td>\n",
       "      <td>2188-08-25 00:00:00</td>\n",
       "      <td>2188-08-27 00:00:00</td>\n",
       "      <td>MAIN</td>\n",
       "      <td>NEO*IV*AMPicillin Sodium</td>\n",
       "      <td>470</td>\n",
       "    </tr>\n",
       "  </tbody>\n",
       "</table>\n",
       "</div>"
      ],
      "text/plain": [
       "   HADM_ID  subject_id            STARTDATE              ENDDATE DRUG_TYPE  \\\n",
       "0   104518          66  2188-08-25 00:00:00  2188-08-27 00:00:00      BASE   \n",
       "1   104518          66  2188-08-25 00:00:00  2188-08-27 00:00:00      MAIN   \n",
       "\n",
       "                       DRUG DOSE_VAL_RX  \n",
       "0  Syringe (Neonatal) *D5W*         2.4  \n",
       "1  NEO*IV*AMPicillin Sodium         470  "
      ]
     },
     "execution_count": 162,
     "metadata": {},
     "output_type": "execute_result"
    }
   ],
   "source": [
    "prescriptions_df = pd.read_csv(\"Data_3173_Stat/neonates_prescriptions.csv\")\n",
    "prescriptions_df.head(2)"
   ]
  },
  {
   "cell_type": "code",
   "execution_count": 163,
   "metadata": {},
   "outputs": [],
   "source": [
    "prescriptions_df = pd.merge(prescriptions_df, master_neonates_ids, on='HADM_ID', how='inner')\n",
    "\n",
    "prescriptions_df['STARTDATE'] = prescriptions_df['STARTDATE'].astype('datetime64[ns]')\n",
    "prescriptions_df['ADMITTIME'] = prescriptions_df['ADMITTIME'].astype('datetime64[ns]') \n",
    "    \n",
    "## Calculating time interval \n",
    "prescriptions_df['TIME_INTERVAL'] = prescriptions_df['STARTDATE'] - prescriptions_df['ADMITTIME']\n",
    "\n",
    "## Extracting only 24 hours data \n",
    "prescriptions_24 = prescriptions_df[(prescriptions_df.TIME_INTERVAL <= '1 days') & (prescriptions_df.TIME_INTERVAL >= '-1 days')]\n",
    "\n",
    "prescriptions_24.drop(['TIME_INTERVAL'], axis=1, inplace=True) \n",
    "    \n",
    "## Saving into a given file \n",
    "prescriptions_24.to_csv(\"Data_3145_Stat_24/prescriptions_24.csv\", index=False)"
   ]
  },
  {
   "cell_type": "code",
   "execution_count": null,
   "metadata": {},
   "outputs": [],
   "source": []
  }
 ],
 "metadata": {
  "kernelspec": {
   "display_name": "Python 3",
   "language": "python",
   "name": "python3"
  },
  "language_info": {
   "codemirror_mode": {
    "name": "ipython",
    "version": 3
   },
   "file_extension": ".py",
   "mimetype": "text/x-python",
   "name": "python",
   "nbconvert_exporter": "python",
   "pygments_lexer": "ipython3",
   "version": "3.8.5"
  }
 },
 "nbformat": 4,
 "nbformat_minor": 4
}
