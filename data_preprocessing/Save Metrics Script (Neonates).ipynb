{
 "cells": [
  {
   "cell_type": "code",
   "execution_count": null,
   "metadata": {},
   "outputs": [],
   "source": [
    "import pandas as pd \n",
    "\n",
    "def save_metrics_csv(fold_number, history, period, filename): \n",
    "    train_accuracy = history.history['DeadClasses_accuracy'][-1] \n",
    "    train_precision = history.history['DeadClassesPrecision_precision'][-1] \n",
    "    train_recall = history.history['DeadClassesRecall_recall'][-1] \n",
    "    train_mae = history.history['Regression_y1_mae'][-1] \n",
    "\n",
    "    val_accuracy = history.history['val_DeadClasses_accuracy'][-1]\n",
    "    val_precision = history.history['val_DeadClassesPrecision_precision'][-1]\n",
    "    val_recall = history.history['val_DeadClassesRecall_recall'][-1]\n",
    "    val_mae = history.history['val_Regression_y1_mae'][-1] \n",
    "\n",
    "    # Creating the columns of dataframe \n",
    "    df_columns = ['Time', 'Fold', 'Train Accuracy', 'Train Precision', 'Train Recall', 'Train MAE', \n",
    "                                  'Val Accuracy', 'Val Precision', 'Val Recall', 'Val MAE']\n",
    "\n",
    "    # create new dataframe with defined columns \n",
    "    df = pd.DataFrame(columns = df_columns) \n",
    "\n",
    "    # Insert data into dataframe (it is row of dataframe). Later we join this row to the file \n",
    "    df.loc[0] = [period, fold_number, train_accuracy, train_precision, train_recall, train_mae,\n",
    "                                      val_accuracy, val_precision, val_recall, val_mae] \n",
    "\n",
    "    # if file does not exist, create with header and insert dataframe row. Otherwise, just insert row without header  \n",
    "  \n",
    "    if path.exists(filename): \n",
    "        df.to_csv(filename, mode='a', header=False, index=False)\n",
    "    else: \n",
    "        df.to_csv(filename, index=False, header=True)\n",
    "\n",
    "\n",
    "\n",
    "def save_test_metrics_csv(period, loss, maeTest, accuracyTest, precisionTest, recallTest, filename): \n",
    "    # Creating the columns of dataframe \n",
    "    df_columns = ['Time Period', 'Test Loss', 'Test MAE', 'Test Accuracy', 'Test Precision', 'Test Recall'] \n",
    "    df = pd.DataFrame(columns = df_columns)\n",
    "\n",
    "    # Insert data into dataframe (it is row of dataframe). Later we join this row to the file \n",
    "    df.loc[0] = [period, loss, maeTest, accuracyTest, precisionTest, recallTest] \n",
    "\n",
    "    # if file does not exist, create with header and insert dataframe row. Otherwise, just insert row without header   \n",
    "    if path.exists(filename): \n",
    "        df.to_csv(filename, mode='a', header=False, index=False)\n",
    "    else:     \n",
    "        df.to_csv(filename, index=False, header=True)"
   ]
  }
 ],
 "metadata": {
  "kernelspec": {
   "display_name": "Python 3",
   "language": "python",
   "name": "python3"
  },
  "language_info": {
   "codemirror_mode": {
    "name": "ipython",
    "version": 3
   },
   "file_extension": ".py",
   "mimetype": "text/x-python",
   "name": "python",
   "nbconvert_exporter": "python",
   "pygments_lexer": "ipython3",
   "version": "3.8.5"
  }
 },
 "nbformat": 4,
 "nbformat_minor": 4
}
