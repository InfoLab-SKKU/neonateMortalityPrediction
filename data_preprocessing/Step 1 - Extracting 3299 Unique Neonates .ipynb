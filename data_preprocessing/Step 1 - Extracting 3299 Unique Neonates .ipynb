{
 "cells": [
  {
   "cell_type": "code",
   "execution_count": 2,
   "metadata": {},
   "outputs": [],
   "source": [
    "import pandas as pd \n",
    "from datetime import datetime\n",
    "import seaborn as sns"
   ]
  },
  {
   "cell_type": "code",
   "execution_count": 17,
   "metadata": {},
   "outputs": [],
   "source": [
    "import warnings\n",
    "warnings.filterwarnings('ignore')"
   ]
  },
  {
   "cell_type": "code",
   "execution_count": 22,
   "metadata": {},
   "outputs": [],
   "source": [
    "def side_by_side(*objs, **kwds):\n",
    "    from pandas.io.formats.printing import adjoin\n",
    "    space = kwds.get('space', 4)\n",
    "    reprs = [repr(obj).split('\\n') for obj in objs]\n",
    "    print (adjoin(space, *reprs))\n",
    "    print()\n",
    "    return"
   ]
  },
  {
   "cell_type": "markdown",
   "metadata": {},
   "source": [
    "### Loading Data "
   ]
  },
  {
   "cell_type": "code",
   "execution_count": 13,
   "metadata": {},
   "outputs": [],
   "source": [
    "respDF = pd.read_csv(\"ChartEvents_Features/neonates_respiratory_rate.csv\")\n",
    "heartRateDF = pd.read_csv(\"ChartEvents_Features/neonates_heart_rate.csv\")\n",
    "sao2DF = pd.read_csv(\"ChartEvents_Features/neonates_sao2.csv\")\n",
    "hr_alarm_highDF = pd.read_csv(\"ChartEvents_Features/neonates_hr_alarm_high.csv\")\n",
    "hr_alarm_lowDF = pd.read_csv(\"ChartEvents_Features/neonates_hr_alarm_low.csv\")\n",
    "sao2_alarm_highDF = pd.read_csv(\"ChartEvents_Features/neonates_sao2_alarm_high.csv\")\n",
    "sao2_alarm_lowDF = pd.read_csv(\"ChartEvents_Features/neonates_sao2_alarm_low.csv\")\n",
    "temperature = pd.read_csv(\"ChartEvents_Features/neonates_temperature.csv\") \n",
    "skin_temperature =  pd.read_csv(\"ChartEvents_Features/neonates_skin_temperature.csv\") \n",
    "bp_cuff_diastolic = pd.read_csv(\"ChartEvents_Features/neonates_bp_cuff_diastolic.csv\") \n",
    "bp_cuff_mean = pd.read_csv(\"ChartEvents_Features/neonates_bp_cuff_mean.csv\") \n",
    "bp_cuff_systolic = pd.read_csv(\"ChartEvents_Features/neonates_bp_cuff_systolic.csv\") \n",
    "total_fluids = pd.read_csv(\"ChartEvents_Features/neonates_total_fluids.csv\") \n",
    "glucometer = pd.read_csv(\"ChartEvents_Features/neonates_glucometer.csv\") "
   ]
  },
  {
   "cell_type": "code",
   "execution_count": 5,
   "metadata": {},
   "outputs": [],
   "source": [
    "heartRateDF = pd.read_csv(\"ChartEvents_Features/neonates_heart_rate.csv\")"
   ]
  },
  {
   "cell_type": "code",
   "execution_count": 6,
   "metadata": {},
   "outputs": [],
   "source": [
    "bilirubin_direct = pd.read_csv(\"LabEvents_Features/neonates_bilirubin_direct.csv\") \n",
    "bilirubin_total = pd.read_csv(\"LabEvents_Features/neonates_bilirubin_total.csv\") \n",
    "bilirubin_indirect = pd.read_csv(\"LabEvents_Features/neonates_bilirubin_indirect.csv\") "
   ]
  },
  {
   "cell_type": "code",
   "execution_count": 14,
   "metadata": {},
   "outputs": [],
   "source": [
    "basosDF = pd.read_csv(\"ChartEvents_Features/neonates_basos.csv\")\n",
    "eosinophils = pd.read_csv(\"ChartEvents_Features/neonates_eosinophils.csv\")\n",
    "platelet = pd.read_csv(\"ChartEvents_Features/neonates_platelet.csv\")\n",
    "bands =  pd.read_csv(\"ChartEvents_Features/neonates_bands.csv\")\n",
    "lymphs = pd.read_csv(\"ChartEvents_Features/neonates_lymphs.csv\")\n",
    "monos = pd.read_csv(\"ChartEvents_Features/neonates_monos.csv\") \n",
    "neuts = pd.read_csv(\"ChartEvents_Features/neonates_neuts.csv\") "
   ]
  },
  {
   "cell_type": "markdown",
   "metadata": {},
   "source": [
    "### Exploring Data "
   ]
  },
  {
   "cell_type": "code",
   "execution_count": 3,
   "metadata": {},
   "outputs": [],
   "source": [
    "master_neonates = pd.read_csv(\"neonates_with_all_features.csv\")"
   ]
  },
  {
   "cell_type": "code",
   "execution_count": 4,
   "metadata": {},
   "outputs": [
    {
     "data": {
      "text/html": [
       "<div>\n",
       "<style scoped>\n",
       "    .dataframe tbody tr th:only-of-type {\n",
       "        vertical-align: middle;\n",
       "    }\n",
       "\n",
       "    .dataframe tbody tr th {\n",
       "        vertical-align: top;\n",
       "    }\n",
       "\n",
       "    .dataframe thead th {\n",
       "        text-align: right;\n",
       "    }\n",
       "</style>\n",
       "<table border=\"1\" class=\"dataframe\">\n",
       "  <thead>\n",
       "    <tr style=\"text-align: right;\">\n",
       "      <th></th>\n",
       "      <th>subject_id</th>\n",
       "      <th>HADM_ID</th>\n",
       "      <th>ADMITTIME</th>\n",
       "      <th>DISCHTIME</th>\n",
       "      <th>Dead</th>\n",
       "      <th>HeartRate</th>\n",
       "      <th>RespRate</th>\n",
       "      <th>SaO2</th>\n",
       "      <th>HRAlarmHigh</th>\n",
       "      <th>HRAlarmLow</th>\n",
       "      <th>...</th>\n",
       "      <th>LYMPHS</th>\n",
       "      <th>MONOs</th>\n",
       "      <th>NEUTS</th>\n",
       "      <th>Color</th>\n",
       "      <th>BANDS</th>\n",
       "      <th>Platelet</th>\n",
       "      <th>BirthWeight</th>\n",
       "      <th>BilirubinTotal</th>\n",
       "      <th>BilirubinDirect</th>\n",
       "      <th>BilirubinIndirect</th>\n",
       "    </tr>\n",
       "  </thead>\n",
       "  <tbody>\n",
       "    <tr>\n",
       "      <th>0</th>\n",
       "      <td>27</td>\n",
       "      <td>134931</td>\n",
       "      <td>2191-11-30 22:16:00</td>\n",
       "      <td>2191-12-03 14:45:00</td>\n",
       "      <td>0</td>\n",
       "      <td>True</td>\n",
       "      <td>True</td>\n",
       "      <td>True</td>\n",
       "      <td>False</td>\n",
       "      <td>False</td>\n",
       "      <td>...</td>\n",
       "      <td>False</td>\n",
       "      <td>False</td>\n",
       "      <td>False</td>\n",
       "      <td>True</td>\n",
       "      <td>False</td>\n",
       "      <td>False</td>\n",
       "      <td>False</td>\n",
       "      <td>True</td>\n",
       "      <td>True</td>\n",
       "      <td>True</td>\n",
       "    </tr>\n",
       "    <tr>\n",
       "      <th>1</th>\n",
       "      <td>39</td>\n",
       "      <td>106266</td>\n",
       "      <td>2114-11-29 21:04:00</td>\n",
       "      <td>2114-12-09 15:10:00</td>\n",
       "      <td>0</td>\n",
       "      <td>True</td>\n",
       "      <td>True</td>\n",
       "      <td>True</td>\n",
       "      <td>True</td>\n",
       "      <td>True</td>\n",
       "      <td>...</td>\n",
       "      <td>True</td>\n",
       "      <td>True</td>\n",
       "      <td>True</td>\n",
       "      <td>True</td>\n",
       "      <td>True</td>\n",
       "      <td>True</td>\n",
       "      <td>True</td>\n",
       "      <td>True</td>\n",
       "      <td>True</td>\n",
       "      <td>True</td>\n",
       "    </tr>\n",
       "    <tr>\n",
       "      <th>2</th>\n",
       "      <td>358</td>\n",
       "      <td>110872</td>\n",
       "      <td>2168-10-24 23:48:00</td>\n",
       "      <td>2168-10-29 03:23:00</td>\n",
       "      <td>0</td>\n",
       "      <td>True</td>\n",
       "      <td>True</td>\n",
       "      <td>True</td>\n",
       "      <td>True</td>\n",
       "      <td>True</td>\n",
       "      <td>...</td>\n",
       "      <td>True</td>\n",
       "      <td>True</td>\n",
       "      <td>True</td>\n",
       "      <td>True</td>\n",
       "      <td>True</td>\n",
       "      <td>True</td>\n",
       "      <td>True</td>\n",
       "      <td>True</td>\n",
       "      <td>True</td>\n",
       "      <td>True</td>\n",
       "    </tr>\n",
       "    <tr>\n",
       "      <th>3</th>\n",
       "      <td>363</td>\n",
       "      <td>196503</td>\n",
       "      <td>2176-03-01 15:26:00</td>\n",
       "      <td>2176-03-03 14:04:00</td>\n",
       "      <td>0</td>\n",
       "      <td>True</td>\n",
       "      <td>True</td>\n",
       "      <td>True</td>\n",
       "      <td>True</td>\n",
       "      <td>True</td>\n",
       "      <td>...</td>\n",
       "      <td>False</td>\n",
       "      <td>False</td>\n",
       "      <td>False</td>\n",
       "      <td>False</td>\n",
       "      <td>False</td>\n",
       "      <td>False</td>\n",
       "      <td>False</td>\n",
       "      <td>False</td>\n",
       "      <td>False</td>\n",
       "      <td>False</td>\n",
       "    </tr>\n",
       "    <tr>\n",
       "      <th>4</th>\n",
       "      <td>50</td>\n",
       "      <td>132761</td>\n",
       "      <td>2112-06-23 19:40:00</td>\n",
       "      <td>2112-06-26 10:15:00</td>\n",
       "      <td>0</td>\n",
       "      <td>True</td>\n",
       "      <td>True</td>\n",
       "      <td>True</td>\n",
       "      <td>False</td>\n",
       "      <td>False</td>\n",
       "      <td>...</td>\n",
       "      <td>False</td>\n",
       "      <td>False</td>\n",
       "      <td>False</td>\n",
       "      <td>True</td>\n",
       "      <td>False</td>\n",
       "      <td>True</td>\n",
       "      <td>False</td>\n",
       "      <td>True</td>\n",
       "      <td>True</td>\n",
       "      <td>True</td>\n",
       "    </tr>\n",
       "  </tbody>\n",
       "</table>\n",
       "<p>5 rows × 33 columns</p>\n",
       "</div>"
      ],
      "text/plain": [
       "   subject_id  HADM_ID            ADMITTIME            DISCHTIME  Dead  \\\n",
       "0          27   134931  2191-11-30 22:16:00  2191-12-03 14:45:00     0   \n",
       "1          39   106266  2114-11-29 21:04:00  2114-12-09 15:10:00     0   \n",
       "2         358   110872  2168-10-24 23:48:00  2168-10-29 03:23:00     0   \n",
       "3         363   196503  2176-03-01 15:26:00  2176-03-03 14:04:00     0   \n",
       "4          50   132761  2112-06-23 19:40:00  2112-06-26 10:15:00     0   \n",
       "\n",
       "   HeartRate  RespRate  SaO2  HRAlarmHigh  HRAlarmLow  ...  LYMPHS  MONOs  \\\n",
       "0       True      True  True        False       False  ...   False  False   \n",
       "1       True      True  True         True        True  ...    True   True   \n",
       "2       True      True  True         True        True  ...    True   True   \n",
       "3       True      True  True         True        True  ...   False  False   \n",
       "4       True      True  True        False       False  ...   False  False   \n",
       "\n",
       "   NEUTS  Color  BANDS  Platelet  BirthWeight  BilirubinTotal  \\\n",
       "0  False   True  False     False        False            True   \n",
       "1   True   True   True      True         True            True   \n",
       "2   True   True   True      True         True            True   \n",
       "3  False  False  False     False        False           False   \n",
       "4  False   True  False      True        False            True   \n",
       "\n",
       "   BilirubinDirect  BilirubinIndirect  \n",
       "0             True               True  \n",
       "1             True               True  \n",
       "2             True               True  \n",
       "3            False              False  \n",
       "4             True               True  \n",
       "\n",
       "[5 rows x 33 columns]"
      ]
     },
     "execution_count": 4,
     "metadata": {},
     "output_type": "execute_result"
    }
   ],
   "source": [
    "master_neonates.head()"
   ]
  },
  {
   "cell_type": "code",
   "execution_count": 5,
   "metadata": {},
   "outputs": [
    {
     "data": {
      "text/plain": [
       "8110"
      ]
     },
     "execution_count": 5,
     "metadata": {},
     "output_type": "execute_result"
    }
   ],
   "source": [
    "master_neonates[\"HADM_ID\"].nunique()"
   ]
  },
  {
   "cell_type": "code",
   "execution_count": 6,
   "metadata": {},
   "outputs": [],
   "source": [
    "admissions = master_neonates"
   ]
  },
  {
   "cell_type": "code",
   "execution_count": 12,
   "metadata": {},
   "outputs": [
    {
     "data": {
      "text/plain": [
       "3299"
      ]
     },
     "execution_count": 12,
     "metadata": {},
     "output_type": "execute_result"
    }
   ],
   "source": [
    "## All features \n",
    "master_neonates = admissions.loc[(admissions.HeartRate==True) & (admissions.RespRate==True) & (admissions.SaO2==True) \n",
    "               & (admissions.HRAlarmHigh==True) & (admissions.HRAlarmLow==True) & (admissions.SaO2AlarmHigh==True)\n",
    "               & (admissions.SaO2AlarmLow==True) & (admissions.BPCuffDiastolic==True) & (admissions.BPCuffMean==True)\n",
    "               & (admissions.BPCuffSystolic==True) & (admissions.SkinTemp==True) & (admissions.Temperature==True)\n",
    "               & (admissions.HeadCirc==True) & (admissions.Glucometer==True)\n",
    "               & (admissions.Eosinophils==True)\n",
    "               & (admissions.LYMPHS==True) & (admissions.MONOs==True) & (admissions.NEUTS==True)\n",
    "               & (admissions.BANDS==True) & (admissions.Platelet==True)\n",
    "               & (admissions.BirthWeight==True)\n",
    "               ]\n",
    "master_neonates[\"HADM_ID\"].nunique()"
   ]
  },
  {
   "cell_type": "code",
   "execution_count": 14,
   "metadata": {},
   "outputs": [],
   "source": [
    "## All features \n",
    "new_masters = admissions.loc[(admissions.HeartRate==True) & (admissions.RespRate==True) & (admissions.SaO2==True) \n",
    "               & (admissions.HRAlarmHigh==True) & (admissions.HRAlarmLow==True) & (admissions.SaO2AlarmHigh==True)\n",
    "               & (admissions.SaO2AlarmLow==True) & (admissions.BPCuffDiastolic==True) & (admissions.BPCuffMean==True)\n",
    "               & (admissions.BPCuffSystolic==True) & (admissions.SkinTemp==True) & (admissions.Temperature==True)\n",
    "               & (admissions.totalFluidsCCKg==True) & (admissions.HeadCirc==True) & (admissions.Glucometer==True)\n",
    "               & (admissions.GlucoseMonitor==True) & (admissions.Eosinophils==True)\n",
    "               & (admissions.LYMPHS==True) & (admissions.MONOs==True) & (admissions.NEUTS==True)\n",
    "               & (admissions.Color==True) & (admissions.BANDS==True) & (admissions.Platelet==True)\n",
    "               & (admissions.BirthWeight==True)\n",
    "               ] \n",
    "# & (admissions.BilirubinTotal==True) & (admissions.BilirubinDirect==True) & (admissions.BilirubinIndirect==True)"
   ]
  },
  {
   "cell_type": "code",
   "execution_count": 15,
   "metadata": {},
   "outputs": [
    {
     "data": {
      "text/plain": [
       "3299"
      ]
     },
     "execution_count": 15,
     "metadata": {},
     "output_type": "execute_result"
    }
   ],
   "source": [
    "master_neonates[\"HADM_ID\"].nunique()"
   ]
  },
  {
   "cell_type": "code",
   "execution_count": 24,
   "metadata": {},
   "outputs": [
    {
     "data": {
      "text/plain": [
       "Index(['subject_id', 'HADM_ID', 'ADMITTIME', 'DISCHTIME', 'Dead', 'HeartRate',\n",
       "       'RespRate', 'SaO2', 'HRAlarmHigh', 'HRAlarmLow', 'SaO2AlarmHigh',\n",
       "       'SaO2AlarmLow', 'BPCuffDiastolic', 'BPCuffMean', 'BPCuffSystolic',\n",
       "       'SkinTemp', 'Temperature', 'totalFluidsCCKg', 'HeadCirc', 'Glucometer',\n",
       "       'GlucoseMonitor', 'BASOs', 'Eosinophils', 'LYMPHS', 'MONOs', 'NEUTS',\n",
       "       'Color', 'BANDS', 'Platelet', 'BirthWeight', 'BilirubinTotal',\n",
       "       'BilirubinDirect', 'BilirubinIndirect'],\n",
       "      dtype='object')"
      ]
     },
     "execution_count": 24,
     "metadata": {},
     "output_type": "execute_result"
    }
   ],
   "source": [
    "master_neonates.columns"
   ]
  },
  {
   "cell_type": "code",
   "execution_count": 12,
   "metadata": {},
   "outputs": [
    {
     "data": {
      "text/plain": [
       "3173"
      ]
     },
     "execution_count": 12,
     "metadata": {},
     "output_type": "execute_result"
    }
   ],
   "source": [
    "master_neonates['subject_id'].nunique()"
   ]
  },
  {
   "cell_type": "code",
   "execution_count": 16,
   "metadata": {},
   "outputs": [
    {
     "name": "stderr",
     "output_type": "stream",
     "text": [
      "C:\\Users\\Firuz\\anaconda3\\lib\\site-packages\\pandas\\core\\frame.py:4163: SettingWithCopyWarning: \n",
      "A value is trying to be set on a copy of a slice from a DataFrame\n",
      "\n",
      "See the caveats in the documentation: https://pandas.pydata.org/pandas-docs/stable/user_guide/indexing.html#returning-a-view-versus-a-copy\n",
      "  return super().drop(\n"
     ]
    }
   ],
   "source": [
    "master_neonates.drop(['HeartRate',\n",
    "       'RespRate', 'SaO2', 'HRAlarmHigh', 'HRAlarmLow', 'SaO2AlarmHigh',\n",
    "       'SaO2AlarmLow', 'BPCuffDiastolic', 'BPCuffMean', 'BPCuffSystolic',\n",
    "       'SkinTemp', 'Temperature', 'totalFluidsCCKg', 'HeadCirc', 'Glucometer',\n",
    "       'GlucoseMonitor', 'BASOs', 'Eosinophils', 'LYMPHS', 'MONOs', 'NEUTS',\n",
    "       'Color', 'BANDS', 'Platelet', 'BirthWeight', 'BilirubinTotal',\n",
    "       'BilirubinDirect', 'BilirubinIndirect'], axis=1, inplace=True)"
   ]
  },
  {
   "cell_type": "code",
   "execution_count": null,
   "metadata": {},
   "outputs": [],
   "source": [
    "new_masters.drop(['HeartRate',\n",
    "       'RespRate', 'SaO2', 'HRAlarmHigh', 'HRAlarmLow', 'SaO2AlarmHigh',\n",
    "       'SaO2AlarmLow', 'BPCuffDiastolic', 'BPCuffMean', 'BPCuffSystolic',\n",
    "       'SkinTemp', 'Temperature', 'totalFluidsCCKg', 'HeadCirc', 'Glucometer',\n",
    "       'GlucoseMonitor', 'BASOs', 'Eosinophils', 'LYMPHS', 'MONOs', 'NEUTS',\n",
    "       'Color', 'BANDS', 'Platelet', 'BirthWeight', 'BilirubinTotal',\n",
    "       'BilirubinDirect', 'BilirubinIndirect'], axis=1, inplace=True)"
   ]
  },
  {
   "cell_type": "code",
   "execution_count": 28,
   "metadata": {},
   "outputs": [],
   "source": [
    "master_neonates.drop([ 'subject_id', 'Dead'], axis=1, inplace=True)"
   ]
  },
  {
   "cell_type": "code",
   "execution_count": 20,
   "metadata": {},
   "outputs": [],
   "source": [
    "new_masters.drop([ 'subject_id', 'Dead'], axis=1, inplace=True)"
   ]
  },
  {
   "cell_type": "code",
   "execution_count": 18,
   "metadata": {},
   "outputs": [
    {
     "data": {
      "text/html": [
       "<div>\n",
       "<style scoped>\n",
       "    .dataframe tbody tr th:only-of-type {\n",
       "        vertical-align: middle;\n",
       "    }\n",
       "\n",
       "    .dataframe tbody tr th {\n",
       "        vertical-align: top;\n",
       "    }\n",
       "\n",
       "    .dataframe thead th {\n",
       "        text-align: right;\n",
       "    }\n",
       "</style>\n",
       "<table border=\"1\" class=\"dataframe\">\n",
       "  <thead>\n",
       "    <tr style=\"text-align: right;\">\n",
       "      <th></th>\n",
       "      <th>subject_id</th>\n",
       "      <th>HADM_ID</th>\n",
       "      <th>ADMITTIME</th>\n",
       "      <th>DISCHTIME</th>\n",
       "      <th>Dead</th>\n",
       "    </tr>\n",
       "  </thead>\n",
       "  <tbody>\n",
       "    <tr>\n",
       "      <th>1</th>\n",
       "      <td>39</td>\n",
       "      <td>106266</td>\n",
       "      <td>2114-11-29 21:04:00</td>\n",
       "      <td>2114-12-09 15:10:00</td>\n",
       "      <td>0</td>\n",
       "    </tr>\n",
       "    <tr>\n",
       "      <th>2</th>\n",
       "      <td>358</td>\n",
       "      <td>110872</td>\n",
       "      <td>2168-10-24 23:48:00</td>\n",
       "      <td>2168-10-29 03:23:00</td>\n",
       "      <td>0</td>\n",
       "    </tr>\n",
       "    <tr>\n",
       "      <th>10</th>\n",
       "      <td>66</td>\n",
       "      <td>104518</td>\n",
       "      <td>2188-08-25 00:14:00</td>\n",
       "      <td>2188-09-04 10:30:00</td>\n",
       "      <td>0</td>\n",
       "    </tr>\n",
       "    <tr>\n",
       "      <th>11</th>\n",
       "      <td>69</td>\n",
       "      <td>190201</td>\n",
       "      <td>2129-03-21 15:33:00</td>\n",
       "      <td>2129-04-09 13:30:00</td>\n",
       "      <td>0</td>\n",
       "    </tr>\n",
       "    <tr>\n",
       "      <th>13</th>\n",
       "      <td>72</td>\n",
       "      <td>156857</td>\n",
       "      <td>2163-09-22 23:52:00</td>\n",
       "      <td>2163-09-29 11:40:00</td>\n",
       "      <td>0</td>\n",
       "    </tr>\n",
       "  </tbody>\n",
       "</table>\n",
       "</div>"
      ],
      "text/plain": [
       "    subject_id  HADM_ID            ADMITTIME            DISCHTIME  Dead\n",
       "1           39   106266  2114-11-29 21:04:00  2114-12-09 15:10:00     0\n",
       "2          358   110872  2168-10-24 23:48:00  2168-10-29 03:23:00     0\n",
       "10          66   104518  2188-08-25 00:14:00  2188-09-04 10:30:00     0\n",
       "11          69   190201  2129-03-21 15:33:00  2129-04-09 13:30:00     0\n",
       "13          72   156857  2163-09-22 23:52:00  2163-09-29 11:40:00     0"
      ]
     },
     "execution_count": 18,
     "metadata": {},
     "output_type": "execute_result"
    }
   ],
   "source": [
    "master_neonates.head()"
   ]
  },
  {
   "cell_type": "code",
   "execution_count": 19,
   "metadata": {},
   "outputs": [
    {
     "data": {
      "text/plain": [
       "(3299, 5)"
      ]
     },
     "execution_count": 19,
     "metadata": {},
     "output_type": "execute_result"
    }
   ],
   "source": [
    "master_neonates.shape "
   ]
  },
  {
   "cell_type": "code",
   "execution_count": 24,
   "metadata": {},
   "outputs": [
    {
     "data": {
      "text/html": [
       "<div>\n",
       "<style scoped>\n",
       "    .dataframe tbody tr th:only-of-type {\n",
       "        vertical-align: middle;\n",
       "    }\n",
       "\n",
       "    .dataframe tbody tr th {\n",
       "        vertical-align: top;\n",
       "    }\n",
       "\n",
       "    .dataframe thead th {\n",
       "        text-align: right;\n",
       "    }\n",
       "</style>\n",
       "<table border=\"1\" class=\"dataframe\">\n",
       "  <thead>\n",
       "    <tr style=\"text-align: right;\">\n",
       "      <th></th>\n",
       "      <th>HADM_ID</th>\n",
       "      <th>ADMITTIME</th>\n",
       "      <th>DISCHTIME</th>\n",
       "    </tr>\n",
       "  </thead>\n",
       "  <tbody>\n",
       "    <tr>\n",
       "      <th>1</th>\n",
       "      <td>106266</td>\n",
       "      <td>2114-11-29 21:04:00</td>\n",
       "      <td>2114-12-09 15:10:00</td>\n",
       "    </tr>\n",
       "    <tr>\n",
       "      <th>10</th>\n",
       "      <td>104518</td>\n",
       "      <td>2188-08-25 00:14:00</td>\n",
       "      <td>2188-09-04 10:30:00</td>\n",
       "    </tr>\n",
       "    <tr>\n",
       "      <th>11</th>\n",
       "      <td>190201</td>\n",
       "      <td>2129-03-21 15:33:00</td>\n",
       "      <td>2129-04-09 13:30:00</td>\n",
       "    </tr>\n",
       "    <tr>\n",
       "      <th>13</th>\n",
       "      <td>156857</td>\n",
       "      <td>2163-09-22 23:52:00</td>\n",
       "      <td>2163-09-29 11:40:00</td>\n",
       "    </tr>\n",
       "    <tr>\n",
       "      <th>16</th>\n",
       "      <td>190659</td>\n",
       "      <td>2191-02-25 20:30:00</td>\n",
       "      <td>2191-04-25 15:18:00</td>\n",
       "    </tr>\n",
       "  </tbody>\n",
       "</table>\n",
       "</div>"
      ],
      "text/plain": [
       "    HADM_ID            ADMITTIME            DISCHTIME\n",
       "1    106266  2114-11-29 21:04:00  2114-12-09 15:10:00\n",
       "10   104518  2188-08-25 00:14:00  2188-09-04 10:30:00\n",
       "11   190201  2129-03-21 15:33:00  2129-04-09 13:30:00\n",
       "13   156857  2163-09-22 23:52:00  2163-09-29 11:40:00\n",
       "16   190659  2191-02-25 20:30:00  2191-04-25 15:18:00"
      ]
     },
     "execution_count": 24,
     "metadata": {},
     "output_type": "execute_result"
    }
   ],
   "source": [
    "new_masters.head()"
   ]
  },
  {
   "cell_type": "markdown",
   "metadata": {},
   "source": [
    "### 3.1 Heart Rate "
   ]
  },
  {
   "cell_type": "code",
   "execution_count": 31,
   "metadata": {},
   "outputs": [
    {
     "data": {
      "text/html": [
       "<div>\n",
       "<style scoped>\n",
       "    .dataframe tbody tr th:only-of-type {\n",
       "        vertical-align: middle;\n",
       "    }\n",
       "\n",
       "    .dataframe tbody tr th {\n",
       "        vertical-align: top;\n",
       "    }\n",
       "\n",
       "    .dataframe thead th {\n",
       "        text-align: right;\n",
       "    }\n",
       "</style>\n",
       "<table border=\"1\" class=\"dataframe\">\n",
       "  <thead>\n",
       "    <tr style=\"text-align: right;\">\n",
       "      <th></th>\n",
       "      <th>subject_id</th>\n",
       "      <th>HADM_ID</th>\n",
       "      <th>ICUSTAY_ID</th>\n",
       "      <th>ITEMID</th>\n",
       "      <th>CHARTTIME</th>\n",
       "      <th>CGID</th>\n",
       "      <th>VALUENUM</th>\n",
       "      <th>LABEL</th>\n",
       "    </tr>\n",
       "  </thead>\n",
       "  <tbody>\n",
       "    <tr>\n",
       "      <th>0</th>\n",
       "      <td>10824</td>\n",
       "      <td>143406</td>\n",
       "      <td>229258.0</td>\n",
       "      <td>211</td>\n",
       "      <td>2126-07-01 06:00:00</td>\n",
       "      <td>15762.0</td>\n",
       "      <td>145.0</td>\n",
       "      <td>Heart Rate</td>\n",
       "    </tr>\n",
       "    <tr>\n",
       "      <th>1</th>\n",
       "      <td>10824</td>\n",
       "      <td>143406</td>\n",
       "      <td>229258.0</td>\n",
       "      <td>211</td>\n",
       "      <td>2126-07-01 07:00:00</td>\n",
       "      <td>18307.0</td>\n",
       "      <td>136.0</td>\n",
       "      <td>Heart Rate</td>\n",
       "    </tr>\n",
       "    <tr>\n",
       "      <th>2</th>\n",
       "      <td>10824</td>\n",
       "      <td>143406</td>\n",
       "      <td>229258.0</td>\n",
       "      <td>211</td>\n",
       "      <td>2126-07-03 16:00:00</td>\n",
       "      <td>19812.0</td>\n",
       "      <td>147.0</td>\n",
       "      <td>Heart Rate</td>\n",
       "    </tr>\n",
       "    <tr>\n",
       "      <th>3</th>\n",
       "      <td>10824</td>\n",
       "      <td>143406</td>\n",
       "      <td>229258.0</td>\n",
       "      <td>211</td>\n",
       "      <td>2126-06-18 16:00:00</td>\n",
       "      <td>16015.0</td>\n",
       "      <td>153.0</td>\n",
       "      <td>Heart Rate</td>\n",
       "    </tr>\n",
       "    <tr>\n",
       "      <th>4</th>\n",
       "      <td>10824</td>\n",
       "      <td>143406</td>\n",
       "      <td>229258.0</td>\n",
       "      <td>211</td>\n",
       "      <td>2126-06-18 17:00:00</td>\n",
       "      <td>16015.0</td>\n",
       "      <td>151.0</td>\n",
       "      <td>Heart Rate</td>\n",
       "    </tr>\n",
       "  </tbody>\n",
       "</table>\n",
       "</div>"
      ],
      "text/plain": [
       "   subject_id  HADM_ID  ICUSTAY_ID  ITEMID            CHARTTIME     CGID  \\\n",
       "0       10824   143406    229258.0     211  2126-07-01 06:00:00  15762.0   \n",
       "1       10824   143406    229258.0     211  2126-07-01 07:00:00  18307.0   \n",
       "2       10824   143406    229258.0     211  2126-07-03 16:00:00  19812.0   \n",
       "3       10824   143406    229258.0     211  2126-06-18 16:00:00  16015.0   \n",
       "4       10824   143406    229258.0     211  2126-06-18 17:00:00  16015.0   \n",
       "\n",
       "   VALUENUM       LABEL  \n",
       "0     145.0  Heart Rate  \n",
       "1     136.0  Heart Rate  \n",
       "2     147.0  Heart Rate  \n",
       "3     153.0  Heart Rate  \n",
       "4     151.0  Heart Rate  "
      ]
     },
     "execution_count": 31,
     "metadata": {},
     "output_type": "execute_result"
    }
   ],
   "source": [
    "heartRateDF.head()"
   ]
  },
  {
   "cell_type": "code",
   "execution_count": 20,
   "metadata": {},
   "outputs": [
    {
     "data": {
      "text/plain": [
       "7673"
      ]
     },
     "execution_count": 20,
     "metadata": {},
     "output_type": "execute_result"
    }
   ],
   "source": [
    "heartRateDF[\"HADM_ID\"].nunique()"
   ]
  },
  {
   "cell_type": "code",
   "execution_count": 23,
   "metadata": {},
   "outputs": [
    {
     "name": "stdout",
     "output_type": "stream",
     "text": [
      "subject_id       0    subject_id    1696195\n",
      "HADM_ID          0    HADM_ID       1696195\n",
      "ICUSTAY_ID    2950    ICUSTAY_ID    1693245\n",
      "ITEMID           0    ITEMID        1696195\n",
      "CHARTTIME        0    CHARTTIME     1696195\n",
      "CGID             0    CGID          1696195\n",
      "VALUENUM       507    VALUENUM      1695688\n",
      "LABEL            0    LABEL         1696195\n",
      "dtype: int64          dtype: int64         \n",
      "\n"
     ]
    }
   ],
   "source": [
    "side_by_side(heartRateDF.isnull().sum(), heartRateDF.count())"
   ]
  },
  {
   "cell_type": "code",
   "execution_count": 24,
   "metadata": {},
   "outputs": [],
   "source": [
    "heartRateDF = pd.merge(heartRateDF, master_neonates, on='HADM_ID', how='inner') "
   ]
  },
  {
   "cell_type": "code",
   "execution_count": 25,
   "metadata": {},
   "outputs": [
    {
     "data": {
      "text/html": [
       "<div>\n",
       "<style scoped>\n",
       "    .dataframe tbody tr th:only-of-type {\n",
       "        vertical-align: middle;\n",
       "    }\n",
       "\n",
       "    .dataframe tbody tr th {\n",
       "        vertical-align: top;\n",
       "    }\n",
       "\n",
       "    .dataframe thead th {\n",
       "        text-align: right;\n",
       "    }\n",
       "</style>\n",
       "<table border=\"1\" class=\"dataframe\">\n",
       "  <thead>\n",
       "    <tr style=\"text-align: right;\">\n",
       "      <th></th>\n",
       "      <th>subject_id_x</th>\n",
       "      <th>HADM_ID</th>\n",
       "      <th>ICUSTAY_ID</th>\n",
       "      <th>ITEMID</th>\n",
       "      <th>CHARTTIME</th>\n",
       "      <th>CGID</th>\n",
       "      <th>VALUENUM</th>\n",
       "      <th>LABEL</th>\n",
       "      <th>subject_id_y</th>\n",
       "      <th>ADMITTIME</th>\n",
       "      <th>DISCHTIME</th>\n",
       "      <th>Dead</th>\n",
       "    </tr>\n",
       "  </thead>\n",
       "  <tbody>\n",
       "    <tr>\n",
       "      <th>0</th>\n",
       "      <td>10824</td>\n",
       "      <td>143406</td>\n",
       "      <td>229258.0</td>\n",
       "      <td>211</td>\n",
       "      <td>2126-07-01 06:00:00</td>\n",
       "      <td>15762.0</td>\n",
       "      <td>145.0</td>\n",
       "      <td>Heart Rate</td>\n",
       "      <td>10824</td>\n",
       "      <td>2126-06-12 22:08:00</td>\n",
       "      <td>2126-07-15 13:40:00</td>\n",
       "      <td>0</td>\n",
       "    </tr>\n",
       "    <tr>\n",
       "      <th>1</th>\n",
       "      <td>10824</td>\n",
       "      <td>143406</td>\n",
       "      <td>229258.0</td>\n",
       "      <td>211</td>\n",
       "      <td>2126-07-01 07:00:00</td>\n",
       "      <td>18307.0</td>\n",
       "      <td>136.0</td>\n",
       "      <td>Heart Rate</td>\n",
       "      <td>10824</td>\n",
       "      <td>2126-06-12 22:08:00</td>\n",
       "      <td>2126-07-15 13:40:00</td>\n",
       "      <td>0</td>\n",
       "    </tr>\n",
       "    <tr>\n",
       "      <th>2</th>\n",
       "      <td>10824</td>\n",
       "      <td>143406</td>\n",
       "      <td>229258.0</td>\n",
       "      <td>211</td>\n",
       "      <td>2126-07-03 16:00:00</td>\n",
       "      <td>19812.0</td>\n",
       "      <td>147.0</td>\n",
       "      <td>Heart Rate</td>\n",
       "      <td>10824</td>\n",
       "      <td>2126-06-12 22:08:00</td>\n",
       "      <td>2126-07-15 13:40:00</td>\n",
       "      <td>0</td>\n",
       "    </tr>\n",
       "    <tr>\n",
       "      <th>3</th>\n",
       "      <td>10824</td>\n",
       "      <td>143406</td>\n",
       "      <td>229258.0</td>\n",
       "      <td>211</td>\n",
       "      <td>2126-06-18 16:00:00</td>\n",
       "      <td>16015.0</td>\n",
       "      <td>153.0</td>\n",
       "      <td>Heart Rate</td>\n",
       "      <td>10824</td>\n",
       "      <td>2126-06-12 22:08:00</td>\n",
       "      <td>2126-07-15 13:40:00</td>\n",
       "      <td>0</td>\n",
       "    </tr>\n",
       "    <tr>\n",
       "      <th>4</th>\n",
       "      <td>10824</td>\n",
       "      <td>143406</td>\n",
       "      <td>229258.0</td>\n",
       "      <td>211</td>\n",
       "      <td>2126-06-18 17:00:00</td>\n",
       "      <td>16015.0</td>\n",
       "      <td>151.0</td>\n",
       "      <td>Heart Rate</td>\n",
       "      <td>10824</td>\n",
       "      <td>2126-06-12 22:08:00</td>\n",
       "      <td>2126-07-15 13:40:00</td>\n",
       "      <td>0</td>\n",
       "    </tr>\n",
       "    <tr>\n",
       "      <th>...</th>\n",
       "      <td>...</td>\n",
       "      <td>...</td>\n",
       "      <td>...</td>\n",
       "      <td>...</td>\n",
       "      <td>...</td>\n",
       "      <td>...</td>\n",
       "      <td>...</td>\n",
       "      <td>...</td>\n",
       "      <td>...</td>\n",
       "      <td>...</td>\n",
       "      <td>...</td>\n",
       "      <td>...</td>\n",
       "    </tr>\n",
       "    <tr>\n",
       "      <th>1542777</th>\n",
       "      <td>10740</td>\n",
       "      <td>148725</td>\n",
       "      <td>252414.0</td>\n",
       "      <td>211</td>\n",
       "      <td>2169-12-19 20:30:00</td>\n",
       "      <td>20484.0</td>\n",
       "      <td>154.0</td>\n",
       "      <td>Heart Rate</td>\n",
       "      <td>10740</td>\n",
       "      <td>2169-12-13 17:11:00</td>\n",
       "      <td>2169-12-25 16:14:00</td>\n",
       "      <td>0</td>\n",
       "    </tr>\n",
       "    <tr>\n",
       "      <th>1542778</th>\n",
       "      <td>10740</td>\n",
       "      <td>148725</td>\n",
       "      <td>252414.0</td>\n",
       "      <td>211</td>\n",
       "      <td>2169-12-22 14:00:00</td>\n",
       "      <td>14712.0</td>\n",
       "      <td>144.0</td>\n",
       "      <td>Heart Rate</td>\n",
       "      <td>10740</td>\n",
       "      <td>2169-12-13 17:11:00</td>\n",
       "      <td>2169-12-25 16:14:00</td>\n",
       "      <td>0</td>\n",
       "    </tr>\n",
       "    <tr>\n",
       "      <th>1542779</th>\n",
       "      <td>10740</td>\n",
       "      <td>148725</td>\n",
       "      <td>252414.0</td>\n",
       "      <td>211</td>\n",
       "      <td>2169-12-22 15:00:00</td>\n",
       "      <td>14712.0</td>\n",
       "      <td>136.0</td>\n",
       "      <td>Heart Rate</td>\n",
       "      <td>10740</td>\n",
       "      <td>2169-12-13 17:11:00</td>\n",
       "      <td>2169-12-25 16:14:00</td>\n",
       "      <td>0</td>\n",
       "    </tr>\n",
       "    <tr>\n",
       "      <th>1542780</th>\n",
       "      <td>10740</td>\n",
       "      <td>148725</td>\n",
       "      <td>252414.0</td>\n",
       "      <td>211</td>\n",
       "      <td>2169-12-22 16:00:00</td>\n",
       "      <td>14712.0</td>\n",
       "      <td>145.0</td>\n",
       "      <td>Heart Rate</td>\n",
       "      <td>10740</td>\n",
       "      <td>2169-12-13 17:11:00</td>\n",
       "      <td>2169-12-25 16:14:00</td>\n",
       "      <td>0</td>\n",
       "    </tr>\n",
       "    <tr>\n",
       "      <th>1542781</th>\n",
       "      <td>10740</td>\n",
       "      <td>148725</td>\n",
       "      <td>252414.0</td>\n",
       "      <td>211</td>\n",
       "      <td>2169-12-22 17:00:00</td>\n",
       "      <td>14712.0</td>\n",
       "      <td>138.0</td>\n",
       "      <td>Heart Rate</td>\n",
       "      <td>10740</td>\n",
       "      <td>2169-12-13 17:11:00</td>\n",
       "      <td>2169-12-25 16:14:00</td>\n",
       "      <td>0</td>\n",
       "    </tr>\n",
       "  </tbody>\n",
       "</table>\n",
       "<p>1542782 rows × 12 columns</p>\n",
       "</div>"
      ],
      "text/plain": [
       "         subject_id_x  HADM_ID  ICUSTAY_ID  ITEMID            CHARTTIME  \\\n",
       "0               10824   143406    229258.0     211  2126-07-01 06:00:00   \n",
       "1               10824   143406    229258.0     211  2126-07-01 07:00:00   \n",
       "2               10824   143406    229258.0     211  2126-07-03 16:00:00   \n",
       "3               10824   143406    229258.0     211  2126-06-18 16:00:00   \n",
       "4               10824   143406    229258.0     211  2126-06-18 17:00:00   \n",
       "...               ...      ...         ...     ...                  ...   \n",
       "1542777         10740   148725    252414.0     211  2169-12-19 20:30:00   \n",
       "1542778         10740   148725    252414.0     211  2169-12-22 14:00:00   \n",
       "1542779         10740   148725    252414.0     211  2169-12-22 15:00:00   \n",
       "1542780         10740   148725    252414.0     211  2169-12-22 16:00:00   \n",
       "1542781         10740   148725    252414.0     211  2169-12-22 17:00:00   \n",
       "\n",
       "            CGID  VALUENUM       LABEL  subject_id_y            ADMITTIME  \\\n",
       "0        15762.0     145.0  Heart Rate         10824  2126-06-12 22:08:00   \n",
       "1        18307.0     136.0  Heart Rate         10824  2126-06-12 22:08:00   \n",
       "2        19812.0     147.0  Heart Rate         10824  2126-06-12 22:08:00   \n",
       "3        16015.0     153.0  Heart Rate         10824  2126-06-12 22:08:00   \n",
       "4        16015.0     151.0  Heart Rate         10824  2126-06-12 22:08:00   \n",
       "...          ...       ...         ...           ...                  ...   \n",
       "1542777  20484.0     154.0  Heart Rate         10740  2169-12-13 17:11:00   \n",
       "1542778  14712.0     144.0  Heart Rate         10740  2169-12-13 17:11:00   \n",
       "1542779  14712.0     136.0  Heart Rate         10740  2169-12-13 17:11:00   \n",
       "1542780  14712.0     145.0  Heart Rate         10740  2169-12-13 17:11:00   \n",
       "1542781  14712.0     138.0  Heart Rate         10740  2169-12-13 17:11:00   \n",
       "\n",
       "                   DISCHTIME  Dead  \n",
       "0        2126-07-15 13:40:00     0  \n",
       "1        2126-07-15 13:40:00     0  \n",
       "2        2126-07-15 13:40:00     0  \n",
       "3        2126-07-15 13:40:00     0  \n",
       "4        2126-07-15 13:40:00     0  \n",
       "...                      ...   ...  \n",
       "1542777  2169-12-25 16:14:00     0  \n",
       "1542778  2169-12-25 16:14:00     0  \n",
       "1542779  2169-12-25 16:14:00     0  \n",
       "1542780  2169-12-25 16:14:00     0  \n",
       "1542781  2169-12-25 16:14:00     0  \n",
       "\n",
       "[1542782 rows x 12 columns]"
      ]
     },
     "execution_count": 25,
     "metadata": {},
     "output_type": "execute_result"
    }
   ],
   "source": [
    "heartRateDF"
   ]
  },
  {
   "cell_type": "code",
   "execution_count": 26,
   "metadata": {},
   "outputs": [
    {
     "data": {
      "text/plain": [
       "Index(['subject_id_x', 'HADM_ID', 'ICUSTAY_ID', 'ITEMID', 'CHARTTIME', 'CGID',\n",
       "       'VALUENUM', 'LABEL', 'subject_id_y', 'ADMITTIME', 'DISCHTIME', 'Dead'],\n",
       "      dtype='object')"
      ]
     },
     "execution_count": 26,
     "metadata": {},
     "output_type": "execute_result"
    }
   ],
   "source": [
    "heartRateDF.columns"
   ]
  },
  {
   "cell_type": "code",
   "execution_count": 27,
   "metadata": {},
   "outputs": [],
   "source": [
    "heartRateDF.drop(['LABEL', 'ICUSTAY_ID', 'ITEMID', 'CGID'], axis=1, inplace=True)"
   ]
  },
  {
   "cell_type": "code",
   "execution_count": 28,
   "metadata": {},
   "outputs": [
    {
     "data": {
      "text/html": [
       "<div>\n",
       "<style scoped>\n",
       "    .dataframe tbody tr th:only-of-type {\n",
       "        vertical-align: middle;\n",
       "    }\n",
       "\n",
       "    .dataframe tbody tr th {\n",
       "        vertical-align: top;\n",
       "    }\n",
       "\n",
       "    .dataframe thead th {\n",
       "        text-align: right;\n",
       "    }\n",
       "</style>\n",
       "<table border=\"1\" class=\"dataframe\">\n",
       "  <thead>\n",
       "    <tr style=\"text-align: right;\">\n",
       "      <th></th>\n",
       "      <th>subject_id_x</th>\n",
       "      <th>HADM_ID</th>\n",
       "      <th>CHARTTIME</th>\n",
       "      <th>VALUENUM</th>\n",
       "      <th>subject_id_y</th>\n",
       "      <th>ADMITTIME</th>\n",
       "      <th>DISCHTIME</th>\n",
       "      <th>Dead</th>\n",
       "    </tr>\n",
       "  </thead>\n",
       "  <tbody>\n",
       "    <tr>\n",
       "      <th>0</th>\n",
       "      <td>10824</td>\n",
       "      <td>143406</td>\n",
       "      <td>2126-07-01 06:00:00</td>\n",
       "      <td>145.0</td>\n",
       "      <td>10824</td>\n",
       "      <td>2126-06-12 22:08:00</td>\n",
       "      <td>2126-07-15 13:40:00</td>\n",
       "      <td>0</td>\n",
       "    </tr>\n",
       "    <tr>\n",
       "      <th>1</th>\n",
       "      <td>10824</td>\n",
       "      <td>143406</td>\n",
       "      <td>2126-07-01 07:00:00</td>\n",
       "      <td>136.0</td>\n",
       "      <td>10824</td>\n",
       "      <td>2126-06-12 22:08:00</td>\n",
       "      <td>2126-07-15 13:40:00</td>\n",
       "      <td>0</td>\n",
       "    </tr>\n",
       "    <tr>\n",
       "      <th>2</th>\n",
       "      <td>10824</td>\n",
       "      <td>143406</td>\n",
       "      <td>2126-07-03 16:00:00</td>\n",
       "      <td>147.0</td>\n",
       "      <td>10824</td>\n",
       "      <td>2126-06-12 22:08:00</td>\n",
       "      <td>2126-07-15 13:40:00</td>\n",
       "      <td>0</td>\n",
       "    </tr>\n",
       "    <tr>\n",
       "      <th>3</th>\n",
       "      <td>10824</td>\n",
       "      <td>143406</td>\n",
       "      <td>2126-06-18 16:00:00</td>\n",
       "      <td>153.0</td>\n",
       "      <td>10824</td>\n",
       "      <td>2126-06-12 22:08:00</td>\n",
       "      <td>2126-07-15 13:40:00</td>\n",
       "      <td>0</td>\n",
       "    </tr>\n",
       "    <tr>\n",
       "      <th>4</th>\n",
       "      <td>10824</td>\n",
       "      <td>143406</td>\n",
       "      <td>2126-06-18 17:00:00</td>\n",
       "      <td>151.0</td>\n",
       "      <td>10824</td>\n",
       "      <td>2126-06-12 22:08:00</td>\n",
       "      <td>2126-07-15 13:40:00</td>\n",
       "      <td>0</td>\n",
       "    </tr>\n",
       "  </tbody>\n",
       "</table>\n",
       "</div>"
      ],
      "text/plain": [
       "   subject_id_x  HADM_ID            CHARTTIME  VALUENUM  subject_id_y  \\\n",
       "0         10824   143406  2126-07-01 06:00:00     145.0         10824   \n",
       "1         10824   143406  2126-07-01 07:00:00     136.0         10824   \n",
       "2         10824   143406  2126-07-03 16:00:00     147.0         10824   \n",
       "3         10824   143406  2126-06-18 16:00:00     153.0         10824   \n",
       "4         10824   143406  2126-06-18 17:00:00     151.0         10824   \n",
       "\n",
       "             ADMITTIME            DISCHTIME  Dead  \n",
       "0  2126-06-12 22:08:00  2126-07-15 13:40:00     0  \n",
       "1  2126-06-12 22:08:00  2126-07-15 13:40:00     0  \n",
       "2  2126-06-12 22:08:00  2126-07-15 13:40:00     0  \n",
       "3  2126-06-12 22:08:00  2126-07-15 13:40:00     0  \n",
       "4  2126-06-12 22:08:00  2126-07-15 13:40:00     0  "
      ]
     },
     "execution_count": 28,
     "metadata": {},
     "output_type": "execute_result"
    }
   ],
   "source": [
    "heartRateDF.head()"
   ]
  },
  {
   "cell_type": "code",
   "execution_count": 29,
   "metadata": {},
   "outputs": [
    {
     "data": {
      "text/plain": [
       "3299"
      ]
     },
     "execution_count": 29,
     "metadata": {},
     "output_type": "execute_result"
    }
   ],
   "source": [
    "heartRateDF[\"HADM_ID\"].nunique()"
   ]
  },
  {
   "cell_type": "code",
   "execution_count": 31,
   "metadata": {},
   "outputs": [],
   "source": [
    "heartRateDF.to_csv(\"Data_3173/heart_rate.csv\", index=False)"
   ]
  },
  {
   "cell_type": "markdown",
   "metadata": {},
   "source": [
    "## 3.2 Respiratory Rate "
   ]
  },
  {
   "cell_type": "code",
   "execution_count": 32,
   "metadata": {},
   "outputs": [
    {
     "data": {
      "text/plain": [
       "3299"
      ]
     },
     "execution_count": 32,
     "metadata": {},
     "output_type": "execute_result"
    }
   ],
   "source": [
    "respDF = pd.merge(respDF, master_neonates, on='HADM_ID', how='inner') \n",
    "\n",
    "# Removing extra columns \n",
    "respDF.drop(['LABEL', 'ICUSTAY_ID', 'ITEMID', 'CGID'], axis=1, inplace=True)\n",
    "\n",
    "# Save into file \n",
    "respDF.to_csv(\"Data_3173/resp_rate.csv\", index=False)\n",
    "\n",
    "respDF[\"HADM_ID\"].nunique()"
   ]
  },
  {
   "cell_type": "code",
   "execution_count": 33,
   "metadata": {},
   "outputs": [
    {
     "data": {
      "text/html": [
       "<div>\n",
       "<style scoped>\n",
       "    .dataframe tbody tr th:only-of-type {\n",
       "        vertical-align: middle;\n",
       "    }\n",
       "\n",
       "    .dataframe tbody tr th {\n",
       "        vertical-align: top;\n",
       "    }\n",
       "\n",
       "    .dataframe thead th {\n",
       "        text-align: right;\n",
       "    }\n",
       "</style>\n",
       "<table border=\"1\" class=\"dataframe\">\n",
       "  <thead>\n",
       "    <tr style=\"text-align: right;\">\n",
       "      <th></th>\n",
       "      <th>subject_id_x</th>\n",
       "      <th>HADM_ID</th>\n",
       "      <th>CHARTTIME</th>\n",
       "      <th>VALUENUM</th>\n",
       "      <th>subject_id_y</th>\n",
       "      <th>ADMITTIME</th>\n",
       "      <th>DISCHTIME</th>\n",
       "      <th>Dead</th>\n",
       "    </tr>\n",
       "  </thead>\n",
       "  <tbody>\n",
       "    <tr>\n",
       "      <th>0</th>\n",
       "      <td>1291</td>\n",
       "      <td>141087</td>\n",
       "      <td>2100-07-04 09:30:00</td>\n",
       "      <td>60.0</td>\n",
       "      <td>1291</td>\n",
       "      <td>2100-07-04 10:18:00</td>\n",
       "      <td>2100-07-23 15:30:00</td>\n",
       "      <td>0</td>\n",
       "    </tr>\n",
       "    <tr>\n",
       "      <th>1</th>\n",
       "      <td>1291</td>\n",
       "      <td>141087</td>\n",
       "      <td>2100-07-04 10:00:00</td>\n",
       "      <td>49.0</td>\n",
       "      <td>1291</td>\n",
       "      <td>2100-07-04 10:18:00</td>\n",
       "      <td>2100-07-23 15:30:00</td>\n",
       "      <td>0</td>\n",
       "    </tr>\n",
       "    <tr>\n",
       "      <th>2</th>\n",
       "      <td>1291</td>\n",
       "      <td>141087</td>\n",
       "      <td>2100-07-04 11:00:00</td>\n",
       "      <td>39.0</td>\n",
       "      <td>1291</td>\n",
       "      <td>2100-07-04 10:18:00</td>\n",
       "      <td>2100-07-23 15:30:00</td>\n",
       "      <td>0</td>\n",
       "    </tr>\n",
       "    <tr>\n",
       "      <th>3</th>\n",
       "      <td>1291</td>\n",
       "      <td>141087</td>\n",
       "      <td>2100-07-04 12:00:00</td>\n",
       "      <td>36.0</td>\n",
       "      <td>1291</td>\n",
       "      <td>2100-07-04 10:18:00</td>\n",
       "      <td>2100-07-23 15:30:00</td>\n",
       "      <td>0</td>\n",
       "    </tr>\n",
       "    <tr>\n",
       "      <th>4</th>\n",
       "      <td>1291</td>\n",
       "      <td>141087</td>\n",
       "      <td>2100-07-04 13:00:00</td>\n",
       "      <td>44.0</td>\n",
       "      <td>1291</td>\n",
       "      <td>2100-07-04 10:18:00</td>\n",
       "      <td>2100-07-23 15:30:00</td>\n",
       "      <td>0</td>\n",
       "    </tr>\n",
       "  </tbody>\n",
       "</table>\n",
       "</div>"
      ],
      "text/plain": [
       "   subject_id_x  HADM_ID            CHARTTIME  VALUENUM  subject_id_y  \\\n",
       "0          1291   141087  2100-07-04 09:30:00      60.0          1291   \n",
       "1          1291   141087  2100-07-04 10:00:00      49.0          1291   \n",
       "2          1291   141087  2100-07-04 11:00:00      39.0          1291   \n",
       "3          1291   141087  2100-07-04 12:00:00      36.0          1291   \n",
       "4          1291   141087  2100-07-04 13:00:00      44.0          1291   \n",
       "\n",
       "             ADMITTIME            DISCHTIME  Dead  \n",
       "0  2100-07-04 10:18:00  2100-07-23 15:30:00     0  \n",
       "1  2100-07-04 10:18:00  2100-07-23 15:30:00     0  \n",
       "2  2100-07-04 10:18:00  2100-07-23 15:30:00     0  \n",
       "3  2100-07-04 10:18:00  2100-07-23 15:30:00     0  \n",
       "4  2100-07-04 10:18:00  2100-07-23 15:30:00     0  "
      ]
     },
     "execution_count": 33,
     "metadata": {},
     "output_type": "execute_result"
    }
   ],
   "source": [
    "respDF.head()"
   ]
  },
  {
   "cell_type": "markdown",
   "metadata": {},
   "source": [
    "## 3.3 SaO2 "
   ]
  },
  {
   "cell_type": "code",
   "execution_count": 34,
   "metadata": {},
   "outputs": [
    {
     "data": {
      "text/plain": [
       "3299"
      ]
     },
     "execution_count": 34,
     "metadata": {},
     "output_type": "execute_result"
    }
   ],
   "source": [
    "sao2DF = pd.merge(sao2DF, master_neonates, on='HADM_ID', how='inner') \n",
    "\n",
    "# Removing extra columns \n",
    "sao2DF.drop(['LABEL', 'ICUSTAY_ID', 'ITEMID', 'CGID'], axis=1, inplace=True)\n",
    "\n",
    "# Save into file \n",
    "sao2DF.to_csv(\"Data_3173/sao2.csv\", index=False)\n",
    "\n",
    "sao2DF[\"HADM_ID\"].nunique()"
   ]
  },
  {
   "cell_type": "code",
   "execution_count": 35,
   "metadata": {},
   "outputs": [
    {
     "data": {
      "text/html": [
       "<div>\n",
       "<style scoped>\n",
       "    .dataframe tbody tr th:only-of-type {\n",
       "        vertical-align: middle;\n",
       "    }\n",
       "\n",
       "    .dataframe tbody tr th {\n",
       "        vertical-align: top;\n",
       "    }\n",
       "\n",
       "    .dataframe thead th {\n",
       "        text-align: right;\n",
       "    }\n",
       "</style>\n",
       "<table border=\"1\" class=\"dataframe\">\n",
       "  <thead>\n",
       "    <tr style=\"text-align: right;\">\n",
       "      <th></th>\n",
       "      <th>subject_id_x</th>\n",
       "      <th>HADM_ID</th>\n",
       "      <th>CHARTTIME</th>\n",
       "      <th>VALUENUM</th>\n",
       "      <th>subject_id_y</th>\n",
       "      <th>ADMITTIME</th>\n",
       "      <th>DISCHTIME</th>\n",
       "      <th>Dead</th>\n",
       "    </tr>\n",
       "  </thead>\n",
       "  <tbody>\n",
       "    <tr>\n",
       "      <th>0</th>\n",
       "      <td>10824</td>\n",
       "      <td>143406</td>\n",
       "      <td>2126-07-01 06:00:00</td>\n",
       "      <td>95.0</td>\n",
       "      <td>10824</td>\n",
       "      <td>2126-06-12 22:08:00</td>\n",
       "      <td>2126-07-15 13:40:00</td>\n",
       "      <td>0</td>\n",
       "    </tr>\n",
       "    <tr>\n",
       "      <th>1</th>\n",
       "      <td>10824</td>\n",
       "      <td>143406</td>\n",
       "      <td>2126-07-01 07:00:00</td>\n",
       "      <td>97.0</td>\n",
       "      <td>10824</td>\n",
       "      <td>2126-06-12 22:08:00</td>\n",
       "      <td>2126-07-15 13:40:00</td>\n",
       "      <td>0</td>\n",
       "    </tr>\n",
       "    <tr>\n",
       "      <th>2</th>\n",
       "      <td>10824</td>\n",
       "      <td>143406</td>\n",
       "      <td>2126-07-03 16:00:00</td>\n",
       "      <td>96.0</td>\n",
       "      <td>10824</td>\n",
       "      <td>2126-06-12 22:08:00</td>\n",
       "      <td>2126-07-15 13:40:00</td>\n",
       "      <td>0</td>\n",
       "    </tr>\n",
       "    <tr>\n",
       "      <th>3</th>\n",
       "      <td>10824</td>\n",
       "      <td>143406</td>\n",
       "      <td>2126-06-18 16:00:00</td>\n",
       "      <td>97.0</td>\n",
       "      <td>10824</td>\n",
       "      <td>2126-06-12 22:08:00</td>\n",
       "      <td>2126-07-15 13:40:00</td>\n",
       "      <td>0</td>\n",
       "    </tr>\n",
       "    <tr>\n",
       "      <th>4</th>\n",
       "      <td>10824</td>\n",
       "      <td>143406</td>\n",
       "      <td>2126-06-18 17:00:00</td>\n",
       "      <td>96.0</td>\n",
       "      <td>10824</td>\n",
       "      <td>2126-06-12 22:08:00</td>\n",
       "      <td>2126-07-15 13:40:00</td>\n",
       "      <td>0</td>\n",
       "    </tr>\n",
       "  </tbody>\n",
       "</table>\n",
       "</div>"
      ],
      "text/plain": [
       "   subject_id_x  HADM_ID            CHARTTIME  VALUENUM  subject_id_y  \\\n",
       "0         10824   143406  2126-07-01 06:00:00      95.0         10824   \n",
       "1         10824   143406  2126-07-01 07:00:00      97.0         10824   \n",
       "2         10824   143406  2126-07-03 16:00:00      96.0         10824   \n",
       "3         10824   143406  2126-06-18 16:00:00      97.0         10824   \n",
       "4         10824   143406  2126-06-18 17:00:00      96.0         10824   \n",
       "\n",
       "             ADMITTIME            DISCHTIME  Dead  \n",
       "0  2126-06-12 22:08:00  2126-07-15 13:40:00     0  \n",
       "1  2126-06-12 22:08:00  2126-07-15 13:40:00     0  \n",
       "2  2126-06-12 22:08:00  2126-07-15 13:40:00     0  \n",
       "3  2126-06-12 22:08:00  2126-07-15 13:40:00     0  \n",
       "4  2126-06-12 22:08:00  2126-07-15 13:40:00     0  "
      ]
     },
     "execution_count": 35,
     "metadata": {},
     "output_type": "execute_result"
    }
   ],
   "source": [
    "sao2DF.head()"
   ]
  },
  {
   "cell_type": "markdown",
   "metadata": {},
   "source": [
    "## 3.4 HR Alarm High  "
   ]
  },
  {
   "cell_type": "code",
   "execution_count": 36,
   "metadata": {},
   "outputs": [
    {
     "data": {
      "text/plain": [
       "3299"
      ]
     },
     "execution_count": 36,
     "metadata": {},
     "output_type": "execute_result"
    }
   ],
   "source": [
    "hr_alarm_highDF = pd.merge(hr_alarm_highDF, master_neonates, on='HADM_ID', how='inner') \n",
    "\n",
    "# Removing extra columns \n",
    "hr_alarm_highDF.drop(['LABEL', 'ICUSTAY_ID', 'ITEMID', 'CGID'], axis=1, inplace=True)\n",
    "\n",
    "# Save into file \n",
    "hr_alarm_highDF.to_csv(\"Data_3173/hr_alarm_high.csv\", index=False)\n",
    "\n",
    "hr_alarm_highDF[\"HADM_ID\"].nunique()"
   ]
  },
  {
   "cell_type": "markdown",
   "metadata": {},
   "source": [
    "## 3.5 HR Alarm Low "
   ]
  },
  {
   "cell_type": "code",
   "execution_count": 37,
   "metadata": {},
   "outputs": [
    {
     "data": {
      "text/plain": [
       "3299"
      ]
     },
     "execution_count": 37,
     "metadata": {},
     "output_type": "execute_result"
    }
   ],
   "source": [
    "hr_alarm_lowDF = pd.merge(hr_alarm_lowDF, master_neonates, on='HADM_ID', how='inner') \n",
    "\n",
    "# Removing extra columns \n",
    "hr_alarm_lowDF.drop(['LABEL', 'ICUSTAY_ID', 'ITEMID', 'CGID'], axis=1, inplace=True)\n",
    "\n",
    "# Save into file \n",
    "hr_alarm_lowDF.to_csv(\"Data_3173/hr_alarm_low.csv\", index=False)\n",
    "\n",
    "hr_alarm_lowDF[\"HADM_ID\"].nunique()"
   ]
  },
  {
   "cell_type": "markdown",
   "metadata": {},
   "source": [
    "## 3.6 SaO2 Alarm High "
   ]
  },
  {
   "cell_type": "code",
   "execution_count": 38,
   "metadata": {},
   "outputs": [
    {
     "data": {
      "text/plain": [
       "3299"
      ]
     },
     "execution_count": 38,
     "metadata": {},
     "output_type": "execute_result"
    }
   ],
   "source": [
    "sao2_alarm_highDF = pd.merge(sao2_alarm_highDF, master_neonates, on='HADM_ID', how='inner') \n",
    "\n",
    "# Removing extra columns \n",
    "sao2_alarm_highDF.drop(['LABEL', 'ICUSTAY_ID', 'ITEMID', 'CGID'], axis=1, inplace=True)\n",
    "\n",
    "# Save into file \n",
    "sao2_alarm_highDF.to_csv(\"Data_3173/sao2_alarm_high.csv\", index=False)\n",
    "\n",
    "sao2_alarm_highDF[\"HADM_ID\"].nunique()"
   ]
  },
  {
   "cell_type": "markdown",
   "metadata": {},
   "source": [
    "## 3.7 SaO2 Alarm Low "
   ]
  },
  {
   "cell_type": "code",
   "execution_count": 39,
   "metadata": {},
   "outputs": [
    {
     "data": {
      "text/plain": [
       "3299"
      ]
     },
     "execution_count": 39,
     "metadata": {},
     "output_type": "execute_result"
    }
   ],
   "source": [
    "sao2_alarm_lowDF = pd.merge(sao2_alarm_lowDF, master_neonates, on='HADM_ID', how='inner') \n",
    "\n",
    "# Removing extra columns \n",
    "sao2_alarm_lowDF.drop(['LABEL', 'ICUSTAY_ID', 'ITEMID', 'CGID'], axis=1, inplace=True)\n",
    "\n",
    "# Save into file \n",
    "sao2_alarm_lowDF.to_csv(\"Data_3173/sao2_alarm_low.csv\", index=False)\n",
    "\n",
    "sao2_alarm_lowDF[\"HADM_ID\"].nunique()"
   ]
  },
  {
   "cell_type": "markdown",
   "metadata": {},
   "source": [
    "## 3.8 Temperature"
   ]
  },
  {
   "cell_type": "code",
   "execution_count": 40,
   "metadata": {},
   "outputs": [
    {
     "data": {
      "text/plain": [
       "3299"
      ]
     },
     "execution_count": 40,
     "metadata": {},
     "output_type": "execute_result"
    }
   ],
   "source": [
    "temperature = pd.merge(temperature, master_neonates, on='HADM_ID', how='inner') \n",
    "\n",
    "# Removing extra columns \n",
    "temperature.drop(['LABEL', 'ICUSTAY_ID', 'ITEMID', 'CGID'], axis=1, inplace=True)\n",
    "\n",
    "# Save into file \n",
    "temperature.to_csv(\"Data_3173/temperature.csv\", index=False)\n",
    "\n",
    "temperature[\"HADM_ID\"].nunique()"
   ]
  },
  {
   "cell_type": "markdown",
   "metadata": {},
   "source": [
    "## 3.9 Skin Temperature "
   ]
  },
  {
   "cell_type": "code",
   "execution_count": 41,
   "metadata": {},
   "outputs": [
    {
     "data": {
      "text/plain": [
       "3299"
      ]
     },
     "execution_count": 41,
     "metadata": {},
     "output_type": "execute_result"
    }
   ],
   "source": [
    "skin_temperature = pd.merge(skin_temperature, master_neonates, on='HADM_ID', how='inner') \n",
    "\n",
    "# Removing extra columns \n",
    "skin_temperature.drop(['LABEL', 'ICUSTAY_ID', 'ITEMID', 'CGID'], axis=1, inplace=True)\n",
    "\n",
    "# Save into file \n",
    "skin_temperature.to_csv(\"Data_3173/skin_temperature.csv\", index=False)\n",
    "\n",
    "skin_temperature[\"HADM_ID\"].nunique() "
   ]
  },
  {
   "cell_type": "markdown",
   "metadata": {},
   "source": [
    "## 3.10 BP Cuff Diastolic"
   ]
  },
  {
   "cell_type": "code",
   "execution_count": 42,
   "metadata": {},
   "outputs": [
    {
     "data": {
      "text/plain": [
       "3299"
      ]
     },
     "execution_count": 42,
     "metadata": {},
     "output_type": "execute_result"
    }
   ],
   "source": [
    "bp_cuff_diastolic = pd.merge(bp_cuff_diastolic, master_neonates, on='HADM_ID', how='inner') \n",
    "\n",
    "# Removing extra columns \n",
    "bp_cuff_diastolic.drop(['LABEL', 'ICUSTAY_ID', 'ITEMID', 'CGID'], axis=1, inplace=True)\n",
    "\n",
    "# Save into file \n",
    "bp_cuff_diastolic.to_csv(\"Data_3173/bp_cuff_diastolic.csv\", index=False)\n",
    "\n",
    "bp_cuff_diastolic[\"HADM_ID\"].nunique() "
   ]
  },
  {
   "cell_type": "markdown",
   "metadata": {},
   "source": [
    "## 3.11 BP Cuff Systolic "
   ]
  },
  {
   "cell_type": "code",
   "execution_count": 43,
   "metadata": {},
   "outputs": [
    {
     "data": {
      "text/plain": [
       "3299"
      ]
     },
     "execution_count": 43,
     "metadata": {},
     "output_type": "execute_result"
    }
   ],
   "source": [
    "bp_cuff_systolic = pd.merge(bp_cuff_systolic, master_neonates, on='HADM_ID', how='inner') \n",
    "\n",
    "# Removing extra columns \n",
    "bp_cuff_systolic.drop(['LABEL', 'ICUSTAY_ID', 'ITEMID', 'CGID'], axis=1, inplace=True)\n",
    "\n",
    "# Save into file \n",
    "bp_cuff_systolic.to_csv(\"Data_3173/bp_cuff_systolic.csv\", index=False)\n",
    "\n",
    "bp_cuff_systolic[\"HADM_ID\"].nunique() "
   ]
  },
  {
   "cell_type": "markdown",
   "metadata": {},
   "source": [
    "## 3.12 BP Cuff Mean "
   ]
  },
  {
   "cell_type": "code",
   "execution_count": 44,
   "metadata": {},
   "outputs": [
    {
     "data": {
      "text/plain": [
       "3299"
      ]
     },
     "execution_count": 44,
     "metadata": {},
     "output_type": "execute_result"
    }
   ],
   "source": [
    "bp_cuff_mean = pd.merge(bp_cuff_mean, master_neonates, on='HADM_ID', how='inner') \n",
    "\n",
    "# Removing extra columns \n",
    "bp_cuff_mean.drop(['LABEL', 'ICUSTAY_ID', 'ITEMID', 'CGID'], axis=1, inplace=True)\n",
    "\n",
    "# Save into file \n",
    "bp_cuff_mean.to_csv(\"Data_3173/bp_cuff_mean.csv\", index=False)\n",
    "\n",
    "bp_cuff_mean[\"HADM_ID\"].nunique() "
   ]
  },
  {
   "cell_type": "markdown",
   "metadata": {},
   "source": [
    "## 3.13 Glucometer"
   ]
  },
  {
   "cell_type": "code",
   "execution_count": 45,
   "metadata": {},
   "outputs": [
    {
     "data": {
      "text/plain": [
       "3299"
      ]
     },
     "execution_count": 45,
     "metadata": {},
     "output_type": "execute_result"
    }
   ],
   "source": [
    "glucometer = pd.merge(glucometer, master_neonates, on='HADM_ID', how='inner') \n",
    "\n",
    "# Removing extra columns \n",
    "glucometer.drop(['LABEL', 'ICUSTAY_ID', 'ITEMID', 'CGID'], axis=1, inplace=True)\n",
    "\n",
    "# Save into file \n",
    "glucometer.to_csv(\"Data_3173/glucometer.csv\", index=False)\n",
    "\n",
    "glucometer[\"HADM_ID\"].nunique() "
   ]
  },
  {
   "cell_type": "markdown",
   "metadata": {},
   "source": [
    "# Single Value Data "
   ]
  },
  {
   "cell_type": "code",
   "execution_count": 46,
   "metadata": {},
   "outputs": [],
   "source": [
    "eosinophils = pd.read_csv(\"ChartEvents_Features/neonates_eosinophils.csv\")\n",
    "platelet = pd.read_csv(\"ChartEvents_Features/neonates_platelet.csv\")\n",
    "bands =  pd.read_csv(\"ChartEvents_Features/neonates_bands.csv\")\n",
    "lymphs = pd.read_csv(\"ChartEvents_Features/neonates_lymphs.csv\")\n",
    "monos = pd.read_csv(\"ChartEvents_Features/neonates_monos.csv\") \n",
    "neuts = pd.read_csv(\"ChartEvents_Features/neonates_neuts.csv\") "
   ]
  },
  {
   "cell_type": "markdown",
   "metadata": {},
   "source": [
    "## 4.1 BANDs "
   ]
  },
  {
   "cell_type": "code",
   "execution_count": 47,
   "metadata": {},
   "outputs": [
    {
     "data": {
      "text/plain": [
       "3299"
      ]
     },
     "execution_count": 47,
     "metadata": {},
     "output_type": "execute_result"
    }
   ],
   "source": [
    "bands = pd.merge(bands, master_neonates, on='HADM_ID', how='inner') \n",
    "\n",
    "# Removing extra columns \n",
    "bands.drop(['LABEL', 'ICUSTAY_ID', 'ITEMID', 'CGID'], axis=1, inplace=True)\n",
    "\n",
    "# Save into file \n",
    "bands.to_csv(\"Data_3173_SV/bands.csv\", index=False)\n",
    "\n",
    "bands[\"HADM_ID\"].nunique() "
   ]
  },
  {
   "cell_type": "markdown",
   "metadata": {},
   "source": [
    "## 4.2 Eosinophils"
   ]
  },
  {
   "cell_type": "code",
   "execution_count": 48,
   "metadata": {},
   "outputs": [
    {
     "data": {
      "text/plain": [
       "3299"
      ]
     },
     "execution_count": 48,
     "metadata": {},
     "output_type": "execute_result"
    }
   ],
   "source": [
    "eosinophils = pd.merge(eosinophils, master_neonates, on='HADM_ID', how='inner') \n",
    "\n",
    "# Removing extra columns \n",
    "eosinophils.drop(['LABEL', 'ICUSTAY_ID', 'ITEMID', 'CGID'], axis=1, inplace=True)\n",
    "\n",
    "# Save into file \n",
    "eosinophils.to_csv(\"Data_3173_SV/eosinophils.csv\", index=False)\n",
    "\n",
    "eosinophils[\"HADM_ID\"].nunique() "
   ]
  },
  {
   "cell_type": "markdown",
   "metadata": {},
   "source": [
    "## 4.3 Lymphs"
   ]
  },
  {
   "cell_type": "code",
   "execution_count": 49,
   "metadata": {},
   "outputs": [
    {
     "data": {
      "text/plain": [
       "3299"
      ]
     },
     "execution_count": 49,
     "metadata": {},
     "output_type": "execute_result"
    }
   ],
   "source": [
    "lymphs = pd.merge(lymphs, master_neonates, on='HADM_ID', how='inner') \n",
    "\n",
    "# Removing extra columns \n",
    "lymphs.drop(['LABEL', 'ICUSTAY_ID', 'ITEMID', 'CGID'], axis=1, inplace=True)\n",
    "\n",
    "# Save into file \n",
    "lymphs.to_csv(\"Data_3173_SV/lymphs.csv\", index=False)\n",
    "\n",
    "lymphs[\"HADM_ID\"].nunique() "
   ]
  },
  {
   "cell_type": "markdown",
   "metadata": {},
   "source": [
    "## 4.4  MONOs "
   ]
  },
  {
   "cell_type": "code",
   "execution_count": 50,
   "metadata": {},
   "outputs": [
    {
     "data": {
      "text/plain": [
       "3299"
      ]
     },
     "execution_count": 50,
     "metadata": {},
     "output_type": "execute_result"
    }
   ],
   "source": [
    "monos = pd.merge(monos, master_neonates, on='HADM_ID', how='inner') \n",
    "\n",
    "# Removing extra columns \n",
    "monos.drop(['LABEL', 'ICUSTAY_ID', 'ITEMID', 'CGID'], axis=1, inplace=True)\n",
    "\n",
    "# Save into file \n",
    "monos.to_csv(\"Data_3173_SV/monos.csv\", index=False)\n",
    "\n",
    "monos[\"HADM_ID\"].nunique() "
   ]
  },
  {
   "cell_type": "markdown",
   "metadata": {},
   "source": [
    "## 4.5 NEUTs "
   ]
  },
  {
   "cell_type": "code",
   "execution_count": 51,
   "metadata": {},
   "outputs": [
    {
     "data": {
      "text/plain": [
       "3299"
      ]
     },
     "execution_count": 51,
     "metadata": {},
     "output_type": "execute_result"
    }
   ],
   "source": [
    "neuts = pd.merge(neuts, master_neonates, on='HADM_ID', how='inner') \n",
    "\n",
    "# Removing extra columns \n",
    "neuts.drop(['LABEL', 'ICUSTAY_ID', 'ITEMID', 'CGID'], axis=1, inplace=True)\n",
    "\n",
    "# Save into file \n",
    "neuts.to_csv(\"Data_3173_SV/neuts.csv\", index=False)\n",
    "\n",
    "neuts[\"HADM_ID\"].nunique() "
   ]
  },
  {
   "cell_type": "markdown",
   "metadata": {},
   "source": [
    "## 4.6 Platelet"
   ]
  },
  {
   "cell_type": "code",
   "execution_count": 52,
   "metadata": {},
   "outputs": [
    {
     "data": {
      "text/plain": [
       "3299"
      ]
     },
     "execution_count": 52,
     "metadata": {},
     "output_type": "execute_result"
    }
   ],
   "source": [
    "platelet = pd.merge(platelet, master_neonates, on='HADM_ID', how='inner') \n",
    "\n",
    "# Removing extra columns \n",
    "platelet.drop(['LABEL', 'ICUSTAY_ID', 'ITEMID', 'CGID'], axis=1, inplace=True)\n",
    "\n",
    "# Save into file \n",
    "platelet.to_csv(\"Data_3173_SV/platelet.csv\", index=False)\n",
    "\n",
    "platelet[\"HADM_ID\"].nunique() "
   ]
  },
  {
   "cell_type": "markdown",
   "metadata": {},
   "source": [
    "## Other Single Value Features "
   ]
  },
  {
   "cell_type": "code",
   "execution_count": 53,
   "metadata": {},
   "outputs": [],
   "source": [
    "birth_weight = pd.read_csv(\"ChartEvents_Features/neonates_birth_weight.csv\")  \n",
    "head_circ = pd.read_csv(\"ChartEvents_Features/neonates_head_circ.csv\")  "
   ]
  },
  {
   "cell_type": "markdown",
   "metadata": {},
   "source": [
    "## 5.1 Birth Weight"
   ]
  },
  {
   "cell_type": "code",
   "execution_count": 54,
   "metadata": {},
   "outputs": [
    {
     "data": {
      "text/plain": [
       "3299"
      ]
     },
     "execution_count": 54,
     "metadata": {},
     "output_type": "execute_result"
    }
   ],
   "source": [
    "birth_weight = pd.merge(birth_weight, master_neonates, on='HADM_ID', how='inner') \n",
    "\n",
    "# Removing extra columns \n",
    "birth_weight.drop(['LABEL', 'ICUSTAY_ID', 'ITEMID', 'CGID'], axis=1, inplace=True)\n",
    "\n",
    "# Save into file \n",
    "birth_weight.to_csv(\"Data_3173_SV/birth_weight.csv\", index=False)\n",
    "\n",
    "birth_weight[\"HADM_ID\"].nunique() "
   ]
  },
  {
   "cell_type": "markdown",
   "metadata": {},
   "source": [
    "## 5.2 Head Circ "
   ]
  },
  {
   "cell_type": "code",
   "execution_count": 55,
   "metadata": {},
   "outputs": [
    {
     "data": {
      "text/plain": [
       "3299"
      ]
     },
     "execution_count": 55,
     "metadata": {},
     "output_type": "execute_result"
    }
   ],
   "source": [
    "head_circ = pd.merge(head_circ, master_neonates, on='HADM_ID', how='inner') \n",
    "\n",
    "# Removing extra columns \n",
    "head_circ.drop(['LABEL', 'ICUSTAY_ID', 'ITEMID', 'CGID'], axis=1, inplace=True)\n",
    "\n",
    "# Save into file \n",
    "head_circ.to_csv(\"Data_3173_SV/head_circ.csv\", index=False)\n",
    "\n",
    "head_circ[\"HADM_ID\"].nunique()"
   ]
  },
  {
   "cell_type": "code",
   "execution_count": 56,
   "metadata": {},
   "outputs": [
    {
     "data": {
      "text/html": [
       "<div>\n",
       "<style scoped>\n",
       "    .dataframe tbody tr th:only-of-type {\n",
       "        vertical-align: middle;\n",
       "    }\n",
       "\n",
       "    .dataframe tbody tr th {\n",
       "        vertical-align: top;\n",
       "    }\n",
       "\n",
       "    .dataframe thead th {\n",
       "        text-align: right;\n",
       "    }\n",
       "</style>\n",
       "<table border=\"1\" class=\"dataframe\">\n",
       "  <thead>\n",
       "    <tr style=\"text-align: right;\">\n",
       "      <th></th>\n",
       "      <th>HADM_ID</th>\n",
       "      <th>CHARTTIME</th>\n",
       "      <th>VALUENUM</th>\n",
       "      <th>subject_id_x</th>\n",
       "      <th>subject_id_y</th>\n",
       "      <th>ADMITTIME</th>\n",
       "      <th>DISCHTIME</th>\n",
       "      <th>Dead</th>\n",
       "    </tr>\n",
       "  </thead>\n",
       "  <tbody>\n",
       "    <tr>\n",
       "      <th>0</th>\n",
       "      <td>184167</td>\n",
       "      <td>2103-06-28 10:00:00</td>\n",
       "      <td>27.5</td>\n",
       "      <td>10</td>\n",
       "      <td>10</td>\n",
       "      <td>2103-06-28 11:36:00</td>\n",
       "      <td>2103-07-06 12:10:00</td>\n",
       "      <td>0</td>\n",
       "    </tr>\n",
       "    <tr>\n",
       "      <th>1</th>\n",
       "      <td>106266</td>\n",
       "      <td>2114-11-29 22:00:00</td>\n",
       "      <td>34.0</td>\n",
       "      <td>39</td>\n",
       "      <td>39</td>\n",
       "      <td>2114-11-29 21:04:00</td>\n",
       "      <td>2114-12-09 15:10:00</td>\n",
       "      <td>0</td>\n",
       "    </tr>\n",
       "    <tr>\n",
       "      <th>2</th>\n",
       "      <td>104518</td>\n",
       "      <td>2188-08-24 23:30:00</td>\n",
       "      <td>31.5</td>\n",
       "      <td>66</td>\n",
       "      <td>66</td>\n",
       "      <td>2188-08-25 00:14:00</td>\n",
       "      <td>2188-09-04 10:30:00</td>\n",
       "      <td>0</td>\n",
       "    </tr>\n",
       "    <tr>\n",
       "      <th>3</th>\n",
       "      <td>190201</td>\n",
       "      <td>2129-03-21 15:30:00</td>\n",
       "      <td>31.5</td>\n",
       "      <td>69</td>\n",
       "      <td>69</td>\n",
       "      <td>2129-03-21 15:33:00</td>\n",
       "      <td>2129-04-09 13:30:00</td>\n",
       "      <td>0</td>\n",
       "    </tr>\n",
       "    <tr>\n",
       "      <th>4</th>\n",
       "      <td>156857</td>\n",
       "      <td>2163-09-23 00:00:00</td>\n",
       "      <td>34.0</td>\n",
       "      <td>72</td>\n",
       "      <td>72</td>\n",
       "      <td>2163-09-22 23:52:00</td>\n",
       "      <td>2163-09-29 11:40:00</td>\n",
       "      <td>0</td>\n",
       "    </tr>\n",
       "  </tbody>\n",
       "</table>\n",
       "</div>"
      ],
      "text/plain": [
       "   HADM_ID            CHARTTIME  VALUENUM  subject_id_x  subject_id_y  \\\n",
       "0   184167  2103-06-28 10:00:00      27.5            10            10   \n",
       "1   106266  2114-11-29 22:00:00      34.0            39            39   \n",
       "2   104518  2188-08-24 23:30:00      31.5            66            66   \n",
       "3   190201  2129-03-21 15:30:00      31.5            69            69   \n",
       "4   156857  2163-09-23 00:00:00      34.0            72            72   \n",
       "\n",
       "             ADMITTIME            DISCHTIME  Dead  \n",
       "0  2103-06-28 11:36:00  2103-07-06 12:10:00     0  \n",
       "1  2114-11-29 21:04:00  2114-12-09 15:10:00     0  \n",
       "2  2188-08-25 00:14:00  2188-09-04 10:30:00     0  \n",
       "3  2129-03-21 15:33:00  2129-04-09 13:30:00     0  \n",
       "4  2163-09-22 23:52:00  2163-09-29 11:40:00     0  "
      ]
     },
     "execution_count": 56,
     "metadata": {},
     "output_type": "execute_result"
    }
   ],
   "source": [
    "head_circ.head()"
   ]
  },
  {
   "cell_type": "markdown",
   "metadata": {},
   "source": [
    "# Single Values from Patients and Admissions "
   ]
  },
  {
   "cell_type": "code",
   "execution_count": 57,
   "metadata": {},
   "outputs": [
    {
     "data": {
      "text/html": [
       "<div>\n",
       "<style scoped>\n",
       "    .dataframe tbody tr th:only-of-type {\n",
       "        vertical-align: middle;\n",
       "    }\n",
       "\n",
       "    .dataframe tbody tr th {\n",
       "        vertical-align: top;\n",
       "    }\n",
       "\n",
       "    .dataframe thead th {\n",
       "        text-align: right;\n",
       "    }\n",
       "</style>\n",
       "<table border=\"1\" class=\"dataframe\">\n",
       "  <thead>\n",
       "    <tr style=\"text-align: right;\">\n",
       "      <th></th>\n",
       "      <th>subject_id</th>\n",
       "      <th>HADM_ID</th>\n",
       "      <th>ADMITTIME</th>\n",
       "      <th>DISCHTIME</th>\n",
       "      <th>Dead</th>\n",
       "    </tr>\n",
       "  </thead>\n",
       "  <tbody>\n",
       "    <tr>\n",
       "      <th>1</th>\n",
       "      <td>39</td>\n",
       "      <td>106266</td>\n",
       "      <td>2114-11-29 21:04:00</td>\n",
       "      <td>2114-12-09 15:10:00</td>\n",
       "      <td>0</td>\n",
       "    </tr>\n",
       "    <tr>\n",
       "      <th>2</th>\n",
       "      <td>358</td>\n",
       "      <td>110872</td>\n",
       "      <td>2168-10-24 23:48:00</td>\n",
       "      <td>2168-10-29 03:23:00</td>\n",
       "      <td>0</td>\n",
       "    </tr>\n",
       "    <tr>\n",
       "      <th>10</th>\n",
       "      <td>66</td>\n",
       "      <td>104518</td>\n",
       "      <td>2188-08-25 00:14:00</td>\n",
       "      <td>2188-09-04 10:30:00</td>\n",
       "      <td>0</td>\n",
       "    </tr>\n",
       "    <tr>\n",
       "      <th>11</th>\n",
       "      <td>69</td>\n",
       "      <td>190201</td>\n",
       "      <td>2129-03-21 15:33:00</td>\n",
       "      <td>2129-04-09 13:30:00</td>\n",
       "      <td>0</td>\n",
       "    </tr>\n",
       "    <tr>\n",
       "      <th>13</th>\n",
       "      <td>72</td>\n",
       "      <td>156857</td>\n",
       "      <td>2163-09-22 23:52:00</td>\n",
       "      <td>2163-09-29 11:40:00</td>\n",
       "      <td>0</td>\n",
       "    </tr>\n",
       "  </tbody>\n",
       "</table>\n",
       "</div>"
      ],
      "text/plain": [
       "    subject_id  HADM_ID            ADMITTIME            DISCHTIME  Dead\n",
       "1           39   106266  2114-11-29 21:04:00  2114-12-09 15:10:00     0\n",
       "2          358   110872  2168-10-24 23:48:00  2168-10-29 03:23:00     0\n",
       "10          66   104518  2188-08-25 00:14:00  2188-09-04 10:30:00     0\n",
       "11          69   190201  2129-03-21 15:33:00  2129-04-09 13:30:00     0\n",
       "13          72   156857  2163-09-22 23:52:00  2163-09-29 11:40:00     0"
      ]
     },
     "execution_count": 57,
     "metadata": {},
     "output_type": "execute_result"
    }
   ],
   "source": [
    "master_neonates.head()"
   ]
  },
  {
   "cell_type": "code",
   "execution_count": 58,
   "metadata": {},
   "outputs": [],
   "source": [
    "neonates_admissions = pd.read_csv(\"NonFilterData/neonates_admissions.csv\")"
   ]
  },
  {
   "cell_type": "code",
   "execution_count": 59,
   "metadata": {},
   "outputs": [
    {
     "data": {
      "text/html": [
       "<div>\n",
       "<style scoped>\n",
       "    .dataframe tbody tr th:only-of-type {\n",
       "        vertical-align: middle;\n",
       "    }\n",
       "\n",
       "    .dataframe tbody tr th {\n",
       "        vertical-align: top;\n",
       "    }\n",
       "\n",
       "    .dataframe thead th {\n",
       "        text-align: right;\n",
       "    }\n",
       "</style>\n",
       "<table border=\"1\" class=\"dataframe\">\n",
       "  <thead>\n",
       "    <tr style=\"text-align: right;\">\n",
       "      <th></th>\n",
       "      <th>subject_id</th>\n",
       "      <th>HADM_ID</th>\n",
       "      <th>ADMITTIME</th>\n",
       "      <th>DISCHTIME</th>\n",
       "      <th>DEATHTIME</th>\n",
       "      <th>ADMISSION_LOCATION</th>\n",
       "      <th>DISCHARGE_LOCATION</th>\n",
       "      <th>RELIGION</th>\n",
       "      <th>ETHNICITY</th>\n",
       "      <th>HOSPITAL_EXPIRE_FLAG</th>\n",
       "      <th>HAS_CHARTEVENTS_DATA</th>\n",
       "    </tr>\n",
       "  </thead>\n",
       "  <tbody>\n",
       "    <tr>\n",
       "      <th>0</th>\n",
       "      <td>27</td>\n",
       "      <td>134931</td>\n",
       "      <td>2191-11-30 22:16:00</td>\n",
       "      <td>2191-12-03 14:45:00</td>\n",
       "      <td>NaN</td>\n",
       "      <td>PHYS REFERRAL/NORMAL DELI</td>\n",
       "      <td>HOME</td>\n",
       "      <td>CATHOLIC</td>\n",
       "      <td>WHITE</td>\n",
       "      <td>0</td>\n",
       "      <td>1</td>\n",
       "    </tr>\n",
       "    <tr>\n",
       "      <th>1</th>\n",
       "      <td>39</td>\n",
       "      <td>106266</td>\n",
       "      <td>2114-11-29 21:04:00</td>\n",
       "      <td>2114-12-09 15:10:00</td>\n",
       "      <td>NaN</td>\n",
       "      <td>PHYS REFERRAL/NORMAL DELI</td>\n",
       "      <td>HOME</td>\n",
       "      <td>NOT SPECIFIED</td>\n",
       "      <td>UNKNOWN/NOT SPECIFIED</td>\n",
       "      <td>0</td>\n",
       "      <td>1</td>\n",
       "    </tr>\n",
       "  </tbody>\n",
       "</table>\n",
       "</div>"
      ],
      "text/plain": [
       "   subject_id  HADM_ID            ADMITTIME            DISCHTIME DEATHTIME  \\\n",
       "0          27   134931  2191-11-30 22:16:00  2191-12-03 14:45:00       NaN   \n",
       "1          39   106266  2114-11-29 21:04:00  2114-12-09 15:10:00       NaN   \n",
       "\n",
       "          ADMISSION_LOCATION DISCHARGE_LOCATION       RELIGION  \\\n",
       "0  PHYS REFERRAL/NORMAL DELI               HOME       CATHOLIC   \n",
       "1  PHYS REFERRAL/NORMAL DELI               HOME  NOT SPECIFIED   \n",
       "\n",
       "               ETHNICITY  HOSPITAL_EXPIRE_FLAG  HAS_CHARTEVENTS_DATA  \n",
       "0                  WHITE                     0                     1  \n",
       "1  UNKNOWN/NOT SPECIFIED                     0                     1  "
      ]
     },
     "execution_count": 59,
     "metadata": {},
     "output_type": "execute_result"
    }
   ],
   "source": [
    "neonates_admissions.head(2)"
   ]
  },
  {
   "cell_type": "code",
   "execution_count": 60,
   "metadata": {},
   "outputs": [
    {
     "data": {
      "text/plain": [
       "Index(['subject_id', 'HADM_ID', 'ADMITTIME', 'DISCHTIME', 'DEATHTIME',\n",
       "       'ADMISSION_LOCATION', 'DISCHARGE_LOCATION', 'RELIGION', 'ETHNICITY',\n",
       "       'HOSPITAL_EXPIRE_FLAG', 'HAS_CHARTEVENTS_DATA'],\n",
       "      dtype='object')"
      ]
     },
     "execution_count": 60,
     "metadata": {},
     "output_type": "execute_result"
    }
   ],
   "source": [
    "neonates_admissions.columns"
   ]
  },
  {
   "cell_type": "code",
   "execution_count": 61,
   "metadata": {},
   "outputs": [],
   "source": [
    "neonates_admissions.drop(['subject_id', 'ADMITTIME', 'DISCHTIME', 'DEATHTIME',\n",
    "       'ADMISSION_LOCATION', 'DISCHARGE_LOCATION', 'RELIGION',\n",
    "    'HAS_CHARTEVENTS_DATA', 'HOSPITAL_EXPIRE_FLAG'], axis=1, inplace=True)"
   ]
  },
  {
   "cell_type": "code",
   "execution_count": 62,
   "metadata": {},
   "outputs": [
    {
     "data": {
      "text/html": [
       "<div>\n",
       "<style scoped>\n",
       "    .dataframe tbody tr th:only-of-type {\n",
       "        vertical-align: middle;\n",
       "    }\n",
       "\n",
       "    .dataframe tbody tr th {\n",
       "        vertical-align: top;\n",
       "    }\n",
       "\n",
       "    .dataframe thead th {\n",
       "        text-align: right;\n",
       "    }\n",
       "</style>\n",
       "<table border=\"1\" class=\"dataframe\">\n",
       "  <thead>\n",
       "    <tr style=\"text-align: right;\">\n",
       "      <th></th>\n",
       "      <th>HADM_ID</th>\n",
       "      <th>ETHNICITY</th>\n",
       "    </tr>\n",
       "  </thead>\n",
       "  <tbody>\n",
       "    <tr>\n",
       "      <th>0</th>\n",
       "      <td>134931</td>\n",
       "      <td>WHITE</td>\n",
       "    </tr>\n",
       "    <tr>\n",
       "      <th>1</th>\n",
       "      <td>106266</td>\n",
       "      <td>UNKNOWN/NOT SPECIFIED</td>\n",
       "    </tr>\n",
       "    <tr>\n",
       "      <th>2</th>\n",
       "      <td>110872</td>\n",
       "      <td>WHITE</td>\n",
       "    </tr>\n",
       "    <tr>\n",
       "      <th>3</th>\n",
       "      <td>196503</td>\n",
       "      <td>BLACK/AFRICAN AMERICAN</td>\n",
       "    </tr>\n",
       "    <tr>\n",
       "      <th>4</th>\n",
       "      <td>132761</td>\n",
       "      <td>WHITE</td>\n",
       "    </tr>\n",
       "  </tbody>\n",
       "</table>\n",
       "</div>"
      ],
      "text/plain": [
       "   HADM_ID               ETHNICITY\n",
       "0   134931                   WHITE\n",
       "1   106266   UNKNOWN/NOT SPECIFIED\n",
       "2   110872                   WHITE\n",
       "3   196503  BLACK/AFRICAN AMERICAN\n",
       "4   132761                   WHITE"
      ]
     },
     "execution_count": 62,
     "metadata": {},
     "output_type": "execute_result"
    }
   ],
   "source": [
    "neonates_admissions.head()"
   ]
  },
  {
   "cell_type": "code",
   "execution_count": 63,
   "metadata": {},
   "outputs": [],
   "source": [
    "neonates_admissions.rename(columns={'Dead': 'EXPIRE_FLAG'}, inplace=True)"
   ]
  },
  {
   "cell_type": "code",
   "execution_count": 64,
   "metadata": {},
   "outputs": [],
   "source": [
    "neonates_admissions = pd.merge(master_neonates, neonates_admissions, on='HADM_ID', how='inner') "
   ]
  },
  {
   "cell_type": "code",
   "execution_count": 65,
   "metadata": {},
   "outputs": [
    {
     "data": {
      "text/html": [
       "<div>\n",
       "<style scoped>\n",
       "    .dataframe tbody tr th:only-of-type {\n",
       "        vertical-align: middle;\n",
       "    }\n",
       "\n",
       "    .dataframe tbody tr th {\n",
       "        vertical-align: top;\n",
       "    }\n",
       "\n",
       "    .dataframe thead th {\n",
       "        text-align: right;\n",
       "    }\n",
       "</style>\n",
       "<table border=\"1\" class=\"dataframe\">\n",
       "  <thead>\n",
       "    <tr style=\"text-align: right;\">\n",
       "      <th></th>\n",
       "      <th>subject_id</th>\n",
       "      <th>HADM_ID</th>\n",
       "      <th>ADMITTIME</th>\n",
       "      <th>DISCHTIME</th>\n",
       "      <th>Dead</th>\n",
       "      <th>ETHNICITY</th>\n",
       "    </tr>\n",
       "  </thead>\n",
       "  <tbody>\n",
       "    <tr>\n",
       "      <th>0</th>\n",
       "      <td>39</td>\n",
       "      <td>106266</td>\n",
       "      <td>2114-11-29 21:04:00</td>\n",
       "      <td>2114-12-09 15:10:00</td>\n",
       "      <td>0</td>\n",
       "      <td>UNKNOWN/NOT SPECIFIED</td>\n",
       "    </tr>\n",
       "    <tr>\n",
       "      <th>1</th>\n",
       "      <td>358</td>\n",
       "      <td>110872</td>\n",
       "      <td>2168-10-24 23:48:00</td>\n",
       "      <td>2168-10-29 03:23:00</td>\n",
       "      <td>0</td>\n",
       "      <td>WHITE</td>\n",
       "    </tr>\n",
       "    <tr>\n",
       "      <th>2</th>\n",
       "      <td>66</td>\n",
       "      <td>104518</td>\n",
       "      <td>2188-08-25 00:14:00</td>\n",
       "      <td>2188-09-04 10:30:00</td>\n",
       "      <td>0</td>\n",
       "      <td>WHITE</td>\n",
       "    </tr>\n",
       "    <tr>\n",
       "      <th>3</th>\n",
       "      <td>69</td>\n",
       "      <td>190201</td>\n",
       "      <td>2129-03-21 15:33:00</td>\n",
       "      <td>2129-04-09 13:30:00</td>\n",
       "      <td>0</td>\n",
       "      <td>WHITE</td>\n",
       "    </tr>\n",
       "    <tr>\n",
       "      <th>4</th>\n",
       "      <td>72</td>\n",
       "      <td>156857</td>\n",
       "      <td>2163-09-22 23:52:00</td>\n",
       "      <td>2163-09-29 11:40:00</td>\n",
       "      <td>0</td>\n",
       "      <td>BLACK/AFRICAN AMERICAN</td>\n",
       "    </tr>\n",
       "  </tbody>\n",
       "</table>\n",
       "</div>"
      ],
      "text/plain": [
       "   subject_id  HADM_ID            ADMITTIME            DISCHTIME  Dead  \\\n",
       "0          39   106266  2114-11-29 21:04:00  2114-12-09 15:10:00     0   \n",
       "1         358   110872  2168-10-24 23:48:00  2168-10-29 03:23:00     0   \n",
       "2          66   104518  2188-08-25 00:14:00  2188-09-04 10:30:00     0   \n",
       "3          69   190201  2129-03-21 15:33:00  2129-04-09 13:30:00     0   \n",
       "4          72   156857  2163-09-22 23:52:00  2163-09-29 11:40:00     0   \n",
       "\n",
       "                ETHNICITY  \n",
       "0   UNKNOWN/NOT SPECIFIED  \n",
       "1                   WHITE  \n",
       "2                   WHITE  \n",
       "3                   WHITE  \n",
       "4  BLACK/AFRICAN AMERICAN  "
      ]
     },
     "execution_count": 65,
     "metadata": {},
     "output_type": "execute_result"
    }
   ],
   "source": [
    "neonates_admissions.head()"
   ]
  },
  {
   "cell_type": "code",
   "execution_count": 67,
   "metadata": {},
   "outputs": [
    {
     "data": {
      "text/plain": [
       "(52, 6)"
      ]
     },
     "execution_count": 67,
     "metadata": {},
     "output_type": "execute_result"
    }
   ],
   "source": [
    "neonates_admissions[neonates_admissions.Dead == 1].shape "
   ]
  },
  {
   "cell_type": "code",
   "execution_count": 68,
   "metadata": {},
   "outputs": [
    {
     "data": {
      "text/plain": [
       "3299"
      ]
     },
     "execution_count": 68,
     "metadata": {},
     "output_type": "execute_result"
    }
   ],
   "source": [
    "neonates_admissions['HADM_ID'].nunique()"
   ]
  },
  {
   "cell_type": "markdown",
   "metadata": {},
   "source": [
    "#### Patients Table "
   ]
  },
  {
   "cell_type": "code",
   "execution_count": 69,
   "metadata": {},
   "outputs": [],
   "source": [
    "patients = pd.read_csv(\"NonFilterData/neonates_patients.csv\") "
   ]
  },
  {
   "cell_type": "code",
   "execution_count": 70,
   "metadata": {},
   "outputs": [
    {
     "data": {
      "text/html": [
       "<div>\n",
       "<style scoped>\n",
       "    .dataframe tbody tr th:only-of-type {\n",
       "        vertical-align: middle;\n",
       "    }\n",
       "\n",
       "    .dataframe tbody tr th {\n",
       "        vertical-align: top;\n",
       "    }\n",
       "\n",
       "    .dataframe thead th {\n",
       "        text-align: right;\n",
       "    }\n",
       "</style>\n",
       "<table border=\"1\" class=\"dataframe\">\n",
       "  <thead>\n",
       "    <tr style=\"text-align: right;\">\n",
       "      <th></th>\n",
       "      <th>subject_id</th>\n",
       "      <th>GENDER</th>\n",
       "      <th>DOB</th>\n",
       "      <th>EXPIRE_FLAG</th>\n",
       "    </tr>\n",
       "  </thead>\n",
       "  <tbody>\n",
       "    <tr>\n",
       "      <th>0</th>\n",
       "      <td>258</td>\n",
       "      <td>F</td>\n",
       "      <td>2124-09-19 00:00:00</td>\n",
       "      <td>0</td>\n",
       "    </tr>\n",
       "    <tr>\n",
       "      <th>1</th>\n",
       "      <td>260</td>\n",
       "      <td>F</td>\n",
       "      <td>2105-03-23 00:00:00</td>\n",
       "      <td>0</td>\n",
       "    </tr>\n",
       "    <tr>\n",
       "      <th>2</th>\n",
       "      <td>264</td>\n",
       "      <td>F</td>\n",
       "      <td>2162-11-30 00:00:00</td>\n",
       "      <td>0</td>\n",
       "    </tr>\n",
       "    <tr>\n",
       "      <th>3</th>\n",
       "      <td>675</td>\n",
       "      <td>F</td>\n",
       "      <td>2158-04-05 00:00:00</td>\n",
       "      <td>0</td>\n",
       "    </tr>\n",
       "    <tr>\n",
       "      <th>4</th>\n",
       "      <td>677</td>\n",
       "      <td>M</td>\n",
       "      <td>2195-08-12 00:00:00</td>\n",
       "      <td>0</td>\n",
       "    </tr>\n",
       "  </tbody>\n",
       "</table>\n",
       "</div>"
      ],
      "text/plain": [
       "   subject_id GENDER                  DOB  EXPIRE_FLAG\n",
       "0         258      F  2124-09-19 00:00:00            0\n",
       "1         260      F  2105-03-23 00:00:00            0\n",
       "2         264      F  2162-11-30 00:00:00            0\n",
       "3         675      F  2158-04-05 00:00:00            0\n",
       "4         677      M  2195-08-12 00:00:00            0"
      ]
     },
     "execution_count": 70,
     "metadata": {},
     "output_type": "execute_result"
    }
   ],
   "source": [
    "patients.head()"
   ]
  },
  {
   "cell_type": "code",
   "execution_count": 71,
   "metadata": {},
   "outputs": [
    {
     "data": {
      "text/plain": [
       "7874"
      ]
     },
     "execution_count": 71,
     "metadata": {},
     "output_type": "execute_result"
    }
   ],
   "source": [
    "patients['subject_id'].nunique()"
   ]
  },
  {
   "cell_type": "code",
   "execution_count": 72,
   "metadata": {},
   "outputs": [],
   "source": [
    "patients.drop(['DOB'], axis=1, inplace=True)"
   ]
  },
  {
   "cell_type": "code",
   "execution_count": 73,
   "metadata": {},
   "outputs": [],
   "source": [
    "neonates_admissions = pd.merge(neonates_admissions, patients, on='subject_id', how='inner') "
   ]
  },
  {
   "cell_type": "code",
   "execution_count": 83,
   "metadata": {},
   "outputs": [
    {
     "data": {
      "text/html": [
       "<div>\n",
       "<style scoped>\n",
       "    .dataframe tbody tr th:only-of-type {\n",
       "        vertical-align: middle;\n",
       "    }\n",
       "\n",
       "    .dataframe tbody tr th {\n",
       "        vertical-align: top;\n",
       "    }\n",
       "\n",
       "    .dataframe thead th {\n",
       "        text-align: right;\n",
       "    }\n",
       "</style>\n",
       "<table border=\"1\" class=\"dataframe\">\n",
       "  <thead>\n",
       "    <tr style=\"text-align: right;\">\n",
       "      <th></th>\n",
       "      <th>subject_id</th>\n",
       "      <th>HADM_ID</th>\n",
       "      <th>ADMITTIME</th>\n",
       "      <th>DISCHTIME</th>\n",
       "      <th>ETHNICITY</th>\n",
       "      <th>GENDER</th>\n",
       "      <th>EXPIRE_FLAG</th>\n",
       "    </tr>\n",
       "  </thead>\n",
       "  <tbody>\n",
       "    <tr>\n",
       "      <th>0</th>\n",
       "      <td>39</td>\n",
       "      <td>106266</td>\n",
       "      <td>2114-11-29 21:04:00</td>\n",
       "      <td>2114-12-09 15:10:00</td>\n",
       "      <td>UNKNOWN/NOT SPECIFIED</td>\n",
       "      <td>F</td>\n",
       "      <td>0</td>\n",
       "    </tr>\n",
       "    <tr>\n",
       "      <th>1</th>\n",
       "      <td>358</td>\n",
       "      <td>110872</td>\n",
       "      <td>2168-10-24 23:48:00</td>\n",
       "      <td>2168-10-29 03:23:00</td>\n",
       "      <td>WHITE</td>\n",
       "      <td>F</td>\n",
       "      <td>0</td>\n",
       "    </tr>\n",
       "    <tr>\n",
       "      <th>2</th>\n",
       "      <td>66</td>\n",
       "      <td>104518</td>\n",
       "      <td>2188-08-25 00:14:00</td>\n",
       "      <td>2188-09-04 10:30:00</td>\n",
       "      <td>WHITE</td>\n",
       "      <td>F</td>\n",
       "      <td>0</td>\n",
       "    </tr>\n",
       "    <tr>\n",
       "      <th>3</th>\n",
       "      <td>69</td>\n",
       "      <td>190201</td>\n",
       "      <td>2129-03-21 15:33:00</td>\n",
       "      <td>2129-04-09 13:30:00</td>\n",
       "      <td>WHITE</td>\n",
       "      <td>F</td>\n",
       "      <td>0</td>\n",
       "    </tr>\n",
       "    <tr>\n",
       "      <th>4</th>\n",
       "      <td>72</td>\n",
       "      <td>156857</td>\n",
       "      <td>2163-09-22 23:52:00</td>\n",
       "      <td>2163-09-29 11:40:00</td>\n",
       "      <td>BLACK/AFRICAN AMERICAN</td>\n",
       "      <td>M</td>\n",
       "      <td>0</td>\n",
       "    </tr>\n",
       "  </tbody>\n",
       "</table>\n",
       "</div>"
      ],
      "text/plain": [
       "   subject_id  HADM_ID            ADMITTIME            DISCHTIME  \\\n",
       "0          39   106266  2114-11-29 21:04:00  2114-12-09 15:10:00   \n",
       "1         358   110872  2168-10-24 23:48:00  2168-10-29 03:23:00   \n",
       "2          66   104518  2188-08-25 00:14:00  2188-09-04 10:30:00   \n",
       "3          69   190201  2129-03-21 15:33:00  2129-04-09 13:30:00   \n",
       "4          72   156857  2163-09-22 23:52:00  2163-09-29 11:40:00   \n",
       "\n",
       "                ETHNICITY GENDER  EXPIRE_FLAG  \n",
       "0   UNKNOWN/NOT SPECIFIED      F            0  \n",
       "1                   WHITE      F            0  \n",
       "2                   WHITE      F            0  \n",
       "3                   WHITE      F            0  \n",
       "4  BLACK/AFRICAN AMERICAN      M            0  "
      ]
     },
     "execution_count": 83,
     "metadata": {},
     "output_type": "execute_result"
    }
   ],
   "source": [
    "neonates_admissions.head()"
   ]
  },
  {
   "cell_type": "code",
   "execution_count": 82,
   "metadata": {},
   "outputs": [
    {
     "data": {
      "text/plain": [
       "(54, 7)"
      ]
     },
     "execution_count": 82,
     "metadata": {},
     "output_type": "execute_result"
    }
   ],
   "source": [
    "neonates_admissions[neonates_admissions['EXPIRE_FLAG']==1].shape"
   ]
  },
  {
   "cell_type": "code",
   "execution_count": 77,
   "metadata": {},
   "outputs": [
    {
     "data": {
      "text/plain": [
       "3299"
      ]
     },
     "execution_count": 77,
     "metadata": {},
     "output_type": "execute_result"
    }
   ],
   "source": [
    "neonates_admissions['subject_id'].nunique()"
   ]
  },
  {
   "cell_type": "code",
   "execution_count": 84,
   "metadata": {},
   "outputs": [
    {
     "data": {
      "text/plain": [
       "3299"
      ]
     },
     "execution_count": 84,
     "metadata": {},
     "output_type": "execute_result"
    }
   ],
   "source": [
    "neonates_admissions['HADM_ID'].nunique()"
   ]
  },
  {
   "cell_type": "code",
   "execution_count": 81,
   "metadata": {},
   "outputs": [],
   "source": [
    "neonates_admissions.drop(['Dead'], axis=1, inplace=True)"
   ]
  },
  {
   "cell_type": "code",
   "execution_count": 50,
   "metadata": {},
   "outputs": [],
   "source": [
    "neonates_admissions.rename(columns={'EXPIRE_FLAG_y': 'EXPIRE_FLAG'}, inplace=True)"
   ]
  },
  {
   "cell_type": "code",
   "execution_count": 85,
   "metadata": {},
   "outputs": [
    {
     "data": {
      "text/html": [
       "<div>\n",
       "<style scoped>\n",
       "    .dataframe tbody tr th:only-of-type {\n",
       "        vertical-align: middle;\n",
       "    }\n",
       "\n",
       "    .dataframe tbody tr th {\n",
       "        vertical-align: top;\n",
       "    }\n",
       "\n",
       "    .dataframe thead th {\n",
       "        text-align: right;\n",
       "    }\n",
       "</style>\n",
       "<table border=\"1\" class=\"dataframe\">\n",
       "  <thead>\n",
       "    <tr style=\"text-align: right;\">\n",
       "      <th></th>\n",
       "      <th>subject_id</th>\n",
       "      <th>HADM_ID</th>\n",
       "      <th>ADMITTIME</th>\n",
       "      <th>DISCHTIME</th>\n",
       "      <th>ETHNICITY</th>\n",
       "      <th>GENDER</th>\n",
       "      <th>EXPIRE_FLAG</th>\n",
       "    </tr>\n",
       "  </thead>\n",
       "  <tbody>\n",
       "    <tr>\n",
       "      <th>0</th>\n",
       "      <td>39</td>\n",
       "      <td>106266</td>\n",
       "      <td>2114-11-29 21:04:00</td>\n",
       "      <td>2114-12-09 15:10:00</td>\n",
       "      <td>UNKNOWN/NOT SPECIFIED</td>\n",
       "      <td>F</td>\n",
       "      <td>0</td>\n",
       "    </tr>\n",
       "    <tr>\n",
       "      <th>1</th>\n",
       "      <td>358</td>\n",
       "      <td>110872</td>\n",
       "      <td>2168-10-24 23:48:00</td>\n",
       "      <td>2168-10-29 03:23:00</td>\n",
       "      <td>WHITE</td>\n",
       "      <td>F</td>\n",
       "      <td>0</td>\n",
       "    </tr>\n",
       "    <tr>\n",
       "      <th>2</th>\n",
       "      <td>66</td>\n",
       "      <td>104518</td>\n",
       "      <td>2188-08-25 00:14:00</td>\n",
       "      <td>2188-09-04 10:30:00</td>\n",
       "      <td>WHITE</td>\n",
       "      <td>F</td>\n",
       "      <td>0</td>\n",
       "    </tr>\n",
       "    <tr>\n",
       "      <th>3</th>\n",
       "      <td>69</td>\n",
       "      <td>190201</td>\n",
       "      <td>2129-03-21 15:33:00</td>\n",
       "      <td>2129-04-09 13:30:00</td>\n",
       "      <td>WHITE</td>\n",
       "      <td>F</td>\n",
       "      <td>0</td>\n",
       "    </tr>\n",
       "    <tr>\n",
       "      <th>4</th>\n",
       "      <td>72</td>\n",
       "      <td>156857</td>\n",
       "      <td>2163-09-22 23:52:00</td>\n",
       "      <td>2163-09-29 11:40:00</td>\n",
       "      <td>BLACK/AFRICAN AMERICAN</td>\n",
       "      <td>M</td>\n",
       "      <td>0</td>\n",
       "    </tr>\n",
       "  </tbody>\n",
       "</table>\n",
       "</div>"
      ],
      "text/plain": [
       "   subject_id  HADM_ID            ADMITTIME            DISCHTIME  \\\n",
       "0          39   106266  2114-11-29 21:04:00  2114-12-09 15:10:00   \n",
       "1         358   110872  2168-10-24 23:48:00  2168-10-29 03:23:00   \n",
       "2          66   104518  2188-08-25 00:14:00  2188-09-04 10:30:00   \n",
       "3          69   190201  2129-03-21 15:33:00  2129-04-09 13:30:00   \n",
       "4          72   156857  2163-09-22 23:52:00  2163-09-29 11:40:00   \n",
       "\n",
       "                ETHNICITY GENDER  EXPIRE_FLAG  \n",
       "0   UNKNOWN/NOT SPECIFIED      F            0  \n",
       "1                   WHITE      F            0  \n",
       "2                   WHITE      F            0  \n",
       "3                   WHITE      F            0  \n",
       "4  BLACK/AFRICAN AMERICAN      M            0  "
      ]
     },
     "execution_count": 85,
     "metadata": {},
     "output_type": "execute_result"
    }
   ],
   "source": [
    "neonates_admissions.head()"
   ]
  },
  {
   "cell_type": "code",
   "execution_count": 86,
   "metadata": {},
   "outputs": [],
   "source": [
    "neonates_admissions.to_csv(\"neonates_admissions.csv\", index=False) "
   ]
  },
  {
   "cell_type": "markdown",
   "metadata": {},
   "source": [
    "## DateTimeEvent Table "
   ]
  },
  {
   "cell_type": "code",
   "execution_count": 87,
   "metadata": {},
   "outputs": [],
   "source": [
    "datetimeevents = pd.read_csv(\"NonFilterData/neonates_datetimeevents.csv\")"
   ]
  },
  {
   "cell_type": "code",
   "execution_count": 88,
   "metadata": {},
   "outputs": [
    {
     "data": {
      "text/plain": [
       "1730"
      ]
     },
     "execution_count": 88,
     "metadata": {},
     "output_type": "execute_result"
    }
   ],
   "source": [
    "datetimeevents[\"HADM_ID\"].nunique()"
   ]
  },
  {
   "cell_type": "code",
   "execution_count": 89,
   "metadata": {},
   "outputs": [
    {
     "data": {
      "text/plain": [
       "Index(['subject_id', 'HADM_ID', 'ADMITTIME', 'DISCHTIME', 'Dead'], dtype='object')"
      ]
     },
     "execution_count": 89,
     "metadata": {},
     "output_type": "execute_result"
    }
   ],
   "source": [
    "master_neonates.columns"
   ]
  },
  {
   "cell_type": "code",
   "execution_count": 90,
   "metadata": {},
   "outputs": [],
   "source": [
    "master_neonates_ids = master_neonates['HADM_ID']"
   ]
  },
  {
   "cell_type": "code",
   "execution_count": 91,
   "metadata": {},
   "outputs": [
    {
     "data": {
      "text/html": [
       "<div>\n",
       "<style scoped>\n",
       "    .dataframe tbody tr th:only-of-type {\n",
       "        vertical-align: middle;\n",
       "    }\n",
       "\n",
       "    .dataframe tbody tr th {\n",
       "        vertical-align: top;\n",
       "    }\n",
       "\n",
       "    .dataframe thead th {\n",
       "        text-align: right;\n",
       "    }\n",
       "</style>\n",
       "<table border=\"1\" class=\"dataframe\">\n",
       "  <thead>\n",
       "    <tr style=\"text-align: right;\">\n",
       "      <th></th>\n",
       "      <th>HADM_ID</th>\n",
       "    </tr>\n",
       "  </thead>\n",
       "  <tbody>\n",
       "    <tr>\n",
       "      <th>1</th>\n",
       "      <td>106266</td>\n",
       "    </tr>\n",
       "    <tr>\n",
       "      <th>2</th>\n",
       "      <td>110872</td>\n",
       "    </tr>\n",
       "    <tr>\n",
       "      <th>10</th>\n",
       "      <td>104518</td>\n",
       "    </tr>\n",
       "    <tr>\n",
       "      <th>11</th>\n",
       "      <td>190201</td>\n",
       "    </tr>\n",
       "    <tr>\n",
       "      <th>13</th>\n",
       "      <td>156857</td>\n",
       "    </tr>\n",
       "    <tr>\n",
       "      <th>...</th>\n",
       "      <td>...</td>\n",
       "    </tr>\n",
       "    <tr>\n",
       "      <th>8101</th>\n",
       "      <td>164167</td>\n",
       "    </tr>\n",
       "    <tr>\n",
       "      <th>8102</th>\n",
       "      <td>154007</td>\n",
       "    </tr>\n",
       "    <tr>\n",
       "      <th>8103</th>\n",
       "      <td>185408</td>\n",
       "    </tr>\n",
       "    <tr>\n",
       "      <th>8106</th>\n",
       "      <td>118898</td>\n",
       "    </tr>\n",
       "    <tr>\n",
       "      <th>8107</th>\n",
       "      <td>144531</td>\n",
       "    </tr>\n",
       "  </tbody>\n",
       "</table>\n",
       "<p>3299 rows × 1 columns</p>\n",
       "</div>"
      ],
      "text/plain": [
       "      HADM_ID\n",
       "1      106266\n",
       "2      110872\n",
       "10     104518\n",
       "11     190201\n",
       "13     156857\n",
       "...       ...\n",
       "8101   164167\n",
       "8102   154007\n",
       "8103   185408\n",
       "8106   118898\n",
       "8107   144531\n",
       "\n",
       "[3299 rows x 1 columns]"
      ]
     },
     "execution_count": 91,
     "metadata": {},
     "output_type": "execute_result"
    }
   ],
   "source": [
    "master_neonates_ids.to_frame()"
   ]
  },
  {
   "cell_type": "code",
   "execution_count": 92,
   "metadata": {},
   "outputs": [
    {
     "data": {
      "text/plain": [
       "pandas.core.series.Series"
      ]
     },
     "execution_count": 92,
     "metadata": {},
     "output_type": "execute_result"
    }
   ],
   "source": [
    "type(master_neonates_ids)"
   ]
  },
  {
   "cell_type": "code",
   "execution_count": 93,
   "metadata": {},
   "outputs": [],
   "source": [
    "datetimeevents = pd.merge(master_neonates_ids.to_frame(), datetimeevents, on='HADM_ID', how='inner') "
   ]
  },
  {
   "cell_type": "code",
   "execution_count": 94,
   "metadata": {},
   "outputs": [
    {
     "data": {
      "text/plain": [
       "1605"
      ]
     },
     "execution_count": 94,
     "metadata": {},
     "output_type": "execute_result"
    }
   ],
   "source": [
    "datetimeevents[\"HADM_ID\"].nunique()"
   ]
  },
  {
   "cell_type": "code",
   "execution_count": 95,
   "metadata": {},
   "outputs": [
    {
     "data": {
      "text/plain": [
       "Index(['HADM_ID', 'Unnamed: 0', 'ROW_ID', 'subject_id', 'ICUSTAY_ID', 'ITEMID',\n",
       "       'CHARTTIME', 'STORETIME', 'CGID', 'VALUE', 'VALUEUOM', 'WARNING',\n",
       "       'ERROR', 'RESULTSTATUS', 'STOPPED'],\n",
       "      dtype='object')"
      ]
     },
     "execution_count": 95,
     "metadata": {},
     "output_type": "execute_result"
    }
   ],
   "source": [
    "datetimeevents.columns"
   ]
  },
  {
   "cell_type": "code",
   "execution_count": 96,
   "metadata": {},
   "outputs": [],
   "source": [
    "datetimeevents.drop(['Unnamed: 0', 'ROW_ID', 'ICUSTAY_ID', 'ITEMID',\n",
    "        'STORETIME', 'CGID', 'VALUE', 'VALUEUOM', 'WARNING',\n",
    "       'ERROR', 'RESULTSTATUS', 'STOPPED'], axis=1, inplace=True)"
   ]
  },
  {
   "cell_type": "code",
   "execution_count": 97,
   "metadata": {},
   "outputs": [
    {
     "data": {
      "text/html": [
       "<div>\n",
       "<style scoped>\n",
       "    .dataframe tbody tr th:only-of-type {\n",
       "        vertical-align: middle;\n",
       "    }\n",
       "\n",
       "    .dataframe tbody tr th {\n",
       "        vertical-align: top;\n",
       "    }\n",
       "\n",
       "    .dataframe thead th {\n",
       "        text-align: right;\n",
       "    }\n",
       "</style>\n",
       "<table border=\"1\" class=\"dataframe\">\n",
       "  <thead>\n",
       "    <tr style=\"text-align: right;\">\n",
       "      <th></th>\n",
       "      <th>HADM_ID</th>\n",
       "      <th>subject_id</th>\n",
       "      <th>CHARTTIME</th>\n",
       "    </tr>\n",
       "  </thead>\n",
       "  <tbody>\n",
       "    <tr>\n",
       "      <th>0</th>\n",
       "      <td>106266</td>\n",
       "      <td>39</td>\n",
       "      <td>2114-11-29 22:00:00</td>\n",
       "    </tr>\n",
       "    <tr>\n",
       "      <th>1</th>\n",
       "      <td>106266</td>\n",
       "      <td>39</td>\n",
       "      <td>2114-11-29 23:00:00</td>\n",
       "    </tr>\n",
       "    <tr>\n",
       "      <th>2</th>\n",
       "      <td>106266</td>\n",
       "      <td>39</td>\n",
       "      <td>2114-11-30 00:00:00</td>\n",
       "    </tr>\n",
       "    <tr>\n",
       "      <th>3</th>\n",
       "      <td>106266</td>\n",
       "      <td>39</td>\n",
       "      <td>2114-11-30 01:00:00</td>\n",
       "    </tr>\n",
       "    <tr>\n",
       "      <th>4</th>\n",
       "      <td>106266</td>\n",
       "      <td>39</td>\n",
       "      <td>2114-11-30 02:00:00</td>\n",
       "    </tr>\n",
       "  </tbody>\n",
       "</table>\n",
       "</div>"
      ],
      "text/plain": [
       "   HADM_ID  subject_id            CHARTTIME\n",
       "0   106266          39  2114-11-29 22:00:00\n",
       "1   106266          39  2114-11-29 23:00:00\n",
       "2   106266          39  2114-11-30 00:00:00\n",
       "3   106266          39  2114-11-30 01:00:00\n",
       "4   106266          39  2114-11-30 02:00:00"
      ]
     },
     "execution_count": 97,
     "metadata": {},
     "output_type": "execute_result"
    }
   ],
   "source": [
    "datetimeevents.head()"
   ]
  },
  {
   "cell_type": "code",
   "execution_count": 98,
   "metadata": {},
   "outputs": [],
   "source": [
    "datetimeevents.to_csv(\"Data_3173_Stat/datetimeevents.csv\", index=False)"
   ]
  },
  {
   "cell_type": "markdown",
   "metadata": {},
   "source": [
    "## Neonates_inputevents"
   ]
  },
  {
   "cell_type": "code",
   "execution_count": 99,
   "metadata": {},
   "outputs": [],
   "source": [
    "neonates_inputevents = pd.read_csv(\"NonFilterData/neonates_inputevents.csv\")"
   ]
  },
  {
   "cell_type": "code",
   "execution_count": 100,
   "metadata": {},
   "outputs": [
    {
     "data": {
      "text/html": [
       "<div>\n",
       "<style scoped>\n",
       "    .dataframe tbody tr th:only-of-type {\n",
       "        vertical-align: middle;\n",
       "    }\n",
       "\n",
       "    .dataframe tbody tr th {\n",
       "        vertical-align: top;\n",
       "    }\n",
       "\n",
       "    .dataframe thead th {\n",
       "        text-align: right;\n",
       "    }\n",
       "</style>\n",
       "<table border=\"1\" class=\"dataframe\">\n",
       "  <thead>\n",
       "    <tr style=\"text-align: right;\">\n",
       "      <th></th>\n",
       "      <th>subject_id</th>\n",
       "      <th>HADM_ID</th>\n",
       "      <th>ICUSTAY_ID</th>\n",
       "      <th>CHARTTIME</th>\n",
       "      <th>ITEMID</th>\n",
       "      <th>AMOUNT</th>\n",
       "      <th>AMOUNTUOM</th>\n",
       "      <th>CGID</th>\n",
       "      <th>ORDERID</th>\n",
       "      <th>LABEL</th>\n",
       "    </tr>\n",
       "  </thead>\n",
       "  <tbody>\n",
       "    <tr>\n",
       "      <th>0</th>\n",
       "      <td>7341</td>\n",
       "      <td>NaN</td>\n",
       "      <td>NaN</td>\n",
       "      <td>2196-05-23 22:00:00</td>\n",
       "      <td>30056</td>\n",
       "      <td>60.0</td>\n",
       "      <td>ml</td>\n",
       "      <td>15023.0</td>\n",
       "      <td>7852659</td>\n",
       "      <td>Po Intake</td>\n",
       "    </tr>\n",
       "    <tr>\n",
       "      <th>1</th>\n",
       "      <td>7341</td>\n",
       "      <td>NaN</td>\n",
       "      <td>NaN</td>\n",
       "      <td>2196-05-24 19:00:00</td>\n",
       "      <td>30056</td>\n",
       "      <td>240.0</td>\n",
       "      <td>ml</td>\n",
       "      <td>15218.0</td>\n",
       "      <td>2860486</td>\n",
       "      <td>Po Intake</td>\n",
       "    </tr>\n",
       "    <tr>\n",
       "      <th>2</th>\n",
       "      <td>7341</td>\n",
       "      <td>NaN</td>\n",
       "      <td>NaN</td>\n",
       "      <td>2196-05-24 20:00:00</td>\n",
       "      <td>30056</td>\n",
       "      <td>120.0</td>\n",
       "      <td>ml</td>\n",
       "      <td>15218.0</td>\n",
       "      <td>1837386</td>\n",
       "      <td>Po Intake</td>\n",
       "    </tr>\n",
       "    <tr>\n",
       "      <th>3</th>\n",
       "      <td>7341</td>\n",
       "      <td>NaN</td>\n",
       "      <td>NaN</td>\n",
       "      <td>2196-05-25 08:00:00</td>\n",
       "      <td>30056</td>\n",
       "      <td>150.0</td>\n",
       "      <td>ml</td>\n",
       "      <td>18566.0</td>\n",
       "      <td>3195363</td>\n",
       "      <td>Po Intake</td>\n",
       "    </tr>\n",
       "    <tr>\n",
       "      <th>4</th>\n",
       "      <td>7341</td>\n",
       "      <td>NaN</td>\n",
       "      <td>NaN</td>\n",
       "      <td>2196-05-25 09:00:00</td>\n",
       "      <td>30056</td>\n",
       "      <td>240.0</td>\n",
       "      <td>ml</td>\n",
       "      <td>18566.0</td>\n",
       "      <td>5407135</td>\n",
       "      <td>Po Intake</td>\n",
       "    </tr>\n",
       "  </tbody>\n",
       "</table>\n",
       "</div>"
      ],
      "text/plain": [
       "   subject_id  HADM_ID  ICUSTAY_ID            CHARTTIME  ITEMID  AMOUNT  \\\n",
       "0        7341      NaN         NaN  2196-05-23 22:00:00   30056    60.0   \n",
       "1        7341      NaN         NaN  2196-05-24 19:00:00   30056   240.0   \n",
       "2        7341      NaN         NaN  2196-05-24 20:00:00   30056   120.0   \n",
       "3        7341      NaN         NaN  2196-05-25 08:00:00   30056   150.0   \n",
       "4        7341      NaN         NaN  2196-05-25 09:00:00   30056   240.0   \n",
       "\n",
       "  AMOUNTUOM     CGID  ORDERID      LABEL  \n",
       "0        ml  15023.0  7852659  Po Intake  \n",
       "1        ml  15218.0  2860486  Po Intake  \n",
       "2        ml  15218.0  1837386  Po Intake  \n",
       "3        ml  18566.0  3195363  Po Intake  \n",
       "4        ml  18566.0  5407135  Po Intake  "
      ]
     },
     "execution_count": 100,
     "metadata": {},
     "output_type": "execute_result"
    }
   ],
   "source": [
    "neonates_inputevents.head()"
   ]
  },
  {
   "cell_type": "code",
   "execution_count": 101,
   "metadata": {},
   "outputs": [
    {
     "data": {
      "text/plain": [
       "4826"
      ]
     },
     "execution_count": 101,
     "metadata": {},
     "output_type": "execute_result"
    }
   ],
   "source": [
    "neonates_inputevents['HADM_ID'].nunique()"
   ]
  },
  {
   "cell_type": "code",
   "execution_count": 102,
   "metadata": {},
   "outputs": [],
   "source": [
    "neonates_inputevents = pd.merge(master_neonates_ids.to_frame(), neonates_inputevents, on='HADM_ID', how='inner') "
   ]
  },
  {
   "cell_type": "code",
   "execution_count": 103,
   "metadata": {},
   "outputs": [
    {
     "data": {
      "text/html": [
       "<div>\n",
       "<style scoped>\n",
       "    .dataframe tbody tr th:only-of-type {\n",
       "        vertical-align: middle;\n",
       "    }\n",
       "\n",
       "    .dataframe tbody tr th {\n",
       "        vertical-align: top;\n",
       "    }\n",
       "\n",
       "    .dataframe thead th {\n",
       "        text-align: right;\n",
       "    }\n",
       "</style>\n",
       "<table border=\"1\" class=\"dataframe\">\n",
       "  <thead>\n",
       "    <tr style=\"text-align: right;\">\n",
       "      <th></th>\n",
       "      <th>HADM_ID</th>\n",
       "      <th>subject_id</th>\n",
       "      <th>ICUSTAY_ID</th>\n",
       "      <th>CHARTTIME</th>\n",
       "      <th>ITEMID</th>\n",
       "      <th>AMOUNT</th>\n",
       "      <th>AMOUNTUOM</th>\n",
       "      <th>CGID</th>\n",
       "      <th>ORDERID</th>\n",
       "      <th>LABEL</th>\n",
       "    </tr>\n",
       "  </thead>\n",
       "  <tbody>\n",
       "    <tr>\n",
       "      <th>0</th>\n",
       "      <td>106266</td>\n",
       "      <td>39</td>\n",
       "      <td>249426.0</td>\n",
       "      <td>2114-11-29 21:30:00</td>\n",
       "      <td>30187</td>\n",
       "      <td>NaN</td>\n",
       "      <td>ml</td>\n",
       "      <td>16633.0</td>\n",
       "      <td>3430139</td>\n",
       "      <td>D10W</td>\n",
       "    </tr>\n",
       "    <tr>\n",
       "      <th>1</th>\n",
       "      <td>106266</td>\n",
       "      <td>39</td>\n",
       "      <td>249426.0</td>\n",
       "      <td>2114-11-29 22:00:00</td>\n",
       "      <td>30187</td>\n",
       "      <td>2.9</td>\n",
       "      <td>ml</td>\n",
       "      <td>16633.0</td>\n",
       "      <td>7367961</td>\n",
       "      <td>D10W</td>\n",
       "    </tr>\n",
       "    <tr>\n",
       "      <th>2</th>\n",
       "      <td>106266</td>\n",
       "      <td>39</td>\n",
       "      <td>249426.0</td>\n",
       "      <td>2114-11-29 23:00:00</td>\n",
       "      <td>30187</td>\n",
       "      <td>7.0</td>\n",
       "      <td>ml</td>\n",
       "      <td>16633.0</td>\n",
       "      <td>1270494</td>\n",
       "      <td>D10W</td>\n",
       "    </tr>\n",
       "    <tr>\n",
       "      <th>3</th>\n",
       "      <td>106266</td>\n",
       "      <td>39</td>\n",
       "      <td>249426.0</td>\n",
       "      <td>2114-11-30 00:00:00</td>\n",
       "      <td>30187</td>\n",
       "      <td>6.1</td>\n",
       "      <td>ml</td>\n",
       "      <td>15312.0</td>\n",
       "      <td>11002376</td>\n",
       "      <td>D10W</td>\n",
       "    </tr>\n",
       "    <tr>\n",
       "      <th>4</th>\n",
       "      <td>106266</td>\n",
       "      <td>39</td>\n",
       "      <td>249426.0</td>\n",
       "      <td>2114-11-30 01:00:00</td>\n",
       "      <td>30187</td>\n",
       "      <td>5.0</td>\n",
       "      <td>ml</td>\n",
       "      <td>15658.0</td>\n",
       "      <td>8567288</td>\n",
       "      <td>D10W</td>\n",
       "    </tr>\n",
       "  </tbody>\n",
       "</table>\n",
       "</div>"
      ],
      "text/plain": [
       "   HADM_ID  subject_id  ICUSTAY_ID            CHARTTIME  ITEMID  AMOUNT  \\\n",
       "0   106266          39    249426.0  2114-11-29 21:30:00   30187     NaN   \n",
       "1   106266          39    249426.0  2114-11-29 22:00:00   30187     2.9   \n",
       "2   106266          39    249426.0  2114-11-29 23:00:00   30187     7.0   \n",
       "3   106266          39    249426.0  2114-11-30 00:00:00   30187     6.1   \n",
       "4   106266          39    249426.0  2114-11-30 01:00:00   30187     5.0   \n",
       "\n",
       "  AMOUNTUOM     CGID   ORDERID LABEL  \n",
       "0        ml  16633.0   3430139  D10W  \n",
       "1        ml  16633.0   7367961  D10W  \n",
       "2        ml  16633.0   1270494  D10W  \n",
       "3        ml  15312.0  11002376  D10W  \n",
       "4        ml  15658.0   8567288  D10W  "
      ]
     },
     "execution_count": 103,
     "metadata": {},
     "output_type": "execute_result"
    }
   ],
   "source": [
    "neonates_inputevents.head()"
   ]
  },
  {
   "cell_type": "code",
   "execution_count": 104,
   "metadata": {},
   "outputs": [
    {
     "data": {
      "text/html": [
       "<div>\n",
       "<style scoped>\n",
       "    .dataframe tbody tr th:only-of-type {\n",
       "        vertical-align: middle;\n",
       "    }\n",
       "\n",
       "    .dataframe tbody tr th {\n",
       "        vertical-align: top;\n",
       "    }\n",
       "\n",
       "    .dataframe thead th {\n",
       "        text-align: right;\n",
       "    }\n",
       "</style>\n",
       "<table border=\"1\" class=\"dataframe\">\n",
       "  <thead>\n",
       "    <tr style=\"text-align: right;\">\n",
       "      <th></th>\n",
       "      <th>HADM_ID</th>\n",
       "      <th>subject_id</th>\n",
       "      <th>ICUSTAY_ID</th>\n",
       "      <th>CHARTTIME</th>\n",
       "      <th>ITEMID</th>\n",
       "      <th>AMOUNT</th>\n",
       "      <th>AMOUNTUOM</th>\n",
       "      <th>CGID</th>\n",
       "      <th>ORDERID</th>\n",
       "      <th>LABEL</th>\n",
       "    </tr>\n",
       "  </thead>\n",
       "  <tbody>\n",
       "  </tbody>\n",
       "</table>\n",
       "</div>"
      ],
      "text/plain": [
       "Empty DataFrame\n",
       "Columns: [HADM_ID, subject_id, ICUSTAY_ID, CHARTTIME, ITEMID, AMOUNT, AMOUNTUOM, CGID, ORDERID, LABEL]\n",
       "Index: []"
      ]
     },
     "execution_count": 104,
     "metadata": {},
     "output_type": "execute_result"
    }
   ],
   "source": [
    "neonates_inputevents[neonates_inputevents['HADM_ID'].isnull()==True]"
   ]
  },
  {
   "cell_type": "code",
   "execution_count": 105,
   "metadata": {},
   "outputs": [
    {
     "data": {
      "text/plain": [
       "3250"
      ]
     },
     "execution_count": 105,
     "metadata": {},
     "output_type": "execute_result"
    }
   ],
   "source": [
    "neonates_inputevents['HADM_ID'].nunique()"
   ]
  },
  {
   "cell_type": "code",
   "execution_count": 106,
   "metadata": {},
   "outputs": [
    {
     "data": {
      "text/plain": [
       "Index(['HADM_ID', 'subject_id', 'ICUSTAY_ID', 'CHARTTIME', 'ITEMID', 'AMOUNT',\n",
       "       'AMOUNTUOM', 'CGID', 'ORDERID', 'LABEL'],\n",
       "      dtype='object')"
      ]
     },
     "execution_count": 106,
     "metadata": {},
     "output_type": "execute_result"
    }
   ],
   "source": [
    "neonates_inputevents.columns"
   ]
  },
  {
   "cell_type": "code",
   "execution_count": 107,
   "metadata": {},
   "outputs": [],
   "source": [
    "neonates_inputevents.drop(['ICUSTAY_ID',\n",
    "       'AMOUNTUOM', 'CGID', 'ORDERID'], axis=1, inplace=True) "
   ]
  },
  {
   "cell_type": "code",
   "execution_count": 108,
   "metadata": {},
   "outputs": [
    {
     "data": {
      "text/html": [
       "<div>\n",
       "<style scoped>\n",
       "    .dataframe tbody tr th:only-of-type {\n",
       "        vertical-align: middle;\n",
       "    }\n",
       "\n",
       "    .dataframe tbody tr th {\n",
       "        vertical-align: top;\n",
       "    }\n",
       "\n",
       "    .dataframe thead th {\n",
       "        text-align: right;\n",
       "    }\n",
       "</style>\n",
       "<table border=\"1\" class=\"dataframe\">\n",
       "  <thead>\n",
       "    <tr style=\"text-align: right;\">\n",
       "      <th></th>\n",
       "      <th>HADM_ID</th>\n",
       "      <th>subject_id</th>\n",
       "      <th>CHARTTIME</th>\n",
       "      <th>ITEMID</th>\n",
       "      <th>AMOUNT</th>\n",
       "      <th>LABEL</th>\n",
       "    </tr>\n",
       "  </thead>\n",
       "  <tbody>\n",
       "    <tr>\n",
       "      <th>0</th>\n",
       "      <td>106266</td>\n",
       "      <td>39</td>\n",
       "      <td>2114-11-29 21:30:00</td>\n",
       "      <td>30187</td>\n",
       "      <td>NaN</td>\n",
       "      <td>D10W</td>\n",
       "    </tr>\n",
       "    <tr>\n",
       "      <th>1</th>\n",
       "      <td>106266</td>\n",
       "      <td>39</td>\n",
       "      <td>2114-11-29 22:00:00</td>\n",
       "      <td>30187</td>\n",
       "      <td>2.9</td>\n",
       "      <td>D10W</td>\n",
       "    </tr>\n",
       "    <tr>\n",
       "      <th>2</th>\n",
       "      <td>106266</td>\n",
       "      <td>39</td>\n",
       "      <td>2114-11-29 23:00:00</td>\n",
       "      <td>30187</td>\n",
       "      <td>7.0</td>\n",
       "      <td>D10W</td>\n",
       "    </tr>\n",
       "    <tr>\n",
       "      <th>3</th>\n",
       "      <td>106266</td>\n",
       "      <td>39</td>\n",
       "      <td>2114-11-30 00:00:00</td>\n",
       "      <td>30187</td>\n",
       "      <td>6.1</td>\n",
       "      <td>D10W</td>\n",
       "    </tr>\n",
       "    <tr>\n",
       "      <th>4</th>\n",
       "      <td>106266</td>\n",
       "      <td>39</td>\n",
       "      <td>2114-11-30 01:00:00</td>\n",
       "      <td>30187</td>\n",
       "      <td>5.0</td>\n",
       "      <td>D10W</td>\n",
       "    </tr>\n",
       "  </tbody>\n",
       "</table>\n",
       "</div>"
      ],
      "text/plain": [
       "   HADM_ID  subject_id            CHARTTIME  ITEMID  AMOUNT LABEL\n",
       "0   106266          39  2114-11-29 21:30:00   30187     NaN  D10W\n",
       "1   106266          39  2114-11-29 22:00:00   30187     2.9  D10W\n",
       "2   106266          39  2114-11-29 23:00:00   30187     7.0  D10W\n",
       "3   106266          39  2114-11-30 00:00:00   30187     6.1  D10W\n",
       "4   106266          39  2114-11-30 01:00:00   30187     5.0  D10W"
      ]
     },
     "execution_count": 108,
     "metadata": {},
     "output_type": "execute_result"
    }
   ],
   "source": [
    "neonates_inputevents.head()"
   ]
  },
  {
   "cell_type": "code",
   "execution_count": 109,
   "metadata": {},
   "outputs": [],
   "source": [
    "neonates_inputevents.to_csv(\"Data_3173_Stat/neonates_inputevents.csv\", index=False)"
   ]
  },
  {
   "cell_type": "markdown",
   "metadata": {},
   "source": [
    "## Neonates_microbiologyevents"
   ]
  },
  {
   "cell_type": "code",
   "execution_count": 110,
   "metadata": {},
   "outputs": [],
   "source": [
    "neonates_microbiologyevents = pd.read_csv(\"NonFilterData/neonates_microbiologyevents.csv\")"
   ]
  },
  {
   "cell_type": "code",
   "execution_count": 111,
   "metadata": {},
   "outputs": [
    {
     "data": {
      "text/html": [
       "<div>\n",
       "<style scoped>\n",
       "    .dataframe tbody tr th:only-of-type {\n",
       "        vertical-align: middle;\n",
       "    }\n",
       "\n",
       "    .dataframe tbody tr th {\n",
       "        vertical-align: top;\n",
       "    }\n",
       "\n",
       "    .dataframe thead th {\n",
       "        text-align: right;\n",
       "    }\n",
       "</style>\n",
       "<table border=\"1\" class=\"dataframe\">\n",
       "  <thead>\n",
       "    <tr style=\"text-align: right;\">\n",
       "      <th></th>\n",
       "      <th>subject_id</th>\n",
       "      <th>HADM_ID</th>\n",
       "      <th>CHARTTIME</th>\n",
       "      <th>SPEC_ITEMID</th>\n",
       "      <th>ORG_ITEMID</th>\n",
       "      <th>AB_ITEMID</th>\n",
       "    </tr>\n",
       "  </thead>\n",
       "  <tbody>\n",
       "    <tr>\n",
       "      <th>0</th>\n",
       "      <td>102</td>\n",
       "      <td>195700</td>\n",
       "      <td>2196-02-27 12:30:00</td>\n",
       "      <td>70014.0</td>\n",
       "      <td>0.0</td>\n",
       "      <td>0.0</td>\n",
       "    </tr>\n",
       "    <tr>\n",
       "      <th>1</th>\n",
       "      <td>104</td>\n",
       "      <td>164025</td>\n",
       "      <td>2184-10-17 08:15:00</td>\n",
       "      <td>70014.0</td>\n",
       "      <td>0.0</td>\n",
       "      <td>0.0</td>\n",
       "    </tr>\n",
       "    <tr>\n",
       "      <th>2</th>\n",
       "      <td>50</td>\n",
       "      <td>132761</td>\n",
       "      <td>2112-06-23 21:30:00</td>\n",
       "      <td>70012.0</td>\n",
       "      <td>0.0</td>\n",
       "      <td>0.0</td>\n",
       "    </tr>\n",
       "    <tr>\n",
       "      <th>3</th>\n",
       "      <td>51</td>\n",
       "      <td>196010</td>\n",
       "      <td>2128-11-30 12:10:00</td>\n",
       "      <td>70014.0</td>\n",
       "      <td>0.0</td>\n",
       "      <td>0.0</td>\n",
       "    </tr>\n",
       "    <tr>\n",
       "      <th>4</th>\n",
       "      <td>54</td>\n",
       "      <td>138795</td>\n",
       "      <td>2191-08-10 18:00:00</td>\n",
       "      <td>70014.0</td>\n",
       "      <td>0.0</td>\n",
       "      <td>0.0</td>\n",
       "    </tr>\n",
       "  </tbody>\n",
       "</table>\n",
       "</div>"
      ],
      "text/plain": [
       "   subject_id  HADM_ID            CHARTTIME  SPEC_ITEMID  ORG_ITEMID  \\\n",
       "0         102   195700  2196-02-27 12:30:00      70014.0         0.0   \n",
       "1         104   164025  2184-10-17 08:15:00      70014.0         0.0   \n",
       "2          50   132761  2112-06-23 21:30:00      70012.0         0.0   \n",
       "3          51   196010  2128-11-30 12:10:00      70014.0         0.0   \n",
       "4          54   138795  2191-08-10 18:00:00      70014.0         0.0   \n",
       "\n",
       "   AB_ITEMID  \n",
       "0        0.0  \n",
       "1        0.0  \n",
       "2        0.0  \n",
       "3        0.0  \n",
       "4        0.0  "
      ]
     },
     "execution_count": 111,
     "metadata": {},
     "output_type": "execute_result"
    }
   ],
   "source": [
    "neonates_microbiologyevents.head()"
   ]
  },
  {
   "cell_type": "code",
   "execution_count": 112,
   "metadata": {},
   "outputs": [
    {
     "data": {
      "text/plain": [
       "6756"
      ]
     },
     "execution_count": 112,
     "metadata": {},
     "output_type": "execute_result"
    }
   ],
   "source": [
    "neonates_microbiologyevents['HADM_ID'].nunique()"
   ]
  },
  {
   "cell_type": "code",
   "execution_count": 113,
   "metadata": {},
   "outputs": [],
   "source": [
    "neonates_microbiologyevents = pd.merge(master_neonates_ids.to_frame(), neonates_microbiologyevents, on='HADM_ID', how='inner') "
   ]
  },
  {
   "cell_type": "code",
   "execution_count": 114,
   "metadata": {},
   "outputs": [
    {
     "data": {
      "text/plain": [
       "(10352, 6)"
      ]
     },
     "execution_count": 114,
     "metadata": {},
     "output_type": "execute_result"
    }
   ],
   "source": [
    "neonates_microbiologyevents.shape"
   ]
  },
  {
   "cell_type": "code",
   "execution_count": 115,
   "metadata": {},
   "outputs": [
    {
     "data": {
      "text/plain": [
       "3262"
      ]
     },
     "execution_count": 115,
     "metadata": {},
     "output_type": "execute_result"
    }
   ],
   "source": [
    "neonates_microbiologyevents['HADM_ID'].nunique()"
   ]
  },
  {
   "cell_type": "code",
   "execution_count": 116,
   "metadata": {},
   "outputs": [
    {
     "data": {
      "text/plain": [
       "Index(['HADM_ID', 'subject_id', 'CHARTTIME', 'SPEC_ITEMID', 'ORG_ITEMID',\n",
       "       'AB_ITEMID'],\n",
       "      dtype='object')"
      ]
     },
     "execution_count": 116,
     "metadata": {},
     "output_type": "execute_result"
    }
   ],
   "source": [
    "neonates_microbiologyevents.columns"
   ]
  },
  {
   "cell_type": "code",
   "execution_count": 117,
   "metadata": {},
   "outputs": [],
   "source": [
    "neonates_microbiologyevents.to_csv(\"Data_3173_Stat/neonates_microbiologyevents.csv\", index=False)"
   ]
  },
  {
   "cell_type": "markdown",
   "metadata": {},
   "source": [
    "## Neonates_outputevents"
   ]
  },
  {
   "cell_type": "code",
   "execution_count": 118,
   "metadata": {},
   "outputs": [],
   "source": [
    "neonates_outputevents = pd.read_csv(\"NonFilterData/neonates_outputevents.csv\")"
   ]
  },
  {
   "cell_type": "code",
   "execution_count": 119,
   "metadata": {},
   "outputs": [
    {
     "data": {
      "text/html": [
       "<div>\n",
       "<style scoped>\n",
       "    .dataframe tbody tr th:only-of-type {\n",
       "        vertical-align: middle;\n",
       "    }\n",
       "\n",
       "    .dataframe tbody tr th {\n",
       "        vertical-align: top;\n",
       "    }\n",
       "\n",
       "    .dataframe thead th {\n",
       "        text-align: right;\n",
       "    }\n",
       "</style>\n",
       "<table border=\"1\" class=\"dataframe\">\n",
       "  <thead>\n",
       "    <tr style=\"text-align: right;\">\n",
       "      <th></th>\n",
       "      <th>subject_id</th>\n",
       "      <th>HADM_ID</th>\n",
       "      <th>ICUSTAY_ID</th>\n",
       "      <th>CHARTTIME</th>\n",
       "      <th>ITEMID</th>\n",
       "      <th>VALUE</th>\n",
       "      <th>CGID</th>\n",
       "      <th>LABEL</th>\n",
       "    </tr>\n",
       "  </thead>\n",
       "  <tbody>\n",
       "    <tr>\n",
       "      <th>0</th>\n",
       "      <td>9657</td>\n",
       "      <td>179366.0</td>\n",
       "      <td>296231.0</td>\n",
       "      <td>2166-10-04 22:00:00</td>\n",
       "      <td>43175</td>\n",
       "      <td>25.0</td>\n",
       "      <td>18720</td>\n",
       "      <td>Urine .</td>\n",
       "    </tr>\n",
       "    <tr>\n",
       "      <th>1</th>\n",
       "      <td>9657</td>\n",
       "      <td>179366.0</td>\n",
       "      <td>296231.0</td>\n",
       "      <td>2166-10-05 02:00:00</td>\n",
       "      <td>43175</td>\n",
       "      <td>30.0</td>\n",
       "      <td>18720</td>\n",
       "      <td>Urine .</td>\n",
       "    </tr>\n",
       "    <tr>\n",
       "      <th>2</th>\n",
       "      <td>9657</td>\n",
       "      <td>179366.0</td>\n",
       "      <td>296231.0</td>\n",
       "      <td>2166-10-05 06:00:00</td>\n",
       "      <td>43175</td>\n",
       "      <td>15.0</td>\n",
       "      <td>18720</td>\n",
       "      <td>Urine .</td>\n",
       "    </tr>\n",
       "    <tr>\n",
       "      <th>3</th>\n",
       "      <td>9657</td>\n",
       "      <td>179366.0</td>\n",
       "      <td>296231.0</td>\n",
       "      <td>2166-10-06 14:00:00</td>\n",
       "      <td>43175</td>\n",
       "      <td>0.0</td>\n",
       "      <td>21570</td>\n",
       "      <td>Urine .</td>\n",
       "    </tr>\n",
       "    <tr>\n",
       "      <th>4</th>\n",
       "      <td>9657</td>\n",
       "      <td>179366.0</td>\n",
       "      <td>296231.0</td>\n",
       "      <td>2166-10-04 13:00:00</td>\n",
       "      <td>43175</td>\n",
       "      <td>10.0</td>\n",
       "      <td>16571</td>\n",
       "      <td>Urine .</td>\n",
       "    </tr>\n",
       "  </tbody>\n",
       "</table>\n",
       "</div>"
      ],
      "text/plain": [
       "   subject_id   HADM_ID  ICUSTAY_ID            CHARTTIME  ITEMID  VALUE  \\\n",
       "0        9657  179366.0    296231.0  2166-10-04 22:00:00   43175   25.0   \n",
       "1        9657  179366.0    296231.0  2166-10-05 02:00:00   43175   30.0   \n",
       "2        9657  179366.0    296231.0  2166-10-05 06:00:00   43175   15.0   \n",
       "3        9657  179366.0    296231.0  2166-10-06 14:00:00   43175    0.0   \n",
       "4        9657  179366.0    296231.0  2166-10-04 13:00:00   43175   10.0   \n",
       "\n",
       "    CGID    LABEL  \n",
       "0  18720  Urine .  \n",
       "1  18720  Urine .  \n",
       "2  18720  Urine .  \n",
       "3  21570  Urine .  \n",
       "4  16571  Urine .  "
      ]
     },
     "execution_count": 119,
     "metadata": {},
     "output_type": "execute_result"
    }
   ],
   "source": [
    "neonates_outputevents.head()"
   ]
  },
  {
   "cell_type": "code",
   "execution_count": 120,
   "metadata": {},
   "outputs": [],
   "source": [
    "neonates_outputevents.drop(['ICUSTAY_ID'], axis=1, inplace=True)"
   ]
  },
  {
   "cell_type": "code",
   "execution_count": 121,
   "metadata": {},
   "outputs": [
    {
     "data": {
      "text/html": [
       "<div>\n",
       "<style scoped>\n",
       "    .dataframe tbody tr th:only-of-type {\n",
       "        vertical-align: middle;\n",
       "    }\n",
       "\n",
       "    .dataframe tbody tr th {\n",
       "        vertical-align: top;\n",
       "    }\n",
       "\n",
       "    .dataframe thead th {\n",
       "        text-align: right;\n",
       "    }\n",
       "</style>\n",
       "<table border=\"1\" class=\"dataframe\">\n",
       "  <thead>\n",
       "    <tr style=\"text-align: right;\">\n",
       "      <th></th>\n",
       "      <th>subject_id</th>\n",
       "      <th>HADM_ID</th>\n",
       "      <th>CHARTTIME</th>\n",
       "      <th>ITEMID</th>\n",
       "      <th>VALUE</th>\n",
       "      <th>CGID</th>\n",
       "      <th>LABEL</th>\n",
       "    </tr>\n",
       "  </thead>\n",
       "  <tbody>\n",
       "    <tr>\n",
       "      <th>0</th>\n",
       "      <td>9657</td>\n",
       "      <td>179366.0</td>\n",
       "      <td>2166-10-04 22:00:00</td>\n",
       "      <td>43175</td>\n",
       "      <td>25.0</td>\n",
       "      <td>18720</td>\n",
       "      <td>Urine .</td>\n",
       "    </tr>\n",
       "    <tr>\n",
       "      <th>1</th>\n",
       "      <td>9657</td>\n",
       "      <td>179366.0</td>\n",
       "      <td>2166-10-05 02:00:00</td>\n",
       "      <td>43175</td>\n",
       "      <td>30.0</td>\n",
       "      <td>18720</td>\n",
       "      <td>Urine .</td>\n",
       "    </tr>\n",
       "    <tr>\n",
       "      <th>2</th>\n",
       "      <td>9657</td>\n",
       "      <td>179366.0</td>\n",
       "      <td>2166-10-05 06:00:00</td>\n",
       "      <td>43175</td>\n",
       "      <td>15.0</td>\n",
       "      <td>18720</td>\n",
       "      <td>Urine .</td>\n",
       "    </tr>\n",
       "    <tr>\n",
       "      <th>3</th>\n",
       "      <td>9657</td>\n",
       "      <td>179366.0</td>\n",
       "      <td>2166-10-06 14:00:00</td>\n",
       "      <td>43175</td>\n",
       "      <td>0.0</td>\n",
       "      <td>21570</td>\n",
       "      <td>Urine .</td>\n",
       "    </tr>\n",
       "    <tr>\n",
       "      <th>4</th>\n",
       "      <td>9657</td>\n",
       "      <td>179366.0</td>\n",
       "      <td>2166-10-04 13:00:00</td>\n",
       "      <td>43175</td>\n",
       "      <td>10.0</td>\n",
       "      <td>16571</td>\n",
       "      <td>Urine .</td>\n",
       "    </tr>\n",
       "  </tbody>\n",
       "</table>\n",
       "</div>"
      ],
      "text/plain": [
       "   subject_id   HADM_ID            CHARTTIME  ITEMID  VALUE   CGID    LABEL\n",
       "0        9657  179366.0  2166-10-04 22:00:00   43175   25.0  18720  Urine .\n",
       "1        9657  179366.0  2166-10-05 02:00:00   43175   30.0  18720  Urine .\n",
       "2        9657  179366.0  2166-10-05 06:00:00   43175   15.0  18720  Urine .\n",
       "3        9657  179366.0  2166-10-06 14:00:00   43175    0.0  21570  Urine .\n",
       "4        9657  179366.0  2166-10-04 13:00:00   43175   10.0  16571  Urine ."
      ]
     },
     "execution_count": 121,
     "metadata": {},
     "output_type": "execute_result"
    }
   ],
   "source": [
    "neonates_outputevents.head()"
   ]
  },
  {
   "cell_type": "code",
   "execution_count": 122,
   "metadata": {},
   "outputs": [],
   "source": [
    "neonates_outputevents = pd.merge(master_neonates_ids.to_frame(), neonates_outputevents, on='HADM_ID', how='inner') "
   ]
  },
  {
   "cell_type": "code",
   "execution_count": 123,
   "metadata": {},
   "outputs": [
    {
     "data": {
      "text/plain": [
       "2968"
      ]
     },
     "execution_count": 123,
     "metadata": {},
     "output_type": "execute_result"
    }
   ],
   "source": [
    "neonates_outputevents['HADM_ID'].nunique()"
   ]
  },
  {
   "cell_type": "code",
   "execution_count": 124,
   "metadata": {},
   "outputs": [],
   "source": [
    "neonates_outputevents.to_csv(\"Data_3173_Stat/neonates_outputevents.csv\", index=False)"
   ]
  },
  {
   "cell_type": "markdown",
   "metadata": {},
   "source": [
    "## Neonates_prescriptions"
   ]
  },
  {
   "cell_type": "code",
   "execution_count": 125,
   "metadata": {},
   "outputs": [],
   "source": [
    "neonates_prescriptions = pd.read_csv(\"NonFilterData/neonates_prescriptions.csv\")"
   ]
  },
  {
   "cell_type": "code",
   "execution_count": 126,
   "metadata": {},
   "outputs": [
    {
     "data": {
      "text/html": [
       "<div>\n",
       "<style scoped>\n",
       "    .dataframe tbody tr th:only-of-type {\n",
       "        vertical-align: middle;\n",
       "    }\n",
       "\n",
       "    .dataframe tbody tr th {\n",
       "        vertical-align: top;\n",
       "    }\n",
       "\n",
       "    .dataframe thead th {\n",
       "        text-align: right;\n",
       "    }\n",
       "</style>\n",
       "<table border=\"1\" class=\"dataframe\">\n",
       "  <thead>\n",
       "    <tr style=\"text-align: right;\">\n",
       "      <th></th>\n",
       "      <th>subject_id</th>\n",
       "      <th>HADM_ID</th>\n",
       "      <th>ICUSTAY_ID</th>\n",
       "      <th>STARTDATE</th>\n",
       "      <th>ENDDATE</th>\n",
       "      <th>DRUG_TYPE</th>\n",
       "      <th>DRUG</th>\n",
       "      <th>DOSE_VAL_RX</th>\n",
       "    </tr>\n",
       "  </thead>\n",
       "  <tbody>\n",
       "    <tr>\n",
       "      <th>0</th>\n",
       "      <td>8</td>\n",
       "      <td>159514</td>\n",
       "      <td>NaN</td>\n",
       "      <td>2117-11-20 00:00:00</td>\n",
       "      <td>2117-11-24 00:00:00</td>\n",
       "      <td>BASE</td>\n",
       "      <td>Send 500mg Vial</td>\n",
       "      <td>1</td>\n",
       "    </tr>\n",
       "    <tr>\n",
       "      <th>1</th>\n",
       "      <td>8</td>\n",
       "      <td>159514</td>\n",
       "      <td>NaN</td>\n",
       "      <td>2117-11-20 00:00:00</td>\n",
       "      <td>2117-11-24 00:00:00</td>\n",
       "      <td>MAIN</td>\n",
       "      <td>NEO*IV*Gentamicin</td>\n",
       "      <td>12.5</td>\n",
       "    </tr>\n",
       "    <tr>\n",
       "      <th>2</th>\n",
       "      <td>8</td>\n",
       "      <td>159514</td>\n",
       "      <td>NaN</td>\n",
       "      <td>2117-11-20 00:00:00</td>\n",
       "      <td>2117-11-24 00:00:00</td>\n",
       "      <td>MAIN</td>\n",
       "      <td>NEO*IV*Ampicillin Sodium</td>\n",
       "      <td>500</td>\n",
       "    </tr>\n",
       "    <tr>\n",
       "      <th>3</th>\n",
       "      <td>8</td>\n",
       "      <td>159514</td>\n",
       "      <td>NaN</td>\n",
       "      <td>2117-11-20 00:00:00</td>\n",
       "      <td>2117-11-24 00:00:00</td>\n",
       "      <td>BASE</td>\n",
       "      <td>Syringe (Neonatal) *D5W*</td>\n",
       "      <td>2.4</td>\n",
       "    </tr>\n",
       "    <tr>\n",
       "      <th>4</th>\n",
       "      <td>2</td>\n",
       "      <td>163353</td>\n",
       "      <td>243653.0</td>\n",
       "      <td>2138-07-18 00:00:00</td>\n",
       "      <td>2138-07-20 00:00:00</td>\n",
       "      <td>MAIN</td>\n",
       "      <td>NEO*IV*Gentamicin</td>\n",
       "      <td>15.5</td>\n",
       "    </tr>\n",
       "  </tbody>\n",
       "</table>\n",
       "</div>"
      ],
      "text/plain": [
       "   subject_id  HADM_ID  ICUSTAY_ID            STARTDATE              ENDDATE  \\\n",
       "0           8   159514         NaN  2117-11-20 00:00:00  2117-11-24 00:00:00   \n",
       "1           8   159514         NaN  2117-11-20 00:00:00  2117-11-24 00:00:00   \n",
       "2           8   159514         NaN  2117-11-20 00:00:00  2117-11-24 00:00:00   \n",
       "3           8   159514         NaN  2117-11-20 00:00:00  2117-11-24 00:00:00   \n",
       "4           2   163353    243653.0  2138-07-18 00:00:00  2138-07-20 00:00:00   \n",
       "\n",
       "  DRUG_TYPE                      DRUG DOSE_VAL_RX  \n",
       "0      BASE           Send 500mg Vial           1  \n",
       "1      MAIN         NEO*IV*Gentamicin        12.5  \n",
       "2      MAIN  NEO*IV*Ampicillin Sodium         500  \n",
       "3      BASE  Syringe (Neonatal) *D5W*         2.4  \n",
       "4      MAIN         NEO*IV*Gentamicin        15.5  "
      ]
     },
     "execution_count": 126,
     "metadata": {},
     "output_type": "execute_result"
    }
   ],
   "source": [
    "neonates_prescriptions.head()"
   ]
  },
  {
   "cell_type": "code",
   "execution_count": 127,
   "metadata": {},
   "outputs": [
    {
     "data": {
      "text/plain": [
       "Index(['subject_id', 'HADM_ID', 'ICUSTAY_ID', 'STARTDATE', 'ENDDATE',\n",
       "       'DRUG_TYPE', 'DRUG', 'DOSE_VAL_RX'],\n",
       "      dtype='object')"
      ]
     },
     "execution_count": 127,
     "metadata": {},
     "output_type": "execute_result"
    }
   ],
   "source": [
    "neonates_prescriptions.columns"
   ]
  },
  {
   "cell_type": "code",
   "execution_count": 128,
   "metadata": {},
   "outputs": [],
   "source": [
    "neonates_prescriptions.drop(['ICUSTAY_ID'], axis=1, inplace=True)"
   ]
  },
  {
   "cell_type": "code",
   "execution_count": 129,
   "metadata": {},
   "outputs": [
    {
     "data": {
      "text/html": [
       "<div>\n",
       "<style scoped>\n",
       "    .dataframe tbody tr th:only-of-type {\n",
       "        vertical-align: middle;\n",
       "    }\n",
       "\n",
       "    .dataframe tbody tr th {\n",
       "        vertical-align: top;\n",
       "    }\n",
       "\n",
       "    .dataframe thead th {\n",
       "        text-align: right;\n",
       "    }\n",
       "</style>\n",
       "<table border=\"1\" class=\"dataframe\">\n",
       "  <thead>\n",
       "    <tr style=\"text-align: right;\">\n",
       "      <th></th>\n",
       "      <th>subject_id</th>\n",
       "      <th>HADM_ID</th>\n",
       "      <th>STARTDATE</th>\n",
       "      <th>ENDDATE</th>\n",
       "      <th>DRUG_TYPE</th>\n",
       "      <th>DRUG</th>\n",
       "      <th>DOSE_VAL_RX</th>\n",
       "    </tr>\n",
       "  </thead>\n",
       "  <tbody>\n",
       "    <tr>\n",
       "      <th>0</th>\n",
       "      <td>8</td>\n",
       "      <td>159514</td>\n",
       "      <td>2117-11-20 00:00:00</td>\n",
       "      <td>2117-11-24 00:00:00</td>\n",
       "      <td>BASE</td>\n",
       "      <td>Send 500mg Vial</td>\n",
       "      <td>1</td>\n",
       "    </tr>\n",
       "    <tr>\n",
       "      <th>1</th>\n",
       "      <td>8</td>\n",
       "      <td>159514</td>\n",
       "      <td>2117-11-20 00:00:00</td>\n",
       "      <td>2117-11-24 00:00:00</td>\n",
       "      <td>MAIN</td>\n",
       "      <td>NEO*IV*Gentamicin</td>\n",
       "      <td>12.5</td>\n",
       "    </tr>\n",
       "  </tbody>\n",
       "</table>\n",
       "</div>"
      ],
      "text/plain": [
       "   subject_id  HADM_ID            STARTDATE              ENDDATE DRUG_TYPE  \\\n",
       "0           8   159514  2117-11-20 00:00:00  2117-11-24 00:00:00      BASE   \n",
       "1           8   159514  2117-11-20 00:00:00  2117-11-24 00:00:00      MAIN   \n",
       "\n",
       "                DRUG DOSE_VAL_RX  \n",
       "0    Send 500mg Vial           1  \n",
       "1  NEO*IV*Gentamicin        12.5  "
      ]
     },
     "execution_count": 129,
     "metadata": {},
     "output_type": "execute_result"
    }
   ],
   "source": [
    "neonates_prescriptions.head(2)"
   ]
  },
  {
   "cell_type": "code",
   "execution_count": 130,
   "metadata": {},
   "outputs": [],
   "source": [
    "neonates_prescriptions = pd.merge(master_neonates_ids.to_frame(), neonates_prescriptions, on='HADM_ID', how='inner') "
   ]
  },
  {
   "cell_type": "code",
   "execution_count": 131,
   "metadata": {},
   "outputs": [
    {
     "data": {
      "text/plain": [
       "2471"
      ]
     },
     "execution_count": 131,
     "metadata": {},
     "output_type": "execute_result"
    }
   ],
   "source": [
    "neonates_prescriptions['HADM_ID'].nunique()"
   ]
  },
  {
   "cell_type": "code",
   "execution_count": 132,
   "metadata": {},
   "outputs": [],
   "source": [
    "neonates_prescriptions.to_csv('Data_3173_Stat/neonates_prescriptions.csv', index=False)"
   ]
  },
  {
   "cell_type": "markdown",
   "metadata": {},
   "source": [
    "# Lab Test"
   ]
  },
  {
   "cell_type": "code",
   "execution_count": 119,
   "metadata": {},
   "outputs": [],
   "source": [
    "MAIN_DIR = \"LabEvents_Features/\"\n",
    "\n",
    "bilirubin_direct = pd.read_csv(MAIN_DIR + \"neonates_bilirubin_direct.csv\")\n",
    "bilirubin_indirect = pd.read_csv(MAIN_DIR + \"neonates_bilirubin_indirect.csv\")\n",
    "bilirubin_total = pd.read_csv(MAIN_DIR + \"neonates_bilirubin_total.csv\")"
   ]
  },
  {
   "cell_type": "markdown",
   "metadata": {},
   "source": [
    "### bilirubin_direct"
   ]
  },
  {
   "cell_type": "code",
   "execution_count": 120,
   "metadata": {},
   "outputs": [
    {
     "data": {
      "text/html": [
       "<div>\n",
       "<style scoped>\n",
       "    .dataframe tbody tr th:only-of-type {\n",
       "        vertical-align: middle;\n",
       "    }\n",
       "\n",
       "    .dataframe tbody tr th {\n",
       "        vertical-align: top;\n",
       "    }\n",
       "\n",
       "    .dataframe thead th {\n",
       "        text-align: right;\n",
       "    }\n",
       "</style>\n",
       "<table border=\"1\" class=\"dataframe\">\n",
       "  <thead>\n",
       "    <tr style=\"text-align: right;\">\n",
       "      <th></th>\n",
       "      <th>subject_id</th>\n",
       "      <th>HADM_ID</th>\n",
       "      <th>ITEMID</th>\n",
       "      <th>CHARTTIME</th>\n",
       "      <th>VALUENUM</th>\n",
       "      <th>VALUEUOM</th>\n",
       "      <th>ABNORMAL_FLAG</th>\n",
       "      <th>LABEL</th>\n",
       "      <th>FLUID</th>\n",
       "    </tr>\n",
       "  </thead>\n",
       "  <tbody>\n",
       "    <tr>\n",
       "      <th>0</th>\n",
       "      <td>2</td>\n",
       "      <td>163353.0</td>\n",
       "      <td>50883</td>\n",
       "      <td>2138-07-20 06:30:00</td>\n",
       "      <td>0.3</td>\n",
       "      <td>mg/dL</td>\n",
       "      <td>0</td>\n",
       "      <td>Bilirubin, Direct</td>\n",
       "      <td>Blood</td>\n",
       "    </tr>\n",
       "    <tr>\n",
       "      <th>1</th>\n",
       "      <td>7</td>\n",
       "      <td>118037.0</td>\n",
       "      <td>50883</td>\n",
       "      <td>2121-05-26 22:00:00</td>\n",
       "      <td>0.3</td>\n",
       "      <td>mg/dL</td>\n",
       "      <td>0</td>\n",
       "      <td>Bilirubin, Direct</td>\n",
       "      <td>Blood</td>\n",
       "    </tr>\n",
       "    <tr>\n",
       "      <th>2</th>\n",
       "      <td>8</td>\n",
       "      <td>159514.0</td>\n",
       "      <td>50883</td>\n",
       "      <td>2117-11-22 04:30:00</td>\n",
       "      <td>0.2</td>\n",
       "      <td>mg/dL</td>\n",
       "      <td>0</td>\n",
       "      <td>Bilirubin, Direct</td>\n",
       "      <td>Blood</td>\n",
       "    </tr>\n",
       "    <tr>\n",
       "      <th>3</th>\n",
       "      <td>8</td>\n",
       "      <td>159514.0</td>\n",
       "      <td>50883</td>\n",
       "      <td>2117-11-24 01:00:00</td>\n",
       "      <td>0.3</td>\n",
       "      <td>mg/dL</td>\n",
       "      <td>0</td>\n",
       "      <td>Bilirubin, Direct</td>\n",
       "      <td>Blood</td>\n",
       "    </tr>\n",
       "    <tr>\n",
       "      <th>4</th>\n",
       "      <td>8</td>\n",
       "      <td>159514.0</td>\n",
       "      <td>50883</td>\n",
       "      <td>2117-11-24 11:00:00</td>\n",
       "      <td>0.2</td>\n",
       "      <td>mg/dL</td>\n",
       "      <td>0</td>\n",
       "      <td>Bilirubin, Direct</td>\n",
       "      <td>Blood</td>\n",
       "    </tr>\n",
       "  </tbody>\n",
       "</table>\n",
       "</div>"
      ],
      "text/plain": [
       "   subject_id   HADM_ID  ITEMID            CHARTTIME  VALUENUM VALUEUOM  \\\n",
       "0           2  163353.0   50883  2138-07-20 06:30:00       0.3    mg/dL   \n",
       "1           7  118037.0   50883  2121-05-26 22:00:00       0.3    mg/dL   \n",
       "2           8  159514.0   50883  2117-11-22 04:30:00       0.2    mg/dL   \n",
       "3           8  159514.0   50883  2117-11-24 01:00:00       0.3    mg/dL   \n",
       "4           8  159514.0   50883  2117-11-24 11:00:00       0.2    mg/dL   \n",
       "\n",
       "   ABNORMAL_FLAG              LABEL  FLUID  \n",
       "0              0  Bilirubin, Direct  Blood  \n",
       "1              0  Bilirubin, Direct  Blood  \n",
       "2              0  Bilirubin, Direct  Blood  \n",
       "3              0  Bilirubin, Direct  Blood  \n",
       "4              0  Bilirubin, Direct  Blood  "
      ]
     },
     "execution_count": 120,
     "metadata": {},
     "output_type": "execute_result"
    }
   ],
   "source": [
    "bilirubin_direct.head()"
   ]
  },
  {
   "cell_type": "code",
   "execution_count": 121,
   "metadata": {},
   "outputs": [
    {
     "data": {
      "text/plain": [
       "Index(['subject_id', 'HADM_ID', 'ITEMID', 'CHARTTIME', 'VALUENUM', 'VALUEUOM',\n",
       "       'ABNORMAL_FLAG', 'LABEL', 'FLUID'],\n",
       "      dtype='object')"
      ]
     },
     "execution_count": 121,
     "metadata": {},
     "output_type": "execute_result"
    }
   ],
   "source": [
    "bilirubin_direct.columns"
   ]
  },
  {
   "cell_type": "code",
   "execution_count": 122,
   "metadata": {},
   "outputs": [],
   "source": [
    "bilirubin_direct = pd.merge(master_neonates_ids.to_frame(), bilirubin_direct, on='HADM_ID', how='inner') "
   ]
  },
  {
   "cell_type": "code",
   "execution_count": null,
   "metadata": {},
   "outputs": [],
   "source": [
    "bilirubin_direct['HADM_ID']."
   ]
  }
 ],
 "metadata": {
  "kernelspec": {
   "display_name": "Python 3",
   "language": "python",
   "name": "python3"
  },
  "language_info": {
   "codemirror_mode": {
    "name": "ipython",
    "version": 3
   },
   "file_extension": ".py",
   "mimetype": "text/x-python",
   "name": "python",
   "nbconvert_exporter": "python",
   "pygments_lexer": "ipython3",
   "version": "3.8.5"
  }
 },
 "nbformat": 4,
 "nbformat_minor": 4
}
