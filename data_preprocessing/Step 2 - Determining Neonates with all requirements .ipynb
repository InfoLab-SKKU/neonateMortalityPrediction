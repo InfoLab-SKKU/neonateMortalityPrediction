{
 "cells": [
  {
   "cell_type": "code",
   "execution_count": 1,
   "metadata": {},
   "outputs": [],
   "source": [
    "import pandas as pd\n",
    "from datetime import datetime\n",
    "import seaborn as sns\n",
    "\n",
    "import warnings\n",
    "warnings.filterwarnings('ignore')"
   ]
  },
  {
   "cell_type": "code",
   "execution_count": 2,
   "metadata": {},
   "outputs": [],
   "source": [
    "def side_by_side(*objs, **kwds):\n",
    "    from pandas.io.formats.printing import adjoin\n",
    "    space = kwds.get('space', 4)\n",
    "    reprs = [repr(obj).split('\\n') for obj in objs]\n",
    "    print (adjoin(space, *reprs))\n",
    "    print()\n",
    "    return"
   ]
  },
  {
   "cell_type": "markdown",
   "metadata": {},
   "source": [
    "## Load Data "
   ]
  },
  {
   "cell_type": "markdown",
   "metadata": {},
   "source": [
    "## 1.1 Heart Rate "
   ]
  },
  {
   "cell_type": "code",
   "execution_count": 3,
   "metadata": {},
   "outputs": [],
   "source": [
    "heart_rate_df = pd.read_csv(\"Data_3173_TS/heart_rate.csv\")  "
   ]
  },
  {
   "cell_type": "code",
   "execution_count": 4,
   "metadata": {},
   "outputs": [
    {
     "data": {
      "text/html": [
       "<div>\n",
       "<style scoped>\n",
       "    .dataframe tbody tr th:only-of-type {\n",
       "        vertical-align: middle;\n",
       "    }\n",
       "\n",
       "    .dataframe tbody tr th {\n",
       "        vertical-align: top;\n",
       "    }\n",
       "\n",
       "    .dataframe thead th {\n",
       "        text-align: right;\n",
       "    }\n",
       "</style>\n",
       "<table border=\"1\" class=\"dataframe\">\n",
       "  <thead>\n",
       "    <tr style=\"text-align: right;\">\n",
       "      <th></th>\n",
       "      <th>subject_id_x</th>\n",
       "      <th>HADM_ID</th>\n",
       "      <th>CHARTTIME</th>\n",
       "      <th>VALUENUM</th>\n",
       "      <th>subject_id_y</th>\n",
       "      <th>ADMITTIME</th>\n",
       "      <th>DISCHTIME</th>\n",
       "      <th>Dead</th>\n",
       "    </tr>\n",
       "  </thead>\n",
       "  <tbody>\n",
       "    <tr>\n",
       "      <th>0</th>\n",
       "      <td>10824</td>\n",
       "      <td>143406</td>\n",
       "      <td>2126-07-01 06:00:00</td>\n",
       "      <td>145.0</td>\n",
       "      <td>10824</td>\n",
       "      <td>2126-06-12 22:08:00</td>\n",
       "      <td>2126-07-15 13:40:00</td>\n",
       "      <td>0</td>\n",
       "    </tr>\n",
       "    <tr>\n",
       "      <th>1</th>\n",
       "      <td>10824</td>\n",
       "      <td>143406</td>\n",
       "      <td>2126-07-01 07:00:00</td>\n",
       "      <td>136.0</td>\n",
       "      <td>10824</td>\n",
       "      <td>2126-06-12 22:08:00</td>\n",
       "      <td>2126-07-15 13:40:00</td>\n",
       "      <td>0</td>\n",
       "    </tr>\n",
       "    <tr>\n",
       "      <th>2</th>\n",
       "      <td>10824</td>\n",
       "      <td>143406</td>\n",
       "      <td>2126-07-03 16:00:00</td>\n",
       "      <td>147.0</td>\n",
       "      <td>10824</td>\n",
       "      <td>2126-06-12 22:08:00</td>\n",
       "      <td>2126-07-15 13:40:00</td>\n",
       "      <td>0</td>\n",
       "    </tr>\n",
       "    <tr>\n",
       "      <th>3</th>\n",
       "      <td>10824</td>\n",
       "      <td>143406</td>\n",
       "      <td>2126-06-18 16:00:00</td>\n",
       "      <td>153.0</td>\n",
       "      <td>10824</td>\n",
       "      <td>2126-06-12 22:08:00</td>\n",
       "      <td>2126-07-15 13:40:00</td>\n",
       "      <td>0</td>\n",
       "    </tr>\n",
       "    <tr>\n",
       "      <th>4</th>\n",
       "      <td>10824</td>\n",
       "      <td>143406</td>\n",
       "      <td>2126-06-18 17:00:00</td>\n",
       "      <td>151.0</td>\n",
       "      <td>10824</td>\n",
       "      <td>2126-06-12 22:08:00</td>\n",
       "      <td>2126-07-15 13:40:00</td>\n",
       "      <td>0</td>\n",
       "    </tr>\n",
       "  </tbody>\n",
       "</table>\n",
       "</div>"
      ],
      "text/plain": [
       "   subject_id_x  HADM_ID            CHARTTIME  VALUENUM  subject_id_y  \\\n",
       "0         10824   143406  2126-07-01 06:00:00     145.0         10824   \n",
       "1         10824   143406  2126-07-01 07:00:00     136.0         10824   \n",
       "2         10824   143406  2126-07-03 16:00:00     147.0         10824   \n",
       "3         10824   143406  2126-06-18 16:00:00     153.0         10824   \n",
       "4         10824   143406  2126-06-18 17:00:00     151.0         10824   \n",
       "\n",
       "             ADMITTIME            DISCHTIME  Dead  \n",
       "0  2126-06-12 22:08:00  2126-07-15 13:40:00     0  \n",
       "1  2126-06-12 22:08:00  2126-07-15 13:40:00     0  \n",
       "2  2126-06-12 22:08:00  2126-07-15 13:40:00     0  \n",
       "3  2126-06-12 22:08:00  2126-07-15 13:40:00     0  \n",
       "4  2126-06-12 22:08:00  2126-07-15 13:40:00     0  "
      ]
     },
     "execution_count": 4,
     "metadata": {},
     "output_type": "execute_result"
    }
   ],
   "source": [
    "heart_rate_df.head()"
   ]
  },
  {
   "cell_type": "code",
   "execution_count": 5,
   "metadata": {},
   "outputs": [
    {
     "data": {
      "text/plain": [
       "3299"
      ]
     },
     "execution_count": 5,
     "metadata": {},
     "output_type": "execute_result"
    }
   ],
   "source": [
    "heart_rate_df['HADM_ID'].nunique()"
   ]
  },
  {
   "cell_type": "code",
   "execution_count": 6,
   "metadata": {},
   "outputs": [
    {
     "name": "stdout",
     "output_type": "stream",
     "text": [
      "<class 'pandas.core.frame.DataFrame'>\n",
      "RangeIndex: 1542782 entries, 0 to 1542781\n",
      "Data columns (total 8 columns):\n",
      " #   Column        Non-Null Count    Dtype  \n",
      "---  ------        --------------    -----  \n",
      " 0   subject_id_x  1542782 non-null  int64  \n",
      " 1   HADM_ID       1542782 non-null  int64  \n",
      " 2   CHARTTIME     1542782 non-null  object \n",
      " 3   VALUENUM      1542367 non-null  float64\n",
      " 4   subject_id_y  1542782 non-null  int64  \n",
      " 5   ADMITTIME     1542782 non-null  object \n",
      " 6   DISCHTIME     1542782 non-null  object \n",
      " 7   Dead          1542782 non-null  int64  \n",
      "dtypes: float64(1), int64(4), object(3)\n",
      "memory usage: 94.2+ MB\n"
     ]
    }
   ],
   "source": [
    "heart_rate_df.info()"
   ]
  },
  {
   "cell_type": "code",
   "execution_count": 7,
   "metadata": {},
   "outputs": [
    {
     "name": "stdout",
     "output_type": "stream",
     "text": [
      "Computing time takes 0:00:01.094173\n"
     ]
    }
   ],
   "source": [
    "start = datetime.now()\n",
    "heart_rate_df['CHARTTIME'] = heart_rate_df['CHARTTIME'].astype('datetime64[ns]')\n",
    "heart_rate_df['ADMITTIME'] = heart_rate_df['ADMITTIME'].astype('datetime64[ns]')\n",
    "\n",
    "print(\"Computing time takes %s\" %(datetime.now()-start))"
   ]
  },
  {
   "cell_type": "code",
   "execution_count": 8,
   "metadata": {},
   "outputs": [],
   "source": [
    "## Sort dataframe \n",
    "heart_rate_df.sort_values(by=['HADM_ID', 'CHARTTIME'], inplace=True)  \n",
    "\n",
    "## Giving row number to every row \n",
    "heart_rate_df['row'] = heart_rate_df.groupby(['HADM_ID']).cumcount()+1\n",
    "\n",
    "## Take the first row \n",
    "heart_rate_1 = heart_rate_df[heart_rate_df.row == 1]"
   ]
  },
  {
   "cell_type": "code",
   "execution_count": 9,
   "metadata": {},
   "outputs": [],
   "source": [
    "heart_rate_1 = heart_rate_df[heart_rate_df.row == 1]"
   ]
  },
  {
   "cell_type": "code",
   "execution_count": 12,
   "metadata": {},
   "outputs": [
    {
     "data": {
      "text/html": [
       "<div>\n",
       "<style scoped>\n",
       "    .dataframe tbody tr th:only-of-type {\n",
       "        vertical-align: middle;\n",
       "    }\n",
       "\n",
       "    .dataframe tbody tr th {\n",
       "        vertical-align: top;\n",
       "    }\n",
       "\n",
       "    .dataframe thead th {\n",
       "        text-align: right;\n",
       "    }\n",
       "</style>\n",
       "<table border=\"1\" class=\"dataframe\">\n",
       "  <thead>\n",
       "    <tr style=\"text-align: right;\">\n",
       "      <th></th>\n",
       "      <th>subject_id_x</th>\n",
       "      <th>HADM_ID</th>\n",
       "      <th>CHARTTIME</th>\n",
       "      <th>VALUENUM</th>\n",
       "      <th>subject_id_y</th>\n",
       "      <th>ADMITTIME</th>\n",
       "      <th>DISCHTIME</th>\n",
       "      <th>Dead</th>\n",
       "      <th>row</th>\n",
       "    </tr>\n",
       "  </thead>\n",
       "  <tbody>\n",
       "    <tr>\n",
       "      <th>196004</th>\n",
       "      <td>14509</td>\n",
       "      <td>100029</td>\n",
       "      <td>2185-04-17 11:00:00</td>\n",
       "      <td>154.0</td>\n",
       "      <td>14509</td>\n",
       "      <td>2185-04-17 11:50:00</td>\n",
       "      <td>2185-05-02 12:00:00</td>\n",
       "      <td>0</td>\n",
       "      <td>1</td>\n",
       "    </tr>\n",
       "    <tr>\n",
       "      <th>993739</th>\n",
       "      <td>677</td>\n",
       "      <td>100044</td>\n",
       "      <td>2195-08-12 15:13:00</td>\n",
       "      <td>154.0</td>\n",
       "      <td>677</td>\n",
       "      <td>2195-08-12 15:36:00</td>\n",
       "      <td>2195-09-14 10:50:00</td>\n",
       "      <td>0</td>\n",
       "      <td>1</td>\n",
       "    </tr>\n",
       "    <tr>\n",
       "      <th>1344058</th>\n",
       "      <td>7174</td>\n",
       "      <td>100062</td>\n",
       "      <td>2169-08-03 12:45:00</td>\n",
       "      <td>156.0</td>\n",
       "      <td>7174</td>\n",
       "      <td>2169-08-03 13:26:00</td>\n",
       "      <td>2169-08-10 12:30:00</td>\n",
       "      <td>0</td>\n",
       "      <td>1</td>\n",
       "    </tr>\n",
       "    <tr>\n",
       "      <th>960792</th>\n",
       "      <td>32597</td>\n",
       "      <td>100081</td>\n",
       "      <td>2156-11-17 15:00:00</td>\n",
       "      <td>165.0</td>\n",
       "      <td>32597</td>\n",
       "      <td>2156-11-17 15:25:00</td>\n",
       "      <td>2156-11-21 14:00:00</td>\n",
       "      <td>0</td>\n",
       "      <td>1</td>\n",
       "    </tr>\n",
       "    <tr>\n",
       "      <th>23930</th>\n",
       "      <td>11221</td>\n",
       "      <td>100096</td>\n",
       "      <td>2156-07-21 20:00:00</td>\n",
       "      <td>158.0</td>\n",
       "      <td>11221</td>\n",
       "      <td>2156-07-21 20:46:00</td>\n",
       "      <td>2156-09-03 16:45:00</td>\n",
       "      <td>0</td>\n",
       "      <td>1</td>\n",
       "    </tr>\n",
       "  </tbody>\n",
       "</table>\n",
       "</div>"
      ],
      "text/plain": [
       "         subject_id_x  HADM_ID           CHARTTIME  VALUENUM  subject_id_y  \\\n",
       "196004          14509   100029 2185-04-17 11:00:00     154.0         14509   \n",
       "993739            677   100044 2195-08-12 15:13:00     154.0           677   \n",
       "1344058          7174   100062 2169-08-03 12:45:00     156.0          7174   \n",
       "960792          32597   100081 2156-11-17 15:00:00     165.0         32597   \n",
       "23930           11221   100096 2156-07-21 20:00:00     158.0         11221   \n",
       "\n",
       "                  ADMITTIME            DISCHTIME  Dead  row  \n",
       "196004  2185-04-17 11:50:00  2185-05-02 12:00:00     0    1  \n",
       "993739  2195-08-12 15:36:00  2195-09-14 10:50:00     0    1  \n",
       "1344058 2169-08-03 13:26:00  2169-08-10 12:30:00     0    1  \n",
       "960792  2156-11-17 15:25:00  2156-11-21 14:00:00     0    1  \n",
       "23930   2156-07-21 20:46:00  2156-09-03 16:45:00     0    1  "
      ]
     },
     "execution_count": 12,
     "metadata": {},
     "output_type": "execute_result"
    }
   ],
   "source": [
    "heart_rate_1.head()"
   ]
  },
  {
   "cell_type": "code",
   "execution_count": 13,
   "metadata": {},
   "outputs": [
    {
     "data": {
      "text/plain": [
       "Index(['subject_id_x', 'HADM_ID', 'CHARTTIME', 'VALUENUM', 'subject_id_y',\n",
       "       'ADMITTIME', 'DISCHTIME', 'Dead', 'row'],\n",
       "      dtype='object')"
      ]
     },
     "execution_count": 13,
     "metadata": {},
     "output_type": "execute_result"
    }
   ],
   "source": [
    "heart_rate_1.columns "
   ]
  },
  {
   "cell_type": "code",
   "execution_count": 14,
   "metadata": {},
   "outputs": [],
   "source": [
    "heart_rate_1['DIFF'] = heart_rate_1['CHARTTIME'] - heart_rate_1['ADMITTIME']"
   ]
  },
  {
   "cell_type": "code",
   "execution_count": 15,
   "metadata": {
    "scrolled": true
   },
   "outputs": [
    {
     "data": {
      "text/html": [
       "<div>\n",
       "<style scoped>\n",
       "    .dataframe tbody tr th:only-of-type {\n",
       "        vertical-align: middle;\n",
       "    }\n",
       "\n",
       "    .dataframe tbody tr th {\n",
       "        vertical-align: top;\n",
       "    }\n",
       "\n",
       "    .dataframe thead th {\n",
       "        text-align: right;\n",
       "    }\n",
       "</style>\n",
       "<table border=\"1\" class=\"dataframe\">\n",
       "  <thead>\n",
       "    <tr style=\"text-align: right;\">\n",
       "      <th></th>\n",
       "      <th>subject_id_x</th>\n",
       "      <th>HADM_ID</th>\n",
       "      <th>VALUENUM</th>\n",
       "      <th>subject_id_y</th>\n",
       "      <th>Dead</th>\n",
       "      <th>row</th>\n",
       "      <th>DIFF</th>\n",
       "    </tr>\n",
       "  </thead>\n",
       "  <tbody>\n",
       "    <tr>\n",
       "      <th>count</th>\n",
       "      <td>3299.000000</td>\n",
       "      <td>3299.000000</td>\n",
       "      <td>3294.000000</td>\n",
       "      <td>3299.000000</td>\n",
       "      <td>3299.000000</td>\n",
       "      <td>3299.0</td>\n",
       "      <td>3299</td>\n",
       "    </tr>\n",
       "    <tr>\n",
       "      <th>mean</th>\n",
       "      <td>15437.648985</td>\n",
       "      <td>150056.039406</td>\n",
       "      <td>154.541591</td>\n",
       "      <td>15437.648985</td>\n",
       "      <td>0.015762</td>\n",
       "      <td>1.0</td>\n",
       "      <td>0 days 02:16:26.626250378</td>\n",
       "    </tr>\n",
       "    <tr>\n",
       "      <th>std</th>\n",
       "      <td>9141.387020</td>\n",
       "      <td>28901.234203</td>\n",
       "      <td>17.217494</td>\n",
       "      <td>9141.387020</td>\n",
       "      <td>0.124574</td>\n",
       "      <td>0.0</td>\n",
       "      <td>1 days 08:48:50.821757</td>\n",
       "    </tr>\n",
       "    <tr>\n",
       "      <th>min</th>\n",
       "      <td>10.000000</td>\n",
       "      <td>100029.000000</td>\n",
       "      <td>78.000000</td>\n",
       "      <td>10.000000</td>\n",
       "      <td>0.000000</td>\n",
       "      <td>1.0</td>\n",
       "      <td>-1 days +14:15:00</td>\n",
       "    </tr>\n",
       "    <tr>\n",
       "      <th>25%</th>\n",
       "      <td>7541.000000</td>\n",
       "      <td>125071.000000</td>\n",
       "      <td>142.000000</td>\n",
       "      <td>7541.000000</td>\n",
       "      <td>0.000000</td>\n",
       "      <td>1.0</td>\n",
       "      <td>-1 days +23:16:00</td>\n",
       "    </tr>\n",
       "    <tr>\n",
       "      <th>50%</th>\n",
       "      <td>15306.000000</td>\n",
       "      <td>149769.000000</td>\n",
       "      <td>156.000000</td>\n",
       "      <td>15306.000000</td>\n",
       "      <td>0.000000</td>\n",
       "      <td>1.0</td>\n",
       "      <td>0 days 00:03:00</td>\n",
       "    </tr>\n",
       "    <tr>\n",
       "      <th>75%</th>\n",
       "      <td>23073.000000</td>\n",
       "      <td>175310.000000</td>\n",
       "      <td>166.000000</td>\n",
       "      <td>23073.000000</td>\n",
       "      <td>0.000000</td>\n",
       "      <td>1.0</td>\n",
       "      <td>0 days 00:22:00</td>\n",
       "    </tr>\n",
       "    <tr>\n",
       "      <th>max</th>\n",
       "      <td>32806.000000</td>\n",
       "      <td>199918.000000</td>\n",
       "      <td>300.000000</td>\n",
       "      <td>32806.000000</td>\n",
       "      <td>1.000000</td>\n",
       "      <td>1.0</td>\n",
       "      <td>55 days 07:13:00</td>\n",
       "    </tr>\n",
       "  </tbody>\n",
       "</table>\n",
       "</div>"
      ],
      "text/plain": [
       "       subject_id_x        HADM_ID     VALUENUM  subject_id_y         Dead  \\\n",
       "count   3299.000000    3299.000000  3294.000000   3299.000000  3299.000000   \n",
       "mean   15437.648985  150056.039406   154.541591  15437.648985     0.015762   \n",
       "std     9141.387020   28901.234203    17.217494   9141.387020     0.124574   \n",
       "min       10.000000  100029.000000    78.000000     10.000000     0.000000   \n",
       "25%     7541.000000  125071.000000   142.000000   7541.000000     0.000000   \n",
       "50%    15306.000000  149769.000000   156.000000  15306.000000     0.000000   \n",
       "75%    23073.000000  175310.000000   166.000000  23073.000000     0.000000   \n",
       "max    32806.000000  199918.000000   300.000000  32806.000000     1.000000   \n",
       "\n",
       "          row                       DIFF  \n",
       "count  3299.0                       3299  \n",
       "mean      1.0  0 days 02:16:26.626250378  \n",
       "std       0.0     1 days 08:48:50.821757  \n",
       "min       1.0          -1 days +14:15:00  \n",
       "25%       1.0          -1 days +23:16:00  \n",
       "50%       1.0            0 days 00:03:00  \n",
       "75%       1.0            0 days 00:22:00  \n",
       "max       1.0           55 days 07:13:00  "
      ]
     },
     "execution_count": 15,
     "metadata": {},
     "output_type": "execute_result"
    }
   ],
   "source": [
    "heart_rate_1.describe()"
   ]
  },
  {
   "cell_type": "code",
   "execution_count": 16,
   "metadata": {},
   "outputs": [],
   "source": [
    "heart_rate_1['TIME_INTERVAL'] = heart_rate_1['CHARTTIME'] - heart_rate_1['ADMITTIME']"
   ]
  },
  {
   "cell_type": "code",
   "execution_count": 17,
   "metadata": {},
   "outputs": [
    {
     "data": {
      "text/html": [
       "<div>\n",
       "<style scoped>\n",
       "    .dataframe tbody tr th:only-of-type {\n",
       "        vertical-align: middle;\n",
       "    }\n",
       "\n",
       "    .dataframe tbody tr th {\n",
       "        vertical-align: top;\n",
       "    }\n",
       "\n",
       "    .dataframe thead th {\n",
       "        text-align: right;\n",
       "    }\n",
       "</style>\n",
       "<table border=\"1\" class=\"dataframe\">\n",
       "  <thead>\n",
       "    <tr style=\"text-align: right;\">\n",
       "      <th></th>\n",
       "      <th>subject_id_x</th>\n",
       "      <th>HADM_ID</th>\n",
       "      <th>CHARTTIME</th>\n",
       "      <th>VALUENUM</th>\n",
       "      <th>subject_id_y</th>\n",
       "      <th>ADMITTIME</th>\n",
       "      <th>DISCHTIME</th>\n",
       "      <th>Dead</th>\n",
       "      <th>row</th>\n",
       "      <th>DIFF</th>\n",
       "      <th>TIME_INTERVAL</th>\n",
       "    </tr>\n",
       "  </thead>\n",
       "  <tbody>\n",
       "    <tr>\n",
       "      <th>196004</th>\n",
       "      <td>14509</td>\n",
       "      <td>100029</td>\n",
       "      <td>2185-04-17 11:00:00</td>\n",
       "      <td>154.0</td>\n",
       "      <td>14509</td>\n",
       "      <td>2185-04-17 11:50:00</td>\n",
       "      <td>2185-05-02 12:00:00</td>\n",
       "      <td>0</td>\n",
       "      <td>1</td>\n",
       "      <td>-1 days +23:10:00</td>\n",
       "      <td>-1 days +23:10:00</td>\n",
       "    </tr>\n",
       "    <tr>\n",
       "      <th>993739</th>\n",
       "      <td>677</td>\n",
       "      <td>100044</td>\n",
       "      <td>2195-08-12 15:13:00</td>\n",
       "      <td>154.0</td>\n",
       "      <td>677</td>\n",
       "      <td>2195-08-12 15:36:00</td>\n",
       "      <td>2195-09-14 10:50:00</td>\n",
       "      <td>0</td>\n",
       "      <td>1</td>\n",
       "      <td>-1 days +23:37:00</td>\n",
       "      <td>-1 days +23:37:00</td>\n",
       "    </tr>\n",
       "    <tr>\n",
       "      <th>1344058</th>\n",
       "      <td>7174</td>\n",
       "      <td>100062</td>\n",
       "      <td>2169-08-03 12:45:00</td>\n",
       "      <td>156.0</td>\n",
       "      <td>7174</td>\n",
       "      <td>2169-08-03 13:26:00</td>\n",
       "      <td>2169-08-10 12:30:00</td>\n",
       "      <td>0</td>\n",
       "      <td>1</td>\n",
       "      <td>-1 days +23:19:00</td>\n",
       "      <td>-1 days +23:19:00</td>\n",
       "    </tr>\n",
       "    <tr>\n",
       "      <th>960792</th>\n",
       "      <td>32597</td>\n",
       "      <td>100081</td>\n",
       "      <td>2156-11-17 15:00:00</td>\n",
       "      <td>165.0</td>\n",
       "      <td>32597</td>\n",
       "      <td>2156-11-17 15:25:00</td>\n",
       "      <td>2156-11-21 14:00:00</td>\n",
       "      <td>0</td>\n",
       "      <td>1</td>\n",
       "      <td>-1 days +23:35:00</td>\n",
       "      <td>-1 days +23:35:00</td>\n",
       "    </tr>\n",
       "    <tr>\n",
       "      <th>23930</th>\n",
       "      <td>11221</td>\n",
       "      <td>100096</td>\n",
       "      <td>2156-07-21 20:00:00</td>\n",
       "      <td>158.0</td>\n",
       "      <td>11221</td>\n",
       "      <td>2156-07-21 20:46:00</td>\n",
       "      <td>2156-09-03 16:45:00</td>\n",
       "      <td>0</td>\n",
       "      <td>1</td>\n",
       "      <td>-1 days +23:14:00</td>\n",
       "      <td>-1 days +23:14:00</td>\n",
       "    </tr>\n",
       "    <tr>\n",
       "      <th>...</th>\n",
       "      <td>...</td>\n",
       "      <td>...</td>\n",
       "      <td>...</td>\n",
       "      <td>...</td>\n",
       "      <td>...</td>\n",
       "      <td>...</td>\n",
       "      <td>...</td>\n",
       "      <td>...</td>\n",
       "      <td>...</td>\n",
       "      <td>...</td>\n",
       "      <td>...</td>\n",
       "    </tr>\n",
       "    <tr>\n",
       "      <th>1203958</th>\n",
       "      <td>4440</td>\n",
       "      <td>199901</td>\n",
       "      <td>2173-04-05 20:00:00</td>\n",
       "      <td>145.0</td>\n",
       "      <td>4440</td>\n",
       "      <td>2173-04-05 19:40:00</td>\n",
       "      <td>2173-04-16 14:40:00</td>\n",
       "      <td>0</td>\n",
       "      <td>1</td>\n",
       "      <td>0 days 00:20:00</td>\n",
       "      <td>0 days 00:20:00</td>\n",
       "    </tr>\n",
       "    <tr>\n",
       "      <th>555361</th>\n",
       "      <td>21938</td>\n",
       "      <td>199904</td>\n",
       "      <td>2184-03-28 13:45:00</td>\n",
       "      <td>138.0</td>\n",
       "      <td>21938</td>\n",
       "      <td>2184-03-28 14:11:00</td>\n",
       "      <td>2184-04-14 16:30:00</td>\n",
       "      <td>0</td>\n",
       "      <td>1</td>\n",
       "      <td>-1 days +23:34:00</td>\n",
       "      <td>-1 days +23:34:00</td>\n",
       "    </tr>\n",
       "    <tr>\n",
       "      <th>162904</th>\n",
       "      <td>13756</td>\n",
       "      <td>199913</td>\n",
       "      <td>2197-12-13 16:15:00</td>\n",
       "      <td>167.0</td>\n",
       "      <td>13756</td>\n",
       "      <td>2197-12-13 15:44:00</td>\n",
       "      <td>2198-01-06 18:45:00</td>\n",
       "      <td>0</td>\n",
       "      <td>1</td>\n",
       "      <td>0 days 00:31:00</td>\n",
       "      <td>0 days 00:31:00</td>\n",
       "    </tr>\n",
       "    <tr>\n",
       "      <th>1149878</th>\n",
       "      <td>3077</td>\n",
       "      <td>199917</td>\n",
       "      <td>2113-01-30 04:00:00</td>\n",
       "      <td>178.0</td>\n",
       "      <td>3077</td>\n",
       "      <td>2113-01-30 02:55:00</td>\n",
       "      <td>2113-02-08 14:15:00</td>\n",
       "      <td>0</td>\n",
       "      <td>1</td>\n",
       "      <td>0 days 01:05:00</td>\n",
       "      <td>0 days 01:05:00</td>\n",
       "    </tr>\n",
       "    <tr>\n",
       "      <th>736696</th>\n",
       "      <td>25768</td>\n",
       "      <td>199918</td>\n",
       "      <td>2111-04-06 18:30:00</td>\n",
       "      <td>168.0</td>\n",
       "      <td>25768</td>\n",
       "      <td>2111-04-06 18:16:00</td>\n",
       "      <td>2111-05-28 13:55:00</td>\n",
       "      <td>0</td>\n",
       "      <td>1</td>\n",
       "      <td>0 days 00:14:00</td>\n",
       "      <td>0 days 00:14:00</td>\n",
       "    </tr>\n",
       "  </tbody>\n",
       "</table>\n",
       "<p>3233 rows × 11 columns</p>\n",
       "</div>"
      ],
      "text/plain": [
       "         subject_id_x  HADM_ID           CHARTTIME  VALUENUM  subject_id_y  \\\n",
       "196004          14509   100029 2185-04-17 11:00:00     154.0         14509   \n",
       "993739            677   100044 2195-08-12 15:13:00     154.0           677   \n",
       "1344058          7174   100062 2169-08-03 12:45:00     156.0          7174   \n",
       "960792          32597   100081 2156-11-17 15:00:00     165.0         32597   \n",
       "23930           11221   100096 2156-07-21 20:00:00     158.0         11221   \n",
       "...               ...      ...                 ...       ...           ...   \n",
       "1203958          4440   199901 2173-04-05 20:00:00     145.0          4440   \n",
       "555361          21938   199904 2184-03-28 13:45:00     138.0         21938   \n",
       "162904          13756   199913 2197-12-13 16:15:00     167.0         13756   \n",
       "1149878          3077   199917 2113-01-30 04:00:00     178.0          3077   \n",
       "736696          25768   199918 2111-04-06 18:30:00     168.0         25768   \n",
       "\n",
       "                  ADMITTIME            DISCHTIME  Dead  row              DIFF  \\\n",
       "196004  2185-04-17 11:50:00  2185-05-02 12:00:00     0    1 -1 days +23:10:00   \n",
       "993739  2195-08-12 15:36:00  2195-09-14 10:50:00     0    1 -1 days +23:37:00   \n",
       "1344058 2169-08-03 13:26:00  2169-08-10 12:30:00     0    1 -1 days +23:19:00   \n",
       "960792  2156-11-17 15:25:00  2156-11-21 14:00:00     0    1 -1 days +23:35:00   \n",
       "23930   2156-07-21 20:46:00  2156-09-03 16:45:00     0    1 -1 days +23:14:00   \n",
       "...                     ...                  ...   ...  ...               ...   \n",
       "1203958 2173-04-05 19:40:00  2173-04-16 14:40:00     0    1   0 days 00:20:00   \n",
       "555361  2184-03-28 14:11:00  2184-04-14 16:30:00     0    1 -1 days +23:34:00   \n",
       "162904  2197-12-13 15:44:00  2198-01-06 18:45:00     0    1   0 days 00:31:00   \n",
       "1149878 2113-01-30 02:55:00  2113-02-08 14:15:00     0    1   0 days 01:05:00   \n",
       "736696  2111-04-06 18:16:00  2111-05-28 13:55:00     0    1   0 days 00:14:00   \n",
       "\n",
       "            TIME_INTERVAL  \n",
       "196004  -1 days +23:10:00  \n",
       "993739  -1 days +23:37:00  \n",
       "1344058 -1 days +23:19:00  \n",
       "960792  -1 days +23:35:00  \n",
       "23930   -1 days +23:14:00  \n",
       "...                   ...  \n",
       "1203958   0 days 00:20:00  \n",
       "555361  -1 days +23:34:00  \n",
       "162904    0 days 00:31:00  \n",
       "1149878   0 days 01:05:00  \n",
       "736696    0 days 00:14:00  \n",
       "\n",
       "[3233 rows x 11 columns]"
      ]
     },
     "execution_count": 17,
     "metadata": {},
     "output_type": "execute_result"
    }
   ],
   "source": [
    "heart_rate_1[(heart_rate_1.TIME_INTERVAL <= '1 days') & (heart_rate_1.TIME_INTERVAL >= '-1 days')]"
   ]
  },
  {
   "cell_type": "code",
   "execution_count": 18,
   "metadata": {},
   "outputs": [
    {
     "data": {
      "text/plain": [
       "(3299, 11)"
      ]
     },
     "execution_count": 18,
     "metadata": {},
     "output_type": "execute_result"
    }
   ],
   "source": [
    "heart_rate_1.shape "
   ]
  },
  {
   "cell_type": "code",
   "execution_count": 19,
   "metadata": {},
   "outputs": [],
   "source": [
    "admissions = heart_rate_1['HADM_ID']\n",
    "admissions = admissions.to_frame()"
   ]
  },
  {
   "cell_type": "code",
   "execution_count": 20,
   "metadata": {},
   "outputs": [
    {
     "data": {
      "text/plain": [
       "pandas.core.frame.DataFrame"
      ]
     },
     "execution_count": 20,
     "metadata": {},
     "output_type": "execute_result"
    }
   ],
   "source": [
    "type(admissions)"
   ]
  },
  {
   "cell_type": "code",
   "execution_count": 21,
   "metadata": {},
   "outputs": [],
   "source": [
    "heart_rate_24 = heart_rate_1[(heart_rate_1.TIME_INTERVAL <= '1 days') & (heart_rate_1.TIME_INTERVAL >= '-1 days')]"
   ]
  },
  {
   "cell_type": "code",
   "execution_count": 23,
   "metadata": {},
   "outputs": [
    {
     "data": {
      "text/plain": [
       "3233"
      ]
     },
     "execution_count": 23,
     "metadata": {},
     "output_type": "execute_result"
    }
   ],
   "source": [
    "heart_rate_24['HADM_ID'].nunique()"
   ]
  },
  {
   "cell_type": "code",
   "execution_count": 22,
   "metadata": {},
   "outputs": [
    {
     "data": {
      "text/html": [
       "<div>\n",
       "<style scoped>\n",
       "    .dataframe tbody tr th:only-of-type {\n",
       "        vertical-align: middle;\n",
       "    }\n",
       "\n",
       "    .dataframe tbody tr th {\n",
       "        vertical-align: top;\n",
       "    }\n",
       "\n",
       "    .dataframe thead th {\n",
       "        text-align: right;\n",
       "    }\n",
       "</style>\n",
       "<table border=\"1\" class=\"dataframe\">\n",
       "  <thead>\n",
       "    <tr style=\"text-align: right;\">\n",
       "      <th></th>\n",
       "      <th>HADM_ID</th>\n",
       "      <th>HeartRate</th>\n",
       "    </tr>\n",
       "  </thead>\n",
       "  <tbody>\n",
       "    <tr>\n",
       "      <th>196004</th>\n",
       "      <td>100029</td>\n",
       "      <td>True</td>\n",
       "    </tr>\n",
       "    <tr>\n",
       "      <th>993739</th>\n",
       "      <td>100044</td>\n",
       "      <td>True</td>\n",
       "    </tr>\n",
       "    <tr>\n",
       "      <th>1344058</th>\n",
       "      <td>100062</td>\n",
       "      <td>True</td>\n",
       "    </tr>\n",
       "    <tr>\n",
       "      <th>960792</th>\n",
       "      <td>100081</td>\n",
       "      <td>True</td>\n",
       "    </tr>\n",
       "    <tr>\n",
       "      <th>23930</th>\n",
       "      <td>100096</td>\n",
       "      <td>True</td>\n",
       "    </tr>\n",
       "  </tbody>\n",
       "</table>\n",
       "</div>"
      ],
      "text/plain": [
       "         HADM_ID  HeartRate\n",
       "196004    100029       True\n",
       "993739    100044       True\n",
       "1344058   100062       True\n",
       "960792    100081       True\n",
       "23930     100096       True"
      ]
     },
     "execution_count": 22,
     "metadata": {},
     "output_type": "execute_result"
    }
   ],
   "source": [
    "admissions['HeartRate'] = admissions['HADM_ID'].isin(heart_rate_24['HADM_ID'])\n",
    "admissions.head()"
   ]
  },
  {
   "cell_type": "code",
   "execution_count": 65,
   "metadata": {},
   "outputs": [
    {
     "data": {
      "text/plain": [
       "(3233, 22)"
      ]
     },
     "execution_count": 65,
     "metadata": {},
     "output_type": "execute_result"
    }
   ],
   "source": [
    "admissions[admissions['HeartRate'] == True].shape"
   ]
  },
  {
   "cell_type": "markdown",
   "metadata": {},
   "source": [
    "## 1.2 Resp Rate "
   ]
  },
  {
   "cell_type": "code",
   "execution_count": 24,
   "metadata": {},
   "outputs": [
    {
     "data": {
      "text/plain": [
       "(3221, 10)"
      ]
     },
     "execution_count": 24,
     "metadata": {},
     "output_type": "execute_result"
    }
   ],
   "source": [
    "resp_rate_df = pd.read_csv(\"Data_3173_TS/resp_rate.csv\")  \n",
    "\n",
    "resp_rate_df['CHARTTIME'] = resp_rate_df['CHARTTIME'].astype('datetime64[ns]')\n",
    "resp_rate_df['ADMITTIME'] = resp_rate_df['ADMITTIME'].astype('datetime64[ns]')\n",
    "\n",
    "## Sort dataframe \n",
    "resp_rate_df.sort_values(by=['HADM_ID', 'CHARTTIME'], inplace=True)  \n",
    "\n",
    "## Giving row number to every row \n",
    "resp_rate_df['row'] = resp_rate_df.groupby(['HADM_ID']).cumcount()+1\n",
    "\n",
    "## Take the first row \n",
    "resp_rate_1 = resp_rate_df[resp_rate_df.row == 1]\n",
    "\n",
    "resp_rate_1['TIME_INTERVAL'] = resp_rate_1['CHARTTIME'] - resp_rate_1['ADMITTIME'] \n",
    "\n",
    "resp_rate_24 = resp_rate_1[(resp_rate_1.TIME_INTERVAL <= '1 days') & (resp_rate_1.TIME_INTERVAL >= '-1 days')]\n",
    "\n",
    "resp_rate_24.shape"
   ]
  },
  {
   "cell_type": "code",
   "execution_count": 25,
   "metadata": {},
   "outputs": [
    {
     "data": {
      "text/html": [
       "<div>\n",
       "<style scoped>\n",
       "    .dataframe tbody tr th:only-of-type {\n",
       "        vertical-align: middle;\n",
       "    }\n",
       "\n",
       "    .dataframe tbody tr th {\n",
       "        vertical-align: top;\n",
       "    }\n",
       "\n",
       "    .dataframe thead th {\n",
       "        text-align: right;\n",
       "    }\n",
       "</style>\n",
       "<table border=\"1\" class=\"dataframe\">\n",
       "  <thead>\n",
       "    <tr style=\"text-align: right;\">\n",
       "      <th></th>\n",
       "      <th>HADM_ID</th>\n",
       "      <th>HeartRate</th>\n",
       "      <th>RespRate</th>\n",
       "    </tr>\n",
       "  </thead>\n",
       "  <tbody>\n",
       "    <tr>\n",
       "      <th>196004</th>\n",
       "      <td>100029</td>\n",
       "      <td>True</td>\n",
       "      <td>True</td>\n",
       "    </tr>\n",
       "    <tr>\n",
       "      <th>993739</th>\n",
       "      <td>100044</td>\n",
       "      <td>True</td>\n",
       "      <td>True</td>\n",
       "    </tr>\n",
       "    <tr>\n",
       "      <th>1344058</th>\n",
       "      <td>100062</td>\n",
       "      <td>True</td>\n",
       "      <td>True</td>\n",
       "    </tr>\n",
       "    <tr>\n",
       "      <th>960792</th>\n",
       "      <td>100081</td>\n",
       "      <td>True</td>\n",
       "      <td>True</td>\n",
       "    </tr>\n",
       "    <tr>\n",
       "      <th>23930</th>\n",
       "      <td>100096</td>\n",
       "      <td>True</td>\n",
       "      <td>True</td>\n",
       "    </tr>\n",
       "  </tbody>\n",
       "</table>\n",
       "</div>"
      ],
      "text/plain": [
       "         HADM_ID  HeartRate  RespRate\n",
       "196004    100029       True      True\n",
       "993739    100044       True      True\n",
       "1344058   100062       True      True\n",
       "960792    100081       True      True\n",
       "23930     100096       True      True"
      ]
     },
     "execution_count": 25,
     "metadata": {},
     "output_type": "execute_result"
    }
   ],
   "source": [
    "admissions['RespRate'] = admissions['HADM_ID'].isin(resp_rate_24['HADM_ID'])\n",
    "admissions.head()"
   ]
  },
  {
   "cell_type": "markdown",
   "metadata": {},
   "source": [
    "## 1.3 SaO2 "
   ]
  },
  {
   "cell_type": "code",
   "execution_count": 26,
   "metadata": {},
   "outputs": [
    {
     "data": {
      "text/plain": [
       "(3226, 10)"
      ]
     },
     "execution_count": 26,
     "metadata": {},
     "output_type": "execute_result"
    }
   ],
   "source": [
    "sao2_df = pd.read_csv(\"Data_3173_TS/sao2.csv\")  \n",
    "\n",
    "sao2_df['CHARTTIME'] = sao2_df['CHARTTIME'].astype('datetime64[ns]')\n",
    "sao2_df['ADMITTIME'] = sao2_df['ADMITTIME'].astype('datetime64[ns]')\n",
    "\n",
    "## Sort dataframe \n",
    "sao2_df.sort_values(by=['HADM_ID', 'CHARTTIME'], inplace=True)  \n",
    "\n",
    "## Giving row number to every row \n",
    "sao2_df['row'] = sao2_df.groupby(['HADM_ID']).cumcount()+1\n",
    "\n",
    "## Take the first row \n",
    "sao2_1 = sao2_df[sao2_df.row == 1]\n",
    "\n",
    "sao2_1['TIME_INTERVAL'] = sao2_1['CHARTTIME'] - sao2_1['ADMITTIME'] \n",
    "\n",
    "sao2_24 = sao2_1[(sao2_1.TIME_INTERVAL <= '1 days') & (sao2_1.TIME_INTERVAL >= '-1 days')]\n",
    "\n",
    "sao2_24.shape"
   ]
  },
  {
   "cell_type": "code",
   "execution_count": 27,
   "metadata": {},
   "outputs": [
    {
     "data": {
      "text/html": [
       "<div>\n",
       "<style scoped>\n",
       "    .dataframe tbody tr th:only-of-type {\n",
       "        vertical-align: middle;\n",
       "    }\n",
       "\n",
       "    .dataframe tbody tr th {\n",
       "        vertical-align: top;\n",
       "    }\n",
       "\n",
       "    .dataframe thead th {\n",
       "        text-align: right;\n",
       "    }\n",
       "</style>\n",
       "<table border=\"1\" class=\"dataframe\">\n",
       "  <thead>\n",
       "    <tr style=\"text-align: right;\">\n",
       "      <th></th>\n",
       "      <th>HADM_ID</th>\n",
       "      <th>HeartRate</th>\n",
       "      <th>RespRate</th>\n",
       "      <th>SaO2</th>\n",
       "    </tr>\n",
       "  </thead>\n",
       "  <tbody>\n",
       "    <tr>\n",
       "      <th>196004</th>\n",
       "      <td>100029</td>\n",
       "      <td>True</td>\n",
       "      <td>True</td>\n",
       "      <td>True</td>\n",
       "    </tr>\n",
       "    <tr>\n",
       "      <th>993739</th>\n",
       "      <td>100044</td>\n",
       "      <td>True</td>\n",
       "      <td>True</td>\n",
       "      <td>True</td>\n",
       "    </tr>\n",
       "    <tr>\n",
       "      <th>1344058</th>\n",
       "      <td>100062</td>\n",
       "      <td>True</td>\n",
       "      <td>True</td>\n",
       "      <td>True</td>\n",
       "    </tr>\n",
       "    <tr>\n",
       "      <th>960792</th>\n",
       "      <td>100081</td>\n",
       "      <td>True</td>\n",
       "      <td>True</td>\n",
       "      <td>True</td>\n",
       "    </tr>\n",
       "    <tr>\n",
       "      <th>23930</th>\n",
       "      <td>100096</td>\n",
       "      <td>True</td>\n",
       "      <td>True</td>\n",
       "      <td>True</td>\n",
       "    </tr>\n",
       "  </tbody>\n",
       "</table>\n",
       "</div>"
      ],
      "text/plain": [
       "         HADM_ID  HeartRate  RespRate  SaO2\n",
       "196004    100029       True      True  True\n",
       "993739    100044       True      True  True\n",
       "1344058   100062       True      True  True\n",
       "960792    100081       True      True  True\n",
       "23930     100096       True      True  True"
      ]
     },
     "execution_count": 27,
     "metadata": {},
     "output_type": "execute_result"
    }
   ],
   "source": [
    "admissions['SaO2'] = admissions['HADM_ID'].isin(sao2_24['HADM_ID'])\n",
    "admissions.head()"
   ]
  },
  {
   "cell_type": "markdown",
   "metadata": {},
   "source": [
    "## 1.4 HR Alarm High"
   ]
  },
  {
   "cell_type": "code",
   "execution_count": 28,
   "metadata": {},
   "outputs": [
    {
     "data": {
      "text/plain": [
       "(3225, 10)"
      ]
     },
     "execution_count": 28,
     "metadata": {},
     "output_type": "execute_result"
    }
   ],
   "source": [
    "hr_alarm_high_df = pd.read_csv(\"Data_3173_TS/hr_alarm_high.csv\")  \n",
    "\n",
    "hr_alarm_high_df['CHARTTIME'] = hr_alarm_high_df['CHARTTIME'].astype('datetime64[ns]')\n",
    "hr_alarm_high_df['ADMITTIME'] = hr_alarm_high_df['ADMITTIME'].astype('datetime64[ns]')\n",
    "\n",
    "## Sort dataframe \n",
    "hr_alarm_high_df.sort_values(by=['HADM_ID', 'CHARTTIME'], inplace=True)  \n",
    "\n",
    "## Giving row number to every row \n",
    "hr_alarm_high_df['row'] = hr_alarm_high_df.groupby(['HADM_ID']).cumcount()+1\n",
    "\n",
    "## Take the first row \n",
    "hr_alarm_high_1 = hr_alarm_high_df[hr_alarm_high_df.row == 1]\n",
    "\n",
    "hr_alarm_high_1['TIME_INTERVAL'] = hr_alarm_high_1['CHARTTIME'] - hr_alarm_high_1['ADMITTIME'] \n",
    "\n",
    "hr_alarm_high_24 = hr_alarm_high_1[(hr_alarm_high_1.TIME_INTERVAL <= '1 days') & (hr_alarm_high_1.TIME_INTERVAL >= '-1 days')]\n",
    "\n",
    "hr_alarm_high_24.shape"
   ]
  },
  {
   "cell_type": "code",
   "execution_count": 29,
   "metadata": {},
   "outputs": [
    {
     "data": {
      "text/html": [
       "<div>\n",
       "<style scoped>\n",
       "    .dataframe tbody tr th:only-of-type {\n",
       "        vertical-align: middle;\n",
       "    }\n",
       "\n",
       "    .dataframe tbody tr th {\n",
       "        vertical-align: top;\n",
       "    }\n",
       "\n",
       "    .dataframe thead th {\n",
       "        text-align: right;\n",
       "    }\n",
       "</style>\n",
       "<table border=\"1\" class=\"dataframe\">\n",
       "  <thead>\n",
       "    <tr style=\"text-align: right;\">\n",
       "      <th></th>\n",
       "      <th>HADM_ID</th>\n",
       "      <th>HeartRate</th>\n",
       "      <th>RespRate</th>\n",
       "      <th>SaO2</th>\n",
       "      <th>hrAlarmHigh</th>\n",
       "    </tr>\n",
       "  </thead>\n",
       "  <tbody>\n",
       "    <tr>\n",
       "      <th>196004</th>\n",
       "      <td>100029</td>\n",
       "      <td>True</td>\n",
       "      <td>True</td>\n",
       "      <td>True</td>\n",
       "      <td>True</td>\n",
       "    </tr>\n",
       "    <tr>\n",
       "      <th>993739</th>\n",
       "      <td>100044</td>\n",
       "      <td>True</td>\n",
       "      <td>True</td>\n",
       "      <td>True</td>\n",
       "      <td>True</td>\n",
       "    </tr>\n",
       "    <tr>\n",
       "      <th>1344058</th>\n",
       "      <td>100062</td>\n",
       "      <td>True</td>\n",
       "      <td>True</td>\n",
       "      <td>True</td>\n",
       "      <td>True</td>\n",
       "    </tr>\n",
       "    <tr>\n",
       "      <th>960792</th>\n",
       "      <td>100081</td>\n",
       "      <td>True</td>\n",
       "      <td>True</td>\n",
       "      <td>True</td>\n",
       "      <td>True</td>\n",
       "    </tr>\n",
       "    <tr>\n",
       "      <th>23930</th>\n",
       "      <td>100096</td>\n",
       "      <td>True</td>\n",
       "      <td>True</td>\n",
       "      <td>True</td>\n",
       "      <td>True</td>\n",
       "    </tr>\n",
       "  </tbody>\n",
       "</table>\n",
       "</div>"
      ],
      "text/plain": [
       "         HADM_ID  HeartRate  RespRate  SaO2  hrAlarmHigh\n",
       "196004    100029       True      True  True         True\n",
       "993739    100044       True      True  True         True\n",
       "1344058   100062       True      True  True         True\n",
       "960792    100081       True      True  True         True\n",
       "23930     100096       True      True  True         True"
      ]
     },
     "execution_count": 29,
     "metadata": {},
     "output_type": "execute_result"
    }
   ],
   "source": [
    "admissions['hrAlarmHigh'] = admissions['HADM_ID'].isin(hr_alarm_high_24['HADM_ID'])\n",
    "admissions.head()"
   ]
  },
  {
   "cell_type": "markdown",
   "metadata": {},
   "source": [
    "## 1.5 HR Alarm Low "
   ]
  },
  {
   "cell_type": "code",
   "execution_count": 30,
   "metadata": {},
   "outputs": [
    {
     "data": {
      "text/plain": [
       "(3225, 10)"
      ]
     },
     "execution_count": 30,
     "metadata": {},
     "output_type": "execute_result"
    }
   ],
   "source": [
    "hr_alarm_low_df = pd.read_csv(\"Data_3173_TS/hr_alarm_low.csv\")  \n",
    "\n",
    "hr_alarm_low_df['CHARTTIME'] = hr_alarm_low_df['CHARTTIME'].astype('datetime64[ns]')\n",
    "hr_alarm_low_df['ADMITTIME'] = hr_alarm_low_df['ADMITTIME'].astype('datetime64[ns]')\n",
    "\n",
    "## Sort dataframe \n",
    "hr_alarm_low_df.sort_values(by=['HADM_ID', 'CHARTTIME'], inplace=True)  \n",
    "\n",
    "## Giving row number to every row \n",
    "hr_alarm_low_df['row'] = hr_alarm_low_df.groupby(['HADM_ID']).cumcount()+1\n",
    "\n",
    "## Take the first row \n",
    "hr_alarm_low_1 = hr_alarm_low_df[hr_alarm_low_df.row == 1]\n",
    "\n",
    "hr_alarm_low_1['TIME_INTERVAL'] = hr_alarm_low_1['CHARTTIME'] - hr_alarm_low_1['ADMITTIME'] \n",
    "\n",
    "hr_alarm_low_24 = hr_alarm_low_1[(hr_alarm_low_1.TIME_INTERVAL <= '1 days') & (hr_alarm_low_1.TIME_INTERVAL >= '-1 days')]\n",
    "\n",
    "hr_alarm_low_24.shape"
   ]
  },
  {
   "cell_type": "code",
   "execution_count": 31,
   "metadata": {},
   "outputs": [
    {
     "data": {
      "text/html": [
       "<div>\n",
       "<style scoped>\n",
       "    .dataframe tbody tr th:only-of-type {\n",
       "        vertical-align: middle;\n",
       "    }\n",
       "\n",
       "    .dataframe tbody tr th {\n",
       "        vertical-align: top;\n",
       "    }\n",
       "\n",
       "    .dataframe thead th {\n",
       "        text-align: right;\n",
       "    }\n",
       "</style>\n",
       "<table border=\"1\" class=\"dataframe\">\n",
       "  <thead>\n",
       "    <tr style=\"text-align: right;\">\n",
       "      <th></th>\n",
       "      <th>HADM_ID</th>\n",
       "      <th>HeartRate</th>\n",
       "      <th>RespRate</th>\n",
       "      <th>SaO2</th>\n",
       "      <th>hrAlarmHigh</th>\n",
       "      <th>hrAlarmLow</th>\n",
       "    </tr>\n",
       "  </thead>\n",
       "  <tbody>\n",
       "    <tr>\n",
       "      <th>196004</th>\n",
       "      <td>100029</td>\n",
       "      <td>True</td>\n",
       "      <td>True</td>\n",
       "      <td>True</td>\n",
       "      <td>True</td>\n",
       "      <td>True</td>\n",
       "    </tr>\n",
       "    <tr>\n",
       "      <th>993739</th>\n",
       "      <td>100044</td>\n",
       "      <td>True</td>\n",
       "      <td>True</td>\n",
       "      <td>True</td>\n",
       "      <td>True</td>\n",
       "      <td>True</td>\n",
       "    </tr>\n",
       "    <tr>\n",
       "      <th>1344058</th>\n",
       "      <td>100062</td>\n",
       "      <td>True</td>\n",
       "      <td>True</td>\n",
       "      <td>True</td>\n",
       "      <td>True</td>\n",
       "      <td>True</td>\n",
       "    </tr>\n",
       "    <tr>\n",
       "      <th>960792</th>\n",
       "      <td>100081</td>\n",
       "      <td>True</td>\n",
       "      <td>True</td>\n",
       "      <td>True</td>\n",
       "      <td>True</td>\n",
       "      <td>True</td>\n",
       "    </tr>\n",
       "    <tr>\n",
       "      <th>23930</th>\n",
       "      <td>100096</td>\n",
       "      <td>True</td>\n",
       "      <td>True</td>\n",
       "      <td>True</td>\n",
       "      <td>True</td>\n",
       "      <td>True</td>\n",
       "    </tr>\n",
       "  </tbody>\n",
       "</table>\n",
       "</div>"
      ],
      "text/plain": [
       "         HADM_ID  HeartRate  RespRate  SaO2  hrAlarmHigh  hrAlarmLow\n",
       "196004    100029       True      True  True         True        True\n",
       "993739    100044       True      True  True         True        True\n",
       "1344058   100062       True      True  True         True        True\n",
       "960792    100081       True      True  True         True        True\n",
       "23930     100096       True      True  True         True        True"
      ]
     },
     "execution_count": 31,
     "metadata": {},
     "output_type": "execute_result"
    }
   ],
   "source": [
    "admissions['hrAlarmLow'] = admissions['HADM_ID'].isin(hr_alarm_low_24['HADM_ID'])\n",
    "admissions.head()"
   ]
  },
  {
   "cell_type": "markdown",
   "metadata": {},
   "source": [
    "## 1.6 SaO2 Alarm High "
   ]
  },
  {
   "cell_type": "code",
   "execution_count": 32,
   "metadata": {},
   "outputs": [
    {
     "data": {
      "text/plain": [
       "(3221, 10)"
      ]
     },
     "execution_count": 32,
     "metadata": {},
     "output_type": "execute_result"
    }
   ],
   "source": [
    "sao2_alarm_high_df = pd.read_csv(\"Data_3173_TS/sao2_alarm_high.csv\")  \n",
    "\n",
    "sao2_alarm_high_df['CHARTTIME'] = sao2_alarm_high_df['CHARTTIME'].astype('datetime64[ns]')\n",
    "sao2_alarm_high_df['ADMITTIME'] = sao2_alarm_high_df['ADMITTIME'].astype('datetime64[ns]')\n",
    "\n",
    "## Sort dataframe \n",
    "sao2_alarm_high_df.sort_values(by=['HADM_ID', 'CHARTTIME'], inplace=True)  \n",
    "\n",
    "## Giving row number to every row \n",
    "sao2_alarm_high_df['row'] = sao2_alarm_high_df.groupby(['HADM_ID']).cumcount()+1\n",
    "\n",
    "## Take the first row \n",
    "sao2_alarm_high_1 = sao2_alarm_high_df[sao2_alarm_high_df.row == 1]\n",
    "\n",
    "sao2_alarm_high_1['TIME_INTERVAL'] = sao2_alarm_high_1['CHARTTIME'] - sao2_alarm_high_1['ADMITTIME'] \n",
    "\n",
    "sao2_alarm_high_24 = sao2_alarm_high_1[(sao2_alarm_high_1.TIME_INTERVAL <= '1 days') & (sao2_alarm_high_1.TIME_INTERVAL >= '-1 days')]\n",
    "\n",
    "sao2_alarm_high_24.shape"
   ]
  },
  {
   "cell_type": "code",
   "execution_count": 33,
   "metadata": {},
   "outputs": [
    {
     "data": {
      "text/html": [
       "<div>\n",
       "<style scoped>\n",
       "    .dataframe tbody tr th:only-of-type {\n",
       "        vertical-align: middle;\n",
       "    }\n",
       "\n",
       "    .dataframe tbody tr th {\n",
       "        vertical-align: top;\n",
       "    }\n",
       "\n",
       "    .dataframe thead th {\n",
       "        text-align: right;\n",
       "    }\n",
       "</style>\n",
       "<table border=\"1\" class=\"dataframe\">\n",
       "  <thead>\n",
       "    <tr style=\"text-align: right;\">\n",
       "      <th></th>\n",
       "      <th>HADM_ID</th>\n",
       "      <th>HeartRate</th>\n",
       "      <th>RespRate</th>\n",
       "      <th>SaO2</th>\n",
       "      <th>hrAlarmHigh</th>\n",
       "      <th>hrAlarmLow</th>\n",
       "      <th>sao2AlarmHigh</th>\n",
       "    </tr>\n",
       "  </thead>\n",
       "  <tbody>\n",
       "    <tr>\n",
       "      <th>196004</th>\n",
       "      <td>100029</td>\n",
       "      <td>True</td>\n",
       "      <td>True</td>\n",
       "      <td>True</td>\n",
       "      <td>True</td>\n",
       "      <td>True</td>\n",
       "      <td>True</td>\n",
       "    </tr>\n",
       "    <tr>\n",
       "      <th>993739</th>\n",
       "      <td>100044</td>\n",
       "      <td>True</td>\n",
       "      <td>True</td>\n",
       "      <td>True</td>\n",
       "      <td>True</td>\n",
       "      <td>True</td>\n",
       "      <td>True</td>\n",
       "    </tr>\n",
       "    <tr>\n",
       "      <th>1344058</th>\n",
       "      <td>100062</td>\n",
       "      <td>True</td>\n",
       "      <td>True</td>\n",
       "      <td>True</td>\n",
       "      <td>True</td>\n",
       "      <td>True</td>\n",
       "      <td>True</td>\n",
       "    </tr>\n",
       "    <tr>\n",
       "      <th>960792</th>\n",
       "      <td>100081</td>\n",
       "      <td>True</td>\n",
       "      <td>True</td>\n",
       "      <td>True</td>\n",
       "      <td>True</td>\n",
       "      <td>True</td>\n",
       "      <td>True</td>\n",
       "    </tr>\n",
       "    <tr>\n",
       "      <th>23930</th>\n",
       "      <td>100096</td>\n",
       "      <td>True</td>\n",
       "      <td>True</td>\n",
       "      <td>True</td>\n",
       "      <td>True</td>\n",
       "      <td>True</td>\n",
       "      <td>True</td>\n",
       "    </tr>\n",
       "  </tbody>\n",
       "</table>\n",
       "</div>"
      ],
      "text/plain": [
       "         HADM_ID  HeartRate  RespRate  SaO2  hrAlarmHigh  hrAlarmLow  \\\n",
       "196004    100029       True      True  True         True        True   \n",
       "993739    100044       True      True  True         True        True   \n",
       "1344058   100062       True      True  True         True        True   \n",
       "960792    100081       True      True  True         True        True   \n",
       "23930     100096       True      True  True         True        True   \n",
       "\n",
       "         sao2AlarmHigh  \n",
       "196004            True  \n",
       "993739            True  \n",
       "1344058           True  \n",
       "960792            True  \n",
       "23930             True  "
      ]
     },
     "execution_count": 33,
     "metadata": {},
     "output_type": "execute_result"
    }
   ],
   "source": [
    "admissions['sao2AlarmHigh'] = admissions['HADM_ID'].isin(sao2_alarm_high_24['HADM_ID'])\n",
    "admissions.head()"
   ]
  },
  {
   "cell_type": "markdown",
   "metadata": {},
   "source": [
    "## 1.7 SaO2 Alarm Low "
   ]
  },
  {
   "cell_type": "code",
   "execution_count": 34,
   "metadata": {},
   "outputs": [
    {
     "data": {
      "text/plain": [
       "(3221, 10)"
      ]
     },
     "execution_count": 34,
     "metadata": {},
     "output_type": "execute_result"
    }
   ],
   "source": [
    "sao2_alarm_low_df = pd.read_csv(\"Data_3173_TS/sao2_alarm_low.csv\")  \n",
    "\n",
    "sao2_alarm_low_df['CHARTTIME'] = sao2_alarm_low_df['CHARTTIME'].astype('datetime64[ns]')\n",
    "sao2_alarm_low_df['ADMITTIME'] = sao2_alarm_low_df['ADMITTIME'].astype('datetime64[ns]')\n",
    "\n",
    "## Sort dataframe \n",
    "sao2_alarm_low_df.sort_values(by=['HADM_ID', 'CHARTTIME'], inplace=True)  \n",
    "\n",
    "## Giving row number to every row \n",
    "sao2_alarm_low_df['row'] = sao2_alarm_low_df.groupby(['HADM_ID']).cumcount()+1\n",
    "\n",
    "## Take the first row \n",
    "sao2_alarm_low_1 = sao2_alarm_low_df[sao2_alarm_low_df.row == 1]\n",
    "\n",
    "sao2_alarm_low_1['TIME_INTERVAL'] = sao2_alarm_low_1['CHARTTIME'] - sao2_alarm_low_1['ADMITTIME'] \n",
    "\n",
    "sao2_alarm_low_24 = sao2_alarm_low_1[(sao2_alarm_low_1.TIME_INTERVAL <= '1 days') & (sao2_alarm_low_1.TIME_INTERVAL >= '-1 days')]\n",
    "\n",
    "sao2_alarm_low_24.shape"
   ]
  },
  {
   "cell_type": "code",
   "execution_count": 35,
   "metadata": {},
   "outputs": [
    {
     "data": {
      "text/html": [
       "<div>\n",
       "<style scoped>\n",
       "    .dataframe tbody tr th:only-of-type {\n",
       "        vertical-align: middle;\n",
       "    }\n",
       "\n",
       "    .dataframe tbody tr th {\n",
       "        vertical-align: top;\n",
       "    }\n",
       "\n",
       "    .dataframe thead th {\n",
       "        text-align: right;\n",
       "    }\n",
       "</style>\n",
       "<table border=\"1\" class=\"dataframe\">\n",
       "  <thead>\n",
       "    <tr style=\"text-align: right;\">\n",
       "      <th></th>\n",
       "      <th>HADM_ID</th>\n",
       "      <th>HeartRate</th>\n",
       "      <th>RespRate</th>\n",
       "      <th>SaO2</th>\n",
       "      <th>hrAlarmHigh</th>\n",
       "      <th>hrAlarmLow</th>\n",
       "      <th>sao2AlarmHigh</th>\n",
       "      <th>sao2AlarmLow</th>\n",
       "    </tr>\n",
       "  </thead>\n",
       "  <tbody>\n",
       "    <tr>\n",
       "      <th>196004</th>\n",
       "      <td>100029</td>\n",
       "      <td>True</td>\n",
       "      <td>True</td>\n",
       "      <td>True</td>\n",
       "      <td>True</td>\n",
       "      <td>True</td>\n",
       "      <td>True</td>\n",
       "      <td>True</td>\n",
       "    </tr>\n",
       "    <tr>\n",
       "      <th>993739</th>\n",
       "      <td>100044</td>\n",
       "      <td>True</td>\n",
       "      <td>True</td>\n",
       "      <td>True</td>\n",
       "      <td>True</td>\n",
       "      <td>True</td>\n",
       "      <td>True</td>\n",
       "      <td>True</td>\n",
       "    </tr>\n",
       "    <tr>\n",
       "      <th>1344058</th>\n",
       "      <td>100062</td>\n",
       "      <td>True</td>\n",
       "      <td>True</td>\n",
       "      <td>True</td>\n",
       "      <td>True</td>\n",
       "      <td>True</td>\n",
       "      <td>True</td>\n",
       "      <td>True</td>\n",
       "    </tr>\n",
       "    <tr>\n",
       "      <th>960792</th>\n",
       "      <td>100081</td>\n",
       "      <td>True</td>\n",
       "      <td>True</td>\n",
       "      <td>True</td>\n",
       "      <td>True</td>\n",
       "      <td>True</td>\n",
       "      <td>True</td>\n",
       "      <td>True</td>\n",
       "    </tr>\n",
       "    <tr>\n",
       "      <th>23930</th>\n",
       "      <td>100096</td>\n",
       "      <td>True</td>\n",
       "      <td>True</td>\n",
       "      <td>True</td>\n",
       "      <td>True</td>\n",
       "      <td>True</td>\n",
       "      <td>True</td>\n",
       "      <td>True</td>\n",
       "    </tr>\n",
       "  </tbody>\n",
       "</table>\n",
       "</div>"
      ],
      "text/plain": [
       "         HADM_ID  HeartRate  RespRate  SaO2  hrAlarmHigh  hrAlarmLow  \\\n",
       "196004    100029       True      True  True         True        True   \n",
       "993739    100044       True      True  True         True        True   \n",
       "1344058   100062       True      True  True         True        True   \n",
       "960792    100081       True      True  True         True        True   \n",
       "23930     100096       True      True  True         True        True   \n",
       "\n",
       "         sao2AlarmHigh  sao2AlarmLow  \n",
       "196004            True          True  \n",
       "993739            True          True  \n",
       "1344058           True          True  \n",
       "960792            True          True  \n",
       "23930             True          True  "
      ]
     },
     "execution_count": 35,
     "metadata": {},
     "output_type": "execute_result"
    }
   ],
   "source": [
    "admissions['sao2AlarmLow'] = admissions['HADM_ID'].isin(sao2_alarm_low_24['HADM_ID'])\n",
    "admissions.head()"
   ]
  },
  {
   "cell_type": "markdown",
   "metadata": {},
   "source": [
    "## 1.8 Temperature "
   ]
  },
  {
   "cell_type": "code",
   "execution_count": 36,
   "metadata": {},
   "outputs": [
    {
     "data": {
      "text/plain": [
       "(3225, 10)"
      ]
     },
     "execution_count": 36,
     "metadata": {},
     "output_type": "execute_result"
    }
   ],
   "source": [
    "temperature_df = pd.read_csv(\"Data_3173_TS/temperature.csv\")  \n",
    "\n",
    "temperature_df['CHARTTIME'] = temperature_df['CHARTTIME'].astype('datetime64[ns]')\n",
    "temperature_df['ADMITTIME'] = temperature_df['ADMITTIME'].astype('datetime64[ns]')\n",
    "\n",
    "## Sort dataframe \n",
    "temperature_df.sort_values(by=['HADM_ID', 'CHARTTIME'], inplace=True)  \n",
    "\n",
    "## Giving row number to every row \n",
    "temperature_df['row'] = temperature_df.groupby(['HADM_ID']).cumcount()+1\n",
    "\n",
    "## Take the first row \n",
    "temperature_1 = temperature_df[temperature_df.row == 1]\n",
    "\n",
    "temperature_1['TIME_INTERVAL'] = temperature_1['CHARTTIME'] - temperature_1['ADMITTIME'] \n",
    "\n",
    "temperature_24 = temperature_1[(temperature_1.TIME_INTERVAL <= '1 days') & (temperature_1.TIME_INTERVAL >= '-1 days')]\n",
    "\n",
    "temperature_24.shape"
   ]
  },
  {
   "cell_type": "code",
   "execution_count": 37,
   "metadata": {},
   "outputs": [
    {
     "data": {
      "text/html": [
       "<div>\n",
       "<style scoped>\n",
       "    .dataframe tbody tr th:only-of-type {\n",
       "        vertical-align: middle;\n",
       "    }\n",
       "\n",
       "    .dataframe tbody tr th {\n",
       "        vertical-align: top;\n",
       "    }\n",
       "\n",
       "    .dataframe thead th {\n",
       "        text-align: right;\n",
       "    }\n",
       "</style>\n",
       "<table border=\"1\" class=\"dataframe\">\n",
       "  <thead>\n",
       "    <tr style=\"text-align: right;\">\n",
       "      <th></th>\n",
       "      <th>HADM_ID</th>\n",
       "      <th>HeartRate</th>\n",
       "      <th>RespRate</th>\n",
       "      <th>SaO2</th>\n",
       "      <th>hrAlarmHigh</th>\n",
       "      <th>hrAlarmLow</th>\n",
       "      <th>sao2AlarmHigh</th>\n",
       "      <th>sao2AlarmLow</th>\n",
       "      <th>temperature</th>\n",
       "    </tr>\n",
       "  </thead>\n",
       "  <tbody>\n",
       "    <tr>\n",
       "      <th>196004</th>\n",
       "      <td>100029</td>\n",
       "      <td>True</td>\n",
       "      <td>True</td>\n",
       "      <td>True</td>\n",
       "      <td>True</td>\n",
       "      <td>True</td>\n",
       "      <td>True</td>\n",
       "      <td>True</td>\n",
       "      <td>True</td>\n",
       "    </tr>\n",
       "    <tr>\n",
       "      <th>993739</th>\n",
       "      <td>100044</td>\n",
       "      <td>True</td>\n",
       "      <td>True</td>\n",
       "      <td>True</td>\n",
       "      <td>True</td>\n",
       "      <td>True</td>\n",
       "      <td>True</td>\n",
       "      <td>True</td>\n",
       "      <td>True</td>\n",
       "    </tr>\n",
       "    <tr>\n",
       "      <th>1344058</th>\n",
       "      <td>100062</td>\n",
       "      <td>True</td>\n",
       "      <td>True</td>\n",
       "      <td>True</td>\n",
       "      <td>True</td>\n",
       "      <td>True</td>\n",
       "      <td>True</td>\n",
       "      <td>True</td>\n",
       "      <td>True</td>\n",
       "    </tr>\n",
       "    <tr>\n",
       "      <th>960792</th>\n",
       "      <td>100081</td>\n",
       "      <td>True</td>\n",
       "      <td>True</td>\n",
       "      <td>True</td>\n",
       "      <td>True</td>\n",
       "      <td>True</td>\n",
       "      <td>True</td>\n",
       "      <td>True</td>\n",
       "      <td>True</td>\n",
       "    </tr>\n",
       "    <tr>\n",
       "      <th>23930</th>\n",
       "      <td>100096</td>\n",
       "      <td>True</td>\n",
       "      <td>True</td>\n",
       "      <td>True</td>\n",
       "      <td>True</td>\n",
       "      <td>True</td>\n",
       "      <td>True</td>\n",
       "      <td>True</td>\n",
       "      <td>True</td>\n",
       "    </tr>\n",
       "  </tbody>\n",
       "</table>\n",
       "</div>"
      ],
      "text/plain": [
       "         HADM_ID  HeartRate  RespRate  SaO2  hrAlarmHigh  hrAlarmLow  \\\n",
       "196004    100029       True      True  True         True        True   \n",
       "993739    100044       True      True  True         True        True   \n",
       "1344058   100062       True      True  True         True        True   \n",
       "960792    100081       True      True  True         True        True   \n",
       "23930     100096       True      True  True         True        True   \n",
       "\n",
       "         sao2AlarmHigh  sao2AlarmLow  temperature  \n",
       "196004            True          True         True  \n",
       "993739            True          True         True  \n",
       "1344058           True          True         True  \n",
       "960792            True          True         True  \n",
       "23930             True          True         True  "
      ]
     },
     "execution_count": 37,
     "metadata": {},
     "output_type": "execute_result"
    }
   ],
   "source": [
    "admissions['temperature'] = admissions['HADM_ID'].isin(temperature_24['HADM_ID'])\n",
    "admissions.head()"
   ]
  },
  {
   "cell_type": "markdown",
   "metadata": {},
   "source": [
    "## 1.9 Skin Temperature "
   ]
  },
  {
   "cell_type": "code",
   "execution_count": 38,
   "metadata": {},
   "outputs": [
    {
     "data": {
      "text/plain": [
       "(3218, 10)"
      ]
     },
     "execution_count": 38,
     "metadata": {},
     "output_type": "execute_result"
    }
   ],
   "source": [
    "skin_temperature_df = pd.read_csv(\"Data_3173_TS/skin_temperature.csv\")  \n",
    "\n",
    "skin_temperature_df['CHARTTIME'] = skin_temperature_df['CHARTTIME'].astype('datetime64[ns]')\n",
    "skin_temperature_df['ADMITTIME'] = skin_temperature_df['ADMITTIME'].astype('datetime64[ns]')\n",
    "\n",
    "## Sort dataframe \n",
    "skin_temperature_df.sort_values(by=['HADM_ID', 'CHARTTIME'], inplace=True)  \n",
    "\n",
    "## Giving row number to every row \n",
    "skin_temperature_df['row'] = skin_temperature_df.groupby(['HADM_ID']).cumcount()+1\n",
    "\n",
    "## Take the first row \n",
    "skin_temperature_1 = skin_temperature_df[skin_temperature_df.row == 1]\n",
    "\n",
    "skin_temperature_1['TIME_INTERVAL'] = skin_temperature_1['CHARTTIME'] - skin_temperature_1['ADMITTIME'] \n",
    "\n",
    "skin_temperature_24 = skin_temperature_1[(skin_temperature_1.TIME_INTERVAL <= '1 days') & (skin_temperature_1.TIME_INTERVAL >= '-1 days')]\n",
    "\n",
    "skin_temperature_24.shape"
   ]
  },
  {
   "cell_type": "code",
   "execution_count": 39,
   "metadata": {},
   "outputs": [
    {
     "data": {
      "text/html": [
       "<div>\n",
       "<style scoped>\n",
       "    .dataframe tbody tr th:only-of-type {\n",
       "        vertical-align: middle;\n",
       "    }\n",
       "\n",
       "    .dataframe tbody tr th {\n",
       "        vertical-align: top;\n",
       "    }\n",
       "\n",
       "    .dataframe thead th {\n",
       "        text-align: right;\n",
       "    }\n",
       "</style>\n",
       "<table border=\"1\" class=\"dataframe\">\n",
       "  <thead>\n",
       "    <tr style=\"text-align: right;\">\n",
       "      <th></th>\n",
       "      <th>HADM_ID</th>\n",
       "      <th>HeartRate</th>\n",
       "      <th>RespRate</th>\n",
       "      <th>SaO2</th>\n",
       "      <th>hrAlarmHigh</th>\n",
       "      <th>hrAlarmLow</th>\n",
       "      <th>sao2AlarmHigh</th>\n",
       "      <th>sao2AlarmLow</th>\n",
       "      <th>temperature</th>\n",
       "      <th>SkinTemperature</th>\n",
       "    </tr>\n",
       "  </thead>\n",
       "  <tbody>\n",
       "    <tr>\n",
       "      <th>196004</th>\n",
       "      <td>100029</td>\n",
       "      <td>True</td>\n",
       "      <td>True</td>\n",
       "      <td>True</td>\n",
       "      <td>True</td>\n",
       "      <td>True</td>\n",
       "      <td>True</td>\n",
       "      <td>True</td>\n",
       "      <td>True</td>\n",
       "      <td>True</td>\n",
       "    </tr>\n",
       "    <tr>\n",
       "      <th>993739</th>\n",
       "      <td>100044</td>\n",
       "      <td>True</td>\n",
       "      <td>True</td>\n",
       "      <td>True</td>\n",
       "      <td>True</td>\n",
       "      <td>True</td>\n",
       "      <td>True</td>\n",
       "      <td>True</td>\n",
       "      <td>True</td>\n",
       "      <td>True</td>\n",
       "    </tr>\n",
       "    <tr>\n",
       "      <th>1344058</th>\n",
       "      <td>100062</td>\n",
       "      <td>True</td>\n",
       "      <td>True</td>\n",
       "      <td>True</td>\n",
       "      <td>True</td>\n",
       "      <td>True</td>\n",
       "      <td>True</td>\n",
       "      <td>True</td>\n",
       "      <td>True</td>\n",
       "      <td>True</td>\n",
       "    </tr>\n",
       "    <tr>\n",
       "      <th>960792</th>\n",
       "      <td>100081</td>\n",
       "      <td>True</td>\n",
       "      <td>True</td>\n",
       "      <td>True</td>\n",
       "      <td>True</td>\n",
       "      <td>True</td>\n",
       "      <td>True</td>\n",
       "      <td>True</td>\n",
       "      <td>True</td>\n",
       "      <td>True</td>\n",
       "    </tr>\n",
       "    <tr>\n",
       "      <th>23930</th>\n",
       "      <td>100096</td>\n",
       "      <td>True</td>\n",
       "      <td>True</td>\n",
       "      <td>True</td>\n",
       "      <td>True</td>\n",
       "      <td>True</td>\n",
       "      <td>True</td>\n",
       "      <td>True</td>\n",
       "      <td>True</td>\n",
       "      <td>True</td>\n",
       "    </tr>\n",
       "  </tbody>\n",
       "</table>\n",
       "</div>"
      ],
      "text/plain": [
       "         HADM_ID  HeartRate  RespRate  SaO2  hrAlarmHigh  hrAlarmLow  \\\n",
       "196004    100029       True      True  True         True        True   \n",
       "993739    100044       True      True  True         True        True   \n",
       "1344058   100062       True      True  True         True        True   \n",
       "960792    100081       True      True  True         True        True   \n",
       "23930     100096       True      True  True         True        True   \n",
       "\n",
       "         sao2AlarmHigh  sao2AlarmLow  temperature  SkinTemperature  \n",
       "196004            True          True         True             True  \n",
       "993739            True          True         True             True  \n",
       "1344058           True          True         True             True  \n",
       "960792            True          True         True             True  \n",
       "23930             True          True         True             True  "
      ]
     },
     "execution_count": 39,
     "metadata": {},
     "output_type": "execute_result"
    }
   ],
   "source": [
    "admissions['SkinTemperature'] = admissions['HADM_ID'].isin(skin_temperature_24['HADM_ID'])\n",
    "admissions.head()"
   ]
  },
  {
   "cell_type": "markdown",
   "metadata": {},
   "source": [
    "## 1.10 BP Cuff Diastolic "
   ]
  },
  {
   "cell_type": "code",
   "execution_count": 40,
   "metadata": {},
   "outputs": [
    {
     "data": {
      "text/plain": [
       "(3228, 10)"
      ]
     },
     "execution_count": 40,
     "metadata": {},
     "output_type": "execute_result"
    }
   ],
   "source": [
    "bp_cuff_diastolic_df = pd.read_csv(\"Data_3173_TS/bp_cuff_diastolic.csv\")  \n",
    "\n",
    "bp_cuff_diastolic_df['CHARTTIME'] = bp_cuff_diastolic_df['CHARTTIME'].astype('datetime64[ns]')\n",
    "bp_cuff_diastolic_df['ADMITTIME'] = bp_cuff_diastolic_df['ADMITTIME'].astype('datetime64[ns]')\n",
    "\n",
    "## Sort dataframe \n",
    "bp_cuff_diastolic_df.sort_values(by=['HADM_ID', 'CHARTTIME'], inplace=True)  \n",
    "\n",
    "## Giving row number to every row \n",
    "bp_cuff_diastolic_df['row'] = bp_cuff_diastolic_df.groupby(['HADM_ID']).cumcount()+1\n",
    "\n",
    "## Take the first row \n",
    "bp_cuff_diastolic_1 = bp_cuff_diastolic_df[bp_cuff_diastolic_df.row == 1]\n",
    "\n",
    "bp_cuff_diastolic_1['TIME_INTERVAL'] = bp_cuff_diastolic_1['CHARTTIME'] - bp_cuff_diastolic_1['ADMITTIME'] \n",
    "\n",
    "bp_cuff_diastolic_24 = bp_cuff_diastolic_1[(bp_cuff_diastolic_1.TIME_INTERVAL <= '1 days') & (bp_cuff_diastolic_1.TIME_INTERVAL >= '-1 days')]\n",
    "\n",
    "bp_cuff_diastolic_24.shape"
   ]
  },
  {
   "cell_type": "code",
   "execution_count": 41,
   "metadata": {},
   "outputs": [
    {
     "data": {
      "text/html": [
       "<div>\n",
       "<style scoped>\n",
       "    .dataframe tbody tr th:only-of-type {\n",
       "        vertical-align: middle;\n",
       "    }\n",
       "\n",
       "    .dataframe tbody tr th {\n",
       "        vertical-align: top;\n",
       "    }\n",
       "\n",
       "    .dataframe thead th {\n",
       "        text-align: right;\n",
       "    }\n",
       "</style>\n",
       "<table border=\"1\" class=\"dataframe\">\n",
       "  <thead>\n",
       "    <tr style=\"text-align: right;\">\n",
       "      <th></th>\n",
       "      <th>HADM_ID</th>\n",
       "      <th>HeartRate</th>\n",
       "      <th>RespRate</th>\n",
       "      <th>SaO2</th>\n",
       "      <th>hrAlarmHigh</th>\n",
       "      <th>hrAlarmLow</th>\n",
       "      <th>sao2AlarmHigh</th>\n",
       "      <th>sao2AlarmLow</th>\n",
       "      <th>temperature</th>\n",
       "      <th>SkinTemperature</th>\n",
       "      <th>BPCuffDiastolic</th>\n",
       "    </tr>\n",
       "  </thead>\n",
       "  <tbody>\n",
       "    <tr>\n",
       "      <th>196004</th>\n",
       "      <td>100029</td>\n",
       "      <td>True</td>\n",
       "      <td>True</td>\n",
       "      <td>True</td>\n",
       "      <td>True</td>\n",
       "      <td>True</td>\n",
       "      <td>True</td>\n",
       "      <td>True</td>\n",
       "      <td>True</td>\n",
       "      <td>True</td>\n",
       "      <td>True</td>\n",
       "    </tr>\n",
       "    <tr>\n",
       "      <th>993739</th>\n",
       "      <td>100044</td>\n",
       "      <td>True</td>\n",
       "      <td>True</td>\n",
       "      <td>True</td>\n",
       "      <td>True</td>\n",
       "      <td>True</td>\n",
       "      <td>True</td>\n",
       "      <td>True</td>\n",
       "      <td>True</td>\n",
       "      <td>True</td>\n",
       "      <td>True</td>\n",
       "    </tr>\n",
       "    <tr>\n",
       "      <th>1344058</th>\n",
       "      <td>100062</td>\n",
       "      <td>True</td>\n",
       "      <td>True</td>\n",
       "      <td>True</td>\n",
       "      <td>True</td>\n",
       "      <td>True</td>\n",
       "      <td>True</td>\n",
       "      <td>True</td>\n",
       "      <td>True</td>\n",
       "      <td>True</td>\n",
       "      <td>True</td>\n",
       "    </tr>\n",
       "    <tr>\n",
       "      <th>960792</th>\n",
       "      <td>100081</td>\n",
       "      <td>True</td>\n",
       "      <td>True</td>\n",
       "      <td>True</td>\n",
       "      <td>True</td>\n",
       "      <td>True</td>\n",
       "      <td>True</td>\n",
       "      <td>True</td>\n",
       "      <td>True</td>\n",
       "      <td>True</td>\n",
       "      <td>True</td>\n",
       "    </tr>\n",
       "    <tr>\n",
       "      <th>23930</th>\n",
       "      <td>100096</td>\n",
       "      <td>True</td>\n",
       "      <td>True</td>\n",
       "      <td>True</td>\n",
       "      <td>True</td>\n",
       "      <td>True</td>\n",
       "      <td>True</td>\n",
       "      <td>True</td>\n",
       "      <td>True</td>\n",
       "      <td>True</td>\n",
       "      <td>True</td>\n",
       "    </tr>\n",
       "  </tbody>\n",
       "</table>\n",
       "</div>"
      ],
      "text/plain": [
       "         HADM_ID  HeartRate  RespRate  SaO2  hrAlarmHigh  hrAlarmLow  \\\n",
       "196004    100029       True      True  True         True        True   \n",
       "993739    100044       True      True  True         True        True   \n",
       "1344058   100062       True      True  True         True        True   \n",
       "960792    100081       True      True  True         True        True   \n",
       "23930     100096       True      True  True         True        True   \n",
       "\n",
       "         sao2AlarmHigh  sao2AlarmLow  temperature  SkinTemperature  \\\n",
       "196004            True          True         True             True   \n",
       "993739            True          True         True             True   \n",
       "1344058           True          True         True             True   \n",
       "960792            True          True         True             True   \n",
       "23930             True          True         True             True   \n",
       "\n",
       "         BPCuffDiastolic  \n",
       "196004              True  \n",
       "993739              True  \n",
       "1344058             True  \n",
       "960792              True  \n",
       "23930               True  "
      ]
     },
     "execution_count": 41,
     "metadata": {},
     "output_type": "execute_result"
    }
   ],
   "source": [
    "admissions['BPCuffDiastolic'] = admissions['HADM_ID'].isin(bp_cuff_diastolic_24['HADM_ID'])\n",
    "admissions.head()"
   ]
  },
  {
   "cell_type": "markdown",
   "metadata": {},
   "source": [
    "## 1.11 BP Cuff Mean "
   ]
  },
  {
   "cell_type": "code",
   "execution_count": 42,
   "metadata": {},
   "outputs": [
    {
     "data": {
      "text/plain": [
       "(3228, 10)"
      ]
     },
     "execution_count": 42,
     "metadata": {},
     "output_type": "execute_result"
    }
   ],
   "source": [
    "bp_cuff_mean_df = pd.read_csv(\"Data_3173_TS/bp_cuff_mean.csv\")  \n",
    "\n",
    "bp_cuff_mean_df['CHARTTIME'] = bp_cuff_mean_df['CHARTTIME'].astype('datetime64[ns]')\n",
    "bp_cuff_mean_df['ADMITTIME'] = bp_cuff_mean_df['ADMITTIME'].astype('datetime64[ns]')\n",
    "\n",
    "## Sort dataframe \n",
    "bp_cuff_mean_df.sort_values(by=['HADM_ID', 'CHARTTIME'], inplace=True)  \n",
    "\n",
    "## Giving row number to every row \n",
    "bp_cuff_mean_df['row'] = bp_cuff_mean_df.groupby(['HADM_ID']).cumcount()+1\n",
    "\n",
    "## Take the first row \n",
    "bp_cuff_mean_1 = bp_cuff_mean_df[bp_cuff_mean_df.row == 1]\n",
    "\n",
    "bp_cuff_mean_1['TIME_INTERVAL'] = bp_cuff_mean_1['CHARTTIME'] - bp_cuff_mean_1['ADMITTIME'] \n",
    "\n",
    "bp_cuff_mean_24 = bp_cuff_mean_1[(bp_cuff_mean_1.TIME_INTERVAL <= '1 days') & (bp_cuff_mean_1.TIME_INTERVAL >= '-1 days')]\n",
    "\n",
    "bp_cuff_mean_24.shape"
   ]
  },
  {
   "cell_type": "code",
   "execution_count": 43,
   "metadata": {},
   "outputs": [
    {
     "data": {
      "text/html": [
       "<div>\n",
       "<style scoped>\n",
       "    .dataframe tbody tr th:only-of-type {\n",
       "        vertical-align: middle;\n",
       "    }\n",
       "\n",
       "    .dataframe tbody tr th {\n",
       "        vertical-align: top;\n",
       "    }\n",
       "\n",
       "    .dataframe thead th {\n",
       "        text-align: right;\n",
       "    }\n",
       "</style>\n",
       "<table border=\"1\" class=\"dataframe\">\n",
       "  <thead>\n",
       "    <tr style=\"text-align: right;\">\n",
       "      <th></th>\n",
       "      <th>HADM_ID</th>\n",
       "      <th>HeartRate</th>\n",
       "      <th>RespRate</th>\n",
       "      <th>SaO2</th>\n",
       "      <th>hrAlarmHigh</th>\n",
       "      <th>hrAlarmLow</th>\n",
       "      <th>sao2AlarmHigh</th>\n",
       "      <th>sao2AlarmLow</th>\n",
       "      <th>temperature</th>\n",
       "      <th>SkinTemperature</th>\n",
       "      <th>BPCuffDiastolic</th>\n",
       "      <th>BPCuffMean</th>\n",
       "    </tr>\n",
       "  </thead>\n",
       "  <tbody>\n",
       "    <tr>\n",
       "      <th>196004</th>\n",
       "      <td>100029</td>\n",
       "      <td>True</td>\n",
       "      <td>True</td>\n",
       "      <td>True</td>\n",
       "      <td>True</td>\n",
       "      <td>True</td>\n",
       "      <td>True</td>\n",
       "      <td>True</td>\n",
       "      <td>True</td>\n",
       "      <td>True</td>\n",
       "      <td>True</td>\n",
       "      <td>True</td>\n",
       "    </tr>\n",
       "    <tr>\n",
       "      <th>993739</th>\n",
       "      <td>100044</td>\n",
       "      <td>True</td>\n",
       "      <td>True</td>\n",
       "      <td>True</td>\n",
       "      <td>True</td>\n",
       "      <td>True</td>\n",
       "      <td>True</td>\n",
       "      <td>True</td>\n",
       "      <td>True</td>\n",
       "      <td>True</td>\n",
       "      <td>True</td>\n",
       "      <td>True</td>\n",
       "    </tr>\n",
       "    <tr>\n",
       "      <th>1344058</th>\n",
       "      <td>100062</td>\n",
       "      <td>True</td>\n",
       "      <td>True</td>\n",
       "      <td>True</td>\n",
       "      <td>True</td>\n",
       "      <td>True</td>\n",
       "      <td>True</td>\n",
       "      <td>True</td>\n",
       "      <td>True</td>\n",
       "      <td>True</td>\n",
       "      <td>True</td>\n",
       "      <td>True</td>\n",
       "    </tr>\n",
       "    <tr>\n",
       "      <th>960792</th>\n",
       "      <td>100081</td>\n",
       "      <td>True</td>\n",
       "      <td>True</td>\n",
       "      <td>True</td>\n",
       "      <td>True</td>\n",
       "      <td>True</td>\n",
       "      <td>True</td>\n",
       "      <td>True</td>\n",
       "      <td>True</td>\n",
       "      <td>True</td>\n",
       "      <td>True</td>\n",
       "      <td>True</td>\n",
       "    </tr>\n",
       "    <tr>\n",
       "      <th>23930</th>\n",
       "      <td>100096</td>\n",
       "      <td>True</td>\n",
       "      <td>True</td>\n",
       "      <td>True</td>\n",
       "      <td>True</td>\n",
       "      <td>True</td>\n",
       "      <td>True</td>\n",
       "      <td>True</td>\n",
       "      <td>True</td>\n",
       "      <td>True</td>\n",
       "      <td>True</td>\n",
       "      <td>True</td>\n",
       "    </tr>\n",
       "  </tbody>\n",
       "</table>\n",
       "</div>"
      ],
      "text/plain": [
       "         HADM_ID  HeartRate  RespRate  SaO2  hrAlarmHigh  hrAlarmLow  \\\n",
       "196004    100029       True      True  True         True        True   \n",
       "993739    100044       True      True  True         True        True   \n",
       "1344058   100062       True      True  True         True        True   \n",
       "960792    100081       True      True  True         True        True   \n",
       "23930     100096       True      True  True         True        True   \n",
       "\n",
       "         sao2AlarmHigh  sao2AlarmLow  temperature  SkinTemperature  \\\n",
       "196004            True          True         True             True   \n",
       "993739            True          True         True             True   \n",
       "1344058           True          True         True             True   \n",
       "960792            True          True         True             True   \n",
       "23930             True          True         True             True   \n",
       "\n",
       "         BPCuffDiastolic  BPCuffMean  \n",
       "196004              True        True  \n",
       "993739              True        True  \n",
       "1344058             True        True  \n",
       "960792              True        True  \n",
       "23930               True        True  "
      ]
     },
     "execution_count": 43,
     "metadata": {},
     "output_type": "execute_result"
    }
   ],
   "source": [
    "admissions['BPCuffMean'] = admissions['HADM_ID'].isin(bp_cuff_mean_24['HADM_ID'])\n",
    "admissions.head()"
   ]
  },
  {
   "cell_type": "markdown",
   "metadata": {},
   "source": [
    "## 1.12 BP Cuff Systolic "
   ]
  },
  {
   "cell_type": "code",
   "execution_count": 44,
   "metadata": {},
   "outputs": [
    {
     "data": {
      "text/plain": [
       "(3228, 10)"
      ]
     },
     "execution_count": 44,
     "metadata": {},
     "output_type": "execute_result"
    }
   ],
   "source": [
    "bp_cuff_systolic_df = pd.read_csv(\"Data_3173_TS/bp_cuff_systolic.csv\")  \n",
    "\n",
    "bp_cuff_systolic_df['CHARTTIME'] = bp_cuff_systolic_df['CHARTTIME'].astype('datetime64[ns]')\n",
    "bp_cuff_systolic_df['ADMITTIME'] = bp_cuff_systolic_df['ADMITTIME'].astype('datetime64[ns]')\n",
    "\n",
    "## Sort dataframe \n",
    "bp_cuff_systolic_df.sort_values(by=['HADM_ID', 'CHARTTIME'], inplace=True)  \n",
    "\n",
    "## Giving row number to every row \n",
    "bp_cuff_systolic_df['row'] = bp_cuff_systolic_df.groupby(['HADM_ID']).cumcount()+1\n",
    "\n",
    "## Take the first row \n",
    "bp_cuff_systolic_1 = bp_cuff_systolic_df[bp_cuff_systolic_df.row == 1]\n",
    "\n",
    "bp_cuff_systolic_1['TIME_INTERVAL'] = bp_cuff_systolic_1['CHARTTIME'] - bp_cuff_systolic_1['ADMITTIME'] \n",
    "\n",
    "bp_cuff_systolic_24 = bp_cuff_systolic_1[(bp_cuff_systolic_1.TIME_INTERVAL <= '1 days') & (bp_cuff_systolic_1.TIME_INTERVAL >= '-1 days')]\n",
    "\n",
    "bp_cuff_systolic_24.shape"
   ]
  },
  {
   "cell_type": "code",
   "execution_count": 45,
   "metadata": {},
   "outputs": [
    {
     "data": {
      "text/html": [
       "<div>\n",
       "<style scoped>\n",
       "    .dataframe tbody tr th:only-of-type {\n",
       "        vertical-align: middle;\n",
       "    }\n",
       "\n",
       "    .dataframe tbody tr th {\n",
       "        vertical-align: top;\n",
       "    }\n",
       "\n",
       "    .dataframe thead th {\n",
       "        text-align: right;\n",
       "    }\n",
       "</style>\n",
       "<table border=\"1\" class=\"dataframe\">\n",
       "  <thead>\n",
       "    <tr style=\"text-align: right;\">\n",
       "      <th></th>\n",
       "      <th>HADM_ID</th>\n",
       "      <th>HeartRate</th>\n",
       "      <th>RespRate</th>\n",
       "      <th>SaO2</th>\n",
       "      <th>hrAlarmHigh</th>\n",
       "      <th>hrAlarmLow</th>\n",
       "      <th>sao2AlarmHigh</th>\n",
       "      <th>sao2AlarmLow</th>\n",
       "      <th>temperature</th>\n",
       "      <th>SkinTemperature</th>\n",
       "      <th>BPCuffDiastolic</th>\n",
       "      <th>BPCuffMean</th>\n",
       "      <th>BPCuffSystolic</th>\n",
       "    </tr>\n",
       "  </thead>\n",
       "  <tbody>\n",
       "    <tr>\n",
       "      <th>196004</th>\n",
       "      <td>100029</td>\n",
       "      <td>True</td>\n",
       "      <td>True</td>\n",
       "      <td>True</td>\n",
       "      <td>True</td>\n",
       "      <td>True</td>\n",
       "      <td>True</td>\n",
       "      <td>True</td>\n",
       "      <td>True</td>\n",
       "      <td>True</td>\n",
       "      <td>True</td>\n",
       "      <td>True</td>\n",
       "      <td>True</td>\n",
       "    </tr>\n",
       "    <tr>\n",
       "      <th>993739</th>\n",
       "      <td>100044</td>\n",
       "      <td>True</td>\n",
       "      <td>True</td>\n",
       "      <td>True</td>\n",
       "      <td>True</td>\n",
       "      <td>True</td>\n",
       "      <td>True</td>\n",
       "      <td>True</td>\n",
       "      <td>True</td>\n",
       "      <td>True</td>\n",
       "      <td>True</td>\n",
       "      <td>True</td>\n",
       "      <td>True</td>\n",
       "    </tr>\n",
       "    <tr>\n",
       "      <th>1344058</th>\n",
       "      <td>100062</td>\n",
       "      <td>True</td>\n",
       "      <td>True</td>\n",
       "      <td>True</td>\n",
       "      <td>True</td>\n",
       "      <td>True</td>\n",
       "      <td>True</td>\n",
       "      <td>True</td>\n",
       "      <td>True</td>\n",
       "      <td>True</td>\n",
       "      <td>True</td>\n",
       "      <td>True</td>\n",
       "      <td>True</td>\n",
       "    </tr>\n",
       "    <tr>\n",
       "      <th>960792</th>\n",
       "      <td>100081</td>\n",
       "      <td>True</td>\n",
       "      <td>True</td>\n",
       "      <td>True</td>\n",
       "      <td>True</td>\n",
       "      <td>True</td>\n",
       "      <td>True</td>\n",
       "      <td>True</td>\n",
       "      <td>True</td>\n",
       "      <td>True</td>\n",
       "      <td>True</td>\n",
       "      <td>True</td>\n",
       "      <td>True</td>\n",
       "    </tr>\n",
       "    <tr>\n",
       "      <th>23930</th>\n",
       "      <td>100096</td>\n",
       "      <td>True</td>\n",
       "      <td>True</td>\n",
       "      <td>True</td>\n",
       "      <td>True</td>\n",
       "      <td>True</td>\n",
       "      <td>True</td>\n",
       "      <td>True</td>\n",
       "      <td>True</td>\n",
       "      <td>True</td>\n",
       "      <td>True</td>\n",
       "      <td>True</td>\n",
       "      <td>True</td>\n",
       "    </tr>\n",
       "  </tbody>\n",
       "</table>\n",
       "</div>"
      ],
      "text/plain": [
       "         HADM_ID  HeartRate  RespRate  SaO2  hrAlarmHigh  hrAlarmLow  \\\n",
       "196004    100029       True      True  True         True        True   \n",
       "993739    100044       True      True  True         True        True   \n",
       "1344058   100062       True      True  True         True        True   \n",
       "960792    100081       True      True  True         True        True   \n",
       "23930     100096       True      True  True         True        True   \n",
       "\n",
       "         sao2AlarmHigh  sao2AlarmLow  temperature  SkinTemperature  \\\n",
       "196004            True          True         True             True   \n",
       "993739            True          True         True             True   \n",
       "1344058           True          True         True             True   \n",
       "960792            True          True         True             True   \n",
       "23930             True          True         True             True   \n",
       "\n",
       "         BPCuffDiastolic  BPCuffMean  BPCuffSystolic  \n",
       "196004              True        True            True  \n",
       "993739              True        True            True  \n",
       "1344058             True        True            True  \n",
       "960792              True        True            True  \n",
       "23930               True        True            True  "
      ]
     },
     "execution_count": 45,
     "metadata": {},
     "output_type": "execute_result"
    }
   ],
   "source": [
    "admissions['BPCuffSystolic'] = admissions['HADM_ID'].isin(bp_cuff_systolic_24['HADM_ID'])\n",
    "admissions.head()"
   ]
  },
  {
   "cell_type": "markdown",
   "metadata": {},
   "source": [
    "## 1.13 Glucometer"
   ]
  },
  {
   "cell_type": "code",
   "execution_count": 46,
   "metadata": {},
   "outputs": [
    {
     "data": {
      "text/plain": [
       "(3224, 10)"
      ]
     },
     "execution_count": 46,
     "metadata": {},
     "output_type": "execute_result"
    }
   ],
   "source": [
    "glucometer_df = pd.read_csv(\"Data_3173_TS/glucometer.csv\")  \n",
    "\n",
    "glucometer_df['CHARTTIME'] = glucometer_df['CHARTTIME'].astype('datetime64[ns]')\n",
    "glucometer_df['ADMITTIME'] = glucometer_df['ADMITTIME'].astype('datetime64[ns]')\n",
    "\n",
    "## Sort dataframe \n",
    "glucometer_df.sort_values(by=['HADM_ID', 'CHARTTIME'], inplace=True)  \n",
    "\n",
    "## Giving row number to every row \n",
    "glucometer_df['row'] = glucometer_df.groupby(['HADM_ID']).cumcount()+1\n",
    "\n",
    "## Take the first row \n",
    "glucometer_1 = glucometer_df[glucometer_df.row == 1]\n",
    "\n",
    "glucometer_1['TIME_INTERVAL'] = glucometer_1['CHARTTIME'] - glucometer_1['ADMITTIME'] \n",
    "\n",
    "glucometer_24 = glucometer_1[(glucometer_1.TIME_INTERVAL <= '1 days') & (glucometer_1.TIME_INTERVAL >= '-1 days')]\n",
    "\n",
    "glucometer_24.shape"
   ]
  },
  {
   "cell_type": "code",
   "execution_count": 47,
   "metadata": {},
   "outputs": [
    {
     "data": {
      "text/html": [
       "<div>\n",
       "<style scoped>\n",
       "    .dataframe tbody tr th:only-of-type {\n",
       "        vertical-align: middle;\n",
       "    }\n",
       "\n",
       "    .dataframe tbody tr th {\n",
       "        vertical-align: top;\n",
       "    }\n",
       "\n",
       "    .dataframe thead th {\n",
       "        text-align: right;\n",
       "    }\n",
       "</style>\n",
       "<table border=\"1\" class=\"dataframe\">\n",
       "  <thead>\n",
       "    <tr style=\"text-align: right;\">\n",
       "      <th></th>\n",
       "      <th>HADM_ID</th>\n",
       "      <th>HeartRate</th>\n",
       "      <th>RespRate</th>\n",
       "      <th>SaO2</th>\n",
       "      <th>hrAlarmHigh</th>\n",
       "      <th>hrAlarmLow</th>\n",
       "      <th>sao2AlarmHigh</th>\n",
       "      <th>sao2AlarmLow</th>\n",
       "      <th>temperature</th>\n",
       "      <th>SkinTemperature</th>\n",
       "      <th>BPCuffDiastolic</th>\n",
       "      <th>BPCuffMean</th>\n",
       "      <th>BPCuffSystolic</th>\n",
       "      <th>Glucometer</th>\n",
       "    </tr>\n",
       "  </thead>\n",
       "  <tbody>\n",
       "    <tr>\n",
       "      <th>196004</th>\n",
       "      <td>100029</td>\n",
       "      <td>True</td>\n",
       "      <td>True</td>\n",
       "      <td>True</td>\n",
       "      <td>True</td>\n",
       "      <td>True</td>\n",
       "      <td>True</td>\n",
       "      <td>True</td>\n",
       "      <td>True</td>\n",
       "      <td>True</td>\n",
       "      <td>True</td>\n",
       "      <td>True</td>\n",
       "      <td>True</td>\n",
       "      <td>True</td>\n",
       "    </tr>\n",
       "    <tr>\n",
       "      <th>993739</th>\n",
       "      <td>100044</td>\n",
       "      <td>True</td>\n",
       "      <td>True</td>\n",
       "      <td>True</td>\n",
       "      <td>True</td>\n",
       "      <td>True</td>\n",
       "      <td>True</td>\n",
       "      <td>True</td>\n",
       "      <td>True</td>\n",
       "      <td>True</td>\n",
       "      <td>True</td>\n",
       "      <td>True</td>\n",
       "      <td>True</td>\n",
       "      <td>True</td>\n",
       "    </tr>\n",
       "    <tr>\n",
       "      <th>1344058</th>\n",
       "      <td>100062</td>\n",
       "      <td>True</td>\n",
       "      <td>True</td>\n",
       "      <td>True</td>\n",
       "      <td>True</td>\n",
       "      <td>True</td>\n",
       "      <td>True</td>\n",
       "      <td>True</td>\n",
       "      <td>True</td>\n",
       "      <td>True</td>\n",
       "      <td>True</td>\n",
       "      <td>True</td>\n",
       "      <td>True</td>\n",
       "      <td>True</td>\n",
       "    </tr>\n",
       "    <tr>\n",
       "      <th>960792</th>\n",
       "      <td>100081</td>\n",
       "      <td>True</td>\n",
       "      <td>True</td>\n",
       "      <td>True</td>\n",
       "      <td>True</td>\n",
       "      <td>True</td>\n",
       "      <td>True</td>\n",
       "      <td>True</td>\n",
       "      <td>True</td>\n",
       "      <td>True</td>\n",
       "      <td>True</td>\n",
       "      <td>True</td>\n",
       "      <td>True</td>\n",
       "      <td>True</td>\n",
       "    </tr>\n",
       "    <tr>\n",
       "      <th>23930</th>\n",
       "      <td>100096</td>\n",
       "      <td>True</td>\n",
       "      <td>True</td>\n",
       "      <td>True</td>\n",
       "      <td>True</td>\n",
       "      <td>True</td>\n",
       "      <td>True</td>\n",
       "      <td>True</td>\n",
       "      <td>True</td>\n",
       "      <td>True</td>\n",
       "      <td>True</td>\n",
       "      <td>True</td>\n",
       "      <td>True</td>\n",
       "      <td>True</td>\n",
       "    </tr>\n",
       "  </tbody>\n",
       "</table>\n",
       "</div>"
      ],
      "text/plain": [
       "         HADM_ID  HeartRate  RespRate  SaO2  hrAlarmHigh  hrAlarmLow  \\\n",
       "196004    100029       True      True  True         True        True   \n",
       "993739    100044       True      True  True         True        True   \n",
       "1344058   100062       True      True  True         True        True   \n",
       "960792    100081       True      True  True         True        True   \n",
       "23930     100096       True      True  True         True        True   \n",
       "\n",
       "         sao2AlarmHigh  sao2AlarmLow  temperature  SkinTemperature  \\\n",
       "196004            True          True         True             True   \n",
       "993739            True          True         True             True   \n",
       "1344058           True          True         True             True   \n",
       "960792            True          True         True             True   \n",
       "23930             True          True         True             True   \n",
       "\n",
       "         BPCuffDiastolic  BPCuffMean  BPCuffSystolic  Glucometer  \n",
       "196004              True        True            True        True  \n",
       "993739              True        True            True        True  \n",
       "1344058             True        True            True        True  \n",
       "960792              True        True            True        True  \n",
       "23930               True        True            True        True  "
      ]
     },
     "execution_count": 47,
     "metadata": {},
     "output_type": "execute_result"
    }
   ],
   "source": [
    "admissions['Glucometer'] = admissions['HADM_ID'].isin(glucometer_24['HADM_ID'])\n",
    "admissions.head()"
   ]
  },
  {
   "cell_type": "markdown",
   "metadata": {},
   "source": [
    "# Other Chart Events "
   ]
  },
  {
   "cell_type": "markdown",
   "metadata": {},
   "source": [
    "## 2.1 Birth Weight "
   ]
  },
  {
   "cell_type": "code",
   "execution_count": 48,
   "metadata": {},
   "outputs": [
    {
     "data": {
      "text/plain": [
       "(3216, 11)"
      ]
     },
     "execution_count": 48,
     "metadata": {},
     "output_type": "execute_result"
    }
   ],
   "source": [
    "birth_weight_df = pd.read_csv(\"Data_3173_SV/birth_weight.csv\")  \n",
    "\n",
    "birth_weight_df['CHARTTIME'] = birth_weight_df['CHARTTIME'].astype('datetime64[ns]')\n",
    "birth_weight_df['ADMITTIME'] = birth_weight_df['ADMITTIME'].astype('datetime64[ns]')\n",
    "\n",
    "## Sort dataframe \n",
    "birth_weight_df.sort_values(by=['HADM_ID', 'CHARTTIME'], inplace=True)  \n",
    "\n",
    "## Giving row number to every row \n",
    "birth_weight_df['row'] = birth_weight_df.groupby(['HADM_ID']).cumcount()+1\n",
    "\n",
    "## Take the first row \n",
    "birth_weight_1 = birth_weight_df[birth_weight_df.row == 1]\n",
    "\n",
    "birth_weight_1['TIME_INTERVAL'] = birth_weight_1['CHARTTIME'] - birth_weight_1['ADMITTIME'] \n",
    "\n",
    "birth_weight_24 = birth_weight_1[(birth_weight_1.TIME_INTERVAL <= '1 days') & (birth_weight_1.TIME_INTERVAL >= '-1 days')]\n",
    "\n",
    "birth_weight_24.shape"
   ]
  },
  {
   "cell_type": "code",
   "execution_count": 49,
   "metadata": {},
   "outputs": [
    {
     "data": {
      "text/html": [
       "<div>\n",
       "<style scoped>\n",
       "    .dataframe tbody tr th:only-of-type {\n",
       "        vertical-align: middle;\n",
       "    }\n",
       "\n",
       "    .dataframe tbody tr th {\n",
       "        vertical-align: top;\n",
       "    }\n",
       "\n",
       "    .dataframe thead th {\n",
       "        text-align: right;\n",
       "    }\n",
       "</style>\n",
       "<table border=\"1\" class=\"dataframe\">\n",
       "  <thead>\n",
       "    <tr style=\"text-align: right;\">\n",
       "      <th></th>\n",
       "      <th>HADM_ID</th>\n",
       "      <th>HeartRate</th>\n",
       "      <th>RespRate</th>\n",
       "      <th>SaO2</th>\n",
       "      <th>hrAlarmHigh</th>\n",
       "      <th>hrAlarmLow</th>\n",
       "      <th>sao2AlarmHigh</th>\n",
       "      <th>sao2AlarmLow</th>\n",
       "      <th>temperature</th>\n",
       "      <th>SkinTemperature</th>\n",
       "      <th>BPCuffDiastolic</th>\n",
       "      <th>BPCuffMean</th>\n",
       "      <th>BPCuffSystolic</th>\n",
       "      <th>Glucometer</th>\n",
       "      <th>BirthWeight</th>\n",
       "    </tr>\n",
       "  </thead>\n",
       "  <tbody>\n",
       "    <tr>\n",
       "      <th>196004</th>\n",
       "      <td>100029</td>\n",
       "      <td>True</td>\n",
       "      <td>True</td>\n",
       "      <td>True</td>\n",
       "      <td>True</td>\n",
       "      <td>True</td>\n",
       "      <td>True</td>\n",
       "      <td>True</td>\n",
       "      <td>True</td>\n",
       "      <td>True</td>\n",
       "      <td>True</td>\n",
       "      <td>True</td>\n",
       "      <td>True</td>\n",
       "      <td>True</td>\n",
       "      <td>True</td>\n",
       "    </tr>\n",
       "    <tr>\n",
       "      <th>993739</th>\n",
       "      <td>100044</td>\n",
       "      <td>True</td>\n",
       "      <td>True</td>\n",
       "      <td>True</td>\n",
       "      <td>True</td>\n",
       "      <td>True</td>\n",
       "      <td>True</td>\n",
       "      <td>True</td>\n",
       "      <td>True</td>\n",
       "      <td>True</td>\n",
       "      <td>True</td>\n",
       "      <td>True</td>\n",
       "      <td>True</td>\n",
       "      <td>True</td>\n",
       "      <td>True</td>\n",
       "    </tr>\n",
       "    <tr>\n",
       "      <th>1344058</th>\n",
       "      <td>100062</td>\n",
       "      <td>True</td>\n",
       "      <td>True</td>\n",
       "      <td>True</td>\n",
       "      <td>True</td>\n",
       "      <td>True</td>\n",
       "      <td>True</td>\n",
       "      <td>True</td>\n",
       "      <td>True</td>\n",
       "      <td>True</td>\n",
       "      <td>True</td>\n",
       "      <td>True</td>\n",
       "      <td>True</td>\n",
       "      <td>True</td>\n",
       "      <td>True</td>\n",
       "    </tr>\n",
       "    <tr>\n",
       "      <th>960792</th>\n",
       "      <td>100081</td>\n",
       "      <td>True</td>\n",
       "      <td>True</td>\n",
       "      <td>True</td>\n",
       "      <td>True</td>\n",
       "      <td>True</td>\n",
       "      <td>True</td>\n",
       "      <td>True</td>\n",
       "      <td>True</td>\n",
       "      <td>True</td>\n",
       "      <td>True</td>\n",
       "      <td>True</td>\n",
       "      <td>True</td>\n",
       "      <td>True</td>\n",
       "      <td>True</td>\n",
       "    </tr>\n",
       "    <tr>\n",
       "      <th>23930</th>\n",
       "      <td>100096</td>\n",
       "      <td>True</td>\n",
       "      <td>True</td>\n",
       "      <td>True</td>\n",
       "      <td>True</td>\n",
       "      <td>True</td>\n",
       "      <td>True</td>\n",
       "      <td>True</td>\n",
       "      <td>True</td>\n",
       "      <td>True</td>\n",
       "      <td>True</td>\n",
       "      <td>True</td>\n",
       "      <td>True</td>\n",
       "      <td>True</td>\n",
       "      <td>True</td>\n",
       "    </tr>\n",
       "  </tbody>\n",
       "</table>\n",
       "</div>"
      ],
      "text/plain": [
       "         HADM_ID  HeartRate  RespRate  SaO2  hrAlarmHigh  hrAlarmLow  \\\n",
       "196004    100029       True      True  True         True        True   \n",
       "993739    100044       True      True  True         True        True   \n",
       "1344058   100062       True      True  True         True        True   \n",
       "960792    100081       True      True  True         True        True   \n",
       "23930     100096       True      True  True         True        True   \n",
       "\n",
       "         sao2AlarmHigh  sao2AlarmLow  temperature  SkinTemperature  \\\n",
       "196004            True          True         True             True   \n",
       "993739            True          True         True             True   \n",
       "1344058           True          True         True             True   \n",
       "960792            True          True         True             True   \n",
       "23930             True          True         True             True   \n",
       "\n",
       "         BPCuffDiastolic  BPCuffMean  BPCuffSystolic  Glucometer  BirthWeight  \n",
       "196004              True        True            True        True         True  \n",
       "993739              True        True            True        True         True  \n",
       "1344058             True        True            True        True         True  \n",
       "960792              True        True            True        True         True  \n",
       "23930               True        True            True        True         True  "
      ]
     },
     "execution_count": 49,
     "metadata": {},
     "output_type": "execute_result"
    }
   ],
   "source": [
    "admissions['BirthWeight'] = admissions['HADM_ID'].isin(birth_weight_1['HADM_ID'])\n",
    "admissions.head()"
   ]
  },
  {
   "cell_type": "markdown",
   "metadata": {},
   "source": [
    "## 2.2 Head Circ "
   ]
  },
  {
   "cell_type": "code",
   "execution_count": 50,
   "metadata": {},
   "outputs": [
    {
     "data": {
      "text/plain": [
       "(3282, 10)"
      ]
     },
     "execution_count": 50,
     "metadata": {},
     "output_type": "execute_result"
    }
   ],
   "source": [
    "head_circ_df = pd.read_csv(\"Data_3173_SV/head_circ.csv\")  \n",
    "\n",
    "head_circ_df['CHARTTIME'] = head_circ_df['CHARTTIME'].astype('datetime64[ns]')\n",
    "head_circ_df['ADMITTIME'] = head_circ_df['ADMITTIME'].astype('datetime64[ns]')\n",
    "\n",
    "## Sort dataframe \n",
    "head_circ_df.sort_values(by=['HADM_ID', 'CHARTTIME'], inplace=True)  \n",
    "\n",
    "## Giving row number to every row \n",
    "head_circ_df['row'] = head_circ_df.groupby(['HADM_ID']).cumcount()+1\n",
    "\n",
    "## Take the first row \n",
    "head_circ_1 = head_circ_df[head_circ_df.row == 1]\n",
    "\n",
    "head_circ_1['TIME_INTERVAL'] = head_circ_1['CHARTTIME'] - head_circ_1['ADMITTIME'] \n",
    "\n",
    "head_circ_24 = head_circ_1[(head_circ_1.TIME_INTERVAL <= '10 days') & (head_circ_1.TIME_INTERVAL >= '-1 days')]\n",
    "\n",
    "head_circ_24.shape"
   ]
  },
  {
   "cell_type": "code",
   "execution_count": 51,
   "metadata": {},
   "outputs": [
    {
     "data": {
      "text/plain": [
       "(3299, 16)"
      ]
     },
     "execution_count": 51,
     "metadata": {},
     "output_type": "execute_result"
    }
   ],
   "source": [
    "admissions['HeadCirc'] = admissions['HADM_ID'].isin(head_circ_1['HADM_ID'])\n",
    "admissions.shape "
   ]
  },
  {
   "cell_type": "markdown",
   "metadata": {},
   "source": [
    "# Blood Test "
   ]
  },
  {
   "cell_type": "markdown",
   "metadata": {},
   "source": [
    "## 3.1 Bands "
   ]
  },
  {
   "cell_type": "code",
   "execution_count": 52,
   "metadata": {},
   "outputs": [
    {
     "data": {
      "text/plain": [
       "(3184, 10)"
      ]
     },
     "execution_count": 52,
     "metadata": {},
     "output_type": "execute_result"
    }
   ],
   "source": [
    "bands_df = pd.read_csv(\"Data_3173_SV/bands.csv\")  \n",
    "\n",
    "bands_df['CHARTTIME'] = bands_df['CHARTTIME'].astype('datetime64[ns]')\n",
    "bands_df['ADMITTIME'] = bands_df['ADMITTIME'].astype('datetime64[ns]')\n",
    "\n",
    "## Sort dataframe \n",
    "bands_df.sort_values(by=['HADM_ID', 'CHARTTIME'], inplace=True)  \n",
    "\n",
    "## Giving row number to every row \n",
    "bands_df['row'] = bands_df.groupby(['HADM_ID']).cumcount()+1\n",
    "\n",
    "## Take the first row \n",
    "bands_1 = bands_df[bands_df.row == 1]\n",
    "\n",
    "bands_1['TIME_INTERVAL'] = bands_1['CHARTTIME'] - bands_1['ADMITTIME'] \n",
    "\n",
    "bands_24 = bands_1[(bands_1.TIME_INTERVAL <= '1 days') & (bands_1.TIME_INTERVAL >= '-1 days')]\n",
    "\n",
    "bands_24.shape"
   ]
  },
  {
   "cell_type": "code",
   "execution_count": 53,
   "metadata": {},
   "outputs": [
    {
     "data": {
      "text/plain": [
       "(3299, 17)"
      ]
     },
     "execution_count": 53,
     "metadata": {},
     "output_type": "execute_result"
    }
   ],
   "source": [
    "admissions['Bands'] = admissions['HADM_ID'].isin(bands_24['HADM_ID'])\n",
    "admissions.shape "
   ]
  },
  {
   "cell_type": "markdown",
   "metadata": {},
   "source": [
    "## 3.2 Eosinophils"
   ]
  },
  {
   "cell_type": "code",
   "execution_count": 54,
   "metadata": {},
   "outputs": [
    {
     "data": {
      "text/plain": [
       "(3192, 10)"
      ]
     },
     "execution_count": 54,
     "metadata": {},
     "output_type": "execute_result"
    }
   ],
   "source": [
    "eosinophils_df = pd.read_csv(\"Data_3173_SV/eosinophils.csv\")  \n",
    "\n",
    "eosinophils_df['CHARTTIME'] = eosinophils_df['CHARTTIME'].astype('datetime64[ns]')\n",
    "eosinophils_df['ADMITTIME'] = eosinophils_df['ADMITTIME'].astype('datetime64[ns]')\n",
    "\n",
    "## Sort dataframe \n",
    "eosinophils_df.sort_values(by=['HADM_ID', 'CHARTTIME'], inplace=True)  \n",
    "\n",
    "## Giving row number to every row \n",
    "eosinophils_df['row'] = eosinophils_df.groupby(['HADM_ID']).cumcount()+1\n",
    "\n",
    "## Take the first row \n",
    "eosinophils_1 = eosinophils_df[eosinophils_df.row == 1]\n",
    "\n",
    "eosinophils_1['TIME_INTERVAL'] = eosinophils_1['CHARTTIME'] - eosinophils_1['ADMITTIME'] \n",
    "\n",
    "eosinophils_24 = eosinophils_1[(eosinophils_1.TIME_INTERVAL <= '1 days') & (eosinophils_1.TIME_INTERVAL >= '-1 days')]\n",
    "\n",
    "eosinophils_24.shape"
   ]
  },
  {
   "cell_type": "code",
   "execution_count": 55,
   "metadata": {},
   "outputs": [
    {
     "data": {
      "text/plain": [
       "(3299, 18)"
      ]
     },
     "execution_count": 55,
     "metadata": {},
     "output_type": "execute_result"
    }
   ],
   "source": [
    "admissions['Eosinophils'] = admissions['HADM_ID'].isin(eosinophils_24['HADM_ID'])\n",
    "admissions.shape "
   ]
  },
  {
   "cell_type": "markdown",
   "metadata": {},
   "source": [
    "## 3.3 Lymphs"
   ]
  },
  {
   "cell_type": "code",
   "execution_count": 56,
   "metadata": {},
   "outputs": [
    {
     "data": {
      "text/plain": [
       "(3192, 14)"
      ]
     },
     "execution_count": 56,
     "metadata": {},
     "output_type": "execute_result"
    }
   ],
   "source": [
    "lymphs_df = pd.read_csv(\"Data_3173_SV/lymphs.csv\")  \n",
    "\n",
    "lymphs_df['CHARTTIME'] = lymphs_df['CHARTTIME'].astype('datetime64[ns]')\n",
    "lymphs_df['ADMITTIME'] = lymphs_df['ADMITTIME'].astype('datetime64[ns]')\n",
    "\n",
    "## Sort dataframe \n",
    "lymphs_df.sort_values(by=['HADM_ID', 'CHARTTIME'], inplace=True)  \n",
    "\n",
    "## Giving row number to every row \n",
    "lymphs_df['row'] = lymphs_df.groupby(['HADM_ID']).cumcount()+1\n",
    "\n",
    "## Take the first row \n",
    "lymphs_1 = lymphs_df[lymphs_df.row == 1]\n",
    "\n",
    "lymphs_1['TIME_INTERVAL'] = lymphs_1['CHARTTIME'] - lymphs_1['ADMITTIME'] \n",
    "\n",
    "lymphs_24 = lymphs_1[(lymphs_1.TIME_INTERVAL <= '1 days') & (lymphs_1.TIME_INTERVAL >= '-1 days')]\n",
    "\n",
    "lymphs_24.shape"
   ]
  },
  {
   "cell_type": "code",
   "execution_count": 57,
   "metadata": {},
   "outputs": [
    {
     "data": {
      "text/plain": [
       "(3299, 19)"
      ]
     },
     "execution_count": 57,
     "metadata": {},
     "output_type": "execute_result"
    }
   ],
   "source": [
    "admissions['Lymphs'] = admissions['HADM_ID'].isin(lymphs_24['HADM_ID'])\n",
    "admissions.shape "
   ]
  },
  {
   "cell_type": "markdown",
   "metadata": {},
   "source": [
    "## 3.4 MONOs"
   ]
  },
  {
   "cell_type": "code",
   "execution_count": 58,
   "metadata": {},
   "outputs": [
    {
     "data": {
      "text/plain": [
       "(3192, 10)"
      ]
     },
     "execution_count": 58,
     "metadata": {},
     "output_type": "execute_result"
    }
   ],
   "source": [
    "monos_df = pd.read_csv(\"Data_3173_SV/monos.csv\")  \n",
    "\n",
    "monos_df['CHARTTIME'] = monos_df['CHARTTIME'].astype('datetime64[ns]')\n",
    "monos_df['ADMITTIME'] = monos_df['ADMITTIME'].astype('datetime64[ns]')\n",
    "\n",
    "## Sort dataframe \n",
    "monos_df.sort_values(by=['HADM_ID', 'CHARTTIME'], inplace=True)  \n",
    "\n",
    "## Giving row number to every row \n",
    "monos_df['row'] = monos_df.groupby(['HADM_ID']).cumcount()+1\n",
    "\n",
    "## Take the first row \n",
    "monos_1 = monos_df[monos_df.row == 1]\n",
    "\n",
    "monos_1['TIME_INTERVAL'] = monos_1['CHARTTIME'] - monos_1['ADMITTIME'] \n",
    "\n",
    "monos_24 = monos_1[(monos_1.TIME_INTERVAL <= '1 days') & (monos_1.TIME_INTERVAL >= '-1 days')]\n",
    "\n",
    "monos_24.shape"
   ]
  },
  {
   "cell_type": "code",
   "execution_count": 59,
   "metadata": {},
   "outputs": [
    {
     "data": {
      "text/plain": [
       "(3299, 20)"
      ]
     },
     "execution_count": 59,
     "metadata": {},
     "output_type": "execute_result"
    }
   ],
   "source": [
    "admissions['Monos'] = admissions['HADM_ID'].isin(monos_24['HADM_ID'])\n",
    "admissions.shape "
   ]
  },
  {
   "cell_type": "markdown",
   "metadata": {},
   "source": [
    "## 3.5 NEUTs "
   ]
  },
  {
   "cell_type": "code",
   "execution_count": 60,
   "metadata": {},
   "outputs": [
    {
     "data": {
      "text/plain": [
       "(3192, 10)"
      ]
     },
     "execution_count": 60,
     "metadata": {},
     "output_type": "execute_result"
    }
   ],
   "source": [
    "neuts_df = pd.read_csv(\"Data_3173_SV/neuts.csv\")  \n",
    "\n",
    "neuts_df['CHARTTIME'] = neuts_df['CHARTTIME'].astype('datetime64[ns]')\n",
    "neuts_df['ADMITTIME'] = neuts_df['ADMITTIME'].astype('datetime64[ns]')\n",
    "\n",
    "## Sort dataframe \n",
    "neuts_df.sort_values(by=['HADM_ID', 'CHARTTIME'], inplace=True)  \n",
    "\n",
    "## Giving row number to every row \n",
    "neuts_df['row'] = neuts_df.groupby(['HADM_ID']).cumcount()+1\n",
    "\n",
    "## Take the first row \n",
    "neuts_1 = neuts_df[neuts_df.row == 1]\n",
    "\n",
    "neuts_1['TIME_INTERVAL'] = neuts_1['CHARTTIME'] - neuts_1['ADMITTIME'] \n",
    "\n",
    "neuts_24 = neuts_1[(neuts_1.TIME_INTERVAL <= '1 days') & (neuts_1.TIME_INTERVAL >= '-1 days')]\n",
    "\n",
    "neuts_24.shape"
   ]
  },
  {
   "cell_type": "code",
   "execution_count": 61,
   "metadata": {},
   "outputs": [
    {
     "data": {
      "text/plain": [
       "(3299, 21)"
      ]
     },
     "execution_count": 61,
     "metadata": {},
     "output_type": "execute_result"
    }
   ],
   "source": [
    "admissions['Neuts'] = admissions['HADM_ID'].isin(neuts_24['HADM_ID'])\n",
    "admissions.shape "
   ]
  },
  {
   "cell_type": "markdown",
   "metadata": {},
   "source": [
    "## 3.6 Platelet"
   ]
  },
  {
   "cell_type": "code",
   "execution_count": 62,
   "metadata": {},
   "outputs": [
    {
     "data": {
      "text/plain": [
       "(3196, 11)"
      ]
     },
     "execution_count": 62,
     "metadata": {},
     "output_type": "execute_result"
    }
   ],
   "source": [
    "platelet_df = pd.read_csv(\"Data_3173_SV/platelet.csv\")  \n",
    "\n",
    "platelet_df['CHARTTIME'] = platelet_df['CHARTTIME'].astype('datetime64[ns]')\n",
    "platelet_df['ADMITTIME'] = platelet_df['ADMITTIME'].astype('datetime64[ns]')\n",
    "\n",
    "## Sort dataframe \n",
    "platelet_df.sort_values(by=['HADM_ID', 'CHARTTIME'], inplace=True)  \n",
    "\n",
    "## Giving row number to every row \n",
    "platelet_df['row'] = platelet_df.groupby(['HADM_ID']).cumcount()+1\n",
    "\n",
    "## Take the first row \n",
    "platelet_1 = platelet_df[platelet_df.row == 1]\n",
    "\n",
    "platelet_1['TIME_INTERVAL'] = platelet_1['CHARTTIME'] - platelet_1['ADMITTIME'] \n",
    "\n",
    "platelet_24 = platelet_1[(platelet_1.TIME_INTERVAL <= '1 days') & (platelet_1.TIME_INTERVAL >= '-1 days')]\n",
    "\n",
    "platelet_24.shape"
   ]
  },
  {
   "cell_type": "code",
   "execution_count": 63,
   "metadata": {},
   "outputs": [
    {
     "data": {
      "text/plain": [
       "(3299, 22)"
      ]
     },
     "execution_count": 63,
     "metadata": {},
     "output_type": "execute_result"
    }
   ],
   "source": [
    "admissions['Platelet'] = admissions['HADM_ID'].isin(platelet_24['HADM_ID'])\n",
    "admissions.shape "
   ]
  },
  {
   "cell_type": "code",
   "execution_count": 64,
   "metadata": {},
   "outputs": [],
   "source": [
    "admissions.to_csv(\"admissions_3K.csv\", index=False)"
   ]
  },
  {
   "cell_type": "code",
   "execution_count": null,
   "metadata": {},
   "outputs": [],
   "source": []
  }
 ],
 "metadata": {
  "kernelspec": {
   "display_name": "Python 3",
   "language": "python",
   "name": "python3"
  },
  "language_info": {
   "codemirror_mode": {
    "name": "ipython",
    "version": 3
   },
   "file_extension": ".py",
   "mimetype": "text/x-python",
   "name": "python",
   "nbconvert_exporter": "python",
   "pygments_lexer": "ipython3",
   "version": "3.8.5"
  }
 },
 "nbformat": 4,
 "nbformat_minor": 4
}
