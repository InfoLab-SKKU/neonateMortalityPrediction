{
 "cells": [
  {
   "cell_type": "markdown",
   "metadata": {},
   "source": [
    "# Single Value Data from Chartevents\n",
    "* by Firuz Juraev (PhD student)"
   ]
  },
  {
   "cell_type": "code",
   "execution_count": 1,
   "metadata": {},
   "outputs": [],
   "source": [
    "import pandas as pd \n",
    "from datetime import datetime\n",
    "import seaborn as sns\n",
    "import glob\n",
    "from os import listdir \n",
    "import os.path\n",
    "from os import path\n",
    "import numpy as np \n",
    "import warnings\n",
    "warnings.filterwarnings('ignore')"
   ]
  },
  {
   "cell_type": "code",
   "execution_count": 2,
   "metadata": {},
   "outputs": [],
   "source": [
    "def side_by_side(*objs, **kwds):\n",
    "    from pandas.io.formats.printing import adjoin\n",
    "    space = kwds.get('space', 4)\n",
    "    reprs = [repr(obj).split('\\n') for obj in objs]\n",
    "    print (adjoin(space, *reprs))\n",
    "    print()\n",
    "    return"
   ]
  },
  {
   "cell_type": "markdown",
   "metadata": {},
   "source": [
    "### Variables "
   ]
  },
  {
   "cell_type": "code",
   "execution_count": 3,
   "metadata": {},
   "outputs": [],
   "source": [
    "directory = \"Data_3145_SV_24/\" "
   ]
  },
  {
   "cell_type": "code",
   "execution_count": 94,
   "metadata": {},
   "outputs": [],
   "source": [
    "bad_neonates = [100044, 100062, 100081, 159338, 155826, 187822, 145130, 146110, 120546, 157469]"
   ]
  },
  {
   "cell_type": "markdown",
   "metadata": {},
   "source": [
    "### Functions "
   ]
  },
  {
   "cell_type": "code",
   "execution_count": 4,
   "metadata": {},
   "outputs": [],
   "source": [
    "def list_files(directory):\n",
    "    files = []\n",
    "    counter = 0\n",
    "    for f in listdir(directory):\n",
    "        if f.endswith('.' + \"csv\"):\n",
    "            files.append(f)\n",
    "            counter = counter + 1\n",
    "    print (\"CSV Files: \" + str(counter))\n",
    "    return files"
   ]
  },
  {
   "cell_type": "code",
   "execution_count": 16,
   "metadata": {},
   "outputs": [],
   "source": [
    "def drop_defected_neonates_rows(df): \n",
    "    for neonate in bad_neonates: \n",
    "        drop_list = []\n",
    "\n",
    "        i = df[df['HADM_ID'] == neonate].index                             \n",
    "\n",
    "        # Appending indeces to drop list  \n",
    "        drop_list.append(i) \n",
    "\n",
    "        ## droping rows \n",
    "        for i in drop_list: \n",
    "            df.drop(i, axis=0, inplace=True)\n",
    "        \n",
    "    side_by_side(df.isnull().sum(), df.count()) \n",
    "        \n",
    "    return df "
   ]
  },
  {
   "cell_type": "code",
   "execution_count": 48,
   "metadata": {},
   "outputs": [],
   "source": [
    "def merge_blood_test(neonates_df, df, test_type): \n",
    "    df = df.groupby(\"HADM_ID\")\n",
    "\n",
    "    mean_df = df.mean()\n",
    "    mean_df = mean_df.reset_index()\n",
    "\n",
    "    mean_df.drop(['subject_id'], axis=1, inplace=True)\n",
    "    \n",
    "    mean_df.rename(columns={'VALUENUM':test_type}, inplace=True) \n",
    "    \n",
    "    # Merge neonates with blood test  \n",
    "    neonates_df = pd.merge(neonates_df, mean_df, on='HADM_ID', how='inner')\n",
    "    \n",
    "    print (test_type + \" is added!\")\n",
    "    print (\"Unique Neonates: \" + str(neonates_df['HADM_ID'].nunique()))\n",
    "    side_by_side(neonates_df.isnull().sum(), neonates_df.count()) \n",
    "    \n",
    "    return neonates_df"
   ]
  },
  {
   "cell_type": "markdown",
   "metadata": {},
   "source": [
    "### Run "
   ]
  },
  {
   "cell_type": "code",
   "execution_count": 5,
   "metadata": {},
   "outputs": [
    {
     "name": "stdout",
     "output_type": "stream",
     "text": [
      "CSV Files: 8\n"
     ]
    },
    {
     "data": {
      "text/plain": [
       "['bands_24.csv',\n",
       " 'birth_weight_24.csv',\n",
       " 'eosinophils_24.csv',\n",
       " 'head_circ_24.csv',\n",
       " 'lymphs_24.csv',\n",
       " 'monos_24.csv',\n",
       " 'neuts_24.csv',\n",
       " 'platelet_24.csv']"
      ]
     },
     "execution_count": 5,
     "metadata": {},
     "output_type": "execute_result"
    }
   ],
   "source": [
    "list_files(directory)"
   ]
  },
  {
   "cell_type": "markdown",
   "metadata": {},
   "source": [
    "###  1.1 Birth Weight "
   ]
  },
  {
   "cell_type": "code",
   "execution_count": 102,
   "metadata": {},
   "outputs": [
    {
     "data": {
      "text/html": [
       "<div>\n",
       "<style scoped>\n",
       "    .dataframe tbody tr th:only-of-type {\n",
       "        vertical-align: middle;\n",
       "    }\n",
       "\n",
       "    .dataframe tbody tr th {\n",
       "        vertical-align: top;\n",
       "    }\n",
       "\n",
       "    .dataframe thead th {\n",
       "        text-align: right;\n",
       "    }\n",
       "</style>\n",
       "<table border=\"1\" class=\"dataframe\">\n",
       "  <thead>\n",
       "    <tr style=\"text-align: right;\">\n",
       "      <th></th>\n",
       "      <th>subject_id</th>\n",
       "      <th>HADM_ID</th>\n",
       "      <th>CHARTTIME</th>\n",
       "      <th>VALUENUM</th>\n",
       "      <th>ADMITTIME</th>\n",
       "    </tr>\n",
       "  </thead>\n",
       "  <tbody>\n",
       "    <tr>\n",
       "      <th>0</th>\n",
       "      <td>10</td>\n",
       "      <td>184167</td>\n",
       "      <td>2103-06-28 10:00:00</td>\n",
       "      <td>1.385</td>\n",
       "      <td>2103-06-28 11:36:00</td>\n",
       "    </tr>\n",
       "    <tr>\n",
       "      <th>1</th>\n",
       "      <td>39</td>\n",
       "      <td>106266</td>\n",
       "      <td>2114-11-29 22:00:00</td>\n",
       "      <td>2.775</td>\n",
       "      <td>2114-11-29 21:04:00</td>\n",
       "    </tr>\n",
       "  </tbody>\n",
       "</table>\n",
       "</div>"
      ],
      "text/plain": [
       "   subject_id  HADM_ID            CHARTTIME  VALUENUM            ADMITTIME\n",
       "0          10   184167  2103-06-28 10:00:00     1.385  2103-06-28 11:36:00\n",
       "1          39   106266  2114-11-29 22:00:00     2.775  2114-11-29 21:04:00"
      ]
     },
     "execution_count": 102,
     "metadata": {},
     "output_type": "execute_result"
    }
   ],
   "source": [
    "birth_weight = pd.read_csv(directory + \"birth_weight_24.csv\")\n",
    "\n",
    "birth_weight.head(2)"
   ]
  },
  {
   "cell_type": "code",
   "execution_count": 103,
   "metadata": {},
   "outputs": [
    {
     "data": {
      "text/plain": [
       "(3145, 5)"
      ]
     },
     "execution_count": 103,
     "metadata": {},
     "output_type": "execute_result"
    }
   ],
   "source": [
    "birth_weight.shape "
   ]
  },
  {
   "cell_type": "code",
   "execution_count": 104,
   "metadata": {},
   "outputs": [
    {
     "name": "stdout",
     "output_type": "stream",
     "text": [
      "subject_id    0    subject_id    3135\n",
      "HADM_ID       0    HADM_ID       3135\n",
      "CHARTTIME     0    CHARTTIME     3135\n",
      "VALUENUM      0    VALUENUM      3135\n",
      "ADMITTIME     0    ADMITTIME     3135\n",
      "dtype: int64       dtype: int64      \n",
      "\n"
     ]
    }
   ],
   "source": [
    "birth_weight = drop_defected_neonates_rows(birth_weight) "
   ]
  },
  {
   "cell_type": "code",
   "execution_count": 20,
   "metadata": {},
   "outputs": [
    {
     "data": {
      "text/html": [
       "<div>\n",
       "<style scoped>\n",
       "    .dataframe tbody tr th:only-of-type {\n",
       "        vertical-align: middle;\n",
       "    }\n",
       "\n",
       "    .dataframe tbody tr th {\n",
       "        vertical-align: top;\n",
       "    }\n",
       "\n",
       "    .dataframe thead th {\n",
       "        text-align: right;\n",
       "    }\n",
       "</style>\n",
       "<table border=\"1\" class=\"dataframe\">\n",
       "  <thead>\n",
       "    <tr style=\"text-align: right;\">\n",
       "      <th></th>\n",
       "      <th>subject_id</th>\n",
       "      <th>HADM_ID</th>\n",
       "      <th>VALUENUM</th>\n",
       "    </tr>\n",
       "  </thead>\n",
       "  <tbody>\n",
       "    <tr>\n",
       "      <th>count</th>\n",
       "      <td>3137.000000</td>\n",
       "      <td>3137.000000</td>\n",
       "      <td>3137.000000</td>\n",
       "    </tr>\n",
       "    <tr>\n",
       "      <th>mean</th>\n",
       "      <td>15404.719158</td>\n",
       "      <td>150236.069812</td>\n",
       "      <td>2.143438</td>\n",
       "    </tr>\n",
       "    <tr>\n",
       "      <th>std</th>\n",
       "      <td>9147.207164</td>\n",
       "      <td>28969.007466</td>\n",
       "      <td>0.841929</td>\n",
       "    </tr>\n",
       "    <tr>\n",
       "      <th>min</th>\n",
       "      <td>10.000000</td>\n",
       "      <td>100029.000000</td>\n",
       "      <td>0.364000</td>\n",
       "    </tr>\n",
       "    <tr>\n",
       "      <th>25%</th>\n",
       "      <td>7506.000000</td>\n",
       "      <td>125184.000000</td>\n",
       "      <td>1.535000</td>\n",
       "    </tr>\n",
       "    <tr>\n",
       "      <th>50%</th>\n",
       "      <td>15249.000000</td>\n",
       "      <td>149876.000000</td>\n",
       "      <td>2.065000</td>\n",
       "    </tr>\n",
       "    <tr>\n",
       "      <th>75%</th>\n",
       "      <td>23069.000000</td>\n",
       "      <td>175757.000000</td>\n",
       "      <td>2.665000</td>\n",
       "    </tr>\n",
       "    <tr>\n",
       "      <th>max</th>\n",
       "      <td>32806.000000</td>\n",
       "      <td>199918.000000</td>\n",
       "      <td>6.115000</td>\n",
       "    </tr>\n",
       "  </tbody>\n",
       "</table>\n",
       "</div>"
      ],
      "text/plain": [
       "         subject_id        HADM_ID     VALUENUM\n",
       "count   3137.000000    3137.000000  3137.000000\n",
       "mean   15404.719158  150236.069812     2.143438\n",
       "std     9147.207164   28969.007466     0.841929\n",
       "min       10.000000  100029.000000     0.364000\n",
       "25%     7506.000000  125184.000000     1.535000\n",
       "50%    15249.000000  149876.000000     2.065000\n",
       "75%    23069.000000  175757.000000     2.665000\n",
       "max    32806.000000  199918.000000     6.115000"
      ]
     },
     "execution_count": 20,
     "metadata": {},
     "output_type": "execute_result"
    }
   ],
   "source": [
    "birth_weight.describe()"
   ]
  },
  {
   "cell_type": "code",
   "execution_count": 105,
   "metadata": {},
   "outputs": [
    {
     "data": {
      "text/html": [
       "<div>\n",
       "<style scoped>\n",
       "    .dataframe tbody tr th:only-of-type {\n",
       "        vertical-align: middle;\n",
       "    }\n",
       "\n",
       "    .dataframe tbody tr th {\n",
       "        vertical-align: top;\n",
       "    }\n",
       "\n",
       "    .dataframe thead th {\n",
       "        text-align: right;\n",
       "    }\n",
       "</style>\n",
       "<table border=\"1\" class=\"dataframe\">\n",
       "  <thead>\n",
       "    <tr style=\"text-align: right;\">\n",
       "      <th></th>\n",
       "      <th>subject_id</th>\n",
       "      <th>HADM_ID</th>\n",
       "      <th>CHARTTIME</th>\n",
       "      <th>VALUENUM</th>\n",
       "      <th>ADMITTIME</th>\n",
       "    </tr>\n",
       "  </thead>\n",
       "  <tbody>\n",
       "    <tr>\n",
       "      <th>0</th>\n",
       "      <td>10</td>\n",
       "      <td>184167</td>\n",
       "      <td>2103-06-28 10:00:00</td>\n",
       "      <td>1.385</td>\n",
       "      <td>2103-06-28 11:36:00</td>\n",
       "    </tr>\n",
       "    <tr>\n",
       "      <th>1</th>\n",
       "      <td>39</td>\n",
       "      <td>106266</td>\n",
       "      <td>2114-11-29 22:00:00</td>\n",
       "      <td>2.775</td>\n",
       "      <td>2114-11-29 21:04:00</td>\n",
       "    </tr>\n",
       "  </tbody>\n",
       "</table>\n",
       "</div>"
      ],
      "text/plain": [
       "   subject_id  HADM_ID            CHARTTIME  VALUENUM            ADMITTIME\n",
       "0          10   184167  2103-06-28 10:00:00     1.385  2103-06-28 11:36:00\n",
       "1          39   106266  2114-11-29 22:00:00     2.775  2114-11-29 21:04:00"
      ]
     },
     "execution_count": 105,
     "metadata": {},
     "output_type": "execute_result"
    }
   ],
   "source": [
    "birth_weight.head(2)"
   ]
  },
  {
   "cell_type": "code",
   "execution_count": 106,
   "metadata": {},
   "outputs": [
    {
     "data": {
      "text/plain": [
       "Index(['subject_id', 'HADM_ID', 'CHARTTIME', 'VALUENUM', 'ADMITTIME'], dtype='object')"
      ]
     },
     "execution_count": 106,
     "metadata": {},
     "output_type": "execute_result"
    }
   ],
   "source": [
    "birth_weight.columns "
   ]
  },
  {
   "cell_type": "code",
   "execution_count": 107,
   "metadata": {},
   "outputs": [],
   "source": [
    "birth_weight.drop(['subject_id', 'CHARTTIME', 'ADMITTIME'], axis=1, inplace=True)"
   ]
  },
  {
   "cell_type": "code",
   "execution_count": 108,
   "metadata": {},
   "outputs": [
    {
     "data": {
      "text/html": [
       "<div>\n",
       "<style scoped>\n",
       "    .dataframe tbody tr th:only-of-type {\n",
       "        vertical-align: middle;\n",
       "    }\n",
       "\n",
       "    .dataframe tbody tr th {\n",
       "        vertical-align: top;\n",
       "    }\n",
       "\n",
       "    .dataframe thead th {\n",
       "        text-align: right;\n",
       "    }\n",
       "</style>\n",
       "<table border=\"1\" class=\"dataframe\">\n",
       "  <thead>\n",
       "    <tr style=\"text-align: right;\">\n",
       "      <th></th>\n",
       "      <th>HADM_ID</th>\n",
       "      <th>VALUENUM</th>\n",
       "    </tr>\n",
       "  </thead>\n",
       "  <tbody>\n",
       "    <tr>\n",
       "      <th>0</th>\n",
       "      <td>184167</td>\n",
       "      <td>1.385</td>\n",
       "    </tr>\n",
       "    <tr>\n",
       "      <th>1</th>\n",
       "      <td>106266</td>\n",
       "      <td>2.775</td>\n",
       "    </tr>\n",
       "    <tr>\n",
       "      <th>2</th>\n",
       "      <td>104518</td>\n",
       "      <td>3.115</td>\n",
       "    </tr>\n",
       "    <tr>\n",
       "      <th>3</th>\n",
       "      <td>190201</td>\n",
       "      <td>1.835</td>\n",
       "    </tr>\n",
       "    <tr>\n",
       "      <th>4</th>\n",
       "      <td>156857</td>\n",
       "      <td>2.685</td>\n",
       "    </tr>\n",
       "  </tbody>\n",
       "</table>\n",
       "</div>"
      ],
      "text/plain": [
       "   HADM_ID  VALUENUM\n",
       "0   184167     1.385\n",
       "1   106266     2.775\n",
       "2   104518     3.115\n",
       "3   190201     1.835\n",
       "4   156857     2.685"
      ]
     },
     "execution_count": 108,
     "metadata": {},
     "output_type": "execute_result"
    }
   ],
   "source": [
    "birth_weight.head()"
   ]
  },
  {
   "cell_type": "code",
   "execution_count": 109,
   "metadata": {},
   "outputs": [
    {
     "data": {
      "text/plain": [
       "(3135, 2)"
      ]
     },
     "execution_count": 109,
     "metadata": {},
     "output_type": "execute_result"
    }
   ],
   "source": [
    "birth_weight.shape "
   ]
  },
  {
   "cell_type": "markdown",
   "metadata": {},
   "source": [
    "#### Save to File "
   ]
  },
  {
   "cell_type": "code",
   "execution_count": 110,
   "metadata": {},
   "outputs": [],
   "source": [
    "birth_weight.to_csv(\"FinalData/SingleValue/birth_weight.csv\", index=False)"
   ]
  },
  {
   "cell_type": "markdown",
   "metadata": {},
   "source": [
    "### 1.2 Head Circ  "
   ]
  },
  {
   "cell_type": "code",
   "execution_count": 100,
   "metadata": {},
   "outputs": [
    {
     "data": {
      "text/html": [
       "<div>\n",
       "<style scoped>\n",
       "    .dataframe tbody tr th:only-of-type {\n",
       "        vertical-align: middle;\n",
       "    }\n",
       "\n",
       "    .dataframe tbody tr th {\n",
       "        vertical-align: top;\n",
       "    }\n",
       "\n",
       "    .dataframe thead th {\n",
       "        text-align: right;\n",
       "    }\n",
       "</style>\n",
       "<table border=\"1\" class=\"dataframe\">\n",
       "  <thead>\n",
       "    <tr style=\"text-align: right;\">\n",
       "      <th></th>\n",
       "      <th>HADM_ID</th>\n",
       "      <th>CHARTTIME</th>\n",
       "      <th>VALUENUM</th>\n",
       "      <th>subject_id</th>\n",
       "      <th>ADMITTIME</th>\n",
       "    </tr>\n",
       "  </thead>\n",
       "  <tbody>\n",
       "    <tr>\n",
       "      <th>0</th>\n",
       "      <td>184167</td>\n",
       "      <td>2103-06-28 10:00:00</td>\n",
       "      <td>27.5</td>\n",
       "      <td>10</td>\n",
       "      <td>2103-06-28 11:36:00</td>\n",
       "    </tr>\n",
       "    <tr>\n",
       "      <th>1</th>\n",
       "      <td>106266</td>\n",
       "      <td>2114-11-29 22:00:00</td>\n",
       "      <td>34.0</td>\n",
       "      <td>39</td>\n",
       "      <td>2114-11-29 21:04:00</td>\n",
       "    </tr>\n",
       "  </tbody>\n",
       "</table>\n",
       "</div>"
      ],
      "text/plain": [
       "   HADM_ID            CHARTTIME  VALUENUM  subject_id            ADMITTIME\n",
       "0   184167  2103-06-28 10:00:00      27.5          10  2103-06-28 11:36:00\n",
       "1   106266  2114-11-29 22:00:00      34.0          39  2114-11-29 21:04:00"
      ]
     },
     "execution_count": 100,
     "metadata": {},
     "output_type": "execute_result"
    }
   ],
   "source": [
    "head_circ = pd.read_csv(directory + \"head_circ_24.csv\")\n",
    "\n",
    "head_circ.head(2) "
   ]
  },
  {
   "cell_type": "code",
   "execution_count": 101,
   "metadata": {},
   "outputs": [
    {
     "name": "stdout",
     "output_type": "stream",
     "text": [
      "HADM_ID       0    HADM_ID       3135\n",
      "CHARTTIME     0    CHARTTIME     3135\n",
      "VALUENUM      0    VALUENUM      3135\n",
      "subject_id    0    subject_id    3135\n",
      "ADMITTIME     0    ADMITTIME     3135\n",
      "dtype: int64       dtype: int64      \n",
      "\n"
     ]
    }
   ],
   "source": [
    "head_circ = drop_defected_neonates_rows(head_circ) "
   ]
  },
  {
   "cell_type": "code",
   "execution_count": 24,
   "metadata": {},
   "outputs": [
    {
     "data": {
      "text/html": [
       "<div>\n",
       "<style scoped>\n",
       "    .dataframe tbody tr th:only-of-type {\n",
       "        vertical-align: middle;\n",
       "    }\n",
       "\n",
       "    .dataframe tbody tr th {\n",
       "        vertical-align: top;\n",
       "    }\n",
       "\n",
       "    .dataframe thead th {\n",
       "        text-align: right;\n",
       "    }\n",
       "</style>\n",
       "<table border=\"1\" class=\"dataframe\">\n",
       "  <thead>\n",
       "    <tr style=\"text-align: right;\">\n",
       "      <th></th>\n",
       "      <th>HADM_ID</th>\n",
       "      <th>VALUENUM</th>\n",
       "      <th>subject_id</th>\n",
       "    </tr>\n",
       "  </thead>\n",
       "  <tbody>\n",
       "    <tr>\n",
       "      <th>count</th>\n",
       "      <td>3137.000000</td>\n",
       "      <td>3137.000000</td>\n",
       "      <td>3137.000000</td>\n",
       "    </tr>\n",
       "    <tr>\n",
       "      <th>mean</th>\n",
       "      <td>150236.069812</td>\n",
       "      <td>30.586959</td>\n",
       "      <td>15404.719158</td>\n",
       "    </tr>\n",
       "    <tr>\n",
       "      <th>std</th>\n",
       "      <td>28969.007466</td>\n",
       "      <td>3.602091</td>\n",
       "      <td>9147.207164</td>\n",
       "    </tr>\n",
       "    <tr>\n",
       "      <th>min</th>\n",
       "      <td>100029.000000</td>\n",
       "      <td>0.000000</td>\n",
       "      <td>10.000000</td>\n",
       "    </tr>\n",
       "    <tr>\n",
       "      <th>25%</th>\n",
       "      <td>125184.000000</td>\n",
       "      <td>28.500000</td>\n",
       "      <td>7506.000000</td>\n",
       "    </tr>\n",
       "    <tr>\n",
       "      <th>50%</th>\n",
       "      <td>149876.000000</td>\n",
       "      <td>31.000000</td>\n",
       "      <td>15249.000000</td>\n",
       "    </tr>\n",
       "    <tr>\n",
       "      <th>75%</th>\n",
       "      <td>175757.000000</td>\n",
       "      <td>33.000000</td>\n",
       "      <td>23069.000000</td>\n",
       "    </tr>\n",
       "    <tr>\n",
       "      <th>max</th>\n",
       "      <td>199918.000000</td>\n",
       "      <td>49.000000</td>\n",
       "      <td>32806.000000</td>\n",
       "    </tr>\n",
       "  </tbody>\n",
       "</table>\n",
       "</div>"
      ],
      "text/plain": [
       "             HADM_ID     VALUENUM    subject_id\n",
       "count    3137.000000  3137.000000   3137.000000\n",
       "mean   150236.069812    30.586959  15404.719158\n",
       "std     28969.007466     3.602091   9147.207164\n",
       "min    100029.000000     0.000000     10.000000\n",
       "25%    125184.000000    28.500000   7506.000000\n",
       "50%    149876.000000    31.000000  15249.000000\n",
       "75%    175757.000000    33.000000  23069.000000\n",
       "max    199918.000000    49.000000  32806.000000"
      ]
     },
     "execution_count": 24,
     "metadata": {},
     "output_type": "execute_result"
    }
   ],
   "source": [
    "head_circ.describe()"
   ]
  },
  {
   "cell_type": "code",
   "execution_count": 111,
   "metadata": {},
   "outputs": [
    {
     "data": {
      "text/html": [
       "<div>\n",
       "<style scoped>\n",
       "    .dataframe tbody tr th:only-of-type {\n",
       "        vertical-align: middle;\n",
       "    }\n",
       "\n",
       "    .dataframe tbody tr th {\n",
       "        vertical-align: top;\n",
       "    }\n",
       "\n",
       "    .dataframe thead th {\n",
       "        text-align: right;\n",
       "    }\n",
       "</style>\n",
       "<table border=\"1\" class=\"dataframe\">\n",
       "  <thead>\n",
       "    <tr style=\"text-align: right;\">\n",
       "      <th></th>\n",
       "      <th>HADM_ID</th>\n",
       "      <th>CHARTTIME</th>\n",
       "      <th>VALUENUM</th>\n",
       "      <th>subject_id</th>\n",
       "      <th>ADMITTIME</th>\n",
       "    </tr>\n",
       "  </thead>\n",
       "  <tbody>\n",
       "    <tr>\n",
       "      <th>0</th>\n",
       "      <td>184167</td>\n",
       "      <td>2103-06-28 10:00:00</td>\n",
       "      <td>27.5</td>\n",
       "      <td>10</td>\n",
       "      <td>2103-06-28 11:36:00</td>\n",
       "    </tr>\n",
       "    <tr>\n",
       "      <th>1</th>\n",
       "      <td>106266</td>\n",
       "      <td>2114-11-29 22:00:00</td>\n",
       "      <td>34.0</td>\n",
       "      <td>39</td>\n",
       "      <td>2114-11-29 21:04:00</td>\n",
       "    </tr>\n",
       "  </tbody>\n",
       "</table>\n",
       "</div>"
      ],
      "text/plain": [
       "   HADM_ID            CHARTTIME  VALUENUM  subject_id            ADMITTIME\n",
       "0   184167  2103-06-28 10:00:00      27.5          10  2103-06-28 11:36:00\n",
       "1   106266  2114-11-29 22:00:00      34.0          39  2114-11-29 21:04:00"
      ]
     },
     "execution_count": 111,
     "metadata": {},
     "output_type": "execute_result"
    }
   ],
   "source": [
    "head_circ.head(2)"
   ]
  },
  {
   "cell_type": "code",
   "execution_count": 112,
   "metadata": {},
   "outputs": [
    {
     "data": {
      "text/plain": [
       "(3135, 5)"
      ]
     },
     "execution_count": 112,
     "metadata": {},
     "output_type": "execute_result"
    }
   ],
   "source": [
    "head_circ.shape "
   ]
  },
  {
   "cell_type": "code",
   "execution_count": 113,
   "metadata": {},
   "outputs": [],
   "source": [
    "head_circ.drop(['subject_id', 'CHARTTIME', 'ADMITTIME'], axis=1, inplace=True)"
   ]
  },
  {
   "cell_type": "code",
   "execution_count": 114,
   "metadata": {},
   "outputs": [
    {
     "data": {
      "text/html": [
       "<div>\n",
       "<style scoped>\n",
       "    .dataframe tbody tr th:only-of-type {\n",
       "        vertical-align: middle;\n",
       "    }\n",
       "\n",
       "    .dataframe tbody tr th {\n",
       "        vertical-align: top;\n",
       "    }\n",
       "\n",
       "    .dataframe thead th {\n",
       "        text-align: right;\n",
       "    }\n",
       "</style>\n",
       "<table border=\"1\" class=\"dataframe\">\n",
       "  <thead>\n",
       "    <tr style=\"text-align: right;\">\n",
       "      <th></th>\n",
       "      <th>HADM_ID</th>\n",
       "      <th>VALUENUM</th>\n",
       "    </tr>\n",
       "  </thead>\n",
       "  <tbody>\n",
       "    <tr>\n",
       "      <th>0</th>\n",
       "      <td>184167</td>\n",
       "      <td>27.5</td>\n",
       "    </tr>\n",
       "    <tr>\n",
       "      <th>1</th>\n",
       "      <td>106266</td>\n",
       "      <td>34.0</td>\n",
       "    </tr>\n",
       "  </tbody>\n",
       "</table>\n",
       "</div>"
      ],
      "text/plain": [
       "   HADM_ID  VALUENUM\n",
       "0   184167      27.5\n",
       "1   106266      34.0"
      ]
     },
     "execution_count": 114,
     "metadata": {},
     "output_type": "execute_result"
    }
   ],
   "source": [
    "head_circ.head(2)"
   ]
  },
  {
   "cell_type": "markdown",
   "metadata": {},
   "source": [
    "#### Save to File "
   ]
  },
  {
   "cell_type": "code",
   "execution_count": 115,
   "metadata": {},
   "outputs": [],
   "source": [
    "head_circ.to_csv(\"FinalData/SingleValue/head_circ.csv\", index=False)"
   ]
  },
  {
   "cell_type": "markdown",
   "metadata": {},
   "source": [
    "## Blood Test \n",
    "\n",
    "* bands\n",
    "* monos \n",
    "* eosinophils\n",
    "* lymphs \n",
    "* neuts \n",
    "* platelet"
   ]
  },
  {
   "cell_type": "code",
   "execution_count": 49,
   "metadata": {},
   "outputs": [],
   "source": [
    "neonates = (head_circ['HADM_ID']).to_frame()"
   ]
  },
  {
   "cell_type": "code",
   "execution_count": 50,
   "metadata": {},
   "outputs": [
    {
     "data": {
      "text/plain": [
       "(3137, 1)"
      ]
     },
     "execution_count": 50,
     "metadata": {},
     "output_type": "execute_result"
    }
   ],
   "source": [
    "neonates.shape "
   ]
  },
  {
   "cell_type": "markdown",
   "metadata": {},
   "source": [
    "### 2.1 Bands "
   ]
  },
  {
   "cell_type": "code",
   "execution_count": 26,
   "metadata": {},
   "outputs": [
    {
     "data": {
      "text/html": [
       "<div>\n",
       "<style scoped>\n",
       "    .dataframe tbody tr th:only-of-type {\n",
       "        vertical-align: middle;\n",
       "    }\n",
       "\n",
       "    .dataframe tbody tr th {\n",
       "        vertical-align: top;\n",
       "    }\n",
       "\n",
       "    .dataframe thead th {\n",
       "        text-align: right;\n",
       "    }\n",
       "</style>\n",
       "<table border=\"1\" class=\"dataframe\">\n",
       "  <thead>\n",
       "    <tr style=\"text-align: right;\">\n",
       "      <th></th>\n",
       "      <th>subject_id</th>\n",
       "      <th>HADM_ID</th>\n",
       "      <th>CHARTTIME</th>\n",
       "      <th>VALUENUM</th>\n",
       "      <th>ADMITTIME</th>\n",
       "    </tr>\n",
       "  </thead>\n",
       "  <tbody>\n",
       "    <tr>\n",
       "      <th>0</th>\n",
       "      <td>10824</td>\n",
       "      <td>143406</td>\n",
       "      <td>2126-06-12 22:29:00</td>\n",
       "      <td>0.0</td>\n",
       "      <td>2126-06-12 22:08:00</td>\n",
       "    </tr>\n",
       "    <tr>\n",
       "      <th>1</th>\n",
       "      <td>10826</td>\n",
       "      <td>127342</td>\n",
       "      <td>2182-07-17 03:20:00</td>\n",
       "      <td>0.0</td>\n",
       "      <td>2182-07-17 03:35:00</td>\n",
       "    </tr>\n",
       "  </tbody>\n",
       "</table>\n",
       "</div>"
      ],
      "text/plain": [
       "   subject_id  HADM_ID            CHARTTIME  VALUENUM            ADMITTIME\n",
       "0       10824   143406  2126-06-12 22:29:00       0.0  2126-06-12 22:08:00\n",
       "1       10826   127342  2182-07-17 03:20:00       0.0  2182-07-17 03:35:00"
      ]
     },
     "execution_count": 26,
     "metadata": {},
     "output_type": "execute_result"
    }
   ],
   "source": [
    "bands = pd.read_csv(directory + \"bands_24.csv\") \n",
    "\n",
    "bands.head(2)"
   ]
  },
  {
   "cell_type": "code",
   "execution_count": 27,
   "metadata": {},
   "outputs": [
    {
     "name": "stdout",
     "output_type": "stream",
     "text": [
      "subject_id    0    subject_id    3407\n",
      "HADM_ID       0    HADM_ID       3407\n",
      "CHARTTIME     0    CHARTTIME     3407\n",
      "VALUENUM      0    VALUENUM      3407\n",
      "ADMITTIME     0    ADMITTIME     3407\n",
      "dtype: int64       dtype: int64      \n",
      "\n"
     ]
    }
   ],
   "source": [
    "bands = drop_defected_neonates_rows(bands) "
   ]
  },
  {
   "cell_type": "code",
   "execution_count": 28,
   "metadata": {},
   "outputs": [
    {
     "data": {
      "text/plain": [
       "3137"
      ]
     },
     "execution_count": 28,
     "metadata": {},
     "output_type": "execute_result"
    }
   ],
   "source": [
    "bands['HADM_ID'].nunique()"
   ]
  },
  {
   "cell_type": "code",
   "execution_count": 51,
   "metadata": {},
   "outputs": [
    {
     "name": "stdout",
     "output_type": "stream",
     "text": [
      "BANDS is added!\n",
      "Unique Neonates: 3137\n",
      "HADM_ID    0    HADM_ID    3137\n",
      "BANDS      0    BANDS      3137\n",
      "dtype: int64    dtype: int64   \n",
      "\n"
     ]
    }
   ],
   "source": [
    "neonates = merge_blood_test(neonates, bands, \"BANDS\") "
   ]
  },
  {
   "cell_type": "markdown",
   "metadata": {},
   "source": [
    "### 2.2 MONOs"
   ]
  },
  {
   "cell_type": "code",
   "execution_count": 29,
   "metadata": {},
   "outputs": [
    {
     "data": {
      "text/html": [
       "<div>\n",
       "<style scoped>\n",
       "    .dataframe tbody tr th:only-of-type {\n",
       "        vertical-align: middle;\n",
       "    }\n",
       "\n",
       "    .dataframe tbody tr th {\n",
       "        vertical-align: top;\n",
       "    }\n",
       "\n",
       "    .dataframe thead th {\n",
       "        text-align: right;\n",
       "    }\n",
       "</style>\n",
       "<table border=\"1\" class=\"dataframe\">\n",
       "  <thead>\n",
       "    <tr style=\"text-align: right;\">\n",
       "      <th></th>\n",
       "      <th>subject_id</th>\n",
       "      <th>HADM_ID</th>\n",
       "      <th>CHARTTIME</th>\n",
       "      <th>VALUENUM</th>\n",
       "      <th>ADMITTIME</th>\n",
       "    </tr>\n",
       "  </thead>\n",
       "  <tbody>\n",
       "    <tr>\n",
       "      <th>0</th>\n",
       "      <td>10824</td>\n",
       "      <td>143406</td>\n",
       "      <td>2126-06-12 22:29:00</td>\n",
       "      <td>3.0</td>\n",
       "      <td>2126-06-12 22:08:00</td>\n",
       "    </tr>\n",
       "    <tr>\n",
       "      <th>1</th>\n",
       "      <td>10826</td>\n",
       "      <td>127342</td>\n",
       "      <td>2182-07-17 03:20:00</td>\n",
       "      <td>11.0</td>\n",
       "      <td>2182-07-17 03:35:00</td>\n",
       "    </tr>\n",
       "  </tbody>\n",
       "</table>\n",
       "</div>"
      ],
      "text/plain": [
       "   subject_id  HADM_ID            CHARTTIME  VALUENUM            ADMITTIME\n",
       "0       10824   143406  2126-06-12 22:29:00       3.0  2126-06-12 22:08:00\n",
       "1       10826   127342  2182-07-17 03:20:00      11.0  2182-07-17 03:35:00"
      ]
     },
     "execution_count": 29,
     "metadata": {},
     "output_type": "execute_result"
    }
   ],
   "source": [
    "monos = pd.read_csv(directory + \"monos_24.csv\") \n",
    "\n",
    "monos.head(2)"
   ]
  },
  {
   "cell_type": "code",
   "execution_count": 30,
   "metadata": {},
   "outputs": [
    {
     "name": "stdout",
     "output_type": "stream",
     "text": [
      "subject_id    0    subject_id    3411\n",
      "HADM_ID       0    HADM_ID       3411\n",
      "CHARTTIME     0    CHARTTIME     3411\n",
      "VALUENUM      1    VALUENUM      3410\n",
      "ADMITTIME     0    ADMITTIME     3411\n",
      "dtype: int64       dtype: int64      \n",
      "\n"
     ]
    }
   ],
   "source": [
    "monos = drop_defected_neonates_rows(monos) "
   ]
  },
  {
   "cell_type": "code",
   "execution_count": 31,
   "metadata": {},
   "outputs": [
    {
     "data": {
      "text/plain": [
       "3137"
      ]
     },
     "execution_count": 31,
     "metadata": {},
     "output_type": "execute_result"
    }
   ],
   "source": [
    "monos['HADM_ID'].nunique()"
   ]
  },
  {
   "cell_type": "code",
   "execution_count": 32,
   "metadata": {},
   "outputs": [
    {
     "data": {
      "text/html": [
       "<div>\n",
       "<style scoped>\n",
       "    .dataframe tbody tr th:only-of-type {\n",
       "        vertical-align: middle;\n",
       "    }\n",
       "\n",
       "    .dataframe tbody tr th {\n",
       "        vertical-align: top;\n",
       "    }\n",
       "\n",
       "    .dataframe thead th {\n",
       "        text-align: right;\n",
       "    }\n",
       "</style>\n",
       "<table border=\"1\" class=\"dataframe\">\n",
       "  <thead>\n",
       "    <tr style=\"text-align: right;\">\n",
       "      <th></th>\n",
       "      <th>subject_id</th>\n",
       "      <th>HADM_ID</th>\n",
       "      <th>CHARTTIME</th>\n",
       "      <th>VALUENUM</th>\n",
       "      <th>ADMITTIME</th>\n",
       "    </tr>\n",
       "  </thead>\n",
       "  <tbody>\n",
       "    <tr>\n",
       "      <th>1454</th>\n",
       "      <td>23923</td>\n",
       "      <td>121852</td>\n",
       "      <td>2156-04-18 11:20:00</td>\n",
       "      <td>NaN</td>\n",
       "      <td>2156-04-18 12:07:00</td>\n",
       "    </tr>\n",
       "  </tbody>\n",
       "</table>\n",
       "</div>"
      ],
      "text/plain": [
       "      subject_id  HADM_ID            CHARTTIME  VALUENUM            ADMITTIME\n",
       "1454       23923   121852  2156-04-18 11:20:00       NaN  2156-04-18 12:07:00"
      ]
     },
     "execution_count": 32,
     "metadata": {},
     "output_type": "execute_result"
    }
   ],
   "source": [
    "monos[monos['VALUENUM'].isnull() == True]"
   ]
  },
  {
   "cell_type": "code",
   "execution_count": 33,
   "metadata": {},
   "outputs": [
    {
     "data": {
      "text/html": [
       "<div>\n",
       "<style scoped>\n",
       "    .dataframe tbody tr th:only-of-type {\n",
       "        vertical-align: middle;\n",
       "    }\n",
       "\n",
       "    .dataframe tbody tr th {\n",
       "        vertical-align: top;\n",
       "    }\n",
       "\n",
       "    .dataframe thead th {\n",
       "        text-align: right;\n",
       "    }\n",
       "</style>\n",
       "<table border=\"1\" class=\"dataframe\">\n",
       "  <thead>\n",
       "    <tr style=\"text-align: right;\">\n",
       "      <th></th>\n",
       "      <th>subject_id</th>\n",
       "      <th>HADM_ID</th>\n",
       "      <th>CHARTTIME</th>\n",
       "      <th>VALUENUM</th>\n",
       "      <th>ADMITTIME</th>\n",
       "    </tr>\n",
       "  </thead>\n",
       "  <tbody>\n",
       "    <tr>\n",
       "      <th>1453</th>\n",
       "      <td>23923</td>\n",
       "      <td>121852</td>\n",
       "      <td>2156-04-18 11:45:00</td>\n",
       "      <td>7.0</td>\n",
       "      <td>2156-04-18 12:07:00</td>\n",
       "    </tr>\n",
       "    <tr>\n",
       "      <th>1454</th>\n",
       "      <td>23923</td>\n",
       "      <td>121852</td>\n",
       "      <td>2156-04-18 11:20:00</td>\n",
       "      <td>NaN</td>\n",
       "      <td>2156-04-18 12:07:00</td>\n",
       "    </tr>\n",
       "  </tbody>\n",
       "</table>\n",
       "</div>"
      ],
      "text/plain": [
       "      subject_id  HADM_ID            CHARTTIME  VALUENUM            ADMITTIME\n",
       "1453       23923   121852  2156-04-18 11:45:00       7.0  2156-04-18 12:07:00\n",
       "1454       23923   121852  2156-04-18 11:20:00       NaN  2156-04-18 12:07:00"
      ]
     },
     "execution_count": 33,
     "metadata": {},
     "output_type": "execute_result"
    }
   ],
   "source": [
    "monos[monos['HADM_ID'] == 121852]"
   ]
  },
  {
   "cell_type": "code",
   "execution_count": 36,
   "metadata": {},
   "outputs": [],
   "source": [
    "monos.dropna(inplace=True)"
   ]
  },
  {
   "cell_type": "code",
   "execution_count": 37,
   "metadata": {},
   "outputs": [
    {
     "data": {
      "text/html": [
       "<div>\n",
       "<style scoped>\n",
       "    .dataframe tbody tr th:only-of-type {\n",
       "        vertical-align: middle;\n",
       "    }\n",
       "\n",
       "    .dataframe tbody tr th {\n",
       "        vertical-align: top;\n",
       "    }\n",
       "\n",
       "    .dataframe thead th {\n",
       "        text-align: right;\n",
       "    }\n",
       "</style>\n",
       "<table border=\"1\" class=\"dataframe\">\n",
       "  <thead>\n",
       "    <tr style=\"text-align: right;\">\n",
       "      <th></th>\n",
       "      <th>subject_id</th>\n",
       "      <th>HADM_ID</th>\n",
       "      <th>CHARTTIME</th>\n",
       "      <th>VALUENUM</th>\n",
       "      <th>ADMITTIME</th>\n",
       "    </tr>\n",
       "  </thead>\n",
       "  <tbody>\n",
       "    <tr>\n",
       "      <th>1453</th>\n",
       "      <td>23923</td>\n",
       "      <td>121852</td>\n",
       "      <td>2156-04-18 11:45:00</td>\n",
       "      <td>7.0</td>\n",
       "      <td>2156-04-18 12:07:00</td>\n",
       "    </tr>\n",
       "  </tbody>\n",
       "</table>\n",
       "</div>"
      ],
      "text/plain": [
       "      subject_id  HADM_ID            CHARTTIME  VALUENUM            ADMITTIME\n",
       "1453       23923   121852  2156-04-18 11:45:00       7.0  2156-04-18 12:07:00"
      ]
     },
     "execution_count": 37,
     "metadata": {},
     "output_type": "execute_result"
    }
   ],
   "source": [
    "monos[monos['HADM_ID'] == 121852]"
   ]
  },
  {
   "cell_type": "code",
   "execution_count": 52,
   "metadata": {},
   "outputs": [
    {
     "name": "stdout",
     "output_type": "stream",
     "text": [
      "MONOs is added!\n",
      "Unique Neonates: 3137\n",
      "HADM_ID    0    HADM_ID    3137\n",
      "BANDS      0    BANDS      3137\n",
      "MONOs      0    MONOs      3137\n",
      "dtype: int64    dtype: int64   \n",
      "\n"
     ]
    }
   ],
   "source": [
    "neonates = merge_blood_test(neonates, monos, \"MONOs\") "
   ]
  },
  {
   "cell_type": "markdown",
   "metadata": {},
   "source": [
    "### 2.3 Eosinophils"
   ]
  },
  {
   "cell_type": "code",
   "execution_count": 38,
   "metadata": {},
   "outputs": [
    {
     "data": {
      "text/html": [
       "<div>\n",
       "<style scoped>\n",
       "    .dataframe tbody tr th:only-of-type {\n",
       "        vertical-align: middle;\n",
       "    }\n",
       "\n",
       "    .dataframe tbody tr th {\n",
       "        vertical-align: top;\n",
       "    }\n",
       "\n",
       "    .dataframe thead th {\n",
       "        text-align: right;\n",
       "    }\n",
       "</style>\n",
       "<table border=\"1\" class=\"dataframe\">\n",
       "  <thead>\n",
       "    <tr style=\"text-align: right;\">\n",
       "      <th></th>\n",
       "      <th>subject_id</th>\n",
       "      <th>HADM_ID</th>\n",
       "      <th>CHARTTIME</th>\n",
       "      <th>VALUENUM</th>\n",
       "      <th>ADMITTIME</th>\n",
       "    </tr>\n",
       "  </thead>\n",
       "  <tbody>\n",
       "    <tr>\n",
       "      <th>0</th>\n",
       "      <td>10824</td>\n",
       "      <td>143406</td>\n",
       "      <td>2126-06-12 22:29:00</td>\n",
       "      <td>2.0</td>\n",
       "      <td>2126-06-12 22:08:00</td>\n",
       "    </tr>\n",
       "    <tr>\n",
       "      <th>1</th>\n",
       "      <td>10826</td>\n",
       "      <td>127342</td>\n",
       "      <td>2182-07-17 03:20:00</td>\n",
       "      <td>2.0</td>\n",
       "      <td>2182-07-17 03:35:00</td>\n",
       "    </tr>\n",
       "  </tbody>\n",
       "</table>\n",
       "</div>"
      ],
      "text/plain": [
       "   subject_id  HADM_ID            CHARTTIME  VALUENUM            ADMITTIME\n",
       "0       10824   143406  2126-06-12 22:29:00       2.0  2126-06-12 22:08:00\n",
       "1       10826   127342  2182-07-17 03:20:00       2.0  2182-07-17 03:35:00"
      ]
     },
     "execution_count": 38,
     "metadata": {},
     "output_type": "execute_result"
    }
   ],
   "source": [
    "eosinophils = pd.read_csv(directory + \"eosinophils_24.csv\") \n",
    "\n",
    "eosinophils.head(2)"
   ]
  },
  {
   "cell_type": "code",
   "execution_count": 53,
   "metadata": {},
   "outputs": [
    {
     "name": "stdout",
     "output_type": "stream",
     "text": [
      "subject_id    0    subject_id    3411\n",
      "HADM_ID       0    HADM_ID       3411\n",
      "CHARTTIME     0    CHARTTIME     3411\n",
      "VALUENUM      1    VALUENUM      3410\n",
      "ADMITTIME     0    ADMITTIME     3411\n",
      "dtype: int64       dtype: int64      \n",
      "\n"
     ]
    }
   ],
   "source": [
    "eosinophils = drop_defected_neonates_rows(eosinophils) "
   ]
  },
  {
   "cell_type": "code",
   "execution_count": 54,
   "metadata": {},
   "outputs": [
    {
     "data": {
      "text/html": [
       "<div>\n",
       "<style scoped>\n",
       "    .dataframe tbody tr th:only-of-type {\n",
       "        vertical-align: middle;\n",
       "    }\n",
       "\n",
       "    .dataframe tbody tr th {\n",
       "        vertical-align: top;\n",
       "    }\n",
       "\n",
       "    .dataframe thead th {\n",
       "        text-align: right;\n",
       "    }\n",
       "</style>\n",
       "<table border=\"1\" class=\"dataframe\">\n",
       "  <thead>\n",
       "    <tr style=\"text-align: right;\">\n",
       "      <th></th>\n",
       "      <th>subject_id</th>\n",
       "      <th>HADM_ID</th>\n",
       "      <th>CHARTTIME</th>\n",
       "      <th>VALUENUM</th>\n",
       "      <th>ADMITTIME</th>\n",
       "    </tr>\n",
       "  </thead>\n",
       "  <tbody>\n",
       "    <tr>\n",
       "      <th>1454</th>\n",
       "      <td>23923</td>\n",
       "      <td>121852</td>\n",
       "      <td>2156-04-18 11:20:00</td>\n",
       "      <td>NaN</td>\n",
       "      <td>2156-04-18 12:07:00</td>\n",
       "    </tr>\n",
       "  </tbody>\n",
       "</table>\n",
       "</div>"
      ],
      "text/plain": [
       "      subject_id  HADM_ID            CHARTTIME  VALUENUM            ADMITTIME\n",
       "1454       23923   121852  2156-04-18 11:20:00       NaN  2156-04-18 12:07:00"
      ]
     },
     "execution_count": 54,
     "metadata": {},
     "output_type": "execute_result"
    }
   ],
   "source": [
    "eosinophils[eosinophils.VALUENUM.isnull() == True]"
   ]
  },
  {
   "cell_type": "code",
   "execution_count": 55,
   "metadata": {},
   "outputs": [
    {
     "data": {
      "text/html": [
       "<div>\n",
       "<style scoped>\n",
       "    .dataframe tbody tr th:only-of-type {\n",
       "        vertical-align: middle;\n",
       "    }\n",
       "\n",
       "    .dataframe tbody tr th {\n",
       "        vertical-align: top;\n",
       "    }\n",
       "\n",
       "    .dataframe thead th {\n",
       "        text-align: right;\n",
       "    }\n",
       "</style>\n",
       "<table border=\"1\" class=\"dataframe\">\n",
       "  <thead>\n",
       "    <tr style=\"text-align: right;\">\n",
       "      <th></th>\n",
       "      <th>subject_id</th>\n",
       "      <th>HADM_ID</th>\n",
       "      <th>CHARTTIME</th>\n",
       "      <th>VALUENUM</th>\n",
       "      <th>ADMITTIME</th>\n",
       "    </tr>\n",
       "  </thead>\n",
       "  <tbody>\n",
       "    <tr>\n",
       "      <th>1453</th>\n",
       "      <td>23923</td>\n",
       "      <td>121852</td>\n",
       "      <td>2156-04-18 11:45:00</td>\n",
       "      <td>3.0</td>\n",
       "      <td>2156-04-18 12:07:00</td>\n",
       "    </tr>\n",
       "    <tr>\n",
       "      <th>1454</th>\n",
       "      <td>23923</td>\n",
       "      <td>121852</td>\n",
       "      <td>2156-04-18 11:20:00</td>\n",
       "      <td>NaN</td>\n",
       "      <td>2156-04-18 12:07:00</td>\n",
       "    </tr>\n",
       "  </tbody>\n",
       "</table>\n",
       "</div>"
      ],
      "text/plain": [
       "      subject_id  HADM_ID            CHARTTIME  VALUENUM            ADMITTIME\n",
       "1453       23923   121852  2156-04-18 11:45:00       3.0  2156-04-18 12:07:00\n",
       "1454       23923   121852  2156-04-18 11:20:00       NaN  2156-04-18 12:07:00"
      ]
     },
     "execution_count": 55,
     "metadata": {},
     "output_type": "execute_result"
    }
   ],
   "source": [
    "eosinophils[eosinophils.HADM_ID == 121852]"
   ]
  },
  {
   "cell_type": "code",
   "execution_count": 56,
   "metadata": {},
   "outputs": [],
   "source": [
    "eosinophils.dropna(inplace=True)"
   ]
  },
  {
   "cell_type": "code",
   "execution_count": 57,
   "metadata": {},
   "outputs": [
    {
     "name": "stdout",
     "output_type": "stream",
     "text": [
      "EOSINOPHILS is added!\n",
      "Unique Neonates: 3137\n",
      "HADM_ID        0    HADM_ID        3137\n",
      "BANDS          0    BANDS          3137\n",
      "MONOs          0    MONOs          3137\n",
      "EOSINOPHILS    0    EOSINOPHILS    3137\n",
      "dtype: int64        dtype: int64       \n",
      "\n"
     ]
    }
   ],
   "source": [
    "neonates = merge_blood_test(neonates, eosinophils, \"EOSINOPHILS\") "
   ]
  },
  {
   "cell_type": "markdown",
   "metadata": {},
   "source": [
    "### 2.4 NEUTS "
   ]
  },
  {
   "cell_type": "code",
   "execution_count": 58,
   "metadata": {},
   "outputs": [
    {
     "data": {
      "text/html": [
       "<div>\n",
       "<style scoped>\n",
       "    .dataframe tbody tr th:only-of-type {\n",
       "        vertical-align: middle;\n",
       "    }\n",
       "\n",
       "    .dataframe tbody tr th {\n",
       "        vertical-align: top;\n",
       "    }\n",
       "\n",
       "    .dataframe thead th {\n",
       "        text-align: right;\n",
       "    }\n",
       "</style>\n",
       "<table border=\"1\" class=\"dataframe\">\n",
       "  <thead>\n",
       "    <tr style=\"text-align: right;\">\n",
       "      <th></th>\n",
       "      <th>subject_id</th>\n",
       "      <th>HADM_ID</th>\n",
       "      <th>CHARTTIME</th>\n",
       "      <th>VALUENUM</th>\n",
       "      <th>ADMITTIME</th>\n",
       "    </tr>\n",
       "  </thead>\n",
       "  <tbody>\n",
       "    <tr>\n",
       "      <th>0</th>\n",
       "      <td>10824</td>\n",
       "      <td>143406</td>\n",
       "      <td>2126-06-12 22:29:00</td>\n",
       "      <td>15.0</td>\n",
       "      <td>2126-06-12 22:08:00</td>\n",
       "    </tr>\n",
       "    <tr>\n",
       "      <th>1</th>\n",
       "      <td>10826</td>\n",
       "      <td>127342</td>\n",
       "      <td>2182-07-17 03:20:00</td>\n",
       "      <td>13.0</td>\n",
       "      <td>2182-07-17 03:35:00</td>\n",
       "    </tr>\n",
       "  </tbody>\n",
       "</table>\n",
       "</div>"
      ],
      "text/plain": [
       "   subject_id  HADM_ID            CHARTTIME  VALUENUM            ADMITTIME\n",
       "0       10824   143406  2126-06-12 22:29:00      15.0  2126-06-12 22:08:00\n",
       "1       10826   127342  2182-07-17 03:20:00      13.0  2182-07-17 03:35:00"
      ]
     },
     "execution_count": 58,
     "metadata": {},
     "output_type": "execute_result"
    }
   ],
   "source": [
    "neuts = pd.read_csv(directory + \"neuts_24.csv\") \n",
    "\n",
    "neuts.head(2)"
   ]
  },
  {
   "cell_type": "code",
   "execution_count": 59,
   "metadata": {},
   "outputs": [
    {
     "name": "stdout",
     "output_type": "stream",
     "text": [
      "subject_id    0    subject_id    3411\n",
      "HADM_ID       0    HADM_ID       3411\n",
      "CHARTTIME     0    CHARTTIME     3411\n",
      "VALUENUM      1    VALUENUM      3410\n",
      "ADMITTIME     0    ADMITTIME     3411\n",
      "dtype: int64       dtype: int64      \n",
      "\n"
     ]
    }
   ],
   "source": [
    "neuts = drop_defected_neonates_rows(neuts) "
   ]
  },
  {
   "cell_type": "code",
   "execution_count": 60,
   "metadata": {},
   "outputs": [
    {
     "data": {
      "text/html": [
       "<div>\n",
       "<style scoped>\n",
       "    .dataframe tbody tr th:only-of-type {\n",
       "        vertical-align: middle;\n",
       "    }\n",
       "\n",
       "    .dataframe tbody tr th {\n",
       "        vertical-align: top;\n",
       "    }\n",
       "\n",
       "    .dataframe thead th {\n",
       "        text-align: right;\n",
       "    }\n",
       "</style>\n",
       "<table border=\"1\" class=\"dataframe\">\n",
       "  <thead>\n",
       "    <tr style=\"text-align: right;\">\n",
       "      <th></th>\n",
       "      <th>subject_id</th>\n",
       "      <th>HADM_ID</th>\n",
       "      <th>CHARTTIME</th>\n",
       "      <th>VALUENUM</th>\n",
       "      <th>ADMITTIME</th>\n",
       "    </tr>\n",
       "  </thead>\n",
       "  <tbody>\n",
       "    <tr>\n",
       "      <th>1454</th>\n",
       "      <td>23923</td>\n",
       "      <td>121852</td>\n",
       "      <td>2156-04-18 11:20:00</td>\n",
       "      <td>NaN</td>\n",
       "      <td>2156-04-18 12:07:00</td>\n",
       "    </tr>\n",
       "  </tbody>\n",
       "</table>\n",
       "</div>"
      ],
      "text/plain": [
       "      subject_id  HADM_ID            CHARTTIME  VALUENUM            ADMITTIME\n",
       "1454       23923   121852  2156-04-18 11:20:00       NaN  2156-04-18 12:07:00"
      ]
     },
     "execution_count": 60,
     "metadata": {},
     "output_type": "execute_result"
    }
   ],
   "source": [
    "neuts[neuts.VALUENUM.isnull() == True]"
   ]
  },
  {
   "cell_type": "code",
   "execution_count": 61,
   "metadata": {},
   "outputs": [
    {
     "data": {
      "text/html": [
       "<div>\n",
       "<style scoped>\n",
       "    .dataframe tbody tr th:only-of-type {\n",
       "        vertical-align: middle;\n",
       "    }\n",
       "\n",
       "    .dataframe tbody tr th {\n",
       "        vertical-align: top;\n",
       "    }\n",
       "\n",
       "    .dataframe thead th {\n",
       "        text-align: right;\n",
       "    }\n",
       "</style>\n",
       "<table border=\"1\" class=\"dataframe\">\n",
       "  <thead>\n",
       "    <tr style=\"text-align: right;\">\n",
       "      <th></th>\n",
       "      <th>subject_id</th>\n",
       "      <th>HADM_ID</th>\n",
       "      <th>CHARTTIME</th>\n",
       "      <th>VALUENUM</th>\n",
       "      <th>ADMITTIME</th>\n",
       "    </tr>\n",
       "  </thead>\n",
       "  <tbody>\n",
       "    <tr>\n",
       "      <th>1453</th>\n",
       "      <td>23923</td>\n",
       "      <td>121852</td>\n",
       "      <td>2156-04-18 11:45:00</td>\n",
       "      <td>21.0</td>\n",
       "      <td>2156-04-18 12:07:00</td>\n",
       "    </tr>\n",
       "    <tr>\n",
       "      <th>1454</th>\n",
       "      <td>23923</td>\n",
       "      <td>121852</td>\n",
       "      <td>2156-04-18 11:20:00</td>\n",
       "      <td>NaN</td>\n",
       "      <td>2156-04-18 12:07:00</td>\n",
       "    </tr>\n",
       "  </tbody>\n",
       "</table>\n",
       "</div>"
      ],
      "text/plain": [
       "      subject_id  HADM_ID            CHARTTIME  VALUENUM            ADMITTIME\n",
       "1453       23923   121852  2156-04-18 11:45:00      21.0  2156-04-18 12:07:00\n",
       "1454       23923   121852  2156-04-18 11:20:00       NaN  2156-04-18 12:07:00"
      ]
     },
     "execution_count": 61,
     "metadata": {},
     "output_type": "execute_result"
    }
   ],
   "source": [
    "neuts[neuts.HADM_ID == 121852]"
   ]
  },
  {
   "cell_type": "code",
   "execution_count": 62,
   "metadata": {},
   "outputs": [],
   "source": [
    "neuts.dropna(inplace=True)"
   ]
  },
  {
   "cell_type": "code",
   "execution_count": 63,
   "metadata": {},
   "outputs": [
    {
     "name": "stdout",
     "output_type": "stream",
     "text": [
      "NEUTS is added!\n",
      "Unique Neonates: 3137\n",
      "HADM_ID        0    HADM_ID        3137\n",
      "BANDS          0    BANDS          3137\n",
      "MONOs          0    MONOs          3137\n",
      "EOSINOPHILS    0    EOSINOPHILS    3137\n",
      "NEUTS          0    NEUTS          3137\n",
      "dtype: int64        dtype: int64       \n",
      "\n"
     ]
    }
   ],
   "source": [
    "neonates = merge_blood_test(neonates, neuts, \"NEUTS\") "
   ]
  },
  {
   "cell_type": "markdown",
   "metadata": {},
   "source": [
    "### 2.5 Lymphs"
   ]
  },
  {
   "cell_type": "code",
   "execution_count": 64,
   "metadata": {},
   "outputs": [
    {
     "data": {
      "text/html": [
       "<div>\n",
       "<style scoped>\n",
       "    .dataframe tbody tr th:only-of-type {\n",
       "        vertical-align: middle;\n",
       "    }\n",
       "\n",
       "    .dataframe tbody tr th {\n",
       "        vertical-align: top;\n",
       "    }\n",
       "\n",
       "    .dataframe thead th {\n",
       "        text-align: right;\n",
       "    }\n",
       "</style>\n",
       "<table border=\"1\" class=\"dataframe\">\n",
       "  <thead>\n",
       "    <tr style=\"text-align: right;\">\n",
       "      <th></th>\n",
       "      <th>Unnamed: 0</th>\n",
       "      <th>ROW_ID</th>\n",
       "      <th>subject_id</th>\n",
       "      <th>HADM_ID</th>\n",
       "      <th>CHARTTIME</th>\n",
       "      <th>VALUE</th>\n",
       "      <th>VALUENUM</th>\n",
       "      <th>VALUEUOM</th>\n",
       "      <th>ADMITTIME</th>\n",
       "    </tr>\n",
       "  </thead>\n",
       "  <tbody>\n",
       "    <tr>\n",
       "      <th>0</th>\n",
       "      <td>33345594</td>\n",
       "      <td>90068485</td>\n",
       "      <td>10824</td>\n",
       "      <td>143406</td>\n",
       "      <td>2126-06-12 22:29:00</td>\n",
       "      <td>80</td>\n",
       "      <td>80.0</td>\n",
       "      <td>NaN</td>\n",
       "      <td>2126-06-12 22:08:00</td>\n",
       "    </tr>\n",
       "    <tr>\n",
       "      <th>1</th>\n",
       "      <td>33337240</td>\n",
       "      <td>90086386</td>\n",
       "      <td>10826</td>\n",
       "      <td>127342</td>\n",
       "      <td>2182-07-17 03:20:00</td>\n",
       "      <td>72</td>\n",
       "      <td>72.0</td>\n",
       "      <td>NaN</td>\n",
       "      <td>2182-07-17 03:35:00</td>\n",
       "    </tr>\n",
       "  </tbody>\n",
       "</table>\n",
       "</div>"
      ],
      "text/plain": [
       "   Unnamed: 0    ROW_ID  subject_id  HADM_ID            CHARTTIME VALUE  \\\n",
       "0    33345594  90068485       10824   143406  2126-06-12 22:29:00    80   \n",
       "1    33337240  90086386       10826   127342  2182-07-17 03:20:00    72   \n",
       "\n",
       "   VALUENUM  VALUEUOM            ADMITTIME  \n",
       "0      80.0       NaN  2126-06-12 22:08:00  \n",
       "1      72.0       NaN  2182-07-17 03:35:00  "
      ]
     },
     "execution_count": 64,
     "metadata": {},
     "output_type": "execute_result"
    }
   ],
   "source": [
    "lymphs = pd.read_csv(directory + \"lymphs_24.csv\") \n",
    "\n",
    "lymphs.head(2)"
   ]
  },
  {
   "cell_type": "code",
   "execution_count": 66,
   "metadata": {},
   "outputs": [
    {
     "name": "stdout",
     "output_type": "stream",
     "text": [
      "<class 'pandas.core.frame.DataFrame'>\n",
      "RangeIndex: 3422 entries, 0 to 3421\n",
      "Data columns (total 9 columns):\n",
      " #   Column      Non-Null Count  Dtype  \n",
      "---  ------      --------------  -----  \n",
      " 0   Unnamed: 0  3422 non-null   int64  \n",
      " 1   ROW_ID      3422 non-null   int64  \n",
      " 2   subject_id  3422 non-null   int64  \n",
      " 3   HADM_ID     3422 non-null   int64  \n",
      " 4   CHARTTIME   3422 non-null   object \n",
      " 5   VALUE       3422 non-null   object \n",
      " 6   VALUENUM    3421 non-null   float64\n",
      " 7   VALUEUOM    0 non-null      float64\n",
      " 8   ADMITTIME   3422 non-null   object \n",
      "dtypes: float64(2), int64(4), object(3)\n",
      "memory usage: 240.7+ KB\n"
     ]
    }
   ],
   "source": [
    "lymphs.info()"
   ]
  },
  {
   "cell_type": "code",
   "execution_count": 67,
   "metadata": {},
   "outputs": [
    {
     "name": "stdout",
     "output_type": "stream",
     "text": [
      "Unnamed: 0       0    Unnamed: 0    3411\n",
      "ROW_ID           0    ROW_ID        3411\n",
      "subject_id       0    subject_id    3411\n",
      "HADM_ID          0    HADM_ID       3411\n",
      "CHARTTIME        0    CHARTTIME     3411\n",
      "VALUE            0    VALUE         3411\n",
      "VALUENUM         1    VALUENUM      3410\n",
      "VALUEUOM      3411    VALUEUOM         0\n",
      "ADMITTIME        0    ADMITTIME     3411\n",
      "dtype: int64          dtype: int64      \n",
      "\n"
     ]
    }
   ],
   "source": [
    "lymphs = drop_defected_neonates_rows(lymphs) "
   ]
  },
  {
   "cell_type": "code",
   "execution_count": 65,
   "metadata": {},
   "outputs": [
    {
     "data": {
      "text/plain": [
       "3145"
      ]
     },
     "execution_count": 65,
     "metadata": {},
     "output_type": "execute_result"
    }
   ],
   "source": [
    "lymphs['HADM_ID'].nunique()"
   ]
  },
  {
   "cell_type": "code",
   "execution_count": 69,
   "metadata": {},
   "outputs": [
    {
     "data": {
      "text/html": [
       "<div>\n",
       "<style scoped>\n",
       "    .dataframe tbody tr th:only-of-type {\n",
       "        vertical-align: middle;\n",
       "    }\n",
       "\n",
       "    .dataframe tbody tr th {\n",
       "        vertical-align: top;\n",
       "    }\n",
       "\n",
       "    .dataframe thead th {\n",
       "        text-align: right;\n",
       "    }\n",
       "</style>\n",
       "<table border=\"1\" class=\"dataframe\">\n",
       "  <thead>\n",
       "    <tr style=\"text-align: right;\">\n",
       "      <th></th>\n",
       "      <th>Unnamed: 0</th>\n",
       "      <th>ROW_ID</th>\n",
       "      <th>subject_id</th>\n",
       "      <th>HADM_ID</th>\n",
       "      <th>CHARTTIME</th>\n",
       "      <th>VALUE</th>\n",
       "      <th>VALUENUM</th>\n",
       "      <th>VALUEUOM</th>\n",
       "      <th>ADMITTIME</th>\n",
       "    </tr>\n",
       "  </thead>\n",
       "  <tbody>\n",
       "    <tr>\n",
       "      <th>1454</th>\n",
       "      <td>33340782</td>\n",
       "      <td>154685036</td>\n",
       "      <td>23923</td>\n",
       "      <td>121852</td>\n",
       "      <td>2156-04-18 11:20:00</td>\n",
       "      <td>ERROR</td>\n",
       "      <td>NaN</td>\n",
       "      <td>NaN</td>\n",
       "      <td>2156-04-18 12:07:00</td>\n",
       "    </tr>\n",
       "  </tbody>\n",
       "</table>\n",
       "</div>"
      ],
      "text/plain": [
       "      Unnamed: 0     ROW_ID  subject_id  HADM_ID            CHARTTIME  VALUE  \\\n",
       "1454    33340782  154685036       23923   121852  2156-04-18 11:20:00  ERROR   \n",
       "\n",
       "      VALUENUM  VALUEUOM            ADMITTIME  \n",
       "1454       NaN       NaN  2156-04-18 12:07:00  "
      ]
     },
     "execution_count": 69,
     "metadata": {},
     "output_type": "execute_result"
    }
   ],
   "source": [
    "lymphs[lymphs.VALUENUM.isnull() == True]"
   ]
  },
  {
   "cell_type": "code",
   "execution_count": 70,
   "metadata": {},
   "outputs": [
    {
     "data": {
      "text/html": [
       "<div>\n",
       "<style scoped>\n",
       "    .dataframe tbody tr th:only-of-type {\n",
       "        vertical-align: middle;\n",
       "    }\n",
       "\n",
       "    .dataframe tbody tr th {\n",
       "        vertical-align: top;\n",
       "    }\n",
       "\n",
       "    .dataframe thead th {\n",
       "        text-align: right;\n",
       "    }\n",
       "</style>\n",
       "<table border=\"1\" class=\"dataframe\">\n",
       "  <thead>\n",
       "    <tr style=\"text-align: right;\">\n",
       "      <th></th>\n",
       "      <th>Unnamed: 0</th>\n",
       "      <th>ROW_ID</th>\n",
       "      <th>subject_id</th>\n",
       "      <th>HADM_ID</th>\n",
       "      <th>CHARTTIME</th>\n",
       "      <th>VALUE</th>\n",
       "      <th>VALUENUM</th>\n",
       "      <th>VALUEUOM</th>\n",
       "      <th>ADMITTIME</th>\n",
       "    </tr>\n",
       "  </thead>\n",
       "  <tbody>\n",
       "    <tr>\n",
       "      <th>1453</th>\n",
       "      <td>33340781</td>\n",
       "      <td>154685073</td>\n",
       "      <td>23923</td>\n",
       "      <td>121852</td>\n",
       "      <td>2156-04-18 11:45:00</td>\n",
       "      <td>69</td>\n",
       "      <td>69.0</td>\n",
       "      <td>NaN</td>\n",
       "      <td>2156-04-18 12:07:00</td>\n",
       "    </tr>\n",
       "    <tr>\n",
       "      <th>1454</th>\n",
       "      <td>33340782</td>\n",
       "      <td>154685036</td>\n",
       "      <td>23923</td>\n",
       "      <td>121852</td>\n",
       "      <td>2156-04-18 11:20:00</td>\n",
       "      <td>ERROR</td>\n",
       "      <td>NaN</td>\n",
       "      <td>NaN</td>\n",
       "      <td>2156-04-18 12:07:00</td>\n",
       "    </tr>\n",
       "  </tbody>\n",
       "</table>\n",
       "</div>"
      ],
      "text/plain": [
       "      Unnamed: 0     ROW_ID  subject_id  HADM_ID            CHARTTIME  VALUE  \\\n",
       "1453    33340781  154685073       23923   121852  2156-04-18 11:45:00     69   \n",
       "1454    33340782  154685036       23923   121852  2156-04-18 11:20:00  ERROR   \n",
       "\n",
       "      VALUENUM  VALUEUOM            ADMITTIME  \n",
       "1453      69.0       NaN  2156-04-18 12:07:00  \n",
       "1454       NaN       NaN  2156-04-18 12:07:00  "
      ]
     },
     "execution_count": 70,
     "metadata": {},
     "output_type": "execute_result"
    }
   ],
   "source": [
    "lymphs[lymphs.HADM_ID == 121852]"
   ]
  },
  {
   "cell_type": "code",
   "execution_count": 71,
   "metadata": {},
   "outputs": [
    {
     "data": {
      "text/html": [
       "<div>\n",
       "<style scoped>\n",
       "    .dataframe tbody tr th:only-of-type {\n",
       "        vertical-align: middle;\n",
       "    }\n",
       "\n",
       "    .dataframe tbody tr th {\n",
       "        vertical-align: top;\n",
       "    }\n",
       "\n",
       "    .dataframe thead th {\n",
       "        text-align: right;\n",
       "    }\n",
       "</style>\n",
       "<table border=\"1\" class=\"dataframe\">\n",
       "  <thead>\n",
       "    <tr style=\"text-align: right;\">\n",
       "      <th></th>\n",
       "      <th>subject_id</th>\n",
       "      <th>HADM_ID</th>\n",
       "      <th>CHARTTIME</th>\n",
       "      <th>VALUENUM</th>\n",
       "      <th>ADMITTIME</th>\n",
       "    </tr>\n",
       "  </thead>\n",
       "  <tbody>\n",
       "    <tr>\n",
       "      <th>0</th>\n",
       "      <td>10824</td>\n",
       "      <td>143406</td>\n",
       "      <td>2126-06-12 22:29:00</td>\n",
       "      <td>80.0</td>\n",
       "      <td>2126-06-12 22:08:00</td>\n",
       "    </tr>\n",
       "    <tr>\n",
       "      <th>1</th>\n",
       "      <td>10826</td>\n",
       "      <td>127342</td>\n",
       "      <td>2182-07-17 03:20:00</td>\n",
       "      <td>72.0</td>\n",
       "      <td>2182-07-17 03:35:00</td>\n",
       "    </tr>\n",
       "  </tbody>\n",
       "</table>\n",
       "</div>"
      ],
      "text/plain": [
       "   subject_id  HADM_ID            CHARTTIME  VALUENUM            ADMITTIME\n",
       "0       10824   143406  2126-06-12 22:29:00      80.0  2126-06-12 22:08:00\n",
       "1       10826   127342  2182-07-17 03:20:00      72.0  2182-07-17 03:35:00"
      ]
     },
     "execution_count": 71,
     "metadata": {},
     "output_type": "execute_result"
    }
   ],
   "source": [
    "lymphs.drop(['Unnamed: 0', 'ROW_ID', 'VALUE', 'VALUEUOM'], axis=1, inplace=True)\n",
    "\n",
    "lymphs.head(2)"
   ]
  },
  {
   "cell_type": "code",
   "execution_count": 72,
   "metadata": {},
   "outputs": [],
   "source": [
    "lymphs.dropna(inplace=True)"
   ]
  },
  {
   "cell_type": "code",
   "execution_count": 73,
   "metadata": {},
   "outputs": [
    {
     "data": {
      "text/html": [
       "<div>\n",
       "<style scoped>\n",
       "    .dataframe tbody tr th:only-of-type {\n",
       "        vertical-align: middle;\n",
       "    }\n",
       "\n",
       "    .dataframe tbody tr th {\n",
       "        vertical-align: top;\n",
       "    }\n",
       "\n",
       "    .dataframe thead th {\n",
       "        text-align: right;\n",
       "    }\n",
       "</style>\n",
       "<table border=\"1\" class=\"dataframe\">\n",
       "  <thead>\n",
       "    <tr style=\"text-align: right;\">\n",
       "      <th></th>\n",
       "      <th>subject_id</th>\n",
       "      <th>HADM_ID</th>\n",
       "      <th>CHARTTIME</th>\n",
       "      <th>VALUENUM</th>\n",
       "      <th>ADMITTIME</th>\n",
       "    </tr>\n",
       "  </thead>\n",
       "  <tbody>\n",
       "  </tbody>\n",
       "</table>\n",
       "</div>"
      ],
      "text/plain": [
       "Empty DataFrame\n",
       "Columns: [subject_id, HADM_ID, CHARTTIME, VALUENUM, ADMITTIME]\n",
       "Index: []"
      ]
     },
     "execution_count": 73,
     "metadata": {},
     "output_type": "execute_result"
    }
   ],
   "source": [
    "lymphs[lymphs.VALUENUM.isnull() == True]"
   ]
  },
  {
   "cell_type": "code",
   "execution_count": 74,
   "metadata": {},
   "outputs": [
    {
     "data": {
      "text/plain": [
       "3137"
      ]
     },
     "execution_count": 74,
     "metadata": {},
     "output_type": "execute_result"
    }
   ],
   "source": [
    "lymphs['HADM_ID'].nunique()"
   ]
  },
  {
   "cell_type": "code",
   "execution_count": 75,
   "metadata": {},
   "outputs": [
    {
     "name": "stdout",
     "output_type": "stream",
     "text": [
      "LYMPHS is added!\n",
      "Unique Neonates: 3137\n",
      "HADM_ID        0    HADM_ID        3137\n",
      "BANDS          0    BANDS          3137\n",
      "MONOs          0    MONOs          3137\n",
      "EOSINOPHILS    0    EOSINOPHILS    3137\n",
      "NEUTS          0    NEUTS          3137\n",
      "LYMPHS         0    LYMPHS         3137\n",
      "dtype: int64        dtype: int64       \n",
      "\n"
     ]
    }
   ],
   "source": [
    "neonates = merge_blood_test(neonates, lymphs, \"LYMPHS\") "
   ]
  },
  {
   "cell_type": "markdown",
   "metadata": {},
   "source": [
    "### 2.6 PLATELET"
   ]
  },
  {
   "cell_type": "code",
   "execution_count": 83,
   "metadata": {},
   "outputs": [
    {
     "data": {
      "text/html": [
       "<div>\n",
       "<style scoped>\n",
       "    .dataframe tbody tr th:only-of-type {\n",
       "        vertical-align: middle;\n",
       "    }\n",
       "\n",
       "    .dataframe tbody tr th {\n",
       "        vertical-align: top;\n",
       "    }\n",
       "\n",
       "    .dataframe thead th {\n",
       "        text-align: right;\n",
       "    }\n",
       "</style>\n",
       "<table border=\"1\" class=\"dataframe\">\n",
       "  <thead>\n",
       "    <tr style=\"text-align: right;\">\n",
       "      <th></th>\n",
       "      <th>Unnamed: 0</th>\n",
       "      <th>subject_id</th>\n",
       "      <th>HADM_ID</th>\n",
       "      <th>CHARTTIME</th>\n",
       "      <th>VALUENUM</th>\n",
       "      <th>ADMITTIME</th>\n",
       "    </tr>\n",
       "  </thead>\n",
       "  <tbody>\n",
       "    <tr>\n",
       "      <th>0</th>\n",
       "      <td>33389086</td>\n",
       "      <td>10824</td>\n",
       "      <td>143406</td>\n",
       "      <td>2126-06-12 22:29:00</td>\n",
       "      <td>309.0</td>\n",
       "      <td>2126-06-12 22:08:00</td>\n",
       "    </tr>\n",
       "    <tr>\n",
       "      <th>1</th>\n",
       "      <td>33378634</td>\n",
       "      <td>10826</td>\n",
       "      <td>127342</td>\n",
       "      <td>2182-07-17 03:20:00</td>\n",
       "      <td>340.0</td>\n",
       "      <td>2182-07-17 03:35:00</td>\n",
       "    </tr>\n",
       "  </tbody>\n",
       "</table>\n",
       "</div>"
      ],
      "text/plain": [
       "   Unnamed: 0  subject_id  HADM_ID            CHARTTIME  VALUENUM  \\\n",
       "0    33389086       10824   143406  2126-06-12 22:29:00     309.0   \n",
       "1    33378634       10826   127342  2182-07-17 03:20:00     340.0   \n",
       "\n",
       "             ADMITTIME  \n",
       "0  2126-06-12 22:08:00  \n",
       "1  2182-07-17 03:35:00  "
      ]
     },
     "execution_count": 83,
     "metadata": {},
     "output_type": "execute_result"
    }
   ],
   "source": [
    "platelet = pd.read_csv(directory + \"platelet_24.csv\") \n",
    "\n",
    "platelet.head(2)"
   ]
  },
  {
   "cell_type": "code",
   "execution_count": 84,
   "metadata": {},
   "outputs": [],
   "source": [
    "platelet.drop(['Unnamed: 0'], axis=1, inplace=True)"
   ]
  },
  {
   "cell_type": "code",
   "execution_count": 85,
   "metadata": {},
   "outputs": [
    {
     "data": {
      "text/html": [
       "<div>\n",
       "<style scoped>\n",
       "    .dataframe tbody tr th:only-of-type {\n",
       "        vertical-align: middle;\n",
       "    }\n",
       "\n",
       "    .dataframe tbody tr th {\n",
       "        vertical-align: top;\n",
       "    }\n",
       "\n",
       "    .dataframe thead th {\n",
       "        text-align: right;\n",
       "    }\n",
       "</style>\n",
       "<table border=\"1\" class=\"dataframe\">\n",
       "  <thead>\n",
       "    <tr style=\"text-align: right;\">\n",
       "      <th></th>\n",
       "      <th>subject_id</th>\n",
       "      <th>HADM_ID</th>\n",
       "      <th>CHARTTIME</th>\n",
       "      <th>VALUENUM</th>\n",
       "      <th>ADMITTIME</th>\n",
       "    </tr>\n",
       "  </thead>\n",
       "  <tbody>\n",
       "    <tr>\n",
       "      <th>0</th>\n",
       "      <td>10824</td>\n",
       "      <td>143406</td>\n",
       "      <td>2126-06-12 22:29:00</td>\n",
       "      <td>309.0</td>\n",
       "      <td>2126-06-12 22:08:00</td>\n",
       "    </tr>\n",
       "    <tr>\n",
       "      <th>1</th>\n",
       "      <td>10826</td>\n",
       "      <td>127342</td>\n",
       "      <td>2182-07-17 03:20:00</td>\n",
       "      <td>340.0</td>\n",
       "      <td>2182-07-17 03:35:00</td>\n",
       "    </tr>\n",
       "  </tbody>\n",
       "</table>\n",
       "</div>"
      ],
      "text/plain": [
       "   subject_id  HADM_ID            CHARTTIME  VALUENUM            ADMITTIME\n",
       "0       10824   143406  2126-06-12 22:29:00     309.0  2126-06-12 22:08:00\n",
       "1       10826   127342  2182-07-17 03:20:00     340.0  2182-07-17 03:35:00"
      ]
     },
     "execution_count": 85,
     "metadata": {},
     "output_type": "execute_result"
    }
   ],
   "source": [
    "platelet.head(2)"
   ]
  },
  {
   "cell_type": "code",
   "execution_count": 86,
   "metadata": {},
   "outputs": [
    {
     "name": "stdout",
     "output_type": "stream",
     "text": [
      "subject_id    0    subject_id    3578\n",
      "HADM_ID       0    HADM_ID       3578\n",
      "CHARTTIME     0    CHARTTIME     3578\n",
      "VALUENUM      5    VALUENUM      3573\n",
      "ADMITTIME     0    ADMITTIME     3578\n",
      "dtype: int64       dtype: int64      \n",
      "\n"
     ]
    }
   ],
   "source": [
    "platelet = drop_defected_neonates_rows(platelet) "
   ]
  },
  {
   "cell_type": "code",
   "execution_count": 81,
   "metadata": {},
   "outputs": [
    {
     "name": "stdout",
     "output_type": "stream",
     "text": [
      "subject_id    0    subject_id    3573\n",
      "HADM_ID       0    HADM_ID       3573\n",
      "CHARTTIME     0    CHARTTIME     3573\n",
      "VALUENUM      0    VALUENUM      3573\n",
      "ADMITTIME     0    ADMITTIME     3573\n",
      "dtype: int64       dtype: int64      \n",
      "\n"
     ]
    }
   ],
   "source": [
    "platelet = drop_defected_neonates_rows(platelet) "
   ]
  },
  {
   "cell_type": "code",
   "execution_count": 89,
   "metadata": {},
   "outputs": [
    {
     "data": {
      "text/plain": [
       "3137"
      ]
     },
     "execution_count": 89,
     "metadata": {},
     "output_type": "execute_result"
    }
   ],
   "source": [
    "platelet['HADM_ID'].nunique()"
   ]
  },
  {
   "cell_type": "code",
   "execution_count": 87,
   "metadata": {},
   "outputs": [
    {
     "data": {
      "text/html": [
       "<div>\n",
       "<style scoped>\n",
       "    .dataframe tbody tr th:only-of-type {\n",
       "        vertical-align: middle;\n",
       "    }\n",
       "\n",
       "    .dataframe tbody tr th {\n",
       "        vertical-align: top;\n",
       "    }\n",
       "\n",
       "    .dataframe thead th {\n",
       "        text-align: right;\n",
       "    }\n",
       "</style>\n",
       "<table border=\"1\" class=\"dataframe\">\n",
       "  <thead>\n",
       "    <tr style=\"text-align: right;\">\n",
       "      <th></th>\n",
       "      <th>subject_id</th>\n",
       "      <th>HADM_ID</th>\n",
       "      <th>CHARTTIME</th>\n",
       "      <th>VALUENUM</th>\n",
       "      <th>ADMITTIME</th>\n",
       "    </tr>\n",
       "  </thead>\n",
       "  <tbody>\n",
       "    <tr>\n",
       "      <th>380</th>\n",
       "      <td>13894</td>\n",
       "      <td>120546</td>\n",
       "      <td>2198-02-12 22:05:00</td>\n",
       "      <td>NaN</td>\n",
       "      <td>2198-02-12 21:39:00</td>\n",
       "    </tr>\n",
       "    <tr>\n",
       "      <th>1532</th>\n",
       "      <td>23923</td>\n",
       "      <td>121852</td>\n",
       "      <td>2156-04-18 11:20:00</td>\n",
       "      <td>NaN</td>\n",
       "      <td>2156-04-18 12:07:00</td>\n",
       "    </tr>\n",
       "    <tr>\n",
       "      <th>2200</th>\n",
       "      <td>31538</td>\n",
       "      <td>114445</td>\n",
       "      <td>2101-01-13 11:00:00</td>\n",
       "      <td>NaN</td>\n",
       "      <td>2101-01-13 10:37:00</td>\n",
       "    </tr>\n",
       "    <tr>\n",
       "      <th>2246</th>\n",
       "      <td>32148</td>\n",
       "      <td>171619</td>\n",
       "      <td>2111-07-06 10:40:00</td>\n",
       "      <td>NaN</td>\n",
       "      <td>2111-07-06 08:58:00</td>\n",
       "    </tr>\n",
       "    <tr>\n",
       "      <th>3224</th>\n",
       "      <td>7579</td>\n",
       "      <td>157469</td>\n",
       "      <td>2174-12-01 02:00:00</td>\n",
       "      <td>NaN</td>\n",
       "      <td>2174-12-01 01:34:00</td>\n",
       "    </tr>\n",
       "  </tbody>\n",
       "</table>\n",
       "</div>"
      ],
      "text/plain": [
       "      subject_id  HADM_ID            CHARTTIME  VALUENUM            ADMITTIME\n",
       "380        13894   120546  2198-02-12 22:05:00       NaN  2198-02-12 21:39:00\n",
       "1532       23923   121852  2156-04-18 11:20:00       NaN  2156-04-18 12:07:00\n",
       "2200       31538   114445  2101-01-13 11:00:00       NaN  2101-01-13 10:37:00\n",
       "2246       32148   171619  2111-07-06 10:40:00       NaN  2111-07-06 08:58:00\n",
       "3224        7579   157469  2174-12-01 02:00:00       NaN  2174-12-01 01:34:00"
      ]
     },
     "execution_count": 87,
     "metadata": {},
     "output_type": "execute_result"
    }
   ],
   "source": [
    "platelet[platelet.VALUENUM.isnull() == True]"
   ]
  },
  {
   "cell_type": "code",
   "execution_count": 93,
   "metadata": {},
   "outputs": [
    {
     "data": {
      "text/html": [
       "<div>\n",
       "<style scoped>\n",
       "    .dataframe tbody tr th:only-of-type {\n",
       "        vertical-align: middle;\n",
       "    }\n",
       "\n",
       "    .dataframe tbody tr th {\n",
       "        vertical-align: top;\n",
       "    }\n",
       "\n",
       "    .dataframe thead th {\n",
       "        text-align: right;\n",
       "    }\n",
       "</style>\n",
       "<table border=\"1\" class=\"dataframe\">\n",
       "  <thead>\n",
       "    <tr style=\"text-align: right;\">\n",
       "      <th></th>\n",
       "      <th>subject_id</th>\n",
       "      <th>HADM_ID</th>\n",
       "      <th>CHARTTIME</th>\n",
       "      <th>VALUENUM</th>\n",
       "      <th>ADMITTIME</th>\n",
       "    </tr>\n",
       "  </thead>\n",
       "  <tbody>\n",
       "    <tr>\n",
       "      <th>3224</th>\n",
       "      <td>7579</td>\n",
       "      <td>157469</td>\n",
       "      <td>2174-12-01 02:00:00</td>\n",
       "      <td>NaN</td>\n",
       "      <td>2174-12-01 01:34:00</td>\n",
       "    </tr>\n",
       "  </tbody>\n",
       "</table>\n",
       "</div>"
      ],
      "text/plain": [
       "      subject_id  HADM_ID            CHARTTIME  VALUENUM            ADMITTIME\n",
       "3224        7579   157469  2174-12-01 02:00:00       NaN  2174-12-01 01:34:00"
      ]
     },
     "execution_count": 93,
     "metadata": {},
     "output_type": "execute_result"
    }
   ],
   "source": [
    "platelet[platelet.HADM_ID == 157469]"
   ]
  },
  {
   "cell_type": "code",
   "execution_count": 95,
   "metadata": {},
   "outputs": [],
   "source": [
    "platelet.dropna(inplace=True)"
   ]
  },
  {
   "cell_type": "code",
   "execution_count": 96,
   "metadata": {},
   "outputs": [
    {
     "data": {
      "text/plain": [
       "3135"
      ]
     },
     "execution_count": 96,
     "metadata": {},
     "output_type": "execute_result"
    }
   ],
   "source": [
    "platelet['HADM_ID'].nunique()"
   ]
  },
  {
   "cell_type": "markdown",
   "metadata": {},
   "source": [
    "### Fix "
   ]
  },
  {
   "cell_type": "code",
   "execution_count": 97,
   "metadata": {},
   "outputs": [
    {
     "name": "stdout",
     "output_type": "stream",
     "text": [
      "HADM_ID        0    HADM_ID        3135\n",
      "BANDS          0    BANDS          3135\n",
      "MONOs          0    MONOs          3135\n",
      "EOSINOPHILS    0    EOSINOPHILS    3135\n",
      "NEUTS          0    NEUTS          3135\n",
      "LYMPHS         0    LYMPHS         3135\n",
      "dtype: int64        dtype: int64       \n",
      "\n"
     ]
    }
   ],
   "source": [
    "neonates = drop_defected_neonates_rows(neonates) "
   ]
  },
  {
   "cell_type": "code",
   "execution_count": 98,
   "metadata": {},
   "outputs": [
    {
     "name": "stdout",
     "output_type": "stream",
     "text": [
      "PLATELET is added!\n",
      "Unique Neonates: 3135\n",
      "HADM_ID        0    HADM_ID        3135\n",
      "BANDS          0    BANDS          3135\n",
      "MONOs          0    MONOs          3135\n",
      "EOSINOPHILS    0    EOSINOPHILS    3135\n",
      "NEUTS          0    NEUTS          3135\n",
      "LYMPHS         0    LYMPHS         3135\n",
      "PLATELET       0    PLATELET       3135\n",
      "dtype: int64        dtype: int64       \n",
      "\n"
     ]
    }
   ],
   "source": [
    "neonates = merge_blood_test(neonates, platelet, \"PLATELET\") "
   ]
  },
  {
   "cell_type": "code",
   "execution_count": 99,
   "metadata": {},
   "outputs": [
    {
     "data": {
      "text/html": [
       "<div>\n",
       "<style scoped>\n",
       "    .dataframe tbody tr th:only-of-type {\n",
       "        vertical-align: middle;\n",
       "    }\n",
       "\n",
       "    .dataframe tbody tr th {\n",
       "        vertical-align: top;\n",
       "    }\n",
       "\n",
       "    .dataframe thead th {\n",
       "        text-align: right;\n",
       "    }\n",
       "</style>\n",
       "<table border=\"1\" class=\"dataframe\">\n",
       "  <thead>\n",
       "    <tr style=\"text-align: right;\">\n",
       "      <th></th>\n",
       "      <th>HADM_ID</th>\n",
       "      <th>BANDS</th>\n",
       "      <th>MONOs</th>\n",
       "      <th>EOSINOPHILS</th>\n",
       "      <th>NEUTS</th>\n",
       "      <th>LYMPHS</th>\n",
       "      <th>PLATELET</th>\n",
       "    </tr>\n",
       "  </thead>\n",
       "  <tbody>\n",
       "    <tr>\n",
       "      <th>0</th>\n",
       "      <td>184167</td>\n",
       "      <td>0.0</td>\n",
       "      <td>11.0</td>\n",
       "      <td>3.0</td>\n",
       "      <td>27.0</td>\n",
       "      <td>58.0</td>\n",
       "      <td>414.0</td>\n",
       "    </tr>\n",
       "    <tr>\n",
       "      <th>1</th>\n",
       "      <td>106266</td>\n",
       "      <td>0.0</td>\n",
       "      <td>8.0</td>\n",
       "      <td>0.0</td>\n",
       "      <td>29.0</td>\n",
       "      <td>62.0</td>\n",
       "      <td>347.0</td>\n",
       "    </tr>\n",
       "    <tr>\n",
       "      <th>2</th>\n",
       "      <td>104518</td>\n",
       "      <td>3.0</td>\n",
       "      <td>3.0</td>\n",
       "      <td>1.0</td>\n",
       "      <td>23.0</td>\n",
       "      <td>67.0</td>\n",
       "      <td>143.0</td>\n",
       "    </tr>\n",
       "    <tr>\n",
       "      <th>3</th>\n",
       "      <td>190201</td>\n",
       "      <td>1.0</td>\n",
       "      <td>8.0</td>\n",
       "      <td>1.0</td>\n",
       "      <td>33.0</td>\n",
       "      <td>57.0</td>\n",
       "      <td>188.0</td>\n",
       "    </tr>\n",
       "    <tr>\n",
       "      <th>4</th>\n",
       "      <td>156857</td>\n",
       "      <td>3.0</td>\n",
       "      <td>5.0</td>\n",
       "      <td>3.0</td>\n",
       "      <td>36.5</td>\n",
       "      <td>51.0</td>\n",
       "      <td>176.5</td>\n",
       "    </tr>\n",
       "  </tbody>\n",
       "</table>\n",
       "</div>"
      ],
      "text/plain": [
       "   HADM_ID  BANDS  MONOs  EOSINOPHILS  NEUTS  LYMPHS  PLATELET\n",
       "0   184167    0.0   11.0          3.0   27.0    58.0     414.0\n",
       "1   106266    0.0    8.0          0.0   29.0    62.0     347.0\n",
       "2   104518    3.0    3.0          1.0   23.0    67.0     143.0\n",
       "3   190201    1.0    8.0          1.0   33.0    57.0     188.0\n",
       "4   156857    3.0    5.0          3.0   36.5    51.0     176.5"
      ]
     },
     "execution_count": 99,
     "metadata": {},
     "output_type": "execute_result"
    }
   ],
   "source": [
    "neonates.head()"
   ]
  },
  {
   "cell_type": "code",
   "execution_count": 116,
   "metadata": {},
   "outputs": [
    {
     "data": {
      "text/plain": [
       "(3135, 7)"
      ]
     },
     "execution_count": 116,
     "metadata": {},
     "output_type": "execute_result"
    }
   ],
   "source": [
    "neonates.shape "
   ]
  },
  {
   "cell_type": "code",
   "execution_count": 117,
   "metadata": {},
   "outputs": [],
   "source": [
    "neonates.to_csv(\"FinalData/SingleValue/blood_test_features.csv\", index=False)"
   ]
  },
  {
   "cell_type": "code",
   "execution_count": null,
   "metadata": {},
   "outputs": [],
   "source": []
  }
 ],
 "metadata": {
  "kernelspec": {
   "display_name": "Python 3",
   "language": "python",
   "name": "python3"
  },
  "language_info": {
   "codemirror_mode": {
    "name": "ipython",
    "version": 3
   },
   "file_extension": ".py",
   "mimetype": "text/x-python",
   "name": "python",
   "nbconvert_exporter": "python",
   "pygments_lexer": "ipython3",
   "version": "3.8.5"
  }
 },
 "nbformat": 4,
 "nbformat_minor": 4
}
