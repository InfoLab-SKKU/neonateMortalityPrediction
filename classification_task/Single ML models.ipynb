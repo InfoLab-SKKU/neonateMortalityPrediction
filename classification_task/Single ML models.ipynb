{
 "cells": [
  {
   "cell_type": "markdown",
   "metadata": {},
   "source": [
    "## <center> <font color='purple'> Single Machine Learning Models (Classification Task)</font></center> \n",
    "#### <center>Firuz Juraev (Sungkyunkwan Unniversity)</center>"
   ]
  },
  {
   "cell_type": "code",
   "execution_count": 1,
   "metadata": {},
   "outputs": [],
   "source": [
    "import pandas as pd\n",
    "import numpy as np \n",
    "from numpy import mean\n",
    "from numpy import std\n",
    "import random\n",
    "import matplotlib.pyplot as plt\n",
    "import warnings\n",
    "warnings.filterwarnings('ignore')"
   ]
  },
  {
   "cell_type": "code",
   "execution_count": 2,
   "metadata": {},
   "outputs": [],
   "source": [
    "from sklearn.naive_bayes import GaussianNB\n",
    "from sklearn.neighbors import KNeighborsClassifier\n",
    "from sklearn.linear_model import LogisticRegression\n",
    "from sklearn.tree import DecisionTreeClassifier\n",
    "from sklearn.svm import SVC\n",
    "from sklearn.neural_network import MLPClassifier"
   ]
  },
  {
   "cell_type": "code",
   "execution_count": 3,
   "metadata": {},
   "outputs": [],
   "source": [
    "from sklearn.preprocessing import MinMaxScaler\n",
    "from sklearn.feature_selection import mutual_info_classif"
   ]
  },
  {
   "cell_type": "code",
   "execution_count": 4,
   "metadata": {},
   "outputs": [],
   "source": [
    "from sklearn.feature_selection import mutual_info_classif\n",
    "\n",
    "from sklearn import metrics\n",
    "from sklearn.metrics import plot_confusion_matrix\n",
    "\n",
    "from sklearn.metrics import (accuracy_score,\n",
    "                             precision_score,\n",
    "                             recall_score, \n",
    "                             f1_score,\n",
    "                             roc_auc_score, \n",
    "                             precision_recall_curve,\n",
    "                             balanced_accuracy_score,\n",
    "                             auc)"
   ]
  },
  {
   "cell_type": "markdown",
   "metadata": {},
   "source": [
    "#### <font color='blue'>Libraries for Critical Diagram "
   ]
  },
  {
   "cell_type": "code",
   "execution_count": 5,
   "metadata": {},
   "outputs": [],
   "source": [
    "from sklearn.model_selection import StratifiedKFold\n",
    "from scipy.stats import wilcoxon, friedmanchisquare, rankdata\n",
    "from Orange.evaluation import compute_CD, graph_ranks\n",
    "from sklearn.metrics import mean_absolute_error"
   ]
  },
  {
   "cell_type": "markdown",
   "metadata": {},
   "source": [
    "### <font color='purple'>Variables "
   ]
  },
  {
   "cell_type": "code",
   "execution_count": 6,
   "metadata": {},
   "outputs": [],
   "source": [
    "#Descriptive Analysis options ------------------------------------------------------------------------------------\n",
    "doCorrelation = True #Generate visualization of feature correlations (Not recommended for feature sets > 100)\n",
    "doUA = True #Perform a univariate analysis of features in the dataset \n",
    "\n",
    "#Cross Validation run parameters (change as needed) --------------------------------------------------------------\n",
    "cv_partitions = 10 #number of CV partitions (3-10 recommended)\n",
    "partition_method = 'S' #Options: random (R), stratified (S), matched (M)\n",
    "matchName = None #Name of column used for matched CV partitioning. Put None otherwise.\n",
    "\n",
    "#Data cleaning options--------------------------------------------------------------------------------------------\n",
    "scaleData = True  #Prescale original dataset values (important for ML and feature importance interpretation of some algorithms)\n",
    "imputeData = True  #Impute missing values (separate methods used for categorical vs ordinal variables)\n",
    "autoDetectCategorical = True #keep in mind that this can incorectly identify some ordinal values as being categorical (e.g. tumor state/grade)\n",
    "categoricalCutoff = 10 #If the number of unique values is greater than this value, the feature is assumed to be ordinal/continuous-valued\n",
    "\n",
    "#Feature Selection----------------------------------------------------------------------------------------------\n",
    "algorithms = ['mutual_information','multisurf']\n",
    "instanceSubset = 2000 #Sample subset size to use with MultiSURF (since they scale quandratically with n)\n",
    "maxFeaturesToKeep = 50 #Maximum number of features to keep during feature selection - pute None if no max desired)\n",
    "filterPoorFeatures = True\n",
    "topResults = 20 #Top features to illustrate in feature selection results figures\n",
    "\n",
    "#Dataset specific constants (Must be updated for a given dataset)\n",
    "outcomeLabel = 'DEAD' #i.e. class outcome column label\n",
    "categoricalOutcome = True  #Is outcome nominal (i.e. discrete/classification) This script will not function correctly if False!\n",
    "instLabel = None #If data includes instance labels, given respective column name here, otherwise put None\n",
    "ignore_columns = [] #list of column names to exclude from the analysis (only insert column names if needed, otherwise leave empty)\n",
    "categorical_variables = [] #Leave empty for 'auto-detect' otherwise list feature names to be treated as categorical.\n",
    "\n",
    "#Notebook run parameters (i.e. set random seed for notebook replication consistency)\n",
    "randomSeed = 42\n",
    "random.seed(randomSeed)"
   ]
  },
  {
   "cell_type": "markdown",
   "metadata": {},
   "source": [
    "### <font color='purple'>Loading dataset "
   ]
  },
  {
   "cell_type": "code",
   "execution_count": 7,
   "metadata": {},
   "outputs": [],
   "source": [
    "train_dataset_upsampled = pd.read_csv(\"Data/Resampled_neonates_train_data_4.csv\")\n",
    "test_dataset_upsampled = pd.read_csv(\"Data/Resampled_neonates_test_data_4.csv\")\n",
    "\n",
    "X_train = train_dataset_upsampled.drop([\"DEAD\"], axis=1) \n",
    "y_train = train_dataset_upsampled[\"DEAD\"]\n",
    "\n",
    "X_test = test_dataset_upsampled.drop([\"DEAD\"], axis=1) \n",
    "y_test = test_dataset_upsampled[\"DEAD\"]"
   ]
  },
  {
   "cell_type": "code",
   "execution_count": 8,
   "metadata": {},
   "outputs": [],
   "source": [
    "columns = X_train.columns.to_list()"
   ]
  },
  {
   "cell_type": "markdown",
   "metadata": {},
   "source": [
    "### <font color='purple'>Data Normalization "
   ]
  },
  {
   "cell_type": "code",
   "execution_count": 9,
   "metadata": {},
   "outputs": [],
   "source": [
    "Min_max_scaler = MinMaxScaler().fit(X_train)\n",
    "\n",
    "## Scaling \n",
    "X_train_mm_scaled = Min_max_scaler.transform(X_train)\n",
    "X_test_mm_scaled = Min_max_scaler.transform(X_test)\n",
    "\n",
    "## Numpy Array to DataFrame \n",
    "df_train_mm_scaled = pd.DataFrame(X_train_mm_scaled, columns = columns)\n",
    "df_test_mm_scaled = pd.DataFrame(X_test_mm_scaled, columns = columns)"
   ]
  },
  {
   "cell_type": "markdown",
   "metadata": {},
   "source": [
    "### <font color='purple'>Feature Selection "
   ]
  },
  {
   "cell_type": "code",
   "execution_count": 10,
   "metadata": {},
   "outputs": [
    {
     "data": {
      "text/html": [
       "<div>\n",
       "<style scoped>\n",
       "    .dataframe tbody tr th:only-of-type {\n",
       "        vertical-align: middle;\n",
       "    }\n",
       "\n",
       "    .dataframe tbody tr th {\n",
       "        vertical-align: top;\n",
       "    }\n",
       "\n",
       "    .dataframe thead th {\n",
       "        text-align: right;\n",
       "    }\n",
       "</style>\n",
       "<table border=\"1\" class=\"dataframe\">\n",
       "  <thead>\n",
       "    <tr style=\"text-align: right;\">\n",
       "      <th></th>\n",
       "      <th>temperature_mean</th>\n",
       "      <th>respRate_std</th>\n",
       "      <th>respRate_var</th>\n",
       "      <th>skinTemperature_std</th>\n",
       "      <th>skinTemperature_var</th>\n",
       "      <th>heartRate_std</th>\n",
       "      <th>heartRate_var</th>\n",
       "      <th>sao2_std</th>\n",
       "      <th>bpCuffMean_var</th>\n",
       "      <th>sao2_var</th>\n",
       "      <th>...</th>\n",
       "      <th>bpCuffSystolic_mean</th>\n",
       "      <th>BIRTH_WEIGHT</th>\n",
       "      <th>bpCuffDiastolic_mean</th>\n",
       "      <th>glucometer_mean</th>\n",
       "      <th>sao2_mean</th>\n",
       "      <th>temperature_var</th>\n",
       "      <th>temperature_std</th>\n",
       "      <th>bpCuffMean_mean</th>\n",
       "      <th>PLATELET</th>\n",
       "      <th>D10W_MEAN</th>\n",
       "    </tr>\n",
       "  </thead>\n",
       "  <tbody>\n",
       "    <tr>\n",
       "      <th>0</th>\n",
       "      <td>0.775318</td>\n",
       "      <td>0.422245</td>\n",
       "      <td>0.178291</td>\n",
       "      <td>0.134078</td>\n",
       "      <td>0.017977</td>\n",
       "      <td>0.22911</td>\n",
       "      <td>0.057937</td>\n",
       "      <td>0.097817</td>\n",
       "      <td>0.053294</td>\n",
       "      <td>0.009568</td>\n",
       "      <td>...</td>\n",
       "      <td>0.602649</td>\n",
       "      <td>0.264267</td>\n",
       "      <td>0.457143</td>\n",
       "      <td>0.312593</td>\n",
       "      <td>0.881455</td>\n",
       "      <td>0.015695</td>\n",
       "      <td>0.125281</td>\n",
       "      <td>0.310696</td>\n",
       "      <td>0.281330</td>\n",
       "      <td>0.151138</td>\n",
       "    </tr>\n",
       "    <tr>\n",
       "      <th>1</th>\n",
       "      <td>0.709668</td>\n",
       "      <td>0.583964</td>\n",
       "      <td>0.341014</td>\n",
       "      <td>0.086672</td>\n",
       "      <td>0.007512</td>\n",
       "      <td>0.28258</td>\n",
       "      <td>0.086102</td>\n",
       "      <td>0.080938</td>\n",
       "      <td>0.020317</td>\n",
       "      <td>0.006551</td>\n",
       "      <td>...</td>\n",
       "      <td>0.644907</td>\n",
       "      <td>0.437819</td>\n",
       "      <td>0.479330</td>\n",
       "      <td>0.272551</td>\n",
       "      <td>0.926056</td>\n",
       "      <td>0.003770</td>\n",
       "      <td>0.061399</td>\n",
       "      <td>0.351928</td>\n",
       "      <td>0.392157</td>\n",
       "      <td>0.196784</td>\n",
       "    </tr>\n",
       "  </tbody>\n",
       "</table>\n",
       "<p>2 rows × 30 columns</p>\n",
       "</div>"
      ],
      "text/plain": [
       "   temperature_mean  respRate_std  respRate_var  skinTemperature_std  \\\n",
       "0          0.775318      0.422245      0.178291             0.134078   \n",
       "1          0.709668      0.583964      0.341014             0.086672   \n",
       "\n",
       "   skinTemperature_var  heartRate_std  heartRate_var  sao2_std  \\\n",
       "0             0.017977        0.22911       0.057937  0.097817   \n",
       "1             0.007512        0.28258       0.086102  0.080938   \n",
       "\n",
       "   bpCuffMean_var  sao2_var  ...  bpCuffSystolic_mean  BIRTH_WEIGHT  \\\n",
       "0        0.053294  0.009568  ...             0.602649      0.264267   \n",
       "1        0.020317  0.006551  ...             0.644907      0.437819   \n",
       "\n",
       "   bpCuffDiastolic_mean  glucometer_mean  sao2_mean  temperature_var  \\\n",
       "0              0.457143         0.312593   0.881455         0.015695   \n",
       "1              0.479330         0.272551   0.926056         0.003770   \n",
       "\n",
       "   temperature_std  bpCuffMean_mean  PLATELET  D10W_MEAN  \n",
       "0         0.125281         0.310696  0.281330   0.151138  \n",
       "1         0.061399         0.351928  0.392157   0.196784  \n",
       "\n",
       "[2 rows x 30 columns]"
      ]
     },
     "execution_count": 10,
     "metadata": {},
     "output_type": "execute_result"
    }
   ],
   "source": [
    "tain_mm_scaled_df = df_train_mm_scaled[:]\n",
    "tain_mm_scaled_df[\"DEAD\"] = y_train \n",
    "\n",
    "test_mm_scaled_df = df_test_mm_scaled[:] \n",
    "test_mm_scaled_df[\"DEAD\"] = y_test\n",
    "\n",
    "\n",
    "importances = mutual_info_classif(df_train_mm_scaled, y_train)\n",
    "feat_importance = pd.Series(importances, tain_mm_scaled_df.columns[0:len(tain_mm_scaled_df.columns)-1])\n",
    "    \n",
    "feat_importance = feat_importance.sort_values(ascending=False)\n",
    "    \n",
    "selected_features = feat_importance[:30]\n",
    "selected_features_list_mm_scaled = selected_features.index.to_list()\n",
    "\n",
    "\n",
    "tain_mm_scaled_df[selected_features_list_mm_scaled].head(2)"
   ]
  },
  {
   "cell_type": "markdown",
   "metadata": {},
   "source": [
    "## <font color='purple'>Defining functions "
   ]
  },
  {
   "cell_type": "markdown",
   "metadata": {},
   "source": [
    "### <font color='purple'>k-fold Cross Validation partitioning "
   ]
  },
  {
   "cell_type": "code",
   "execution_count": 11,
   "metadata": {},
   "outputs": [],
   "source": [
    "def cv_partitioner(td, cv_partitions, partition_method, outcomeLabel, categoricalOutcome, matchName, randomSeed):\n",
    "    #Partitioning-----------------------------------------------------------------------------------------\n",
    "    #Shuffle instances to avoid potential biases\n",
    "    td = td.sample(frac=1, random_state = randomSeed).reset_index(drop=True)\n",
    "                \n",
    "    #Temporarily convert data frame to list of lists (save header for later)\n",
    "    header = list(td.columns.values)\n",
    "    datasetList = list(list(x) for x in zip(*(td[x].values.tolist() for x in td.columns)))\n",
    "\n",
    "    #Handle Special Variables for Nominal Outcomes\n",
    "    outcomeIndex = None\n",
    "    classList = None\n",
    "    if categoricalOutcome:\n",
    "        outcomeIndex = td.columns.get_loc(outcomeLabel)\n",
    "        classList = []\n",
    "        for each in datasetList:\n",
    "            if each[outcomeIndex] not in classList:\n",
    "                classList.append(each[outcomeIndex])\n",
    "                \n",
    "    #Initialize partitions\n",
    "    partList = [] #Will store partitions\n",
    "    for x in range(cv_partitions):\n",
    "        partList.append([])\n",
    "    \n",
    "    #Stratified Partitioning Method-----------------------\n",
    "    if partition_method == 'S':\n",
    "        if categoricalOutcome: #Discrete outcome\n",
    "            print(\"Nominal Stratitifed Partitioning\")\n",
    "            \n",
    "            #Create data sublists, each having all rows with the same class\n",
    "            byClassRows = [ [] for i in range(len(classList)) ] #create list of empty lists (one for each class)\n",
    "            for row in datasetList:\n",
    "                #find index in classList corresponding to the class of the current row. \n",
    "                cIndex = classList.index(row[outcomeIndex])\n",
    "                byClassRows[cIndex].append(row)\n",
    "\n",
    "            for classSet in byClassRows:\n",
    "                currPart = 0\n",
    "                counter = 0\n",
    "                for row in classSet:\n",
    "                    partList[currPart].append(row)\n",
    "                    counter += 1\n",
    "                    currPart = counter%cv_partitions\n",
    "    \n",
    "        else: # Do stratified partitioning for continuous endpoint data\n",
    "            print(\"Error: Stratified partitioning only designed for discrete endpoints. \")    \n",
    "                \n",
    "    else:\n",
    "        print('Error: Requested partition method not found.')\n",
    "        \n",
    "        \n",
    "   #Generation of CV datasets from partitions---------------------------------------------------------------------------\n",
    "    train_dfs = []\n",
    "\n",
    "    for part in range(0, cv_partitions):      \n",
    "        trainList=[]\n",
    "        tempList = []                 \n",
    "        for x in range(0,cv_partitions): \n",
    "            tempList.append(x)                            \n",
    "        tempList.pop(part)\n",
    "\n",
    "        for v in tempList: #for each training partition\n",
    "            trainList.extend(partList[v])   \n",
    "        \n",
    "        train_dfs.append(pd.DataFrame(trainList, columns = header))\n",
    "            \n",
    "    return train_dfs #train_dfs, test_dfs "
   ]
  },
  {
   "cell_type": "code",
   "execution_count": 12,
   "metadata": {},
   "outputs": [],
   "source": [
    "def get_result_part(train, test, classifier):   \n",
    "    X_train = train.drop([\"DEAD\"], axis=1) \n",
    "    y_train = train[\"DEAD\"] \n",
    "    \n",
    "    X_test = test.drop([\"DEAD\"], axis=1) \n",
    "    y_test = test[\"DEAD\"]\n",
    "    \n",
    "    classifier.fit(X_train, y_train)\n",
    "    y_preds = classifier.predict(X_test) \n",
    "    \n",
    "    acc = accuracy_score(y_test, y_preds)\n",
    "    balanced_acc = balanced_accuracy_score(y_test, y_preds)\n",
    "    precision = precision_score(y_test, y_preds)\n",
    "    recall = recall_score(y_test, y_preds)\n",
    "    f1 = f1_score(y_test, y_preds)\n",
    "    \n",
    "    yproba = classifier.predict_proba(X_test)[::,1] \n",
    "    \n",
    "    print (\"Proba: {}\".format(yproba[0]))\n",
    "    \n",
    "    fpr, tpr, thresholds = metrics.roc_curve(y_test, yproba)  \n",
    "    roc_auc = auc(fpr, tpr) \n",
    "    \n",
    "    results = {'accuracy': acc, \n",
    "               'balanced_accuracy': balanced_acc, \n",
    "               'precision': precision, \n",
    "               'recall': recall, 'f1': f1, \n",
    "               'fpr': fpr, 'tpr': tpr, \n",
    "               'auc': roc_auc}\n",
    "    \n",
    "    return results"
   ]
  },
  {
   "cell_type": "code",
   "execution_count": 13,
   "metadata": {},
   "outputs": [],
   "source": [
    "def get_results(train_list, test_data, classifiers): \n",
    "    k_folds = 10 \n",
    "    result_table = pd.DataFrame(columns=['classifiers', 'fpr','tpr','auc']) \n",
    "    results_set = pd.DataFrame() \n",
    "    full_result = pd.DataFrame() \n",
    "    for cls in classifiers:   \n",
    "        accuracy_list = []\n",
    "        balanced_accuracy_list = []\n",
    "        precision_list = []\n",
    "        recall_list = []\n",
    "        f1_list = []\n",
    "        fpr_list = [] \n",
    "        tpr_list = [] \n",
    "        auc_list = [] \n",
    "        \n",
    "        for i in range(0, k_folds):\n",
    "            result = get_result_part(train_list[i], test_data, cls)\n",
    "            accuracy_list.append(result['accuracy']) \n",
    "            balanced_accuracy_list.append(result['balanced_accuracy'])\n",
    "            precision_list.append(result['precision']) \n",
    "            recall_list.append(result['recall']) \n",
    "            f1_list.append(result['f1']) \n",
    "            fpr_list.append(result['fpr']) \n",
    "            tpr_list.append(result['tpr']) \n",
    "            auc_list.append(result['auc']) \n",
    "        \n",
    "        result_table = result_table.append({'classifiers': cls.__class__.__name__,\n",
    "                                        'fpr': fpr_list, \n",
    "                                        'tpr': tpr_list, \n",
    "                                        'auc': auc_list}, ignore_index=True)\n",
    "        \n",
    "        results_set = results_set.append({'classifiers': cls.__class__.__name__,\n",
    "                                          'accuracy': round(mean(accuracy_list), 3), \n",
    "                                          'accuracy_std': round(std(accuracy_list), 3), \n",
    "                                          'precision': round(mean(precision_list), 3), \n",
    "                                          'precision_std': round(std(precision_list), 3), \n",
    "                                          'recall': round(mean(recall_list), 3), \n",
    "                                          'recall_std': round(std(recall_list), 3), \n",
    "                                          'f1': round(mean(f1_list), 3), \n",
    "                                          'f1_std': round(std(f1_list), 3), \n",
    "                                          'auc': round(mean(auc_list), 3), \n",
    "                                          'auc_std': round(std(auc_list), 3)}, ignore_index=True)\n",
    "        \n",
    "        full_result = full_result.append({'classifiers': cls.__class__.__name__,\n",
    "                                            'accuracy': accuracy_list}, ignore_index=True) \n",
    "    \n",
    "    result_table.set_index('classifiers', inplace=True)\n",
    "    return result_table, results_set, full_result    "
   ]
  },
  {
   "cell_type": "markdown",
   "metadata": {},
   "source": [
    "____________________"
   ]
  },
  {
   "cell_type": "markdown",
   "metadata": {},
   "source": [
    "## <font color='green'> Single ML models (without any Feature Selection or Optimization)"
   ]
  },
  {
   "cell_type": "code",
   "execution_count": 14,
   "metadata": {},
   "outputs": [],
   "source": [
    "X_train_mm = df_train_mm_scaled[:]\n",
    "X_test_mm = df_test_mm_scaled[:]"
   ]
  },
  {
   "cell_type": "code",
   "execution_count": 15,
   "metadata": {},
   "outputs": [
    {
     "name": "stdout",
     "output_type": "stream",
     "text": [
      "Nominal Stratitifed Partitioning\n"
     ]
    }
   ],
   "source": [
    "train_data = X_train_mm[:]\n",
    "train_data[\"DEAD\"] = y_train\n",
    "\n",
    "test_data = X_test_mm[:]\n",
    "test_data[\"DEAD\"] = y_test\n",
    "\n",
    "train_dfs = cv_partitioner(train_data, cv_partitions, partition_method, \"DEAD\", categoricalOutcome, matchName, randomSeed)"
   ]
  },
  {
   "cell_type": "code",
   "execution_count": 16,
   "metadata": {},
   "outputs": [
    {
     "name": "stdout",
     "output_type": "stream",
     "text": [
      "Proba: 0.9999999472635054\n",
      "Proba: 0.9999999604038415\n",
      "Proba: 0.9999998972292783\n",
      "Proba: 0.9999999309670381\n",
      "Proba: 0.9999999438756377\n",
      "Proba: 0.9999999444727494\n",
      "Proba: 0.9999999555135314\n",
      "Proba: 0.9999999710427407\n",
      "Proba: 0.9999999689253376\n",
      "Proba: 0.9999999020512907\n"
     ]
    },
    {
     "ename": "AttributeError",
     "evalue": "'str' object has no attribute 'decode'",
     "output_type": "error",
     "traceback": [
      "\u001b[1;31m---------------------------------------------------------------------------\u001b[0m",
      "\u001b[1;31mAttributeError\u001b[0m                            Traceback (most recent call last)",
      "\u001b[1;32m<ipython-input-16-e3d61d490b70>\u001b[0m in \u001b[0;36m<module>\u001b[1;34m\u001b[0m\n\u001b[0;32m      6\u001b[0m                MLPClassifier()]\n\u001b[0;32m      7\u001b[0m \u001b[1;33m\u001b[0m\u001b[0m\n\u001b[1;32m----> 8\u001b[1;33m \u001b[0mtable\u001b[0m\u001b[1;33m,\u001b[0m \u001b[0mresults_table\u001b[0m\u001b[1;33m,\u001b[0m \u001b[0mfull_results\u001b[0m \u001b[1;33m=\u001b[0m \u001b[0mget_results\u001b[0m\u001b[1;33m(\u001b[0m\u001b[0mtrain_dfs\u001b[0m\u001b[1;33m,\u001b[0m \u001b[0mtest_data\u001b[0m\u001b[1;33m,\u001b[0m \u001b[0mclassifiers\u001b[0m\u001b[1;33m)\u001b[0m\u001b[1;33m\u001b[0m\u001b[1;33m\u001b[0m\u001b[0m\n\u001b[0m\u001b[0;32m      9\u001b[0m \u001b[1;33m\u001b[0m\u001b[0m\n\u001b[0;32m     10\u001b[0m \u001b[0mresults_table\u001b[0m\u001b[1;33m\u001b[0m\u001b[1;33m\u001b[0m\u001b[0m\n",
      "\u001b[1;32m<ipython-input-13-d2f3956d156f>\u001b[0m in \u001b[0;36mget_results\u001b[1;34m(train_list, test_data, classifiers)\u001b[0m\n\u001b[0;32m     15\u001b[0m \u001b[1;33m\u001b[0m\u001b[0m\n\u001b[0;32m     16\u001b[0m         \u001b[1;32mfor\u001b[0m \u001b[0mi\u001b[0m \u001b[1;32min\u001b[0m \u001b[0mrange\u001b[0m\u001b[1;33m(\u001b[0m\u001b[1;36m0\u001b[0m\u001b[1;33m,\u001b[0m \u001b[0mk_folds\u001b[0m\u001b[1;33m)\u001b[0m\u001b[1;33m:\u001b[0m\u001b[1;33m\u001b[0m\u001b[1;33m\u001b[0m\u001b[0m\n\u001b[1;32m---> 17\u001b[1;33m             \u001b[0mresult\u001b[0m \u001b[1;33m=\u001b[0m \u001b[0mget_result_part\u001b[0m\u001b[1;33m(\u001b[0m\u001b[0mtrain_list\u001b[0m\u001b[1;33m[\u001b[0m\u001b[0mi\u001b[0m\u001b[1;33m]\u001b[0m\u001b[1;33m,\u001b[0m \u001b[0mtest_data\u001b[0m\u001b[1;33m,\u001b[0m \u001b[0mcls\u001b[0m\u001b[1;33m)\u001b[0m\u001b[1;33m\u001b[0m\u001b[1;33m\u001b[0m\u001b[0m\n\u001b[0m\u001b[0;32m     18\u001b[0m             \u001b[0maccuracy_list\u001b[0m\u001b[1;33m.\u001b[0m\u001b[0mappend\u001b[0m\u001b[1;33m(\u001b[0m\u001b[0mresult\u001b[0m\u001b[1;33m[\u001b[0m\u001b[1;34m'accuracy'\u001b[0m\u001b[1;33m]\u001b[0m\u001b[1;33m)\u001b[0m\u001b[1;33m\u001b[0m\u001b[1;33m\u001b[0m\u001b[0m\n\u001b[0;32m     19\u001b[0m             \u001b[0mbalanced_accuracy_list\u001b[0m\u001b[1;33m.\u001b[0m\u001b[0mappend\u001b[0m\u001b[1;33m(\u001b[0m\u001b[0mresult\u001b[0m\u001b[1;33m[\u001b[0m\u001b[1;34m'balanced_accuracy'\u001b[0m\u001b[1;33m]\u001b[0m\u001b[1;33m)\u001b[0m\u001b[1;33m\u001b[0m\u001b[1;33m\u001b[0m\u001b[0m\n",
      "\u001b[1;32m<ipython-input-12-777073cee334>\u001b[0m in \u001b[0;36mget_result_part\u001b[1;34m(train, test, classifier)\u001b[0m\n\u001b[0;32m      6\u001b[0m     \u001b[0my_test\u001b[0m \u001b[1;33m=\u001b[0m \u001b[0mtest\u001b[0m\u001b[1;33m[\u001b[0m\u001b[1;34m\"DEAD\"\u001b[0m\u001b[1;33m]\u001b[0m\u001b[1;33m\u001b[0m\u001b[1;33m\u001b[0m\u001b[0m\n\u001b[0;32m      7\u001b[0m \u001b[1;33m\u001b[0m\u001b[0m\n\u001b[1;32m----> 8\u001b[1;33m     \u001b[0mclassifier\u001b[0m\u001b[1;33m.\u001b[0m\u001b[0mfit\u001b[0m\u001b[1;33m(\u001b[0m\u001b[0mX_train\u001b[0m\u001b[1;33m,\u001b[0m \u001b[0my_train\u001b[0m\u001b[1;33m)\u001b[0m\u001b[1;33m\u001b[0m\u001b[1;33m\u001b[0m\u001b[0m\n\u001b[0m\u001b[0;32m      9\u001b[0m     \u001b[0my_preds\u001b[0m \u001b[1;33m=\u001b[0m \u001b[0mclassifier\u001b[0m\u001b[1;33m.\u001b[0m\u001b[0mpredict\u001b[0m\u001b[1;33m(\u001b[0m\u001b[0mX_test\u001b[0m\u001b[1;33m)\u001b[0m\u001b[1;33m\u001b[0m\u001b[1;33m\u001b[0m\u001b[0m\n\u001b[0;32m     10\u001b[0m \u001b[1;33m\u001b[0m\u001b[0m\n",
      "\u001b[1;32m~\\anaconda3\\envs\\academy\\lib\\site-packages\\sklearn\\linear_model\\_logistic.py\u001b[0m in \u001b[0;36mfit\u001b[1;34m(self, X, y, sample_weight)\u001b[0m\n\u001b[0;32m   1415\u001b[0m                       \u001b[0mpenalty\u001b[0m\u001b[1;33m=\u001b[0m\u001b[0mpenalty\u001b[0m\u001b[1;33m,\u001b[0m \u001b[0mmax_squared_sum\u001b[0m\u001b[1;33m=\u001b[0m\u001b[0mmax_squared_sum\u001b[0m\u001b[1;33m,\u001b[0m\u001b[1;33m\u001b[0m\u001b[1;33m\u001b[0m\u001b[0m\n\u001b[0;32m   1416\u001b[0m                       sample_weight=sample_weight)\n\u001b[1;32m-> 1417\u001b[1;33m             for class_, warm_start_coef_ in zip(classes_, warm_start_coef))\n\u001b[0m\u001b[0;32m   1418\u001b[0m \u001b[1;33m\u001b[0m\u001b[0m\n\u001b[0;32m   1419\u001b[0m         \u001b[0mfold_coefs_\u001b[0m\u001b[1;33m,\u001b[0m \u001b[0m_\u001b[0m\u001b[1;33m,\u001b[0m \u001b[0mn_iter_\u001b[0m \u001b[1;33m=\u001b[0m \u001b[0mzip\u001b[0m\u001b[1;33m(\u001b[0m\u001b[1;33m*\u001b[0m\u001b[0mfold_coefs_\u001b[0m\u001b[1;33m)\u001b[0m\u001b[1;33m\u001b[0m\u001b[1;33m\u001b[0m\u001b[0m\n",
      "\u001b[1;32m~\\anaconda3\\envs\\academy\\lib\\site-packages\\joblib\\parallel.py\u001b[0m in \u001b[0;36m__call__\u001b[1;34m(self, iterable)\u001b[0m\n\u001b[0;32m   1046\u001b[0m             \u001b[1;31m# remaining jobs.\u001b[0m\u001b[1;33m\u001b[0m\u001b[1;33m\u001b[0m\u001b[1;33m\u001b[0m\u001b[0m\n\u001b[0;32m   1047\u001b[0m             \u001b[0mself\u001b[0m\u001b[1;33m.\u001b[0m\u001b[0m_iterating\u001b[0m \u001b[1;33m=\u001b[0m \u001b[1;32mFalse\u001b[0m\u001b[1;33m\u001b[0m\u001b[1;33m\u001b[0m\u001b[0m\n\u001b[1;32m-> 1048\u001b[1;33m             \u001b[1;32mif\u001b[0m \u001b[0mself\u001b[0m\u001b[1;33m.\u001b[0m\u001b[0mdispatch_one_batch\u001b[0m\u001b[1;33m(\u001b[0m\u001b[0miterator\u001b[0m\u001b[1;33m)\u001b[0m\u001b[1;33m:\u001b[0m\u001b[1;33m\u001b[0m\u001b[1;33m\u001b[0m\u001b[0m\n\u001b[0m\u001b[0;32m   1049\u001b[0m                 \u001b[0mself\u001b[0m\u001b[1;33m.\u001b[0m\u001b[0m_iterating\u001b[0m \u001b[1;33m=\u001b[0m \u001b[0mself\u001b[0m\u001b[1;33m.\u001b[0m\u001b[0m_original_iterator\u001b[0m \u001b[1;32mis\u001b[0m \u001b[1;32mnot\u001b[0m \u001b[1;32mNone\u001b[0m\u001b[1;33m\u001b[0m\u001b[1;33m\u001b[0m\u001b[0m\n\u001b[0;32m   1050\u001b[0m \u001b[1;33m\u001b[0m\u001b[0m\n",
      "\u001b[1;32m~\\anaconda3\\envs\\academy\\lib\\site-packages\\joblib\\parallel.py\u001b[0m in \u001b[0;36mdispatch_one_batch\u001b[1;34m(self, iterator)\u001b[0m\n\u001b[0;32m    864\u001b[0m                 \u001b[1;32mreturn\u001b[0m \u001b[1;32mFalse\u001b[0m\u001b[1;33m\u001b[0m\u001b[1;33m\u001b[0m\u001b[0m\n\u001b[0;32m    865\u001b[0m             \u001b[1;32melse\u001b[0m\u001b[1;33m:\u001b[0m\u001b[1;33m\u001b[0m\u001b[1;33m\u001b[0m\u001b[0m\n\u001b[1;32m--> 866\u001b[1;33m                 \u001b[0mself\u001b[0m\u001b[1;33m.\u001b[0m\u001b[0m_dispatch\u001b[0m\u001b[1;33m(\u001b[0m\u001b[0mtasks\u001b[0m\u001b[1;33m)\u001b[0m\u001b[1;33m\u001b[0m\u001b[1;33m\u001b[0m\u001b[0m\n\u001b[0m\u001b[0;32m    867\u001b[0m                 \u001b[1;32mreturn\u001b[0m \u001b[1;32mTrue\u001b[0m\u001b[1;33m\u001b[0m\u001b[1;33m\u001b[0m\u001b[0m\n\u001b[0;32m    868\u001b[0m \u001b[1;33m\u001b[0m\u001b[0m\n",
      "\u001b[1;32m~\\anaconda3\\envs\\academy\\lib\\site-packages\\joblib\\parallel.py\u001b[0m in \u001b[0;36m_dispatch\u001b[1;34m(self, batch)\u001b[0m\n\u001b[0;32m    782\u001b[0m         \u001b[1;32mwith\u001b[0m \u001b[0mself\u001b[0m\u001b[1;33m.\u001b[0m\u001b[0m_lock\u001b[0m\u001b[1;33m:\u001b[0m\u001b[1;33m\u001b[0m\u001b[1;33m\u001b[0m\u001b[0m\n\u001b[0;32m    783\u001b[0m             \u001b[0mjob_idx\u001b[0m \u001b[1;33m=\u001b[0m \u001b[0mlen\u001b[0m\u001b[1;33m(\u001b[0m\u001b[0mself\u001b[0m\u001b[1;33m.\u001b[0m\u001b[0m_jobs\u001b[0m\u001b[1;33m)\u001b[0m\u001b[1;33m\u001b[0m\u001b[1;33m\u001b[0m\u001b[0m\n\u001b[1;32m--> 784\u001b[1;33m             \u001b[0mjob\u001b[0m \u001b[1;33m=\u001b[0m \u001b[0mself\u001b[0m\u001b[1;33m.\u001b[0m\u001b[0m_backend\u001b[0m\u001b[1;33m.\u001b[0m\u001b[0mapply_async\u001b[0m\u001b[1;33m(\u001b[0m\u001b[0mbatch\u001b[0m\u001b[1;33m,\u001b[0m \u001b[0mcallback\u001b[0m\u001b[1;33m=\u001b[0m\u001b[0mcb\u001b[0m\u001b[1;33m)\u001b[0m\u001b[1;33m\u001b[0m\u001b[1;33m\u001b[0m\u001b[0m\n\u001b[0m\u001b[0;32m    785\u001b[0m             \u001b[1;31m# A job can complete so quickly than its callback is\u001b[0m\u001b[1;33m\u001b[0m\u001b[1;33m\u001b[0m\u001b[1;33m\u001b[0m\u001b[0m\n\u001b[0;32m    786\u001b[0m             \u001b[1;31m# called before we get here, causing self._jobs to\u001b[0m\u001b[1;33m\u001b[0m\u001b[1;33m\u001b[0m\u001b[1;33m\u001b[0m\u001b[0m\n",
      "\u001b[1;32m~\\anaconda3\\envs\\academy\\lib\\site-packages\\joblib\\_parallel_backends.py\u001b[0m in \u001b[0;36mapply_async\u001b[1;34m(self, func, callback)\u001b[0m\n\u001b[0;32m    206\u001b[0m     \u001b[1;32mdef\u001b[0m \u001b[0mapply_async\u001b[0m\u001b[1;33m(\u001b[0m\u001b[0mself\u001b[0m\u001b[1;33m,\u001b[0m \u001b[0mfunc\u001b[0m\u001b[1;33m,\u001b[0m \u001b[0mcallback\u001b[0m\u001b[1;33m=\u001b[0m\u001b[1;32mNone\u001b[0m\u001b[1;33m)\u001b[0m\u001b[1;33m:\u001b[0m\u001b[1;33m\u001b[0m\u001b[1;33m\u001b[0m\u001b[0m\n\u001b[0;32m    207\u001b[0m         \u001b[1;34m\"\"\"Schedule a func to be run\"\"\"\u001b[0m\u001b[1;33m\u001b[0m\u001b[1;33m\u001b[0m\u001b[0m\n\u001b[1;32m--> 208\u001b[1;33m         \u001b[0mresult\u001b[0m \u001b[1;33m=\u001b[0m \u001b[0mImmediateResult\u001b[0m\u001b[1;33m(\u001b[0m\u001b[0mfunc\u001b[0m\u001b[1;33m)\u001b[0m\u001b[1;33m\u001b[0m\u001b[1;33m\u001b[0m\u001b[0m\n\u001b[0m\u001b[0;32m    209\u001b[0m         \u001b[1;32mif\u001b[0m \u001b[0mcallback\u001b[0m\u001b[1;33m:\u001b[0m\u001b[1;33m\u001b[0m\u001b[1;33m\u001b[0m\u001b[0m\n\u001b[0;32m    210\u001b[0m             \u001b[0mcallback\u001b[0m\u001b[1;33m(\u001b[0m\u001b[0mresult\u001b[0m\u001b[1;33m)\u001b[0m\u001b[1;33m\u001b[0m\u001b[1;33m\u001b[0m\u001b[0m\n",
      "\u001b[1;32m~\\anaconda3\\envs\\academy\\lib\\site-packages\\joblib\\_parallel_backends.py\u001b[0m in \u001b[0;36m__init__\u001b[1;34m(self, batch)\u001b[0m\n\u001b[0;32m    570\u001b[0m         \u001b[1;31m# Don't delay the application, to avoid keeping the input\u001b[0m\u001b[1;33m\u001b[0m\u001b[1;33m\u001b[0m\u001b[1;33m\u001b[0m\u001b[0m\n\u001b[0;32m    571\u001b[0m         \u001b[1;31m# arguments in memory\u001b[0m\u001b[1;33m\u001b[0m\u001b[1;33m\u001b[0m\u001b[1;33m\u001b[0m\u001b[0m\n\u001b[1;32m--> 572\u001b[1;33m         \u001b[0mself\u001b[0m\u001b[1;33m.\u001b[0m\u001b[0mresults\u001b[0m \u001b[1;33m=\u001b[0m \u001b[0mbatch\u001b[0m\u001b[1;33m(\u001b[0m\u001b[1;33m)\u001b[0m\u001b[1;33m\u001b[0m\u001b[1;33m\u001b[0m\u001b[0m\n\u001b[0m\u001b[0;32m    573\u001b[0m \u001b[1;33m\u001b[0m\u001b[0m\n\u001b[0;32m    574\u001b[0m     \u001b[1;32mdef\u001b[0m \u001b[0mget\u001b[0m\u001b[1;33m(\u001b[0m\u001b[0mself\u001b[0m\u001b[1;33m)\u001b[0m\u001b[1;33m:\u001b[0m\u001b[1;33m\u001b[0m\u001b[1;33m\u001b[0m\u001b[0m\n",
      "\u001b[1;32m~\\anaconda3\\envs\\academy\\lib\\site-packages\\joblib\\parallel.py\u001b[0m in \u001b[0;36m__call__\u001b[1;34m(self)\u001b[0m\n\u001b[0;32m    261\u001b[0m         \u001b[1;32mwith\u001b[0m \u001b[0mparallel_backend\u001b[0m\u001b[1;33m(\u001b[0m\u001b[0mself\u001b[0m\u001b[1;33m.\u001b[0m\u001b[0m_backend\u001b[0m\u001b[1;33m,\u001b[0m \u001b[0mn_jobs\u001b[0m\u001b[1;33m=\u001b[0m\u001b[0mself\u001b[0m\u001b[1;33m.\u001b[0m\u001b[0m_n_jobs\u001b[0m\u001b[1;33m)\u001b[0m\u001b[1;33m:\u001b[0m\u001b[1;33m\u001b[0m\u001b[1;33m\u001b[0m\u001b[0m\n\u001b[0;32m    262\u001b[0m             return [func(*args, **kwargs)\n\u001b[1;32m--> 263\u001b[1;33m                     for func, args, kwargs in self.items]\n\u001b[0m\u001b[0;32m    264\u001b[0m \u001b[1;33m\u001b[0m\u001b[0m\n\u001b[0;32m    265\u001b[0m     \u001b[1;32mdef\u001b[0m \u001b[0m__reduce__\u001b[0m\u001b[1;33m(\u001b[0m\u001b[0mself\u001b[0m\u001b[1;33m)\u001b[0m\u001b[1;33m:\u001b[0m\u001b[1;33m\u001b[0m\u001b[1;33m\u001b[0m\u001b[0m\n",
      "\u001b[1;32m~\\anaconda3\\envs\\academy\\lib\\site-packages\\joblib\\parallel.py\u001b[0m in \u001b[0;36m<listcomp>\u001b[1;34m(.0)\u001b[0m\n\u001b[0;32m    261\u001b[0m         \u001b[1;32mwith\u001b[0m \u001b[0mparallel_backend\u001b[0m\u001b[1;33m(\u001b[0m\u001b[0mself\u001b[0m\u001b[1;33m.\u001b[0m\u001b[0m_backend\u001b[0m\u001b[1;33m,\u001b[0m \u001b[0mn_jobs\u001b[0m\u001b[1;33m=\u001b[0m\u001b[0mself\u001b[0m\u001b[1;33m.\u001b[0m\u001b[0m_n_jobs\u001b[0m\u001b[1;33m)\u001b[0m\u001b[1;33m:\u001b[0m\u001b[1;33m\u001b[0m\u001b[1;33m\u001b[0m\u001b[0m\n\u001b[0;32m    262\u001b[0m             return [func(*args, **kwargs)\n\u001b[1;32m--> 263\u001b[1;33m                     for func, args, kwargs in self.items]\n\u001b[0m\u001b[0;32m    264\u001b[0m \u001b[1;33m\u001b[0m\u001b[0m\n\u001b[0;32m    265\u001b[0m     \u001b[1;32mdef\u001b[0m \u001b[0m__reduce__\u001b[0m\u001b[1;33m(\u001b[0m\u001b[0mself\u001b[0m\u001b[1;33m)\u001b[0m\u001b[1;33m:\u001b[0m\u001b[1;33m\u001b[0m\u001b[1;33m\u001b[0m\u001b[0m\n",
      "\u001b[1;32m~\\anaconda3\\envs\\academy\\lib\\site-packages\\sklearn\\linear_model\\_logistic.py\u001b[0m in \u001b[0;36m_logistic_regression_path\u001b[1;34m(X, y, pos_class, Cs, fit_intercept, max_iter, tol, verbose, solver, coef, class_weight, dual, penalty, intercept_scaling, multi_class, random_state, check_input, max_squared_sum, sample_weight, l1_ratio)\u001b[0m\n\u001b[0;32m    762\u001b[0m             n_iter_i = _check_optimize_result(\n\u001b[0;32m    763\u001b[0m                 \u001b[0msolver\u001b[0m\u001b[1;33m,\u001b[0m \u001b[0mopt_res\u001b[0m\u001b[1;33m,\u001b[0m \u001b[0mmax_iter\u001b[0m\u001b[1;33m,\u001b[0m\u001b[1;33m\u001b[0m\u001b[1;33m\u001b[0m\u001b[0m\n\u001b[1;32m--> 764\u001b[1;33m                 extra_warning_msg=_LOGISTIC_SOLVER_CONVERGENCE_MSG)\n\u001b[0m\u001b[0;32m    765\u001b[0m             \u001b[0mw0\u001b[0m\u001b[1;33m,\u001b[0m \u001b[0mloss\u001b[0m \u001b[1;33m=\u001b[0m \u001b[0mopt_res\u001b[0m\u001b[1;33m.\u001b[0m\u001b[0mx\u001b[0m\u001b[1;33m,\u001b[0m \u001b[0mopt_res\u001b[0m\u001b[1;33m.\u001b[0m\u001b[0mfun\u001b[0m\u001b[1;33m\u001b[0m\u001b[1;33m\u001b[0m\u001b[0m\n\u001b[0;32m    766\u001b[0m         \u001b[1;32melif\u001b[0m \u001b[0msolver\u001b[0m \u001b[1;33m==\u001b[0m \u001b[1;34m'newton-cg'\u001b[0m\u001b[1;33m:\u001b[0m\u001b[1;33m\u001b[0m\u001b[1;33m\u001b[0m\u001b[0m\n",
      "\u001b[1;32m~\\anaconda3\\envs\\academy\\lib\\site-packages\\sklearn\\utils\\optimize.py\u001b[0m in \u001b[0;36m_check_optimize_result\u001b[1;34m(solver, result, max_iter, extra_warning_msg)\u001b[0m\n\u001b[0;32m    241\u001b[0m                 \u001b[1;34m\"    https://scikit-learn.org/stable/modules/\"\u001b[0m\u001b[1;33m\u001b[0m\u001b[1;33m\u001b[0m\u001b[0m\n\u001b[0;32m    242\u001b[0m                 \u001b[1;34m\"preprocessing.html\"\u001b[0m\u001b[1;33m\u001b[0m\u001b[1;33m\u001b[0m\u001b[0m\n\u001b[1;32m--> 243\u001b[1;33m             ).format(solver, result.status, result.message.decode(\"latin1\"))\n\u001b[0m\u001b[0;32m    244\u001b[0m             \u001b[1;32mif\u001b[0m \u001b[0mextra_warning_msg\u001b[0m \u001b[1;32mis\u001b[0m \u001b[1;32mnot\u001b[0m \u001b[1;32mNone\u001b[0m\u001b[1;33m:\u001b[0m\u001b[1;33m\u001b[0m\u001b[1;33m\u001b[0m\u001b[0m\n\u001b[0;32m    245\u001b[0m                 \u001b[0mwarning_msg\u001b[0m \u001b[1;33m+=\u001b[0m \u001b[1;34m\"\\n\"\u001b[0m \u001b[1;33m+\u001b[0m \u001b[0mextra_warning_msg\u001b[0m\u001b[1;33m\u001b[0m\u001b[1;33m\u001b[0m\u001b[0m\n",
      "\u001b[1;31mAttributeError\u001b[0m: 'str' object has no attribute 'decode'"
     ]
    }
   ],
   "source": [
    "classifiers = [GaussianNB(), \n",
    "               LogisticRegression(),\n",
    "               KNeighborsClassifier(), \n",
    "               DecisionTreeClassifier(), \n",
    "               SVC(probability=True),\n",
    "               MLPClassifier()]\n",
    "\n",
    "table, results_table, full_results = get_results(train_dfs, test_data, classifiers)\n",
    "\n",
    "results_table"
   ]
  },
  {
   "cell_type": "markdown",
   "metadata": {},
   "source": [
    "__________________________"
   ]
  },
  {
   "cell_type": "markdown",
   "metadata": {},
   "source": [
    "## <font color='green'> Single ML models (with only Feature Selection)"
   ]
  },
  {
   "cell_type": "code",
   "execution_count": 17,
   "metadata": {},
   "outputs": [],
   "source": [
    "X_train_mm = df_train_mm_scaled[selected_features_list_mm_scaled][:] ## using only selected features \n",
    "X_test_mm = df_test_mm_scaled[selected_features_list_mm_scaled][:]   ## using only selected features "
   ]
  },
  {
   "cell_type": "code",
   "execution_count": 18,
   "metadata": {},
   "outputs": [
    {
     "name": "stdout",
     "output_type": "stream",
     "text": [
      "Nominal Stratitifed Partitioning\n"
     ]
    }
   ],
   "source": [
    "test_data = X_test_mm[:]\n",
    "test_data[\"DEAD\"] = y_test\n",
    "\n",
    "train_data = X_train_mm[:]\n",
    "train_data[\"DEAD\"] = y_train\n",
    "\n",
    "train_dfs = cv_partitioner(train_data, cv_partitions, partition_method, \"DEAD\", categoricalOutcome, matchName, randomSeed)"
   ]
  },
  {
   "cell_type": "code",
   "execution_count": 19,
   "metadata": {},
   "outputs": [
    {
     "data": {
      "text/html": [
       "<div>\n",
       "<style scoped>\n",
       "    .dataframe tbody tr th:only-of-type {\n",
       "        vertical-align: middle;\n",
       "    }\n",
       "\n",
       "    .dataframe tbody tr th {\n",
       "        vertical-align: top;\n",
       "    }\n",
       "\n",
       "    .dataframe thead th {\n",
       "        text-align: right;\n",
       "    }\n",
       "</style>\n",
       "<table border=\"1\" class=\"dataframe\">\n",
       "  <thead>\n",
       "    <tr style=\"text-align: right;\">\n",
       "      <th></th>\n",
       "      <th>classifiers</th>\n",
       "      <th>accuracy</th>\n",
       "      <th>accuracy_std</th>\n",
       "      <th>precision</th>\n",
       "      <th>precision_std</th>\n",
       "      <th>recall</th>\n",
       "      <th>recall_std</th>\n",
       "      <th>f1</th>\n",
       "      <th>f1_std</th>\n",
       "      <th>auc</th>\n",
       "      <th>auc_std</th>\n",
       "    </tr>\n",
       "  </thead>\n",
       "  <tbody>\n",
       "    <tr>\n",
       "      <th>0</th>\n",
       "      <td>GaussianNB</td>\n",
       "      <td>0.888</td>\n",
       "      <td>0.001</td>\n",
       "      <td>0.920</td>\n",
       "      <td>0.002</td>\n",
       "      <td>0.849</td>\n",
       "      <td>0.000</td>\n",
       "      <td>0.883</td>\n",
       "      <td>0.001</td>\n",
       "      <td>0.966</td>\n",
       "      <td>0.001</td>\n",
       "    </tr>\n",
       "    <tr>\n",
       "      <th>1</th>\n",
       "      <td>LogisticRegression</td>\n",
       "      <td>0.923</td>\n",
       "      <td>0.001</td>\n",
       "      <td>0.912</td>\n",
       "      <td>0.002</td>\n",
       "      <td>0.935</td>\n",
       "      <td>0.000</td>\n",
       "      <td>0.924</td>\n",
       "      <td>0.001</td>\n",
       "      <td>0.978</td>\n",
       "      <td>0.001</td>\n",
       "    </tr>\n",
       "    <tr>\n",
       "      <th>2</th>\n",
       "      <td>KNeighborsClassifier</td>\n",
       "      <td>0.893</td>\n",
       "      <td>0.000</td>\n",
       "      <td>0.985</td>\n",
       "      <td>0.001</td>\n",
       "      <td>0.797</td>\n",
       "      <td>0.000</td>\n",
       "      <td>0.881</td>\n",
       "      <td>0.000</td>\n",
       "      <td>0.892</td>\n",
       "      <td>0.000</td>\n",
       "    </tr>\n",
       "    <tr>\n",
       "      <th>3</th>\n",
       "      <td>DecisionTreeClassifier</td>\n",
       "      <td>0.679</td>\n",
       "      <td>0.029</td>\n",
       "      <td>0.968</td>\n",
       "      <td>0.006</td>\n",
       "      <td>0.371</td>\n",
       "      <td>0.058</td>\n",
       "      <td>0.534</td>\n",
       "      <td>0.061</td>\n",
       "      <td>0.679</td>\n",
       "      <td>0.029</td>\n",
       "    </tr>\n",
       "    <tr>\n",
       "      <th>4</th>\n",
       "      <td>SVC</td>\n",
       "      <td>0.848</td>\n",
       "      <td>0.012</td>\n",
       "      <td>0.907</td>\n",
       "      <td>0.005</td>\n",
       "      <td>0.776</td>\n",
       "      <td>0.026</td>\n",
       "      <td>0.836</td>\n",
       "      <td>0.015</td>\n",
       "      <td>0.960</td>\n",
       "      <td>0.002</td>\n",
       "    </tr>\n",
       "    <tr>\n",
       "      <th>5</th>\n",
       "      <td>MLPClassifier</td>\n",
       "      <td>0.817</td>\n",
       "      <td>0.026</td>\n",
       "      <td>0.947</td>\n",
       "      <td>0.007</td>\n",
       "      <td>0.672</td>\n",
       "      <td>0.053</td>\n",
       "      <td>0.785</td>\n",
       "      <td>0.037</td>\n",
       "      <td>0.944</td>\n",
       "      <td>0.015</td>\n",
       "    </tr>\n",
       "  </tbody>\n",
       "</table>\n",
       "</div>"
      ],
      "text/plain": [
       "              classifiers  accuracy  accuracy_std  precision  precision_std  \\\n",
       "0              GaussianNB     0.888         0.001      0.920          0.002   \n",
       "1      LogisticRegression     0.923         0.001      0.912          0.002   \n",
       "2    KNeighborsClassifier     0.893         0.000      0.985          0.001   \n",
       "3  DecisionTreeClassifier     0.679         0.029      0.968          0.006   \n",
       "4                     SVC     0.848         0.012      0.907          0.005   \n",
       "5           MLPClassifier     0.817         0.026      0.947          0.007   \n",
       "\n",
       "   recall  recall_std     f1  f1_std    auc  auc_std  \n",
       "0   0.849       0.000  0.883   0.001  0.966    0.001  \n",
       "1   0.935       0.000  0.924   0.001  0.978    0.001  \n",
       "2   0.797       0.000  0.881   0.000  0.892    0.000  \n",
       "3   0.371       0.058  0.534   0.061  0.679    0.029  \n",
       "4   0.776       0.026  0.836   0.015  0.960    0.002  \n",
       "5   0.672       0.053  0.785   0.037  0.944    0.015  "
      ]
     },
     "execution_count": 19,
     "metadata": {},
     "output_type": "execute_result"
    }
   ],
   "source": [
    "classifiers = [GaussianNB(), \n",
    "               LogisticRegression(),\n",
    "               KNeighborsClassifier(), \n",
    "               DecisionTreeClassifier(), \n",
    "               SVC(probability=True),\n",
    "               MLPClassifier()]\n",
    "\n",
    "table, results_table, full_results = get_results(train_dfs, test_data, classifiers)\n",
    "\n",
    "results_table"
   ]
  },
  {
   "cell_type": "markdown",
   "metadata": {},
   "source": [
    "## <font color='green'> Single ML models (with Feature Selection and Optimization)"
   ]
  },
  {
   "cell_type": "code",
   "execution_count": 20,
   "metadata": {},
   "outputs": [],
   "source": [
    "classifiers = [GaussianNB(var_smoothing=0.1), LogisticRegression(penalty='l2', C=0.002),\n",
    "               KNeighborsClassifier(n_neighbors=7, leaf_size=40, p=2), \n",
    "               DecisionTreeClassifier(criterion='entropy', max_depth=3), \n",
    "               SVC(kernel='linear', C=0.007, gamma=0.2, degree=3, probability=True, class_weight='balanced'),\n",
    "               MLPClassifier(solver='adam', max_iter=11, verbose=10,learning_rate_init=.003)              \n",
    "              ]"
   ]
  },
  {
   "cell_type": "code",
   "execution_count": 21,
   "metadata": {
    "scrolled": true
   },
   "outputs": [
    {
     "name": "stdout",
     "output_type": "stream",
     "text": [
      "Iteration 1, loss = 0.61204761\n",
      "Iteration 2, loss = 0.45728338\n",
      "Iteration 3, loss = 0.37753772\n",
      "Iteration 4, loss = 0.34150803\n",
      "Iteration 5, loss = 0.31697255\n",
      "Iteration 6, loss = 0.30089190\n",
      "Iteration 7, loss = 0.28357572\n",
      "Iteration 8, loss = 0.27261058\n",
      "Iteration 9, loss = 0.26304033\n",
      "Iteration 10, loss = 0.25554435\n",
      "Iteration 11, loss = 0.24787839\n",
      "Iteration 1, loss = 0.61763185\n",
      "Iteration 2, loss = 0.46246176\n",
      "Iteration 3, loss = 0.37875224\n",
      "Iteration 4, loss = 0.33838052\n",
      "Iteration 5, loss = 0.31476023\n",
      "Iteration 6, loss = 0.29115034\n",
      "Iteration 7, loss = 0.27688820\n",
      "Iteration 8, loss = 0.26601045\n",
      "Iteration 9, loss = 0.25808766\n",
      "Iteration 10, loss = 0.25087584\n",
      "Iteration 11, loss = 0.24406063\n",
      "Iteration 1, loss = 0.60420790\n",
      "Iteration 2, loss = 0.45282048\n",
      "Iteration 3, loss = 0.37256499\n",
      "Iteration 4, loss = 0.33110591\n",
      "Iteration 5, loss = 0.30652731\n",
      "Iteration 6, loss = 0.29063821\n",
      "Iteration 7, loss = 0.27720641\n",
      "Iteration 8, loss = 0.26534762\n",
      "Iteration 9, loss = 0.25672328\n",
      "Iteration 10, loss = 0.25015397\n",
      "Iteration 11, loss = 0.24439860\n",
      "Iteration 1, loss = 0.60172239\n",
      "Iteration 2, loss = 0.45292075\n",
      "Iteration 3, loss = 0.37135249\n",
      "Iteration 4, loss = 0.33366560\n",
      "Iteration 5, loss = 0.30927557\n",
      "Iteration 6, loss = 0.29263338\n",
      "Iteration 7, loss = 0.27880321\n",
      "Iteration 8, loss = 0.26874264\n",
      "Iteration 9, loss = 0.25916219\n",
      "Iteration 10, loss = 0.25904162\n",
      "Iteration 11, loss = 0.24633747\n",
      "Iteration 1, loss = 0.58478555\n",
      "Iteration 2, loss = 0.42737104\n",
      "Iteration 3, loss = 0.36075728\n",
      "Iteration 4, loss = 0.32760170\n",
      "Iteration 5, loss = 0.30927828\n",
      "Iteration 6, loss = 0.30260565\n",
      "Iteration 7, loss = 0.28494113\n",
      "Iteration 8, loss = 0.27795972\n",
      "Iteration 9, loss = 0.26703117\n",
      "Iteration 10, loss = 0.25880410\n",
      "Iteration 11, loss = 0.25342187\n",
      "Iteration 1, loss = 0.59564563\n",
      "Iteration 2, loss = 0.43933971\n",
      "Iteration 3, loss = 0.36199154\n",
      "Iteration 4, loss = 0.32615561\n",
      "Iteration 5, loss = 0.29815079\n",
      "Iteration 6, loss = 0.28319913\n",
      "Iteration 7, loss = 0.27219599\n",
      "Iteration 8, loss = 0.26017278\n",
      "Iteration 9, loss = 0.25136105\n",
      "Iteration 10, loss = 0.24647524\n",
      "Iteration 11, loss = 0.23880398\n",
      "Iteration 1, loss = 0.60415731\n",
      "Iteration 2, loss = 0.45801534\n",
      "Iteration 3, loss = 0.37836804\n",
      "Iteration 4, loss = 0.33862001\n",
      "Iteration 5, loss = 0.31634262\n",
      "Iteration 6, loss = 0.29596388\n",
      "Iteration 7, loss = 0.28795300\n",
      "Iteration 8, loss = 0.27368069\n",
      "Iteration 9, loss = 0.26520273\n",
      "Iteration 10, loss = 0.25969363\n",
      "Iteration 11, loss = 0.25222244\n",
      "Iteration 1, loss = 0.60421516\n",
      "Iteration 2, loss = 0.45126022\n",
      "Iteration 3, loss = 0.37308494\n",
      "Iteration 4, loss = 0.33597533\n",
      "Iteration 5, loss = 0.31300567\n",
      "Iteration 6, loss = 0.29473513\n",
      "Iteration 7, loss = 0.28471613\n",
      "Iteration 8, loss = 0.27120529\n",
      "Iteration 9, loss = 0.26333731\n",
      "Iteration 10, loss = 0.25842386\n",
      "Iteration 11, loss = 0.24994493\n",
      "Iteration 1, loss = 0.57196534\n",
      "Iteration 2, loss = 0.42418134\n",
      "Iteration 3, loss = 0.36317703\n",
      "Iteration 4, loss = 0.33278482\n",
      "Iteration 5, loss = 0.31082314\n",
      "Iteration 6, loss = 0.29425048\n",
      "Iteration 7, loss = 0.28013047\n",
      "Iteration 8, loss = 0.26833837\n",
      "Iteration 9, loss = 0.25917804\n",
      "Iteration 10, loss = 0.25225433\n",
      "Iteration 11, loss = 0.24550115\n",
      "Iteration 1, loss = 0.59402783\n",
      "Iteration 2, loss = 0.44626549\n",
      "Iteration 3, loss = 0.36997149\n",
      "Iteration 4, loss = 0.33510858\n",
      "Iteration 5, loss = 0.31055764\n",
      "Iteration 6, loss = 0.29370843\n",
      "Iteration 7, loss = 0.28161215\n",
      "Iteration 8, loss = 0.27076292\n",
      "Iteration 9, loss = 0.26488203\n",
      "Iteration 10, loss = 0.25589417\n",
      "Iteration 11, loss = 0.24953237\n"
     ]
    }
   ],
   "source": [
    "table, results_table, full_results = get_results(train_dfs, test_data, classifiers)"
   ]
  },
  {
   "cell_type": "markdown",
   "metadata": {},
   "source": [
    "### <font color='purple'> Results "
   ]
  },
  {
   "cell_type": "code",
   "execution_count": 22,
   "metadata": {},
   "outputs": [
    {
     "data": {
      "text/html": [
       "<div>\n",
       "<style scoped>\n",
       "    .dataframe tbody tr th:only-of-type {\n",
       "        vertical-align: middle;\n",
       "    }\n",
       "\n",
       "    .dataframe tbody tr th {\n",
       "        vertical-align: top;\n",
       "    }\n",
       "\n",
       "    .dataframe thead th {\n",
       "        text-align: right;\n",
       "    }\n",
       "</style>\n",
       "<table border=\"1\" class=\"dataframe\">\n",
       "  <thead>\n",
       "    <tr style=\"text-align: right;\">\n",
       "      <th></th>\n",
       "      <th>classifiers</th>\n",
       "      <th>accuracy</th>\n",
       "      <th>accuracy_std</th>\n",
       "      <th>precision</th>\n",
       "      <th>precision_std</th>\n",
       "      <th>recall</th>\n",
       "      <th>recall_std</th>\n",
       "      <th>f1</th>\n",
       "      <th>f1_std</th>\n",
       "      <th>auc</th>\n",
       "      <th>auc_std</th>\n",
       "    </tr>\n",
       "  </thead>\n",
       "  <tbody>\n",
       "    <tr>\n",
       "      <th>0</th>\n",
       "      <td>GaussianNB</td>\n",
       "      <td>0.904</td>\n",
       "      <td>0.000</td>\n",
       "      <td>0.955</td>\n",
       "      <td>0.001</td>\n",
       "      <td>0.849</td>\n",
       "      <td>0.00</td>\n",
       "      <td>0.899</td>\n",
       "      <td>0.000</td>\n",
       "      <td>0.974</td>\n",
       "      <td>0.000</td>\n",
       "    </tr>\n",
       "    <tr>\n",
       "      <th>1</th>\n",
       "      <td>LogisticRegression</td>\n",
       "      <td>0.951</td>\n",
       "      <td>0.001</td>\n",
       "      <td>0.912</td>\n",
       "      <td>0.001</td>\n",
       "      <td>1.000</td>\n",
       "      <td>0.00</td>\n",
       "      <td>0.954</td>\n",
       "      <td>0.001</td>\n",
       "      <td>0.983</td>\n",
       "      <td>0.000</td>\n",
       "    </tr>\n",
       "    <tr>\n",
       "      <th>2</th>\n",
       "      <td>KNeighborsClassifier</td>\n",
       "      <td>0.890</td>\n",
       "      <td>0.001</td>\n",
       "      <td>0.979</td>\n",
       "      <td>0.002</td>\n",
       "      <td>0.797</td>\n",
       "      <td>0.00</td>\n",
       "      <td>0.879</td>\n",
       "      <td>0.001</td>\n",
       "      <td>0.894</td>\n",
       "      <td>0.009</td>\n",
       "    </tr>\n",
       "    <tr>\n",
       "      <th>3</th>\n",
       "      <td>DecisionTreeClassifier</td>\n",
       "      <td>0.934</td>\n",
       "      <td>0.009</td>\n",
       "      <td>0.928</td>\n",
       "      <td>0.000</td>\n",
       "      <td>0.941</td>\n",
       "      <td>0.02</td>\n",
       "      <td>0.934</td>\n",
       "      <td>0.009</td>\n",
       "      <td>0.936</td>\n",
       "      <td>0.013</td>\n",
       "    </tr>\n",
       "    <tr>\n",
       "      <th>4</th>\n",
       "      <td>SVC</td>\n",
       "      <td>0.956</td>\n",
       "      <td>0.001</td>\n",
       "      <td>0.919</td>\n",
       "      <td>0.002</td>\n",
       "      <td>1.000</td>\n",
       "      <td>0.00</td>\n",
       "      <td>0.958</td>\n",
       "      <td>0.001</td>\n",
       "      <td>0.981</td>\n",
       "      <td>0.000</td>\n",
       "    </tr>\n",
       "    <tr>\n",
       "      <th>5</th>\n",
       "      <td>MLPClassifier</td>\n",
       "      <td>0.945</td>\n",
       "      <td>0.014</td>\n",
       "      <td>0.901</td>\n",
       "      <td>0.022</td>\n",
       "      <td>1.000</td>\n",
       "      <td>0.00</td>\n",
       "      <td>0.948</td>\n",
       "      <td>0.012</td>\n",
       "      <td>0.985</td>\n",
       "      <td>0.001</td>\n",
       "    </tr>\n",
       "  </tbody>\n",
       "</table>\n",
       "</div>"
      ],
      "text/plain": [
       "              classifiers  accuracy  accuracy_std  precision  precision_std  \\\n",
       "0              GaussianNB     0.904         0.000      0.955          0.001   \n",
       "1      LogisticRegression     0.951         0.001      0.912          0.001   \n",
       "2    KNeighborsClassifier     0.890         0.001      0.979          0.002   \n",
       "3  DecisionTreeClassifier     0.934         0.009      0.928          0.000   \n",
       "4                     SVC     0.956         0.001      0.919          0.002   \n",
       "5           MLPClassifier     0.945         0.014      0.901          0.022   \n",
       "\n",
       "   recall  recall_std     f1  f1_std    auc  auc_std  \n",
       "0   0.849        0.00  0.899   0.000  0.974    0.000  \n",
       "1   1.000        0.00  0.954   0.001  0.983    0.000  \n",
       "2   0.797        0.00  0.879   0.001  0.894    0.009  \n",
       "3   0.941        0.02  0.934   0.009  0.936    0.013  \n",
       "4   1.000        0.00  0.958   0.001  0.981    0.000  \n",
       "5   1.000        0.00  0.948   0.012  0.985    0.001  "
      ]
     },
     "execution_count": 22,
     "metadata": {},
     "output_type": "execute_result"
    }
   ],
   "source": [
    "results_table"
   ]
  },
  {
   "cell_type": "markdown",
   "metadata": {},
   "source": [
    "### <font color='purple'> ROC Curve "
   ]
  },
  {
   "cell_type": "code",
   "execution_count": 23,
   "metadata": {},
   "outputs": [
    {
     "data": {
      "text/plain": [
       "[0.974, 0.983, 0.894, 0.936, 0.981, 0.985]"
      ]
     },
     "execution_count": 23,
     "metadata": {},
     "output_type": "execute_result"
    }
   ],
   "source": [
    "results_table.auc.to_list()"
   ]
  },
  {
   "cell_type": "code",
   "execution_count": 24,
   "metadata": {},
   "outputs": [],
   "source": [
    "def Extract(lst):\n",
    "    return [item[2] for item in lst]"
   ]
  },
  {
   "cell_type": "code",
   "execution_count": 25,
   "metadata": {},
   "outputs": [],
   "source": [
    "fpr_results = Extract(table.fpr.to_list())\n",
    "tpr_results = Extract(table.tpr.to_list())"
   ]
  },
  {
   "cell_type": "code",
   "execution_count": 26,
   "metadata": {},
   "outputs": [],
   "source": [
    "names = [\"NaiveBayes\", \"LogisticRegression\", \"KNeighborsClassifier\", \"DecisionTreeClassifier\", \n",
    "         \"SVC\", \"MLPClassifier\"]\n",
    "\n",
    "\n",
    "roc_results = {\"Models\": names, \n",
    "              \"auc\": results_table.auc.to_list(), \n",
    "              \"fpr\": fpr_results, \n",
    "              \"tpr\": tpr_results}\n",
    "\n",
    "res = pd.DataFrame.from_dict(roc_results)\n",
    "\n",
    "res.set_index('Models', inplace=True)"
   ]
  },
  {
   "cell_type": "code",
   "execution_count": 27,
   "metadata": {},
   "outputs": [
    {
     "data": {
      "image/png": "[encoded data removed]",
      "text/plain": [
       "<Figure size 576x432 with 1 Axes>"
      ]
     },
     "metadata": {
      "needs_background": "light"
     },
     "output_type": "display_data"
    }
   ],
   "source": [
    "fig = plt.figure(figsize=(8,6))\n",
    "\n",
    "for i in res.index:\n",
    "    plt.plot(res.loc[i]['fpr'], \n",
    "             res.loc[i]['tpr'], \n",
    "             label=\"{}, AUC={:.3f}\".format(i, res.loc[i]['auc']))\n",
    "    \n",
    "plt.plot([0,1], [0,1], color='orange', linestyle='--')\n",
    "\n",
    "plt.xticks(np.arange(0.0, 1.1, step=0.1))\n",
    "plt.xlabel(\"Flase Positive Rate\", fontsize=15)\n",
    "\n",
    "plt.yticks(np.arange(0.0, 1.1, step=0.1))\n",
    "plt.ylabel(\"True Positive Rate\", fontsize=15)\n",
    "\n",
    "plt.title('ROC Curve Analysis', fontweight='bold', fontsize=15)\n",
    "plt.legend(prop={'size':13}, loc='lower right')\n",
    "\n",
    "plt.show()"
   ]
  },
  {
   "cell_type": "markdown",
   "metadata": {},
   "source": [
    "### <font color='purple'> Critical Diagram "
   ]
  },
  {
   "cell_type": "code",
   "execution_count": 28,
   "metadata": {},
   "outputs": [],
   "source": [
    "def compare_results(results, lst_models):      \n",
    "        fried_result = friedmanchisquare(*results)\n",
    "        \n",
    "        ranks = np.array([rankdata(-p) for p in results])\n",
    "        \n",
    "        # Calculating the average ranks.\n",
    "        average_ranks = np.mean(ranks, axis=0)\n",
    "\n",
    "        names = [lst_models[i] + ' - ' + str(round(average_ranks[i], 3)) for i in range(len(average_ranks))]\n",
    "        \n",
    "        # This method computes the critical difference for Nemenyi test with alpha=0.1.\n",
    "        # For some reason, this method only accepts alpha='0.05' or alpha='0.1'.\n",
    "        cd = compute_CD(average_ranks, n=len(results),alpha='0.05', test='nemenyi')\n",
    "        \n",
    "        # This method computes the critical difference for Bonferroni-Dunn test with alpha=0.05.\n",
    "        # For some reason, this method only accepts alpha='0.05' or alpha='0.1'.\n",
    "        cd1 = compute_CD(average_ranks, n=len(results), alpha='0.05', test='bonferroni-dunn')\n",
    "        \n",
    "        return fried_result, ranks, names, (cd, cd1), average_ranks"
   ]
  },
  {
   "cell_type": "code",
   "execution_count": 29,
   "metadata": {},
   "outputs": [],
   "source": [
    "def plot_comparisons(fried_result, names, cd, cd1, average_ranks):    \n",
    "    # This method generates the plot.\n",
    "    graph_ranks(average_ranks, names=names,\n",
    "                        cd=cd, width=10, textspace=1.5)\n",
    "        \n",
    "    plt.title(f'Friedman-Nemenyi={round(fried_result.pvalue, 4)}\\nCD={round(cd, 3)}')\n",
    "    plt.show()\n",
    "    \n",
    "    return"
   ]
  },
  {
   "cell_type": "code",
   "execution_count": 30,
   "metadata": {},
   "outputs": [],
   "source": [
    "names = ['GaussianNB', 'LogisticRegression', 'KNeighborsClassifier', 'DecisionTreeClassifier', \n",
    "         'SVC', 'MLPClassifier']\n",
    "\n",
    "dct_results = {}\n",
    "\n",
    "for n in names:\n",
    "    res = full_results[full_results.classifiers == n].accuracy.to_list()[0]\n",
    "    dct_results[n] = res\n",
    "\n",
    "results = np.c_[dct_results['GaussianNB'], dct_results['LogisticRegression'], dct_results['KNeighborsClassifier'], \n",
    "                dct_results['DecisionTreeClassifier'], dct_results['SVC'], dct_results['MLPClassifier']]\n",
    "\n",
    "fried_result, ranks, names, (cd, cd1), average_ranks = compare_results(results, names)"
   ]
  },
  {
   "cell_type": "code",
   "execution_count": 31,
   "metadata": {},
   "outputs": [
    {
     "data": {
      "text/plain": [
       "[0.9579288025889967,\n",
       " 0.9374325782092773,\n",
       " 0.959546925566343,\n",
       " 0.924487594390507,\n",
       " 0.9336569579288025,\n",
       " 0.9471413160733549,\n",
       " 0.9503775620280475,\n",
       " 0.9228694714131608,\n",
       " 0.9568500539374326,\n",
       " 0.9590075512405609]"
      ]
     },
     "execution_count": 31,
     "metadata": {},
     "output_type": "execute_result"
    }
   ],
   "source": [
    "res"
   ]
  },
  {
   "cell_type": "code",
   "execution_count": 32,
   "metadata": {},
   "outputs": [
    {
     "data": {
      "text/plain": [
       "['GaussianNB - 5.0',\n",
       " 'LogisticRegression - 2.5',\n",
       " 'KNeighborsClassifier - 6.0',\n",
       " 'DecisionTreeClassifier - 3.5',\n",
       " 'SVC - 1.5',\n",
       " 'MLPClassifier - 2.5']"
      ]
     },
     "execution_count": 32,
     "metadata": {},
     "output_type": "execute_result"
    }
   ],
   "source": [
    "names"
   ]
  },
  {
   "cell_type": "code",
   "execution_count": 35,
   "metadata": {},
   "outputs": [],
   "source": [
    "edited_names = [ 'Naive Bayes - 5.0',\n",
    "                 'Logistic Regression - 2.5',\n",
    "                 'KNeighbors Classifier - 6.0',\n",
    "                 'DecisionTree Classifier - 3.5',\n",
    "                 'SVC - 1.5',\n",
    "                 'MLP Classifier - 2.5']"
   ]
  },
  {
   "cell_type": "code",
   "execution_count": 36,
   "metadata": {},
   "outputs": [
    {
     "data": {
      "image/png": "[encoded data removed]",
      "text/plain": [
       "<Figure size 720x140.4 with 1 Axes>"
      ]
     },
     "metadata": {},
     "output_type": "display_data"
    }
   ],
   "source": [
    "plot_comparisons(fried_result, edited_names, cd, cd1, average_ranks)"
   ]
  },
  {
   "cell_type": "markdown",
   "metadata": {},
   "source": [
    "_____________________________"
   ]
  },
  {
   "cell_type": "markdown",
   "metadata": {},
   "source": [
    "### <font color='purple'>Feature Importance "
   ]
  },
  {
   "cell_type": "code",
   "execution_count": 55,
   "metadata": {},
   "outputs": [],
   "source": [
    "import shap\n",
    "import dalex as dx\n",
    "from eli5.sklearn import PermutationImportance\n",
    "from yellowbrick.model_selection import FeatureImportances \n",
    "import eli5"
   ]
  },
  {
   "cell_type": "code",
   "execution_count": 44,
   "metadata": {},
   "outputs": [
    {
     "name": "stdout",
     "output_type": "stream",
     "text": [
      "Nominal Stratitifed Partitioning\n"
     ]
    }
   ],
   "source": [
    "X_train_mm = df_train_mm_scaled[selected_features_list_mm_scaled][:] ## using only selected features \n",
    "X_test_mm = df_test_mm_scaled[selected_features_list_mm_scaled][:]   ## using only selected features \n",
    "\n",
    "test_data = X_test_mm[:]\n",
    "test_data[\"DEAD\"] = y_test\n",
    "\n",
    "train_data = X_train_mm[:]\n",
    "train_data[\"DEAD\"] = y_train\n",
    "\n",
    "train_dfs = cv_partitioner(train_data, cv_partitions, partition_method, \"DEAD\", categoricalOutcome, matchName, randomSeed)"
   ]
  },
  {
   "cell_type": "code",
   "execution_count": 29,
   "metadata": {},
   "outputs": [],
   "source": [
    "classifiers = [GaussianNB(var_smoothing=0.1), LogisticRegression(penalty='l2', C=0.002),\n",
    "               KNeighborsClassifier(n_neighbors=7, leaf_size=40, p=2), \n",
    "               DecisionTreeClassifier(criterion='entropy', max_depth=3), \n",
    "               SVC(kernel='linear', C=0.007, gamma=0.2, degree=3, probability=True, class_weight='balanced'),\n",
    "               MLPClassifier(solver='adam', max_iter=11, verbose=10,learning_rate_init=.003)              \n",
    "              ]"
   ]
  },
  {
   "cell_type": "code",
   "execution_count": 83,
   "metadata": {},
   "outputs": [],
   "source": [
    "def explainability(model, train, test): \n",
    "    X_train = train.drop([\"DEAD\"], axis=1) \n",
    "    y_train = train[\"DEAD\"] \n",
    "    \n",
    "    X_test = test.drop([\"DEAD\"], axis=1) \n",
    "    y_test = test[\"DEAD\"]\n",
    "    \n",
    "    model.fit(X_train, y_train)\n",
    "    \n",
    "    # dalex \n",
    "    exp = dx.Explainer(model, X_test, y_test)\n",
    "    exp.model_parts().plot()\n",
    "    \n",
    "    # Permutation Importance \n",
    "    perm = PermutationImportance(model, random_state=1).fit(X_test, y_test)\n",
    "    fs_scores = eli5.show_weights(perm, feature_names = X_test.columns.tolist())\n",
    "\n",
    "#     viz = FeatureImportances(model) \n",
    "#     viz.fit(X_test, y_test)\n",
    "#     viz.show()\n",
    "    \n",
    "#     explainer = shap.TreeExplainer(model)\n",
    "#     shap_values = explainer.shap_values(X_test)    \n",
    "#     shap.summary_plot(shap_values, X_test, feature_names=X_test.columns)\n",
    "    \n",
    "    return fs_scores\n",
    "    \n"
   ]
  },
  {
   "cell_type": "code",
   "execution_count": 87,
   "metadata": {},
   "outputs": [
    {
     "name": "stdout",
     "output_type": "stream",
     "text": [
      "Iteration 1, loss = 0.60126958\n",
      "Iteration 2, loss = 0.44179063\n",
      "Iteration 3, loss = 0.36595654\n",
      "Iteration 4, loss = 0.32691617\n",
      "Iteration 5, loss = 0.30953643\n",
      "Iteration 6, loss = 0.28643090\n",
      "Iteration 7, loss = 0.27341004\n",
      "Iteration 8, loss = 0.26513609\n",
      "Iteration 9, loss = 0.25648572\n",
      "Iteration 10, loss = 0.25077513\n",
      "Iteration 11, loss = 0.24979380\n",
      "Preparation of a new explainer is initiated\n",
      "\n",
      "  -> data              : 1854 rows 30 cols\n",
      "  -> target variable   : Parameter 'y' was a pandas.Series. Converted to a numpy.ndarray.\n",
      "  -> target variable   : 1854 values\n",
      "  -> model_class       : sklearn.neural_network._multilayer_perceptron.MLPClassifier (default)\n",
      "  -> label             : Not specified, model's class short name will be used. (default)\n",
      "  -> predict function  : <function yhat_proba_default at 0x0000018E5E288670> will be used (default)\n",
      "  -> predict function  : Accepts pandas.DataFrame and numpy.ndarray.\n",
      "  -> predicted values  : min = 2.05e-07, mean = 0.551, max = 1.0\n",
      "  -> model type        : classification will be used (default)\n",
      "  -> residual function : difference between y and yhat (default)\n",
      "  -> residuals         : min = -0.999, mean = -0.0511, max = 0.338\n",
      "  -> model_info        : package sklearn\n",
      "\n",
      "A new explainer has been created!\n"
     ]
    },
    {
     "data": {
      "application/vnd.plotly.v1+json": {
       "config": {
        "displaylogo": false,
        "modeBarButtonsToRemove": [
         "sendDataToCloud",
         "lasso2d",
         "autoScale2d",
         "select2d",
         "zoom2d",
         "pan2d",
         "zoomIn2d",
         "zoomOut2d",
         "resetScale2d",
         "toggleSpikelines",
         "hoverCompareCartesian",
         "hoverClosestCartesian"
        ],
        "plotlyServerURL": "https://plot.ly",
        "staticPlot": false,
        "toImageButtonOptions": {
         "height": null,
         "width": null
        }
       },
       "data": [
        {
         "base": 0.01476934364502459,
         "hoverinfo": "text",
         "hoverlabel": {
          "bgcolor": "rgba(0,0,0,0.8)"
         },
         "hovertext": [
          "Model: MLPClassifier loss after<br>variable: sao2_std is permuted: 0.051<br>Drop-out loss change: +0.037",
          "Model: MLPClassifier loss after<br>variable: respRate_mean is permuted: 0.03<br>Drop-out loss change: +0.015",
          "Model: MLPClassifier loss after<br>variable: skinTemperature_mean is permuted: 0.029<br>Drop-out loss change: +0.015",
          "Model: MLPClassifier loss after<br>variable: sao2_var is permuted: 0.023<br>Drop-out loss change: +0.009",
          "Model: MLPClassifier loss after<br>variable: respRate_std is permuted: 0.023<br>Drop-out loss change: +0.008",
          "Model: MLPClassifier loss after<br>variable: temperature_std is permuted: 0.021<br>Drop-out loss change: +0.006",
          "Model: MLPClassifier loss after<br>variable: D10W_MEAN is permuted: 0.021<br>Drop-out loss change: +0.006",
          "Model: MLPClassifier loss after<br>variable: BIRTH_WEIGHT is permuted: 0.02<br>Drop-out loss change: +0.005",
          "Model: MLPClassifier loss after<br>variable: temperature_mean is permuted: 0.02<br>Drop-out loss change: +0.005",
          "Model: MLPClassifier loss after<br>variable: temperature_var is permuted: 0.018<br>Drop-out loss change: +0.003"
         ],
         "marker": {
          "color": "#46bac2"
         },
         "orientation": "h",
         "showlegend": false,
         "text": [
          "+0.037",
          "+0.015",
          "+0.015",
          "+0.009",
          "+0.008",
          "+0.006",
          "+0.006",
          "+0.005",
          "+0.005",
          "+0.003"
         ],
         "textposition": "outside",
         "type": "bar",
         "x": [
          0.0366413721802665,
          0.015487099428501218,
          0.01452943729453805,
          0.008654955711153944,
          0.00786189610110467,
          0.00619774117534494,
          0.005766005793659646,
          0.00487706899141227,
          0.004808590513123101,
          0.002828566471600593
         ],
         "xaxis": "x",
         "y": [
          "sao2_std",
          "respRate_mean",
          "skinTemperature_mean",
          "sao2_var",
          "respRate_std",
          "temperature_std",
          "D10W_MEAN",
          "BIRTH_WEIGHT",
          "temperature_mean",
          "temperature_var"
         ],
         "yaxis": "y"
        }
       ],
       "layout": {
        "annotations": [
         {
          "font": {
           "size": 16
          },
          "showarrow": false,
          "text": "MLPClassifier",
          "x": 0.5,
          "xanchor": "center",
          "xref": "paper",
          "y": 1,
          "yanchor": "bottom",
          "yref": "paper"
         },
         {
          "font": {
           "size": 16
          },
          "showarrow": false,
          "text": "drop-out loss",
          "x": 0.5,
          "xanchor": "center",
          "xref": "paper",
          "y": 0,
          "yanchor": "top",
          "yref": "paper",
          "yshift": -30
         }
        ],
        "font": {
         "color": "#371ea3"
        },
        "height": 383,
        "margin": {
         "b": 71,
         "r": 30,
         "t": 78
        },
        "shapes": [
         {
          "line": {
           "color": "#371ea3",
           "dash": "dot",
           "width": 1.5
          },
          "type": "line",
          "x0": 0.01476934364502459,
          "x1": 0.01476934364502459,
          "xref": "x",
          "y0": -1,
          "y1": 10,
          "yref": "y"
         }
        ],
        "template": {
         "data": {
          "scatter": [
           {
            "type": "scatter"
           }
          ]
         }
        },
        "title": {
         "text": "Variable Importance",
         "x": 0.15
        },
        "xaxis": {
         "anchor": "y",
         "automargin": true,
         "domain": [
          0,
          1
         ],
         "fixedrange": true,
         "gridwidth": 2,
         "range": [
          0.008093776143718794,
          0.05706075143593096
         ],
         "tickcolor": "white",
         "ticklen": 3,
         "ticks": "outside",
         "type": "linear",
         "zeroline": false
        },
        "yaxis": {
         "anchor": "x",
         "automargin": true,
         "autorange": "reversed",
         "domain": [
          0,
          1
         ],
         "fixedrange": true,
         "gridwidth": 2,
         "tickcolor": "white",
         "ticklen": 10,
         "ticks": "outside",
         "type": "category"
        }
       }
      },
      "text/html": [
       "<div>                            <div id=\"aa93a0dc-1b9d-488b-bad1-bf80a0132d95\" class=\"plotly-graph-div\" style=\"height:383.0px; width:100%;\"></div>            <script type=\"text/javascript\">                require([\"plotly\"], function(Plotly) {                    window.PLOTLYENV=window.PLOTLYENV || {};                                    if (document.getElementById(\"aa93a0dc-1b9d-488b-bad1-bf80a0132d95\")) {                    Plotly.newPlot(                        \"aa93a0dc-1b9d-488b-bad1-bf80a0132d95\",                        [{\"base\":0.01476934364502459,\"hoverinfo\":\"text\",\"hoverlabel\":{\"bgcolor\":\"rgba(0,0,0,0.8)\"},\"hovertext\":[\"Model: MLPClassifier loss after<br>variable: sao2_std is permuted: 0.051<br>Drop-out loss change: +0.037\",\"Model: MLPClassifier loss after<br>variable: respRate_mean is permuted: 0.03<br>Drop-out loss change: +0.015\",\"Model: MLPClassifier loss after<br>variable: skinTemperature_mean is permuted: 0.029<br>Drop-out loss change: +0.015\",\"Model: MLPClassifier loss after<br>variable: sao2_var is permuted: 0.023<br>Drop-out loss change: +0.009\",\"Model: MLPClassifier loss after<br>variable: respRate_std is permuted: 0.023<br>Drop-out loss change: +0.008\",\"Model: MLPClassifier loss after<br>variable: temperature_std is permuted: 0.021<br>Drop-out loss change: +0.006\",\"Model: MLPClassifier loss after<br>variable: D10W_MEAN is permuted: 0.021<br>Drop-out loss change: +0.006\",\"Model: MLPClassifier loss after<br>variable: BIRTH_WEIGHT is permuted: 0.02<br>Drop-out loss change: +0.005\",\"Model: MLPClassifier loss after<br>variable: temperature_mean is permuted: 0.02<br>Drop-out loss change: +0.005\",\"Model: MLPClassifier loss after<br>variable: temperature_var is permuted: 0.018<br>Drop-out loss change: +0.003\"],\"marker\":{\"color\":\"#46bac2\"},\"orientation\":\"h\",\"showlegend\":false,\"text\":[\"+0.037\",\"+0.015\",\"+0.015\",\"+0.009\",\"+0.008\",\"+0.006\",\"+0.006\",\"+0.005\",\"+0.005\",\"+0.003\"],\"textposition\":\"outside\",\"type\":\"bar\",\"x\":[0.0366413721802665,0.015487099428501218,0.01452943729453805,0.008654955711153944,0.00786189610110467,0.00619774117534494,0.005766005793659646,0.00487706899141227,0.004808590513123101,0.002828566471600593],\"xaxis\":\"x\",\"y\":[\"sao2_std\",\"respRate_mean\",\"skinTemperature_mean\",\"sao2_var\",\"respRate_std\",\"temperature_std\",\"D10W_MEAN\",\"BIRTH_WEIGHT\",\"temperature_mean\",\"temperature_var\"],\"yaxis\":\"y\"}],                        {\"annotations\":[{\"font\":{\"size\":16},\"showarrow\":false,\"text\":\"MLPClassifier\",\"x\":0.5,\"xanchor\":\"center\",\"xref\":\"paper\",\"y\":1.0,\"yanchor\":\"bottom\",\"yref\":\"paper\"},{\"font\":{\"size\":16},\"showarrow\":false,\"text\":\"drop-out loss\",\"x\":0.5,\"xanchor\":\"center\",\"xref\":\"paper\",\"y\":0,\"yanchor\":\"top\",\"yref\":\"paper\",\"yshift\":-30}],\"font\":{\"color\":\"#371ea3\"},\"height\":383.0,\"margin\":{\"b\":71,\"r\":30,\"t\":78},\"shapes\":[{\"line\":{\"color\":\"#371ea3\",\"dash\":\"dot\",\"width\":1.5},\"type\":\"line\",\"x0\":0.01476934364502459,\"x1\":0.01476934364502459,\"xref\":\"x\",\"y0\":-1,\"y1\":10,\"yref\":\"y\"}],\"template\":{\"data\":{\"scatter\":[{\"type\":\"scatter\"}]}},\"title\":{\"text\":\"Variable Importance\",\"x\":0.15},\"xaxis\":{\"anchor\":\"y\",\"automargin\":true,\"domain\":[0.0,1.0],\"fixedrange\":true,\"gridwidth\":2,\"range\":[0.008093776143718794,0.05706075143593096],\"tickcolor\":\"white\",\"ticklen\":3,\"ticks\":\"outside\",\"type\":\"linear\",\"zeroline\":false},\"yaxis\":{\"anchor\":\"x\",\"automargin\":true,\"autorange\":\"reversed\",\"domain\":[0.0,1.0],\"fixedrange\":true,\"gridwidth\":2,\"tickcolor\":\"white\",\"ticklen\":10,\"ticks\":\"outside\",\"type\":\"category\"}},                        {\"displaylogo\": false, \"staticPlot\": false, \"toImageButtonOptions\": {\"height\": null, \"width\": null}, \"modeBarButtonsToRemove\": [\"sendDataToCloud\", \"lasso2d\", \"autoScale2d\", \"select2d\", \"zoom2d\", \"pan2d\", \"zoomIn2d\", \"zoomOut2d\", \"resetScale2d\", \"toggleSpikelines\", \"hoverCompareCartesian\", \"hoverClosestCartesian\"], \"responsive\": true}                    ).then(function(){\n",
       "                            \n",
       "var gd = document.getElementById('aa93a0dc-1b9d-488b-bad1-bf80a0132d95');\n",
       "var x = new MutationObserver(function (mutations, observer) {{\n",
       "        var display = window.getComputedStyle(gd).display;\n",
       "        if (!display || display === 'none') {{\n",
       "            console.log([gd, 'removed!']);\n",
       "            Plotly.purge(gd);\n",
       "            observer.disconnect();\n",
       "        }}\n",
       "}});\n",
       "\n",
       "// Listen for the removal of the full notebook cells\n",
       "var notebookContainer = gd.closest('#notebook-container');\n",
       "if (notebookContainer) {{\n",
       "    x.observe(notebookContainer, {childList: true});\n",
       "}}\n",
       "\n",
       "// Listen for the clearing of the current output cell\n",
       "var outputEl = gd.closest('.output');\n",
       "if (outputEl) {{\n",
       "    x.observe(outputEl, {childList: true});\n",
       "}}\n",
       "\n",
       "                        })                };                });            </script>        </div>"
      ]
     },
     "metadata": {},
     "output_type": "display_data"
    },
    {
     "data": {
      "text/html": [
       "\n",
       "    <style>\n",
       "    table.eli5-weights tr:hover {\n",
       "        filter: brightness(85%);\n",
       "    }\n",
       "</style>\n",
       "\n",
       "\n",
       "\n",
       "    \n",
       "\n",
       "    \n",
       "\n",
       "    \n",
       "\n",
       "    \n",
       "\n",
       "    \n",
       "\n",
       "    \n",
       "\n",
       "\n",
       "    \n",
       "\n",
       "    \n",
       "\n",
       "    \n",
       "\n",
       "    \n",
       "\n",
       "    \n",
       "\n",
       "    \n",
       "\n",
       "\n",
       "    \n",
       "\n",
       "    \n",
       "\n",
       "    \n",
       "\n",
       "    \n",
       "\n",
       "    \n",
       "        <table class=\"eli5-weights eli5-feature-importances\" style=\"border-collapse: collapse; border: none; margin-top: 0em; table-layout: auto;\">\n",
       "    <thead>\n",
       "    <tr style=\"border: none;\">\n",
       "        <th style=\"padding: 0 1em 0 0.5em; text-align: right; border: none;\">Weight</th>\n",
       "        <th style=\"padding: 0 0.5em 0 0.5em; text-align: left; border: none;\">Feature</th>\n",
       "    </tr>\n",
       "    </thead>\n",
       "    <tbody>\n",
       "    \n",
       "        <tr style=\"background-color: hsl(120, 100.00%, 80.00%); border: none;\">\n",
       "            <td style=\"padding: 0 1em 0 0.5em; text-align: right; border: none;\">\n",
       "                0.0633\n",
       "                \n",
       "                    &plusmn; 0.0111\n",
       "                \n",
       "            </td>\n",
       "            <td style=\"padding: 0 0.5em 0 0.5em; text-align: left; border: none;\">\n",
       "                sao2_std\n",
       "            </td>\n",
       "        </tr>\n",
       "    \n",
       "        <tr style=\"background-color: hsl(120, 100.00%, 83.78%); border: none;\">\n",
       "            <td style=\"padding: 0 1em 0 0.5em; text-align: right; border: none;\">\n",
       "                0.0469\n",
       "                \n",
       "                    &plusmn; 0.0045\n",
       "                \n",
       "            </td>\n",
       "            <td style=\"padding: 0 0.5em 0 0.5em; text-align: left; border: none;\">\n",
       "                skinTemperature_mean\n",
       "            </td>\n",
       "        </tr>\n",
       "    \n",
       "        <tr style=\"background-color: hsl(120, 100.00%, 84.18%); border: none;\">\n",
       "            <td style=\"padding: 0 1em 0 0.5em; text-align: right; border: none;\">\n",
       "                0.0453\n",
       "                \n",
       "                    &plusmn; 0.0043\n",
       "                \n",
       "            </td>\n",
       "            <td style=\"padding: 0 0.5em 0 0.5em; text-align: left; border: none;\">\n",
       "                respRate_mean\n",
       "            </td>\n",
       "        </tr>\n",
       "    \n",
       "        <tr style=\"background-color: hsl(120, 100.00%, 88.78%); border: none;\">\n",
       "            <td style=\"padding: 0 1em 0 0.5em; text-align: right; border: none;\">\n",
       "                0.0277\n",
       "                \n",
       "                    &plusmn; 0.0074\n",
       "                \n",
       "            </td>\n",
       "            <td style=\"padding: 0 0.5em 0 0.5em; text-align: left; border: none;\">\n",
       "                sao2_var\n",
       "            </td>\n",
       "        </tr>\n",
       "    \n",
       "        <tr style=\"background-color: hsl(120, 100.00%, 89.43%); border: none;\">\n",
       "            <td style=\"padding: 0 1em 0 0.5em; text-align: right; border: none;\">\n",
       "                0.0255\n",
       "                \n",
       "                    &plusmn; 0.0041\n",
       "                \n",
       "            </td>\n",
       "            <td style=\"padding: 0 0.5em 0 0.5em; text-align: left; border: none;\">\n",
       "                D10W_MEAN\n",
       "            </td>\n",
       "        </tr>\n",
       "    \n",
       "        <tr style=\"background-color: hsl(120, 100.00%, 89.94%); border: none;\">\n",
       "            <td style=\"padding: 0 1em 0 0.5em; text-align: right; border: none;\">\n",
       "                0.0237\n",
       "                \n",
       "                    &plusmn; 0.0090\n",
       "                \n",
       "            </td>\n",
       "            <td style=\"padding: 0 0.5em 0 0.5em; text-align: left; border: none;\">\n",
       "                respRate_std\n",
       "            </td>\n",
       "        </tr>\n",
       "    \n",
       "        <tr style=\"background-color: hsl(120, 100.00%, 92.56%); border: none;\">\n",
       "            <td style=\"padding: 0 1em 0 0.5em; text-align: right; border: none;\">\n",
       "                0.0154\n",
       "                \n",
       "                    &plusmn; 0.0077\n",
       "                \n",
       "            </td>\n",
       "            <td style=\"padding: 0 0.5em 0 0.5em; text-align: left; border: none;\">\n",
       "                sao2_mean\n",
       "            </td>\n",
       "        </tr>\n",
       "    \n",
       "        <tr style=\"background-color: hsl(120, 100.00%, 92.70%); border: none;\">\n",
       "            <td style=\"padding: 0 1em 0 0.5em; text-align: right; border: none;\">\n",
       "                0.0150\n",
       "                \n",
       "                    &plusmn; 0.0059\n",
       "                \n",
       "            </td>\n",
       "            <td style=\"padding: 0 0.5em 0 0.5em; text-align: left; border: none;\">\n",
       "                BIRTH_WEIGHT\n",
       "            </td>\n",
       "        </tr>\n",
       "    \n",
       "        <tr style=\"background-color: hsl(120, 100.00%, 93.53%); border: none;\">\n",
       "            <td style=\"padding: 0 1em 0 0.5em; text-align: right; border: none;\">\n",
       "                0.0126\n",
       "                \n",
       "                    &plusmn; 0.0043\n",
       "                \n",
       "            </td>\n",
       "            <td style=\"padding: 0 0.5em 0 0.5em; text-align: left; border: none;\">\n",
       "                temperature_mean\n",
       "            </td>\n",
       "        </tr>\n",
       "    \n",
       "        <tr style=\"background-color: hsl(120, 100.00%, 93.57%); border: none;\">\n",
       "            <td style=\"padding: 0 1em 0 0.5em; text-align: right; border: none;\">\n",
       "                0.0125\n",
       "                \n",
       "                    &plusmn; 0.0037\n",
       "                \n",
       "            </td>\n",
       "            <td style=\"padding: 0 0.5em 0 0.5em; text-align: left; border: none;\">\n",
       "                heartRate_mean\n",
       "            </td>\n",
       "        </tr>\n",
       "    \n",
       "        <tr style=\"background-color: hsl(120, 100.00%, 93.81%); border: none;\">\n",
       "            <td style=\"padding: 0 1em 0 0.5em; text-align: right; border: none;\">\n",
       "                0.0119\n",
       "                \n",
       "                    &plusmn; 0.0061\n",
       "                \n",
       "            </td>\n",
       "            <td style=\"padding: 0 0.5em 0 0.5em; text-align: left; border: none;\">\n",
       "                bpCuffMean_mean\n",
       "            </td>\n",
       "        </tr>\n",
       "    \n",
       "        <tr style=\"background-color: hsl(120, 100.00%, 96.43%); border: none;\">\n",
       "            <td style=\"padding: 0 1em 0 0.5em; text-align: right; border: none;\">\n",
       "                0.0054\n",
       "                \n",
       "                    &plusmn; 0.0025\n",
       "                \n",
       "            </td>\n",
       "            <td style=\"padding: 0 0.5em 0 0.5em; text-align: left; border: none;\">\n",
       "                bpCuffDiastolic_mean\n",
       "            </td>\n",
       "        </tr>\n",
       "    \n",
       "        <tr style=\"background-color: hsl(120, 100.00%, 96.48%); border: none;\">\n",
       "            <td style=\"padding: 0 1em 0 0.5em; text-align: right; border: none;\">\n",
       "                0.0053\n",
       "                \n",
       "                    &plusmn; 0.0053\n",
       "                \n",
       "            </td>\n",
       "            <td style=\"padding: 0 0.5em 0 0.5em; text-align: left; border: none;\">\n",
       "                temperature_std\n",
       "            </td>\n",
       "        </tr>\n",
       "    \n",
       "        <tr style=\"background-color: hsl(120, 100.00%, 96.58%); border: none;\">\n",
       "            <td style=\"padding: 0 1em 0 0.5em; text-align: right; border: none;\">\n",
       "                0.0051\n",
       "                \n",
       "                    &plusmn; 0.0038\n",
       "                \n",
       "            </td>\n",
       "            <td style=\"padding: 0 0.5em 0 0.5em; text-align: left; border: none;\">\n",
       "                bpCuffSystolic_var\n",
       "            </td>\n",
       "        </tr>\n",
       "    \n",
       "        <tr style=\"background-color: hsl(120, 100.00%, 97.00%); border: none;\">\n",
       "            <td style=\"padding: 0 1em 0 0.5em; text-align: right; border: none;\">\n",
       "                0.0042\n",
       "                \n",
       "                    &plusmn; 0.0057\n",
       "                \n",
       "            </td>\n",
       "            <td style=\"padding: 0 0.5em 0 0.5em; text-align: left; border: none;\">\n",
       "                bpCuffMean_var\n",
       "            </td>\n",
       "        </tr>\n",
       "    \n",
       "        <tr style=\"background-color: hsl(120, 100.00%, 97.00%); border: none;\">\n",
       "            <td style=\"padding: 0 1em 0 0.5em; text-align: right; border: none;\">\n",
       "                0.0042\n",
       "                \n",
       "                    &plusmn; 0.0044\n",
       "                \n",
       "            </td>\n",
       "            <td style=\"padding: 0 0.5em 0 0.5em; text-align: left; border: none;\">\n",
       "                temperature_var\n",
       "            </td>\n",
       "        </tr>\n",
       "    \n",
       "        <tr style=\"background-color: hsl(120, 100.00%, 97.45%); border: none;\">\n",
       "            <td style=\"padding: 0 1em 0 0.5em; text-align: right; border: none;\">\n",
       "                0.0033\n",
       "                \n",
       "                    &plusmn; 0.0048\n",
       "                \n",
       "            </td>\n",
       "            <td style=\"padding: 0 0.5em 0 0.5em; text-align: left; border: none;\">\n",
       "                bpCuffSystolic_std\n",
       "            </td>\n",
       "        </tr>\n",
       "    \n",
       "        <tr style=\"background-color: hsl(120, 100.00%, 98.26%); border: none;\">\n",
       "            <td style=\"padding: 0 1em 0 0.5em; text-align: right; border: none;\">\n",
       "                0.0019\n",
       "                \n",
       "                    &plusmn; 0.0051\n",
       "                \n",
       "            </td>\n",
       "            <td style=\"padding: 0 0.5em 0 0.5em; text-align: left; border: none;\">\n",
       "                glucometer_std\n",
       "            </td>\n",
       "        </tr>\n",
       "    \n",
       "        <tr style=\"background-color: hsl(120, 100.00%, 98.76%); border: none;\">\n",
       "            <td style=\"padding: 0 1em 0 0.5em; text-align: right; border: none;\">\n",
       "                0.0012\n",
       "                \n",
       "                    &plusmn; 0.0028\n",
       "                \n",
       "            </td>\n",
       "            <td style=\"padding: 0 0.5em 0 0.5em; text-align: left; border: none;\">\n",
       "                bpCuffMean_std\n",
       "            </td>\n",
       "        </tr>\n",
       "    \n",
       "        <tr style=\"background-color: hsl(120, 100.00%, 98.93%); border: none;\">\n",
       "            <td style=\"padding: 0 1em 0 0.5em; text-align: right; border: none;\">\n",
       "                0.0010\n",
       "                \n",
       "                    &plusmn; 0.0021\n",
       "                \n",
       "            </td>\n",
       "            <td style=\"padding: 0 0.5em 0 0.5em; text-align: left; border: none;\">\n",
       "                bpCuffDiastolic_var\n",
       "            </td>\n",
       "        </tr>\n",
       "    \n",
       "    \n",
       "        \n",
       "            <tr style=\"background-color: hsl(120, 100.00%, 98.93%); border: none;\">\n",
       "                <td colspan=\"2\" style=\"padding: 0 0.5em 0 0.5em; text-align: center; border: none; white-space: nowrap;\">\n",
       "                    <i>&hellip; 10 more &hellip;</i>\n",
       "                </td>\n",
       "            </tr>\n",
       "        \n",
       "    \n",
       "    </tbody>\n",
       "</table>\n",
       "    \n",
       "\n",
       "    \n",
       "\n",
       "\n",
       "    \n",
       "\n",
       "    \n",
       "\n",
       "    \n",
       "\n",
       "    \n",
       "\n",
       "    \n",
       "\n",
       "    \n",
       "\n",
       "\n",
       "\n"
      ],
      "text/plain": [
       "<IPython.core.display.HTML object>"
      ]
     },
     "execution_count": 87,
     "metadata": {},
     "output_type": "execute_result"
    }
   ],
   "source": [
    "fs_scores = explainability( MLPClassifier(solver='adam', max_iter=11, verbose=10,learning_rate_init=.003), \n",
    "                           train_dfs[4], test_data)\n",
    "fs_scores"
   ]
  }
 ],
 "metadata": {
  "kernelspec": {
   "display_name": "Python 3",
   "language": "python",
   "name": "python3"
  },
  "language_info": {
   "codemirror_mode": {
    "name": "ipython",
    "version": 3
   },
   "file_extension": ".py",
   "mimetype": "text/x-python",
   "name": "python",
   "nbconvert_exporter": "python",
   "pygments_lexer": "ipython3",
   "version": "3.7.10"
  }
 },
 "nbformat": 4,
 "nbformat_minor": 4
}
