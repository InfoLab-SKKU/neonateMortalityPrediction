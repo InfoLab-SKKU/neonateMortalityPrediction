{
 "cells": [
  {
   "cell_type": "markdown",
   "metadata": {},
   "source": [
    "## <center> <font color='purple'> Comparison Diagram - Single and Static Ensemble ML Models</font></center> \n",
    "#### <center>Firuz Juraev (Sungkyunkwan Unniversity)</center>"
   ]
  },
  {
   "cell_type": "markdown",
   "metadata": {},
   "source": [
    "#### <center><font color='red'> Keywords: Single, Static Ensemble, Mortality Prediction, Classification, Comparison, Barchart, Critical Diagram </font></center>"
   ]
  },
  {
   "cell_type": "code",
   "execution_count": 1,
   "metadata": {},
   "outputs": [],
   "source": [
    "import pandas as pd \n",
    "import seaborn as sns\n",
    "import matplotlib.pyplot as plt\n",
    "import ast\n",
    "import numpy as np \n",
    "sns.set()"
   ]
  },
  {
   "cell_type": "markdown",
   "metadata": {},
   "source": [
    "#### <font color='blue'>Libraries for Critical Diagram "
   ]
  },
  {
   "cell_type": "code",
   "execution_count": 2,
   "metadata": {},
   "outputs": [],
   "source": [
    "from sklearn.model_selection import StratifiedKFold\n",
    "from scipy.stats import wilcoxon, friedmanchisquare, rankdata\n",
    "from Orange.evaluation import compute_CD, graph_ranks\n",
    "from sklearn.metrics import mean_absolute_error"
   ]
  },
  {
   "cell_type": "markdown",
   "metadata": {},
   "source": [
    "### <font color='purple'>Load Results "
   ]
  },
  {
   "cell_type": "code",
   "execution_count": 9,
   "metadata": {},
   "outputs": [],
   "source": [
    "single_results = pd.read_csv(\"single_models_results/single_models_results_optimized.csv\")\n",
    "static_results = pd.read_csv(\"static_models_results/static_ensemble_models_results_optimized.csv\")"
   ]
  },
  {
   "cell_type": "code",
   "execution_count": 42,
   "metadata": {},
   "outputs": [
    {
     "data": {
      "text/html": [
       "<div>\n",
       "<style scoped>\n",
       "    .dataframe tbody tr th:only-of-type {\n",
       "        vertical-align: middle;\n",
       "    }\n",
       "\n",
       "    .dataframe tbody tr th {\n",
       "        vertical-align: top;\n",
       "    }\n",
       "\n",
       "    .dataframe thead th {\n",
       "        text-align: right;\n",
       "    }\n",
       "</style>\n",
       "<table border=\"1\" class=\"dataframe\">\n",
       "  <thead>\n",
       "    <tr style=\"text-align: right;\">\n",
       "      <th></th>\n",
       "      <th>classifiers</th>\n",
       "      <th>accuracy</th>\n",
       "      <th>accuracy_std</th>\n",
       "      <th>precision</th>\n",
       "      <th>precision_std</th>\n",
       "      <th>recall</th>\n",
       "      <th>recall_std</th>\n",
       "      <th>f1</th>\n",
       "      <th>f1_std</th>\n",
       "      <th>auc</th>\n",
       "      <th>auc_std</th>\n",
       "    </tr>\n",
       "  </thead>\n",
       "  <tbody>\n",
       "    <tr>\n",
       "      <th>0</th>\n",
       "      <td>GaussianNB</td>\n",
       "      <td>0.904</td>\n",
       "      <td>0.001</td>\n",
       "      <td>0.955</td>\n",
       "      <td>0.002</td>\n",
       "      <td>0.849</td>\n",
       "      <td>0.003</td>\n",
       "      <td>0.899</td>\n",
       "      <td>0.002</td>\n",
       "      <td>0.974</td>\n",
       "      <td>0.001</td>\n",
       "    </tr>\n",
       "    <tr>\n",
       "      <th>1</th>\n",
       "      <td>LogisticRegression</td>\n",
       "      <td>0.952</td>\n",
       "      <td>0.002</td>\n",
       "      <td>0.912</td>\n",
       "      <td>0.004</td>\n",
       "      <td>1.000</td>\n",
       "      <td>0.000</td>\n",
       "      <td>0.954</td>\n",
       "      <td>0.002</td>\n",
       "      <td>0.983</td>\n",
       "      <td>0.001</td>\n",
       "    </tr>\n",
       "    <tr>\n",
       "      <th>2</th>\n",
       "      <td>KNeighborsClassifier</td>\n",
       "      <td>0.892</td>\n",
       "      <td>0.002</td>\n",
       "      <td>0.985</td>\n",
       "      <td>0.002</td>\n",
       "      <td>0.797</td>\n",
       "      <td>0.004</td>\n",
       "      <td>0.881</td>\n",
       "      <td>0.003</td>\n",
       "      <td>0.892</td>\n",
       "      <td>0.002</td>\n",
       "    </tr>\n",
       "    <tr>\n",
       "      <th>3</th>\n",
       "      <td>DecisionTreeClassifier</td>\n",
       "      <td>0.931</td>\n",
       "      <td>0.002</td>\n",
       "      <td>0.927</td>\n",
       "      <td>0.003</td>\n",
       "      <td>0.934</td>\n",
       "      <td>0.003</td>\n",
       "      <td>0.931</td>\n",
       "      <td>0.002</td>\n",
       "      <td>0.931</td>\n",
       "      <td>0.002</td>\n",
       "    </tr>\n",
       "    <tr>\n",
       "      <th>4</th>\n",
       "      <td>SVC</td>\n",
       "      <td>0.956</td>\n",
       "      <td>0.003</td>\n",
       "      <td>0.919</td>\n",
       "      <td>0.004</td>\n",
       "      <td>1.000</td>\n",
       "      <td>0.000</td>\n",
       "      <td>0.958</td>\n",
       "      <td>0.002</td>\n",
       "      <td>0.981</td>\n",
       "      <td>0.001</td>\n",
       "    </tr>\n",
       "    <tr>\n",
       "      <th>5</th>\n",
       "      <td>MLPClassifier</td>\n",
       "      <td>0.950</td>\n",
       "      <td>0.008</td>\n",
       "      <td>0.909</td>\n",
       "      <td>0.013</td>\n",
       "      <td>1.000</td>\n",
       "      <td>0.000</td>\n",
       "      <td>0.953</td>\n",
       "      <td>0.007</td>\n",
       "      <td>0.985</td>\n",
       "      <td>0.001</td>\n",
       "    </tr>\n",
       "  </tbody>\n",
       "</table>\n",
       "</div>"
      ],
      "text/plain": [
       "              classifiers  accuracy  accuracy_std  precision  precision_std  \\\n",
       "0              GaussianNB     0.904         0.001      0.955          0.002   \n",
       "1      LogisticRegression     0.952         0.002      0.912          0.004   \n",
       "2    KNeighborsClassifier     0.892         0.002      0.985          0.002   \n",
       "3  DecisionTreeClassifier     0.931         0.002      0.927          0.003   \n",
       "4                     SVC     0.956         0.003      0.919          0.004   \n",
       "5           MLPClassifier     0.950         0.008      0.909          0.013   \n",
       "\n",
       "   recall  recall_std     f1  f1_std    auc  auc_std  \n",
       "0   0.849       0.003  0.899   0.002  0.974    0.001  \n",
       "1   1.000       0.000  0.954   0.002  0.983    0.001  \n",
       "2   0.797       0.004  0.881   0.003  0.892    0.002  \n",
       "3   0.934       0.003  0.931   0.002  0.931    0.002  \n",
       "4   1.000       0.000  0.958   0.002  0.981    0.001  \n",
       "5   1.000       0.000  0.953   0.007  0.985    0.001  "
      ]
     },
     "execution_count": 42,
     "metadata": {},
     "output_type": "execute_result"
    }
   ],
   "source": [
    "single_results"
   ]
  },
  {
   "cell_type": "code",
   "execution_count": 43,
   "metadata": {},
   "outputs": [
    {
     "data": {
      "text/html": [
       "<div>\n",
       "<style scoped>\n",
       "    .dataframe tbody tr th:only-of-type {\n",
       "        vertical-align: middle;\n",
       "    }\n",
       "\n",
       "    .dataframe tbody tr th {\n",
       "        vertical-align: top;\n",
       "    }\n",
       "\n",
       "    .dataframe thead th {\n",
       "        text-align: right;\n",
       "    }\n",
       "</style>\n",
       "<table border=\"1\" class=\"dataframe\">\n",
       "  <thead>\n",
       "    <tr style=\"text-align: right;\">\n",
       "      <th></th>\n",
       "      <th>classifiers</th>\n",
       "      <th>accuracy</th>\n",
       "      <th>accuracy_std</th>\n",
       "      <th>precision</th>\n",
       "      <th>precision_std</th>\n",
       "      <th>recall</th>\n",
       "      <th>recall_std</th>\n",
       "      <th>f1</th>\n",
       "      <th>f1_std</th>\n",
       "      <th>auc</th>\n",
       "      <th>auc_std</th>\n",
       "    </tr>\n",
       "  </thead>\n",
       "  <tbody>\n",
       "    <tr>\n",
       "      <th>0</th>\n",
       "      <td>AdaBoostClassifier</td>\n",
       "      <td>0.947</td>\n",
       "      <td>0.003</td>\n",
       "      <td>0.904</td>\n",
       "      <td>0.005</td>\n",
       "      <td>1.000</td>\n",
       "      <td>0.000</td>\n",
       "      <td>0.950</td>\n",
       "      <td>0.003</td>\n",
       "      <td>0.988</td>\n",
       "      <td>0.001</td>\n",
       "    </tr>\n",
       "    <tr>\n",
       "      <th>1</th>\n",
       "      <td>XGBClassifier</td>\n",
       "      <td>0.919</td>\n",
       "      <td>0.012</td>\n",
       "      <td>0.916</td>\n",
       "      <td>0.011</td>\n",
       "      <td>0.922</td>\n",
       "      <td>0.027</td>\n",
       "      <td>0.919</td>\n",
       "      <td>0.013</td>\n",
       "      <td>0.965</td>\n",
       "      <td>0.007</td>\n",
       "    </tr>\n",
       "    <tr>\n",
       "      <th>2</th>\n",
       "      <td>RandomForestClassifier</td>\n",
       "      <td>0.950</td>\n",
       "      <td>0.011</td>\n",
       "      <td>0.919</td>\n",
       "      <td>0.006</td>\n",
       "      <td>0.987</td>\n",
       "      <td>0.026</td>\n",
       "      <td>0.951</td>\n",
       "      <td>0.012</td>\n",
       "      <td>0.983</td>\n",
       "      <td>0.002</td>\n",
       "    </tr>\n",
       "    <tr>\n",
       "      <th>3</th>\n",
       "      <td>GradientBoostingClassifier</td>\n",
       "      <td>0.910</td>\n",
       "      <td>0.018</td>\n",
       "      <td>0.931</td>\n",
       "      <td>0.009</td>\n",
       "      <td>0.885</td>\n",
       "      <td>0.039</td>\n",
       "      <td>0.907</td>\n",
       "      <td>0.020</td>\n",
       "      <td>0.970</td>\n",
       "      <td>0.004</td>\n",
       "    </tr>\n",
       "    <tr>\n",
       "      <th>4</th>\n",
       "      <td>CatBoostClassifier</td>\n",
       "      <td>0.933</td>\n",
       "      <td>0.002</td>\n",
       "      <td>0.931</td>\n",
       "      <td>0.004</td>\n",
       "      <td>0.935</td>\n",
       "      <td>0.003</td>\n",
       "      <td>0.933</td>\n",
       "      <td>0.002</td>\n",
       "      <td>0.979</td>\n",
       "      <td>0.001</td>\n",
       "    </tr>\n",
       "    <tr>\n",
       "      <th>5</th>\n",
       "      <td>LGBMClassifier</td>\n",
       "      <td>0.940</td>\n",
       "      <td>0.002</td>\n",
       "      <td>0.965</td>\n",
       "      <td>0.003</td>\n",
       "      <td>0.914</td>\n",
       "      <td>0.003</td>\n",
       "      <td>0.939</td>\n",
       "      <td>0.002</td>\n",
       "      <td>0.969</td>\n",
       "      <td>0.001</td>\n",
       "    </tr>\n",
       "    <tr>\n",
       "      <th>6</th>\n",
       "      <td>VotingClassifier</td>\n",
       "      <td>0.937</td>\n",
       "      <td>0.012</td>\n",
       "      <td>0.927</td>\n",
       "      <td>0.003</td>\n",
       "      <td>0.947</td>\n",
       "      <td>0.027</td>\n",
       "      <td>0.937</td>\n",
       "      <td>0.013</td>\n",
       "      <td>0.939</td>\n",
       "      <td>0.015</td>\n",
       "    </tr>\n",
       "  </tbody>\n",
       "</table>\n",
       "</div>"
      ],
      "text/plain": [
       "                  classifiers  accuracy  accuracy_std  precision  \\\n",
       "0          AdaBoostClassifier     0.947         0.003      0.904   \n",
       "1               XGBClassifier     0.919         0.012      0.916   \n",
       "2      RandomForestClassifier     0.950         0.011      0.919   \n",
       "3  GradientBoostingClassifier     0.910         0.018      0.931   \n",
       "4          CatBoostClassifier     0.933         0.002      0.931   \n",
       "5              LGBMClassifier     0.940         0.002      0.965   \n",
       "6            VotingClassifier     0.937         0.012      0.927   \n",
       "\n",
       "   precision_std  recall  recall_std     f1  f1_std    auc  auc_std  \n",
       "0          0.005   1.000       0.000  0.950   0.003  0.988    0.001  \n",
       "1          0.011   0.922       0.027  0.919   0.013  0.965    0.007  \n",
       "2          0.006   0.987       0.026  0.951   0.012  0.983    0.002  \n",
       "3          0.009   0.885       0.039  0.907   0.020  0.970    0.004  \n",
       "4          0.004   0.935       0.003  0.933   0.002  0.979    0.001  \n",
       "5          0.003   0.914       0.003  0.939   0.002  0.969    0.001  \n",
       "6          0.003   0.947       0.027  0.937   0.013  0.939    0.015  "
      ]
     },
     "execution_count": 43,
     "metadata": {},
     "output_type": "execute_result"
    }
   ],
   "source": [
    "static_results"
   ]
  },
  {
   "cell_type": "markdown",
   "metadata": {},
   "source": [
    "#### <font color='green'>Save result "
   ]
  },
  {
   "cell_type": "code",
   "execution_count": 44,
   "metadata": {},
   "outputs": [],
   "source": [
    "single_results_file = single_results[:]\n",
    "static_results_file = static_results[:]"
   ]
  },
  {
   "cell_type": "code",
   "execution_count": 45,
   "metadata": {},
   "outputs": [],
   "source": [
    "def change_format(x, name): \n",
    "    name_std = name + \"_std\"\n",
    "    return str(x[name]) + \" ± \" + str(x[name_std])"
   ]
  },
  {
   "cell_type": "code",
   "execution_count": 46,
   "metadata": {},
   "outputs": [],
   "source": [
    "single_results_file[\"accuracy\"] = single_results_file.apply(lambda x: change_format(x, 'accuracy'), axis=1) \n",
    "single_results_file[\"precision\"] = single_results_file.apply(lambda x: change_format(x, 'precision'), axis=1) \n",
    "single_results_file[\"recall\"] = single_results_file.apply(lambda x: change_format(x, 'recall'), axis=1) \n",
    "single_results_file[\"f1\"] = single_results_file.apply(lambda x: change_format(x, 'f1'), axis=1) \n",
    "single_results_file[\"auc\"] = single_results_file.apply(lambda x: change_format(x, 'auc'), axis=1) "
   ]
  },
  {
   "cell_type": "code",
   "execution_count": 47,
   "metadata": {},
   "outputs": [],
   "source": [
    "static_results_file[\"accuracy\"] = static_results_file.apply(lambda x: change_format(x, 'accuracy'), axis=1) \n",
    "static_results_file[\"precision\"] = static_results_file.apply(lambda x: change_format(x, 'precision'), axis=1) \n",
    "static_results_file[\"recall\"] = static_results_file.apply(lambda x: change_format(x, 'recall'), axis=1) \n",
    "static_results_file[\"f1\"] = static_results_file.apply(lambda x: change_format(x, 'f1'), axis=1) \n",
    "static_results_file[\"auc\"] = static_results_file.apply(lambda x: change_format(x, 'auc'), axis=1) "
   ]
  },
  {
   "cell_type": "code",
   "execution_count": 48,
   "metadata": {},
   "outputs": [],
   "source": [
    "single_results_file.drop(['accuracy_std', 'precision_std', 'recall_std', 'f1_std', 'auc_std'], axis=1, inplace=True)\n",
    "static_results_file.drop(['accuracy_std', 'precision_std', 'recall_std', 'f1_std', 'auc_std'], axis=1, inplace=True)"
   ]
  },
  {
   "cell_type": "code",
   "execution_count": 49,
   "metadata": {},
   "outputs": [
    {
     "data": {
      "text/html": [
       "<div>\n",
       "<style scoped>\n",
       "    .dataframe tbody tr th:only-of-type {\n",
       "        vertical-align: middle;\n",
       "    }\n",
       "\n",
       "    .dataframe tbody tr th {\n",
       "        vertical-align: top;\n",
       "    }\n",
       "\n",
       "    .dataframe thead th {\n",
       "        text-align: right;\n",
       "    }\n",
       "</style>\n",
       "<table border=\"1\" class=\"dataframe\">\n",
       "  <thead>\n",
       "    <tr style=\"text-align: right;\">\n",
       "      <th></th>\n",
       "      <th>classifiers</th>\n",
       "      <th>accuracy</th>\n",
       "      <th>precision</th>\n",
       "      <th>recall</th>\n",
       "      <th>f1</th>\n",
       "      <th>auc</th>\n",
       "    </tr>\n",
       "  </thead>\n",
       "  <tbody>\n",
       "    <tr>\n",
       "      <th>0</th>\n",
       "      <td>GaussianNB</td>\n",
       "      <td>0.904 ± 0.001</td>\n",
       "      <td>0.955 ± 0.002</td>\n",
       "      <td>0.849 ± 0.003</td>\n",
       "      <td>0.899 ± 0.002</td>\n",
       "      <td>0.974 ± 0.001</td>\n",
       "    </tr>\n",
       "    <tr>\n",
       "      <th>1</th>\n",
       "      <td>LogisticRegression</td>\n",
       "      <td>0.952 ± 0.002</td>\n",
       "      <td>0.912 ± 0.004</td>\n",
       "      <td>1.0 ± 0.0</td>\n",
       "      <td>0.954 ± 0.002</td>\n",
       "      <td>0.983 ± 0.001</td>\n",
       "    </tr>\n",
       "    <tr>\n",
       "      <th>2</th>\n",
       "      <td>KNeighborsClassifier</td>\n",
       "      <td>0.892 ± 0.002</td>\n",
       "      <td>0.985 ± 0.002</td>\n",
       "      <td>0.797 ± 0.004</td>\n",
       "      <td>0.881 ± 0.003</td>\n",
       "      <td>0.892 ± 0.002</td>\n",
       "    </tr>\n",
       "    <tr>\n",
       "      <th>3</th>\n",
       "      <td>DecisionTreeClassifier</td>\n",
       "      <td>0.931 ± 0.002</td>\n",
       "      <td>0.927 ± 0.003</td>\n",
       "      <td>0.934 ± 0.003</td>\n",
       "      <td>0.931 ± 0.002</td>\n",
       "      <td>0.931 ± 0.002</td>\n",
       "    </tr>\n",
       "    <tr>\n",
       "      <th>4</th>\n",
       "      <td>SVC</td>\n",
       "      <td>0.956 ± 0.003</td>\n",
       "      <td>0.919 ± 0.004</td>\n",
       "      <td>1.0 ± 0.0</td>\n",
       "      <td>0.958 ± 0.002</td>\n",
       "      <td>0.981 ± 0.001</td>\n",
       "    </tr>\n",
       "    <tr>\n",
       "      <th>5</th>\n",
       "      <td>MLPClassifier</td>\n",
       "      <td>0.95 ± 0.008</td>\n",
       "      <td>0.909 ± 0.013</td>\n",
       "      <td>1.0 ± 0.0</td>\n",
       "      <td>0.953 ± 0.007</td>\n",
       "      <td>0.985 ± 0.001</td>\n",
       "    </tr>\n",
       "  </tbody>\n",
       "</table>\n",
       "</div>"
      ],
      "text/plain": [
       "              classifiers       accuracy      precision         recall  \\\n",
       "0              GaussianNB  0.904 ± 0.001  0.955 ± 0.002  0.849 ± 0.003   \n",
       "1      LogisticRegression  0.952 ± 0.002  0.912 ± 0.004      1.0 ± 0.0   \n",
       "2    KNeighborsClassifier  0.892 ± 0.002  0.985 ± 0.002  0.797 ± 0.004   \n",
       "3  DecisionTreeClassifier  0.931 ± 0.002  0.927 ± 0.003  0.934 ± 0.003   \n",
       "4                     SVC  0.956 ± 0.003  0.919 ± 0.004      1.0 ± 0.0   \n",
       "5           MLPClassifier   0.95 ± 0.008  0.909 ± 0.013      1.0 ± 0.0   \n",
       "\n",
       "              f1            auc  \n",
       "0  0.899 ± 0.002  0.974 ± 0.001  \n",
       "1  0.954 ± 0.002  0.983 ± 0.001  \n",
       "2  0.881 ± 0.003  0.892 ± 0.002  \n",
       "3  0.931 ± 0.002  0.931 ± 0.002  \n",
       "4  0.958 ± 0.002  0.981 ± 0.001  \n",
       "5  0.953 ± 0.007  0.985 ± 0.001  "
      ]
     },
     "execution_count": 49,
     "metadata": {},
     "output_type": "execute_result"
    }
   ],
   "source": [
    "single_results_file"
   ]
  },
  {
   "cell_type": "code",
   "execution_count": 50,
   "metadata": {},
   "outputs": [],
   "source": [
    "single_results_file.to_csv(\"single_results_optimized.csv\", index=False)"
   ]
  },
  {
   "cell_type": "code",
   "execution_count": 51,
   "metadata": {},
   "outputs": [],
   "source": [
    "static_results_file.to_csv(\"static_results_optimized.csv\", index=False)"
   ]
  },
  {
   "cell_type": "markdown",
   "metadata": {},
   "source": [
    "___________________________"
   ]
  },
  {
   "cell_type": "code",
   "execution_count": 52,
   "metadata": {},
   "outputs": [],
   "source": [
    "single_results.drop(['accuracy_std', 'precision_std', 'recall_std', 'f1_std', 'auc_std'], axis=1, inplace=True)\n",
    "static_results.drop(['accuracy_std', 'precision_std', 'recall_std', 'f1_std', 'auc_std'], axis=1, inplace=True)"
   ]
  },
  {
   "cell_type": "code",
   "execution_count": 53,
   "metadata": {},
   "outputs": [],
   "source": [
    "single_results.loc[0, 'classifiers'] = \"NaiveBayes\"\n",
    "static_results.loc[6, 'classifiers'] = \"MajorityVoting\""
   ]
  },
  {
   "cell_type": "code",
   "execution_count": 54,
   "metadata": {},
   "outputs": [
    {
     "data": {
      "text/html": [
       "<div>\n",
       "<style scoped>\n",
       "    .dataframe tbody tr th:only-of-type {\n",
       "        vertical-align: middle;\n",
       "    }\n",
       "\n",
       "    .dataframe tbody tr th {\n",
       "        vertical-align: top;\n",
       "    }\n",
       "\n",
       "    .dataframe thead th {\n",
       "        text-align: right;\n",
       "    }\n",
       "</style>\n",
       "<table border=\"1\" class=\"dataframe\">\n",
       "  <thead>\n",
       "    <tr style=\"text-align: right;\">\n",
       "      <th></th>\n",
       "      <th>classifiers</th>\n",
       "      <th>accuracy</th>\n",
       "      <th>precision</th>\n",
       "      <th>recall</th>\n",
       "      <th>f1</th>\n",
       "      <th>auc</th>\n",
       "    </tr>\n",
       "  </thead>\n",
       "  <tbody>\n",
       "    <tr>\n",
       "      <th>0</th>\n",
       "      <td>NaiveBayes</td>\n",
       "      <td>0.904</td>\n",
       "      <td>0.955</td>\n",
       "      <td>0.849</td>\n",
       "      <td>0.899</td>\n",
       "      <td>0.974</td>\n",
       "    </tr>\n",
       "    <tr>\n",
       "      <th>1</th>\n",
       "      <td>LogisticRegression</td>\n",
       "      <td>0.952</td>\n",
       "      <td>0.912</td>\n",
       "      <td>1.000</td>\n",
       "      <td>0.954</td>\n",
       "      <td>0.983</td>\n",
       "    </tr>\n",
       "    <tr>\n",
       "      <th>2</th>\n",
       "      <td>KNeighborsClassifier</td>\n",
       "      <td>0.892</td>\n",
       "      <td>0.985</td>\n",
       "      <td>0.797</td>\n",
       "      <td>0.881</td>\n",
       "      <td>0.892</td>\n",
       "    </tr>\n",
       "    <tr>\n",
       "      <th>3</th>\n",
       "      <td>DecisionTreeClassifier</td>\n",
       "      <td>0.931</td>\n",
       "      <td>0.927</td>\n",
       "      <td>0.934</td>\n",
       "      <td>0.931</td>\n",
       "      <td>0.931</td>\n",
       "    </tr>\n",
       "    <tr>\n",
       "      <th>4</th>\n",
       "      <td>SVC</td>\n",
       "      <td>0.956</td>\n",
       "      <td>0.919</td>\n",
       "      <td>1.000</td>\n",
       "      <td>0.958</td>\n",
       "      <td>0.981</td>\n",
       "    </tr>\n",
       "    <tr>\n",
       "      <th>5</th>\n",
       "      <td>MLPClassifier</td>\n",
       "      <td>0.950</td>\n",
       "      <td>0.909</td>\n",
       "      <td>1.000</td>\n",
       "      <td>0.953</td>\n",
       "      <td>0.985</td>\n",
       "    </tr>\n",
       "  </tbody>\n",
       "</table>\n",
       "</div>"
      ],
      "text/plain": [
       "              classifiers  accuracy  precision  recall     f1    auc\n",
       "0              NaiveBayes     0.904      0.955   0.849  0.899  0.974\n",
       "1      LogisticRegression     0.952      0.912   1.000  0.954  0.983\n",
       "2    KNeighborsClassifier     0.892      0.985   0.797  0.881  0.892\n",
       "3  DecisionTreeClassifier     0.931      0.927   0.934  0.931  0.931\n",
       "4                     SVC     0.956      0.919   1.000  0.958  0.981\n",
       "5           MLPClassifier     0.950      0.909   1.000  0.953  0.985"
      ]
     },
     "execution_count": 54,
     "metadata": {},
     "output_type": "execute_result"
    }
   ],
   "source": [
    "single_results"
   ]
  },
  {
   "cell_type": "code",
   "execution_count": 55,
   "metadata": {},
   "outputs": [
    {
     "data": {
      "text/html": [
       "<div>\n",
       "<style scoped>\n",
       "    .dataframe tbody tr th:only-of-type {\n",
       "        vertical-align: middle;\n",
       "    }\n",
       "\n",
       "    .dataframe tbody tr th {\n",
       "        vertical-align: top;\n",
       "    }\n",
       "\n",
       "    .dataframe thead th {\n",
       "        text-align: right;\n",
       "    }\n",
       "</style>\n",
       "<table border=\"1\" class=\"dataframe\">\n",
       "  <thead>\n",
       "    <tr style=\"text-align: right;\">\n",
       "      <th></th>\n",
       "      <th>classifiers</th>\n",
       "      <th>accuracy</th>\n",
       "      <th>precision</th>\n",
       "      <th>recall</th>\n",
       "      <th>f1</th>\n",
       "      <th>auc</th>\n",
       "    </tr>\n",
       "  </thead>\n",
       "  <tbody>\n",
       "    <tr>\n",
       "      <th>0</th>\n",
       "      <td>AdaBoostClassifier</td>\n",
       "      <td>0.947</td>\n",
       "      <td>0.904</td>\n",
       "      <td>1.000</td>\n",
       "      <td>0.950</td>\n",
       "      <td>0.988</td>\n",
       "    </tr>\n",
       "    <tr>\n",
       "      <th>1</th>\n",
       "      <td>XGBClassifier</td>\n",
       "      <td>0.919</td>\n",
       "      <td>0.916</td>\n",
       "      <td>0.922</td>\n",
       "      <td>0.919</td>\n",
       "      <td>0.965</td>\n",
       "    </tr>\n",
       "    <tr>\n",
       "      <th>2</th>\n",
       "      <td>RandomForestClassifier</td>\n",
       "      <td>0.950</td>\n",
       "      <td>0.919</td>\n",
       "      <td>0.987</td>\n",
       "      <td>0.951</td>\n",
       "      <td>0.983</td>\n",
       "    </tr>\n",
       "    <tr>\n",
       "      <th>3</th>\n",
       "      <td>GradientBoostingClassifier</td>\n",
       "      <td>0.910</td>\n",
       "      <td>0.931</td>\n",
       "      <td>0.885</td>\n",
       "      <td>0.907</td>\n",
       "      <td>0.970</td>\n",
       "    </tr>\n",
       "    <tr>\n",
       "      <th>4</th>\n",
       "      <td>CatBoostClassifier</td>\n",
       "      <td>0.933</td>\n",
       "      <td>0.931</td>\n",
       "      <td>0.935</td>\n",
       "      <td>0.933</td>\n",
       "      <td>0.979</td>\n",
       "    </tr>\n",
       "    <tr>\n",
       "      <th>5</th>\n",
       "      <td>LGBMClassifier</td>\n",
       "      <td>0.940</td>\n",
       "      <td>0.965</td>\n",
       "      <td>0.914</td>\n",
       "      <td>0.939</td>\n",
       "      <td>0.969</td>\n",
       "    </tr>\n",
       "    <tr>\n",
       "      <th>6</th>\n",
       "      <td>MajorityVoting</td>\n",
       "      <td>0.937</td>\n",
       "      <td>0.927</td>\n",
       "      <td>0.947</td>\n",
       "      <td>0.937</td>\n",
       "      <td>0.939</td>\n",
       "    </tr>\n",
       "  </tbody>\n",
       "</table>\n",
       "</div>"
      ],
      "text/plain": [
       "                  classifiers  accuracy  precision  recall     f1    auc\n",
       "0          AdaBoostClassifier     0.947      0.904   1.000  0.950  0.988\n",
       "1               XGBClassifier     0.919      0.916   0.922  0.919  0.965\n",
       "2      RandomForestClassifier     0.950      0.919   0.987  0.951  0.983\n",
       "3  GradientBoostingClassifier     0.910      0.931   0.885  0.907  0.970\n",
       "4          CatBoostClassifier     0.933      0.931   0.935  0.933  0.979\n",
       "5              LGBMClassifier     0.940      0.965   0.914  0.939  0.969\n",
       "6              MajorityVoting     0.937      0.927   0.947  0.937  0.939"
      ]
     },
     "execution_count": 55,
     "metadata": {},
     "output_type": "execute_result"
    }
   ],
   "source": [
    "static_results"
   ]
  },
  {
   "cell_type": "code",
   "execution_count": 56,
   "metadata": {},
   "outputs": [],
   "source": [
    "single_results.set_index('classifiers',inplace=True)\n",
    "static_results.set_index('classifiers',inplace=True)"
   ]
  },
  {
   "cell_type": "code",
   "execution_count": 57,
   "metadata": {},
   "outputs": [],
   "source": [
    "single_results.rename(columns={\"accuracy\": \"Accuracy\", \"precision\": \"Precision\", \n",
    "                          \"recall\":\"Recall\", \"f1\": \"F1\", \"auc\": \"AUC\"}, inplace=True)\n",
    "\n",
    "static_results.rename(columns={\"accuracy\": \"Accuracy\", \"precision\": \"Precision\", \n",
    "                          \"recall\":\"Recall\", \"f1\": \"F1\", \"auc\": \"AUC\"}, inplace=True)"
   ]
  },
  {
   "cell_type": "code",
   "execution_count": 58,
   "metadata": {},
   "outputs": [],
   "source": [
    "sns.set(rc={'figure.figsize':(9,5)})\n",
    "sns.set_style(\"whitegrid\")"
   ]
  },
  {
   "cell_type": "code",
   "execution_count": 60,
   "metadata": {},
   "outputs": [
    {
     "data": {
      "text/plain": [
       "(0.5, 1.0)"
      ]
     },
     "execution_count": 60,
     "metadata": {},
     "output_type": "execute_result"
    },
    {
     "data": {
      "image/png": "[encoded data removed]",
      "text/plain": [
       "<Figure size 648x360 with 1 Axes>"
      ]
     },
     "metadata": {},
     "output_type": "display_data"
    }
   ],
   "source": [
    "ax = single_results.T.plot.bar(rot=0, legend=True)\n",
    "ax.legend(bbox_to_anchor=(1.0, 1.0))\n",
    "ax.set_ylim(0.5, 1)"
   ]
  },
  {
   "cell_type": "code",
   "execution_count": 61,
   "metadata": {},
   "outputs": [
    {
     "data": {
      "text/plain": [
       "(0.5, 1.0)"
      ]
     },
     "execution_count": 61,
     "metadata": {},
     "output_type": "execute_result"
    },
    {
     "data": {
      "image/png": "[encoded data removed]",
      "text/plain": [
       "<Figure size 648x360 with 1 Axes>"
      ]
     },
     "metadata": {},
     "output_type": "display_data"
    }
   ],
   "source": [
    "ax = static_results.T.plot.bar(rot=0, legend=True)\n",
    "ax.legend(bbox_to_anchor=(1.0, 1.0))\n",
    "ax.set_ylim(0.5, 1)"
   ]
  },
  {
   "cell_type": "code",
   "execution_count": 62,
   "metadata": {},
   "outputs": [],
   "source": [
    "single_results[\"Type\"] = \"Single\"\n",
    "static_results[\"Type\"] = \"Static Ensemble\""
   ]
  },
  {
   "cell_type": "code",
   "execution_count": 63,
   "metadata": {},
   "outputs": [],
   "source": [
    "joinDF = pd.concat([single_results, static_results])"
   ]
  },
  {
   "cell_type": "code",
   "execution_count": 64,
   "metadata": {},
   "outputs": [
    {
     "data": {
      "text/html": [
       "<div>\n",
       "<style scoped>\n",
       "    .dataframe tbody tr th:only-of-type {\n",
       "        vertical-align: middle;\n",
       "    }\n",
       "\n",
       "    .dataframe tbody tr th {\n",
       "        vertical-align: top;\n",
       "    }\n",
       "\n",
       "    .dataframe thead th {\n",
       "        text-align: right;\n",
       "    }\n",
       "</style>\n",
       "<table border=\"1\" class=\"dataframe\">\n",
       "  <thead>\n",
       "    <tr style=\"text-align: right;\">\n",
       "      <th></th>\n",
       "      <th>Accuracy</th>\n",
       "      <th>Precision</th>\n",
       "      <th>Recall</th>\n",
       "      <th>F1</th>\n",
       "      <th>AUC</th>\n",
       "      <th>Type</th>\n",
       "    </tr>\n",
       "    <tr>\n",
       "      <th>classifiers</th>\n",
       "      <th></th>\n",
       "      <th></th>\n",
       "      <th></th>\n",
       "      <th></th>\n",
       "      <th></th>\n",
       "      <th></th>\n",
       "    </tr>\n",
       "  </thead>\n",
       "  <tbody>\n",
       "    <tr>\n",
       "      <th>NaiveBayes</th>\n",
       "      <td>0.904</td>\n",
       "      <td>0.955</td>\n",
       "      <td>0.849</td>\n",
       "      <td>0.899</td>\n",
       "      <td>0.974</td>\n",
       "      <td>Single</td>\n",
       "    </tr>\n",
       "    <tr>\n",
       "      <th>LogisticRegression</th>\n",
       "      <td>0.952</td>\n",
       "      <td>0.912</td>\n",
       "      <td>1.000</td>\n",
       "      <td>0.954</td>\n",
       "      <td>0.983</td>\n",
       "      <td>Single</td>\n",
       "    </tr>\n",
       "    <tr>\n",
       "      <th>KNeighborsClassifier</th>\n",
       "      <td>0.892</td>\n",
       "      <td>0.985</td>\n",
       "      <td>0.797</td>\n",
       "      <td>0.881</td>\n",
       "      <td>0.892</td>\n",
       "      <td>Single</td>\n",
       "    </tr>\n",
       "    <tr>\n",
       "      <th>DecisionTreeClassifier</th>\n",
       "      <td>0.931</td>\n",
       "      <td>0.927</td>\n",
       "      <td>0.934</td>\n",
       "      <td>0.931</td>\n",
       "      <td>0.931</td>\n",
       "      <td>Single</td>\n",
       "    </tr>\n",
       "    <tr>\n",
       "      <th>SVC</th>\n",
       "      <td>0.956</td>\n",
       "      <td>0.919</td>\n",
       "      <td>1.000</td>\n",
       "      <td>0.958</td>\n",
       "      <td>0.981</td>\n",
       "      <td>Single</td>\n",
       "    </tr>\n",
       "    <tr>\n",
       "      <th>MLPClassifier</th>\n",
       "      <td>0.950</td>\n",
       "      <td>0.909</td>\n",
       "      <td>1.000</td>\n",
       "      <td>0.953</td>\n",
       "      <td>0.985</td>\n",
       "      <td>Single</td>\n",
       "    </tr>\n",
       "    <tr>\n",
       "      <th>AdaBoostClassifier</th>\n",
       "      <td>0.947</td>\n",
       "      <td>0.904</td>\n",
       "      <td>1.000</td>\n",
       "      <td>0.950</td>\n",
       "      <td>0.988</td>\n",
       "      <td>Static Ensemble</td>\n",
       "    </tr>\n",
       "    <tr>\n",
       "      <th>XGBClassifier</th>\n",
       "      <td>0.919</td>\n",
       "      <td>0.916</td>\n",
       "      <td>0.922</td>\n",
       "      <td>0.919</td>\n",
       "      <td>0.965</td>\n",
       "      <td>Static Ensemble</td>\n",
       "    </tr>\n",
       "    <tr>\n",
       "      <th>RandomForestClassifier</th>\n",
       "      <td>0.950</td>\n",
       "      <td>0.919</td>\n",
       "      <td>0.987</td>\n",
       "      <td>0.951</td>\n",
       "      <td>0.983</td>\n",
       "      <td>Static Ensemble</td>\n",
       "    </tr>\n",
       "    <tr>\n",
       "      <th>GradientBoostingClassifier</th>\n",
       "      <td>0.910</td>\n",
       "      <td>0.931</td>\n",
       "      <td>0.885</td>\n",
       "      <td>0.907</td>\n",
       "      <td>0.970</td>\n",
       "      <td>Static Ensemble</td>\n",
       "    </tr>\n",
       "    <tr>\n",
       "      <th>CatBoostClassifier</th>\n",
       "      <td>0.933</td>\n",
       "      <td>0.931</td>\n",
       "      <td>0.935</td>\n",
       "      <td>0.933</td>\n",
       "      <td>0.979</td>\n",
       "      <td>Static Ensemble</td>\n",
       "    </tr>\n",
       "    <tr>\n",
       "      <th>LGBMClassifier</th>\n",
       "      <td>0.940</td>\n",
       "      <td>0.965</td>\n",
       "      <td>0.914</td>\n",
       "      <td>0.939</td>\n",
       "      <td>0.969</td>\n",
       "      <td>Static Ensemble</td>\n",
       "    </tr>\n",
       "    <tr>\n",
       "      <th>MajorityVoting</th>\n",
       "      <td>0.937</td>\n",
       "      <td>0.927</td>\n",
       "      <td>0.947</td>\n",
       "      <td>0.937</td>\n",
       "      <td>0.939</td>\n",
       "      <td>Static Ensemble</td>\n",
       "    </tr>\n",
       "  </tbody>\n",
       "</table>\n",
       "</div>"
      ],
      "text/plain": [
       "                            Accuracy  Precision  Recall     F1    AUC  \\\n",
       "classifiers                                                             \n",
       "NaiveBayes                     0.904      0.955   0.849  0.899  0.974   \n",
       "LogisticRegression             0.952      0.912   1.000  0.954  0.983   \n",
       "KNeighborsClassifier           0.892      0.985   0.797  0.881  0.892   \n",
       "DecisionTreeClassifier         0.931      0.927   0.934  0.931  0.931   \n",
       "SVC                            0.956      0.919   1.000  0.958  0.981   \n",
       "MLPClassifier                  0.950      0.909   1.000  0.953  0.985   \n",
       "AdaBoostClassifier             0.947      0.904   1.000  0.950  0.988   \n",
       "XGBClassifier                  0.919      0.916   0.922  0.919  0.965   \n",
       "RandomForestClassifier         0.950      0.919   0.987  0.951  0.983   \n",
       "GradientBoostingClassifier     0.910      0.931   0.885  0.907  0.970   \n",
       "CatBoostClassifier             0.933      0.931   0.935  0.933  0.979   \n",
       "LGBMClassifier                 0.940      0.965   0.914  0.939  0.969   \n",
       "MajorityVoting                 0.937      0.927   0.947  0.937  0.939   \n",
       "\n",
       "                                       Type  \n",
       "classifiers                                  \n",
       "NaiveBayes                           Single  \n",
       "LogisticRegression                   Single  \n",
       "KNeighborsClassifier                 Single  \n",
       "DecisionTreeClassifier               Single  \n",
       "SVC                                  Single  \n",
       "MLPClassifier                        Single  \n",
       "AdaBoostClassifier          Static Ensemble  \n",
       "XGBClassifier               Static Ensemble  \n",
       "RandomForestClassifier      Static Ensemble  \n",
       "GradientBoostingClassifier  Static Ensemble  \n",
       "CatBoostClassifier          Static Ensemble  \n",
       "LGBMClassifier              Static Ensemble  \n",
       "MajorityVoting              Static Ensemble  "
      ]
     },
     "execution_count": 64,
     "metadata": {},
     "output_type": "execute_result"
    }
   ],
   "source": [
    "joinDF"
   ]
  },
  {
   "cell_type": "code",
   "execution_count": 65,
   "metadata": {},
   "outputs": [],
   "source": [
    "joinDF['classifiers'] = joinDF.index"
   ]
  },
  {
   "cell_type": "code",
   "execution_count": 66,
   "metadata": {},
   "outputs": [],
   "source": [
    "sns.set_theme()\n",
    "sns.set(rc={'figure.figsize':(12,6)})\n",
    "sns.set_style(\"whitegrid\")"
   ]
  },
  {
   "cell_type": "code",
   "execution_count": 67,
   "metadata": {},
   "outputs": [
    {
     "data": {
      "text/plain": [
       "(0.5, 1.0)"
      ]
     },
     "execution_count": 67,
     "metadata": {},
     "output_type": "execute_result"
    },
    {
     "data": {
      "image/png": "[encoded data removed]",
      "text/plain": [
       "<Figure size 864x432 with 1 Axes>"
      ]
     },
     "metadata": {},
     "output_type": "display_data"
    }
   ],
   "source": [
    "ax = sns.barplot(x=\"classifiers\", y=\"Accuracy\", hue=\"Type\", data=joinDF)\n",
    "ax.set_xticklabels(ax.get_xticklabels(), rotation=40, ha=\"right\")\n",
    "\n",
    "ax.legend(bbox_to_anchor=(1.0, 1.0))\n",
    "ax.set_ylim(0.5, 1)"
   ]
  },
  {
   "cell_type": "markdown",
   "metadata": {},
   "source": [
    "## <font color='purple'>Critical Diagram "
   ]
  },
  {
   "cell_type": "code",
   "execution_count": 3,
   "metadata": {},
   "outputs": [],
   "source": [
    "full_single_results = pd.read_csv(\"single_models_results/single_models_results_optimized_extend.csv\")\n",
    "full_static_results = pd.read_csv(\"static_models_results/static_ensemble_models_results_optimized_extend.csv\")"
   ]
  },
  {
   "cell_type": "code",
   "execution_count": 4,
   "metadata": {},
   "outputs": [
    {
     "data": {
      "text/html": [
       "<div>\n",
       "<style scoped>\n",
       "    .dataframe tbody tr th:only-of-type {\n",
       "        vertical-align: middle;\n",
       "    }\n",
       "\n",
       "    .dataframe tbody tr th {\n",
       "        vertical-align: top;\n",
       "    }\n",
       "\n",
       "    .dataframe thead th {\n",
       "        text-align: right;\n",
       "    }\n",
       "</style>\n",
       "<table border=\"1\" class=\"dataframe\">\n",
       "  <thead>\n",
       "    <tr style=\"text-align: right;\">\n",
       "      <th></th>\n",
       "      <th>classifiers</th>\n",
       "      <th>accuracy</th>\n",
       "    </tr>\n",
       "  </thead>\n",
       "  <tbody>\n",
       "    <tr>\n",
       "      <th>0</th>\n",
       "      <td>GaussianNB</td>\n",
       "      <td>[0.9040767386091128, 0.9046762589928058, 0.901...</td>\n",
       "    </tr>\n",
       "    <tr>\n",
       "      <th>1</th>\n",
       "      <td>LogisticRegression</td>\n",
       "      <td>[0.9490407673860911, 0.9538369304556354, 0.950...</td>\n",
       "    </tr>\n",
       "    <tr>\n",
       "      <th>2</th>\n",
       "      <td>KNeighborsClassifier</td>\n",
       "      <td>[0.8914868105515588, 0.8914868105515588, 0.892...</td>\n",
       "    </tr>\n",
       "    <tr>\n",
       "      <th>3</th>\n",
       "      <td>DecisionTreeClassifier</td>\n",
       "      <td>[0.9268585131894485, 0.9298561151079137, 0.931...</td>\n",
       "    </tr>\n",
       "    <tr>\n",
       "      <th>4</th>\n",
       "      <td>SVC</td>\n",
       "      <td>[0.9520383693045563, 0.9592326139088729, 0.955...</td>\n",
       "    </tr>\n",
       "    <tr>\n",
       "      <th>5</th>\n",
       "      <td>MLPClassifier</td>\n",
       "      <td>[0.947242206235012, 0.9376498800959233, 0.9442...</td>\n",
       "    </tr>\n",
       "  </tbody>\n",
       "</table>\n",
       "</div>"
      ],
      "text/plain": [
       "              classifiers                                           accuracy\n",
       "0              GaussianNB  [0.9040767386091128, 0.9046762589928058, 0.901...\n",
       "1      LogisticRegression  [0.9490407673860911, 0.9538369304556354, 0.950...\n",
       "2    KNeighborsClassifier  [0.8914868105515588, 0.8914868105515588, 0.892...\n",
       "3  DecisionTreeClassifier  [0.9268585131894485, 0.9298561151079137, 0.931...\n",
       "4                     SVC  [0.9520383693045563, 0.9592326139088729, 0.955...\n",
       "5           MLPClassifier  [0.947242206235012, 0.9376498800959233, 0.9442..."
      ]
     },
     "execution_count": 4,
     "metadata": {},
     "output_type": "execute_result"
    }
   ],
   "source": [
    "full_single_results"
   ]
  },
  {
   "cell_type": "code",
   "execution_count": 5,
   "metadata": {},
   "outputs": [
    {
     "data": {
      "text/html": [
       "<div>\n",
       "<style scoped>\n",
       "    .dataframe tbody tr th:only-of-type {\n",
       "        vertical-align: middle;\n",
       "    }\n",
       "\n",
       "    .dataframe tbody tr th {\n",
       "        vertical-align: top;\n",
       "    }\n",
       "\n",
       "    .dataframe thead th {\n",
       "        text-align: right;\n",
       "    }\n",
       "</style>\n",
       "<table border=\"1\" class=\"dataframe\">\n",
       "  <thead>\n",
       "    <tr style=\"text-align: right;\">\n",
       "      <th></th>\n",
       "      <th>classifiers</th>\n",
       "      <th>accuracy</th>\n",
       "    </tr>\n",
       "  </thead>\n",
       "  <tbody>\n",
       "    <tr>\n",
       "      <th>0</th>\n",
       "      <td>AdaBoostClassifier</td>\n",
       "      <td>[0.9448441247002398, 0.9460431654676259, 0.950...</td>\n",
       "    </tr>\n",
       "    <tr>\n",
       "      <th>1</th>\n",
       "      <td>XGBClassifier</td>\n",
       "      <td>[0.919664268585132, 0.9316546762589928, 0.9082...</td>\n",
       "    </tr>\n",
       "    <tr>\n",
       "      <th>2</th>\n",
       "      <td>RandomForestClassifier</td>\n",
       "      <td>[0.9574340527577938, 0.9634292565947242, 0.953...</td>\n",
       "    </tr>\n",
       "    <tr>\n",
       "      <th>3</th>\n",
       "      <td>GradientBoostingClassifier</td>\n",
       "      <td>[0.934052757793765, 0.9250599520383693, 0.8896...</td>\n",
       "    </tr>\n",
       "    <tr>\n",
       "      <th>4</th>\n",
       "      <td>CatBoostClassifier</td>\n",
       "      <td>[0.9304556354916067, 0.9370503597122302, 0.931...</td>\n",
       "    </tr>\n",
       "    <tr>\n",
       "      <th>5</th>\n",
       "      <td>LGBMClassifier</td>\n",
       "      <td>[0.9370503597122302, 0.9412470023980816, 0.938...</td>\n",
       "    </tr>\n",
       "    <tr>\n",
       "      <th>6</th>\n",
       "      <td>VotingClassifier</td>\n",
       "      <td>[0.9268585131894485, 0.9304556354916067, 0.932...</td>\n",
       "    </tr>\n",
       "  </tbody>\n",
       "</table>\n",
       "</div>"
      ],
      "text/plain": [
       "                  classifiers  \\\n",
       "0          AdaBoostClassifier   \n",
       "1               XGBClassifier   \n",
       "2      RandomForestClassifier   \n",
       "3  GradientBoostingClassifier   \n",
       "4          CatBoostClassifier   \n",
       "5              LGBMClassifier   \n",
       "6            VotingClassifier   \n",
       "\n",
       "                                            accuracy  \n",
       "0  [0.9448441247002398, 0.9460431654676259, 0.950...  \n",
       "1  [0.919664268585132, 0.9316546762589928, 0.9082...  \n",
       "2  [0.9574340527577938, 0.9634292565947242, 0.953...  \n",
       "3  [0.934052757793765, 0.9250599520383693, 0.8896...  \n",
       "4  [0.9304556354916067, 0.9370503597122302, 0.931...  \n",
       "5  [0.9370503597122302, 0.9412470023980816, 0.938...  \n",
       "6  [0.9268585131894485, 0.9304556354916067, 0.932...  "
      ]
     },
     "execution_count": 5,
     "metadata": {},
     "output_type": "execute_result"
    }
   ],
   "source": [
    "full_static_results"
   ]
  },
  {
   "cell_type": "code",
   "execution_count": 11,
   "metadata": {},
   "outputs": [],
   "source": [
    "full_JoinDF = pd.concat([full_single_results, full_static_results])"
   ]
  },
  {
   "cell_type": "code",
   "execution_count": 12,
   "metadata": {},
   "outputs": [
    {
     "data": {
      "text/html": [
       "<div>\n",
       "<style scoped>\n",
       "    .dataframe tbody tr th:only-of-type {\n",
       "        vertical-align: middle;\n",
       "    }\n",
       "\n",
       "    .dataframe tbody tr th {\n",
       "        vertical-align: top;\n",
       "    }\n",
       "\n",
       "    .dataframe thead th {\n",
       "        text-align: right;\n",
       "    }\n",
       "</style>\n",
       "<table border=\"1\" class=\"dataframe\">\n",
       "  <thead>\n",
       "    <tr style=\"text-align: right;\">\n",
       "      <th></th>\n",
       "      <th>classifiers</th>\n",
       "      <th>accuracy</th>\n",
       "    </tr>\n",
       "  </thead>\n",
       "  <tbody>\n",
       "    <tr>\n",
       "      <th>0</th>\n",
       "      <td>GaussianNB</td>\n",
       "      <td>[0.9040767386091128, 0.9046762589928058, 0.901...</td>\n",
       "    </tr>\n",
       "    <tr>\n",
       "      <th>1</th>\n",
       "      <td>LogisticRegression</td>\n",
       "      <td>[0.9490407673860911, 0.9538369304556354, 0.950...</td>\n",
       "    </tr>\n",
       "    <tr>\n",
       "      <th>2</th>\n",
       "      <td>KNeighborsClassifier</td>\n",
       "      <td>[0.8914868105515588, 0.8914868105515588, 0.892...</td>\n",
       "    </tr>\n",
       "    <tr>\n",
       "      <th>3</th>\n",
       "      <td>DecisionTreeClassifier</td>\n",
       "      <td>[0.9268585131894485, 0.9298561151079137, 0.931...</td>\n",
       "    </tr>\n",
       "    <tr>\n",
       "      <th>4</th>\n",
       "      <td>SVC</td>\n",
       "      <td>[0.9520383693045563, 0.9592326139088729, 0.955...</td>\n",
       "    </tr>\n",
       "    <tr>\n",
       "      <th>5</th>\n",
       "      <td>MLPClassifier</td>\n",
       "      <td>[0.947242206235012, 0.9376498800959233, 0.9442...</td>\n",
       "    </tr>\n",
       "    <tr>\n",
       "      <th>0</th>\n",
       "      <td>AdaBoostClassifier</td>\n",
       "      <td>[0.9448441247002398, 0.9460431654676259, 0.950...</td>\n",
       "    </tr>\n",
       "    <tr>\n",
       "      <th>1</th>\n",
       "      <td>XGBClassifier</td>\n",
       "      <td>[0.919664268585132, 0.9316546762589928, 0.9082...</td>\n",
       "    </tr>\n",
       "    <tr>\n",
       "      <th>2</th>\n",
       "      <td>RandomForestClassifier</td>\n",
       "      <td>[0.9574340527577938, 0.9634292565947242, 0.953...</td>\n",
       "    </tr>\n",
       "    <tr>\n",
       "      <th>3</th>\n",
       "      <td>GradientBoostingClassifier</td>\n",
       "      <td>[0.934052757793765, 0.9250599520383693, 0.8896...</td>\n",
       "    </tr>\n",
       "    <tr>\n",
       "      <th>4</th>\n",
       "      <td>CatBoostClassifier</td>\n",
       "      <td>[0.9304556354916067, 0.9370503597122302, 0.931...</td>\n",
       "    </tr>\n",
       "    <tr>\n",
       "      <th>5</th>\n",
       "      <td>LGBMClassifier</td>\n",
       "      <td>[0.9370503597122302, 0.9412470023980816, 0.938...</td>\n",
       "    </tr>\n",
       "    <tr>\n",
       "      <th>6</th>\n",
       "      <td>VotingClassifier</td>\n",
       "      <td>[0.9268585131894485, 0.9304556354916067, 0.932...</td>\n",
       "    </tr>\n",
       "  </tbody>\n",
       "</table>\n",
       "</div>"
      ],
      "text/plain": [
       "                  classifiers  \\\n",
       "0                  GaussianNB   \n",
       "1          LogisticRegression   \n",
       "2        KNeighborsClassifier   \n",
       "3      DecisionTreeClassifier   \n",
       "4                         SVC   \n",
       "5               MLPClassifier   \n",
       "0          AdaBoostClassifier   \n",
       "1               XGBClassifier   \n",
       "2      RandomForestClassifier   \n",
       "3  GradientBoostingClassifier   \n",
       "4          CatBoostClassifier   \n",
       "5              LGBMClassifier   \n",
       "6            VotingClassifier   \n",
       "\n",
       "                                            accuracy  \n",
       "0  [0.9040767386091128, 0.9046762589928058, 0.901...  \n",
       "1  [0.9490407673860911, 0.9538369304556354, 0.950...  \n",
       "2  [0.8914868105515588, 0.8914868105515588, 0.892...  \n",
       "3  [0.9268585131894485, 0.9298561151079137, 0.931...  \n",
       "4  [0.9520383693045563, 0.9592326139088729, 0.955...  \n",
       "5  [0.947242206235012, 0.9376498800959233, 0.9442...  \n",
       "0  [0.9448441247002398, 0.9460431654676259, 0.950...  \n",
       "1  [0.919664268585132, 0.9316546762589928, 0.9082...  \n",
       "2  [0.9574340527577938, 0.9634292565947242, 0.953...  \n",
       "3  [0.934052757793765, 0.9250599520383693, 0.8896...  \n",
       "4  [0.9304556354916067, 0.9370503597122302, 0.931...  \n",
       "5  [0.9370503597122302, 0.9412470023980816, 0.938...  \n",
       "6  [0.9268585131894485, 0.9304556354916067, 0.932...  "
      ]
     },
     "execution_count": 12,
     "metadata": {},
     "output_type": "execute_result"
    }
   ],
   "source": [
    "full_JoinDF"
   ]
  },
  {
   "cell_type": "code",
   "execution_count": 13,
   "metadata": {},
   "outputs": [
    {
     "name": "stdout",
     "output_type": "stream",
     "text": [
      "<class 'pandas.core.frame.DataFrame'>\n",
      "Int64Index: 13 entries, 0 to 6\n",
      "Data columns (total 2 columns):\n",
      " #   Column       Non-Null Count  Dtype \n",
      "---  ------       --------------  ----- \n",
      " 0   classifiers  13 non-null     object\n",
      " 1   accuracy     13 non-null     object\n",
      "dtypes: object(2)\n",
      "memory usage: 312.0+ bytes\n"
     ]
    }
   ],
   "source": [
    "full_JoinDF.info()"
   ]
  },
  {
   "cell_type": "code",
   "execution_count": 14,
   "metadata": {},
   "outputs": [],
   "source": [
    "def compare_results(results, lst_models):      \n",
    "        fried_result = friedmanchisquare(*results)\n",
    "        \n",
    "        ranks = np.array([rankdata(-p) for p in results])\n",
    "        \n",
    "        # Calculating the average ranks.\n",
    "        average_ranks = np.mean(ranks, axis=0)\n",
    "\n",
    "        names = [lst_models[i] + ' - ' + str(round(average_ranks[i], 3)) for i in range(len(average_ranks))]\n",
    "        \n",
    "        # This method computes the critical difference for Nemenyi test with alpha=0.1.\n",
    "        # For some reason, this method only accepts alpha='0.05' or alpha='0.1'.\n",
    "        cd = compute_CD(average_ranks, n=len(results),alpha='0.05', test='nemenyi')\n",
    "        \n",
    "        return fried_result, ranks, names, cd , average_ranks"
   ]
  },
  {
   "cell_type": "code",
   "execution_count": 15,
   "metadata": {},
   "outputs": [],
   "source": [
    "def plot_comparisons(fried_result, names, cd, average_ranks):    \n",
    "    # This method generates the plot.\n",
    "    graph_ranks(average_ranks, names=names,\n",
    "                        cd=cd, width=10, textspace=1.5)\n",
    "        \n",
    "    plt.title(f'Friedman-Nemenyi={round(fried_result.pvalue, 4)}\\nCD={round(cd, 3)}')\n",
    "    plt.show()\n",
    "    \n",
    "    return"
   ]
  },
  {
   "cell_type": "code",
   "execution_count": 16,
   "metadata": {},
   "outputs": [],
   "source": [
    "names = ['GaussianNB', 'LogisticRegression', 'KNeighborsClassifier', 'DecisionTreeClassifier', \n",
    "         'SVC', 'MLPClassifier', 'AdaBoostClassifier', 'XGBClassifier', 'RandomForestClassifier', \n",
    "         'GradientBoostingClassifier', 'CatBoostClassifier', 'LGBMClassifier', 'VotingClassifier']\n",
    "\n",
    "dct_results = {}\n",
    "\n",
    "for n in names:\n",
    "    res = ast.literal_eval(full_JoinDF[full_JoinDF.classifiers == n].accuracy.to_list()[0])\n",
    "    dct_results[n] = res"
   ]
  },
  {
   "cell_type": "code",
   "execution_count": 22,
   "metadata": {},
   "outputs": [],
   "source": [
    "test = dct_results['LogisticRegression']"
   ]
  },
  {
   "cell_type": "code",
   "execution_count": 23,
   "metadata": {},
   "outputs": [
    {
     "data": {
      "text/plain": [
       "[0.949, 0.954, 0.951, 0.95, 0.948, 0.956, 0.954, 0.952, 0.952, 0.95]"
      ]
     },
     "execution_count": 23,
     "metadata": {},
     "output_type": "execute_result"
    }
   ],
   "source": [
    "[(lambda x: round(x,3))(x) for x in test]"
   ]
  },
  {
   "cell_type": "code",
   "execution_count": 120,
   "metadata": {},
   "outputs": [],
   "source": [
    "results = np.c_[dct_results['GaussianNB'], dct_results['LogisticRegression'], dct_results['KNeighborsClassifier'], \n",
    "                dct_results['DecisionTreeClassifier'], dct_results['SVC'], dct_results['MLPClassifier'], \n",
    "                dct_results['AdaBoostClassifier'], dct_results['XGBClassifier'], dct_results['RandomForestClassifier'], \n",
    "                dct_results['GradientBoostingClassifier'], dct_results['CatBoostClassifier'], dct_results['LGBMClassifier'], \n",
    "                dct_results['VotingClassifier']]\n",
    "\n",
    "fried_result, ranks, names, cd, average_ranks = compare_results(results, names)"
   ]
  },
  {
   "cell_type": "code",
   "execution_count": 121,
   "metadata": {},
   "outputs": [
    {
     "data": {
      "text/plain": [
       "['GaussianNB - 11.3',\n",
       " 'LogisticRegression - 3.4',\n",
       " 'KNeighborsClassifier - 12.9',\n",
       " 'DecisionTreeClassifier - 8.7',\n",
       " 'SVC - 1.9',\n",
       " 'MLPClassifier - 3.5',\n",
       " 'AdaBoostClassifier - 4.6',\n",
       " 'XGBClassifier - 10.2',\n",
       " 'RandomForestClassifier - 3.6',\n",
       " 'GradientBoostingClassifier - 10.7',\n",
       " 'CatBoostClassifier - 7.35',\n",
       " 'LGBMClassifier - 5.8',\n",
       " 'VotingClassifier - 7.05']"
      ]
     },
     "execution_count": 121,
     "metadata": {},
     "output_type": "execute_result"
    }
   ],
   "source": [
    "names"
   ]
  },
  {
   "cell_type": "code",
   "execution_count": 126,
   "metadata": {},
   "outputs": [],
   "source": [
    "edited_names = ['NaiveBayes - 11.3',\n",
    " 'LogisticRegression - 3.4',\n",
    " 'KNeighborsClassifier - 12.9',\n",
    " 'DecisionTreeClassifier - 8.7',\n",
    " 'SVC - 1.9',\n",
    " 'MLPClassifier - 3.5',\n",
    " 'AdaBoostClassifier - 4.6',\n",
    " 'XGBClassifier - 10.2',\n",
    " 'RandomForestClassifier - 3.6',\n",
    " 'GradientBoostingClassifier - 10.7',\n",
    " 'CatBoostClassifier - 7.35',\n",
    " 'LGBMClassifier - 5.8',\n",
    " 'MajorityVoting - 7.05']\n"
   ]
  },
  {
   "cell_type": "code",
   "execution_count": 128,
   "metadata": {},
   "outputs": [
    {
     "data": {
      "image/png": "[encoded data removed]",
      "text/plain": [
       "<Figure size 720x205.2 with 1 Axes>"
      ]
     },
     "metadata": {},
     "output_type": "display_data"
    }
   ],
   "source": [
    "plot_comparisons(fried_result, edited_names, cd, average_ranks)"
   ]
  },
  {
   "cell_type": "code",
   "execution_count": null,
   "metadata": {},
   "outputs": [],
   "source": []
  }
 ],
 "metadata": {
  "kernelspec": {
   "display_name": "Python 3",
   "language": "python",
   "name": "python3"
  },
  "language_info": {
   "codemirror_mode": {
    "name": "ipython",
    "version": 3
   },
   "file_extension": ".py",
   "mimetype": "text/x-python",
   "name": "python",
   "nbconvert_exporter": "python",
   "pygments_lexer": "ipython3",
   "version": "3.7.10"
  }
 },
 "nbformat": 4,
 "nbformat_minor": 4
}
