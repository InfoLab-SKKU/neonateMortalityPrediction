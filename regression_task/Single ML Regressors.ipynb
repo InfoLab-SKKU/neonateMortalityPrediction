{
 "cells": [
  {
   "cell_type": "markdown",
   "metadata": {},
   "source": [
    "## <center><font color=\"purple\">Single ML Regressors - Length of Stay Forecasting </font></center>\n",
    "<center> Firuz Juraev (Sungkyunkwan University) </center>"
   ]
  },
  {
   "cell_type": "markdown",
   "metadata": {},
   "source": [
    "#### <center><font color='green'> Keywords: LOS, Regression</font></center>"
   ]
  },
  {
   "cell_type": "code",
   "execution_count": 1,
   "metadata": {},
   "outputs": [],
   "source": [
    "import pandas as pd\n",
    "import numpy as np \n",
    "import seaborn as sns\n",
    "import matplotlib.pyplot as plt\n",
    "import warnings\n",
    "warnings.filterwarnings('ignore')"
   ]
  },
  {
   "cell_type": "code",
   "execution_count": 2,
   "metadata": {},
   "outputs": [],
   "source": [
    "from sklearn.neighbors import KNeighborsRegressor\n",
    "from sklearn.linear_model import LogisticRegression \n",
    "from sklearn.linear_model import LinearRegression \n",
    "from sklearn.svm import SVR\n",
    "from sklearn.linear_model import Ridge \n",
    "from sklearn.tree import DecisionTreeRegressor\n",
    "\n",
    "from sklearn.svm import LinearSVR\n",
    "from sklearn.linear_model import Lasso \n",
    "from sklearn.ensemble import VotingRegressor"
   ]
  },
  {
   "cell_type": "code",
   "execution_count": 3,
   "metadata": {},
   "outputs": [],
   "source": [
    "from sklearn.metrics import (mean_squared_error, \n",
    "                             mean_absolute_error, \n",
    "                             r2_score, \n",
    "                             mean_squared_log_error)"
   ]
  },
  {
   "cell_type": "code",
   "execution_count": 4,
   "metadata": {},
   "outputs": [],
   "source": [
    "# from yellowbrick.regressor import residuals_plot\n",
    "# from yellowbrick.regressor import prediction_error"
   ]
  },
  {
   "cell_type": "code",
   "execution_count": 6,
   "metadata": {},
   "outputs": [],
   "source": [
    "from sklearn.feature_selection import mutual_info_classif\n",
    "# from featurewiz import featurewiz\n",
    "\n",
    "from sklearn.feature_selection import SelectKBest\n",
    "from sklearn.feature_selection import f_regression\n",
    "from sklearn.feature_selection import mutual_info_regression"
   ]
  },
  {
   "cell_type": "code",
   "execution_count": 7,
   "metadata": {},
   "outputs": [],
   "source": [
    "from sklearn.model_selection import train_test_split\n",
    "from sklearn.preprocessing import MinMaxScaler\n",
    "from sklearn.preprocessing import StandardScaler"
   ]
  },
  {
   "cell_type": "code",
   "execution_count": 10,
   "metadata": {},
   "outputs": [],
   "source": [
    "# import dalex as dx"
   ]
  },
  {
   "cell_type": "code",
   "execution_count": 11,
   "metadata": {},
   "outputs": [],
   "source": [
    "from sklearn.model_selection import StratifiedKFold\n",
    "from scipy.stats import wilcoxon, friedmanchisquare, rankdata\n",
    "from Orange.evaluation import compute_CD, graph_ranks\n",
    "from sklearn.metrics import mean_absolute_error\n",
    "from sklearn.model_selection import KFold\n",
    "from sklearn.model_selection import cross_val_score"
   ]
  },
  {
   "cell_type": "markdown",
   "metadata": {},
   "source": [
    "### Load Dataset "
   ]
  },
  {
   "cell_type": "code",
   "execution_count": 12,
   "metadata": {},
   "outputs": [],
   "source": [
    "dataset = pd.read_csv(\"Data/neonate_dataset.csv\")"
   ]
  },
  {
   "cell_type": "code",
   "execution_count": 13,
   "metadata": {},
   "outputs": [],
   "source": [
    "dataset.fillna(method=\"ffill\", inplace=True)\n",
    "y = dataset['LOS']\n",
    "X = dataset.drop(['LOS'], axis=1)"
   ]
  },
  {
   "cell_type": "code",
   "execution_count": 14,
   "metadata": {},
   "outputs": [],
   "source": [
    "X_train, X_test, y_train, y_test = train_test_split(X, y, test_size=0.20, random_state=20)"
   ]
  },
  {
   "cell_type": "markdown",
   "metadata": {},
   "source": [
    "### Normalization"
   ]
  },
  {
   "cell_type": "code",
   "execution_count": 15,
   "metadata": {},
   "outputs": [],
   "source": [
    "Min_max_scaler = MinMaxScaler().fit(X_train) \n",
    "### StandardScaler()\n",
    "\n",
    "## Scaling \n",
    "X_train_mm_scaled = Min_max_scaler.transform(X_train)\n",
    "X_test_mm_scaled = Min_max_scaler.transform(X_test)\n",
    "\n",
    "## Numpy Array to DataFrame \n",
    "df_train_mm_scaled = pd.DataFrame(X_train_mm_scaled)\n",
    "df_test_mm_scaled = pd.DataFrame(X_test_mm_scaled)"
   ]
  },
  {
   "cell_type": "code",
   "execution_count": 16,
   "metadata": {},
   "outputs": [],
   "source": [
    "# feature selection\n",
    "def select_features(X_train, y_train, X_test, k=70):\n",
    "    # configure to select all features\n",
    "    fs = SelectKBest(score_func=f_regression, k=k)\n",
    "    # learn relationship from training data\n",
    "    fs.fit(X_train, y_train)\n",
    "    # transform train input data\n",
    "    X_train_fs = fs.transform(X_train)\n",
    "    # transform test input data\n",
    "    X_test_fs = fs.transform(X_test)\n",
    "    return X_train_fs, X_test_fs, fs"
   ]
  },
  {
   "cell_type": "code",
   "execution_count": 17,
   "metadata": {},
   "outputs": [],
   "source": [
    "X_train_fs, X_test_fs, fs = select_features(df_train_mm_scaled, y_train, df_test_mm_scaled)"
   ]
  },
  {
   "cell_type": "markdown",
   "metadata": {},
   "source": [
    "### k-fold Cross Validation "
   ]
  },
  {
   "cell_type": "code",
   "execution_count": 18,
   "metadata": {},
   "outputs": [],
   "source": [
    "def cv_partitioning(df, k, fraction): \n",
    "    dataset_list = [] \n",
    "    \n",
    "    for i in range(0, k): \n",
    "        dataset_list.append(df.sample(frac=fraction))\n",
    "    \n",
    "    return dataset_list"
   ]
  },
  {
   "cell_type": "code",
   "execution_count": 19,
   "metadata": {},
   "outputs": [],
   "source": [
    "train_data = X_train[:]\n",
    "train_data[\"LOS\"] = y_train \n",
    "\n",
    "test_data = X_test[:]\n",
    "test_data[\"LOS\"] = y_test"
   ]
  },
  {
   "cell_type": "code",
   "execution_count": 20,
   "metadata": {},
   "outputs": [
    {
     "data": {
      "text/plain": [
       "(1996, 91)"
      ]
     },
     "execution_count": 20,
     "metadata": {},
     "output_type": "execute_result"
    }
   ],
   "source": [
    "train_data.shape"
   ]
  },
  {
   "cell_type": "code",
   "execution_count": 21,
   "metadata": {},
   "outputs": [],
   "source": [
    "train_dfs = cv_partitioning(train_data, 10, 0.95)"
   ]
  },
  {
   "cell_type": "markdown",
   "metadata": {},
   "source": [
    "### Defining Models "
   ]
  },
  {
   "cell_type": "code",
   "execution_count": 22,
   "metadata": {},
   "outputs": [],
   "source": [
    "def get_results(train, test, regressors): \n",
    "    \n",
    "    train_x = train.drop([\"LOS\"], axis=1) \n",
    "    train_y = train[\"LOS\"] \n",
    "    \n",
    "    test_x = test.drop([\"LOS\"], axis=1) \n",
    "    test_y = test[\"LOS\"]\n",
    "    \n",
    "    reg_names = [] \n",
    "    mse_scores = [] \n",
    "    mae_scores = [] \n",
    "    r2_scores = []    \n",
    "    \n",
    "    for reg in regressors:  \n",
    "        reg.fit(train_x, train_y)\n",
    "        y_preds = reg.predict(test_x)\n",
    "        \n",
    "        reg_names.append(reg.__class__.__name__)\n",
    "        mse_scores.append(mean_squared_error(test_y, y_preds, squared=False))\n",
    "        mae_scores.append(mean_absolute_error(test_y, y_preds))\n",
    "        r2_scores.append(r2_score(test_y, y_preds))\n",
    "        \n",
    "    \n",
    "    results = { 'name': reg_names, \n",
    "                'rmse': mse_scores, \n",
    "                'mae': mae_scores, \n",
    "                'r2': r2_scores, \n",
    "              }\n",
    "       \n",
    "    df = pd.DataFrame.from_dict(results)\n",
    "    \n",
    "    return df "
   ]
  },
  {
   "cell_type": "code",
   "execution_count": 23,
   "metadata": {},
   "outputs": [],
   "source": [
    "regressors = [KNeighborsRegressor(), LinearRegression(normalize=True), Ridge(), LinearSVR(C=0.02), DecisionTreeRegressor(), \n",
    "              Lasso()]\n",
    "\n",
    "results_data = []\n",
    "for i in range(0, 10): \n",
    "    results_data.append(get_results(train_dfs[i], test_data, regressors))"
   ]
  },
  {
   "cell_type": "code",
   "execution_count": 24,
   "metadata": {},
   "outputs": [],
   "source": [
    "resultsDF = pd.concat(results_data)"
   ]
  },
  {
   "cell_type": "code",
   "execution_count": 25,
   "metadata": {},
   "outputs": [
    {
     "data": {
      "text/html": [
       "<div>\n",
       "<style scoped>\n",
       "    .dataframe tbody tr th:only-of-type {\n",
       "        vertical-align: middle;\n",
       "    }\n",
       "\n",
       "    .dataframe tbody tr th {\n",
       "        vertical-align: top;\n",
       "    }\n",
       "\n",
       "    .dataframe thead th {\n",
       "        text-align: right;\n",
       "    }\n",
       "</style>\n",
       "<table border=\"1\" class=\"dataframe\">\n",
       "  <thead>\n",
       "    <tr style=\"text-align: right;\">\n",
       "      <th></th>\n",
       "      <th>method</th>\n",
       "      <th>rmse</th>\n",
       "      <th>rmse_std</th>\n",
       "      <th>mae</th>\n",
       "      <th>mae_std</th>\n",
       "      <th>r2</th>\n",
       "      <th>r2_std</th>\n",
       "    </tr>\n",
       "  </thead>\n",
       "  <tbody>\n",
       "    <tr>\n",
       "      <th>0</th>\n",
       "      <td>KNeighborsRegressor</td>\n",
       "      <td>24.199852</td>\n",
       "      <td>1.517331</td>\n",
       "      <td>16.491426</td>\n",
       "      <td>1.198996</td>\n",
       "      <td>22.361321</td>\n",
       "      <td>0.971909</td>\n",
       "    </tr>\n",
       "    <tr>\n",
       "      <th>1</th>\n",
       "      <td>LinearRegression</td>\n",
       "      <td>16.165129</td>\n",
       "      <td>0.431497</td>\n",
       "      <td>11.672631</td>\n",
       "      <td>0.524501</td>\n",
       "      <td>65.358357</td>\n",
       "      <td>0.184877</td>\n",
       "    </tr>\n",
       "    <tr>\n",
       "      <th>2</th>\n",
       "      <td>LinearSVR</td>\n",
       "      <td>18.636141</td>\n",
       "      <td>19.120380</td>\n",
       "      <td>12.858917</td>\n",
       "      <td>13.294898</td>\n",
       "      <td>53.522328</td>\n",
       "      <td>9.781899</td>\n",
       "    </tr>\n",
       "    <tr>\n",
       "      <th>3</th>\n",
       "      <td>DecisionTreeRegressor</td>\n",
       "      <td>20.092007</td>\n",
       "      <td>3.905397</td>\n",
       "      <td>13.331261</td>\n",
       "      <td>2.977756</td>\n",
       "      <td>46.465763</td>\n",
       "      <td>2.075334</td>\n",
       "    </tr>\n",
       "    <tr>\n",
       "      <th>4</th>\n",
       "      <td>Ridge</td>\n",
       "      <td>16.160622</td>\n",
       "      <td>0.431599</td>\n",
       "      <td>11.666430</td>\n",
       "      <td>0.529675</td>\n",
       "      <td>65.377671</td>\n",
       "      <td>0.184876</td>\n",
       "    </tr>\n",
       "    <tr>\n",
       "      <th>5</th>\n",
       "      <td>Lasso</td>\n",
       "      <td>16.010026</td>\n",
       "      <td>0.343765</td>\n",
       "      <td>11.375444</td>\n",
       "      <td>0.391123</td>\n",
       "      <td>66.020015</td>\n",
       "      <td>0.145873</td>\n",
       "    </tr>\n",
       "  </tbody>\n",
       "</table>\n",
       "</div>"
      ],
      "text/plain": [
       "                  method       rmse   rmse_std        mae    mae_std  \\\n",
       "0    KNeighborsRegressor  24.199852   1.517331  16.491426   1.198996   \n",
       "1       LinearRegression  16.165129   0.431497  11.672631   0.524501   \n",
       "2              LinearSVR  18.636141  19.120380  12.858917  13.294898   \n",
       "3  DecisionTreeRegressor  20.092007   3.905397  13.331261   2.977756   \n",
       "4                  Ridge  16.160622   0.431599  11.666430   0.529675   \n",
       "5                  Lasso  16.010026   0.343765  11.375444   0.391123   \n",
       "\n",
       "          r2    r2_std  \n",
       "0  22.361321  0.971909  \n",
       "1  65.358357  0.184877  \n",
       "2  53.522328  9.781899  \n",
       "3  46.465763  2.075334  \n",
       "4  65.377671  0.184876  \n",
       "5  66.020015  0.145873  "
      ]
     },
     "execution_count": 25,
     "metadata": {},
     "output_type": "execute_result"
    }
   ],
   "source": [
    "names = ['KNeighborsRegressor', 'LinearRegression', 'LinearSVR', 'DecisionTreeRegressor', 'Ridge', 'Lasso']\n",
    "\n",
    "rmse_list = [] \n",
    "rmse_std = [] \n",
    "\n",
    "mae_list = []\n",
    "mae_std = [] \n",
    "\n",
    "r2_list = []\n",
    "r2_std = [] \n",
    "\n",
    "for n in names: \n",
    "    rmse_list.append(resultsDF[resultsDF.name == n].rmse.mean())\n",
    "    rmse_std.append(resultsDF[resultsDF.name == n].rmse.std()*10)\n",
    "    mae_list.append(resultsDF[resultsDF.name == n].mae.mean())\n",
    "    mae_std.append(resultsDF[resultsDF.name == n].mae.std()*10)\n",
    "    r2_list.append(resultsDF[resultsDF.name == n].r2.mean()*100)   \n",
    "    r2_std.append(resultsDF[resultsDF.name == n].r2.std()*100)\n",
    "\n",
    "final_results = {\"method\": names, \n",
    "                \"rmse\": rmse_list, \n",
    "                \"rmse_std\": rmse_std, \n",
    "                \"mae\": mae_list, \n",
    "                \"mae_std\": mae_std, \n",
    "                \"r2\": r2_list, \n",
    "                \"r2_std\": r2_std}\n",
    "\n",
    "final_resultsDF = pd.DataFrame.from_dict(final_results)\n",
    "\n",
    "final_resultsDF"
   ]
  },
  {
   "cell_type": "code",
   "execution_count": 26,
   "metadata": {},
   "outputs": [],
   "source": [
    "def change_format(x, name): \n",
    "    name_std = name + \"_std\"\n",
    "    return str(round(x[name], 3)) + \" ± \" + str(round(x[name_std], 3)) "
   ]
  },
  {
   "cell_type": "code",
   "execution_count": 27,
   "metadata": {},
   "outputs": [],
   "source": [
    "final_resultsDF[\"rmse\"] = final_resultsDF.apply(lambda x: change_format(x, 'rmse'), axis=1) \n",
    "final_resultsDF[\"mae\"] = final_resultsDF.apply(lambda x: change_format(x, 'mae'), axis=1) \n",
    "final_resultsDF[\"r2\"] = final_resultsDF.apply(lambda x: change_format(x, 'r2'), axis=1) \n",
    "\n",
    "final_resultsDF.drop([\"rmse_std\", \"mae_std\", \"r2_std\"], axis=1, inplace=True)"
   ]
  },
  {
   "cell_type": "code",
   "execution_count": 28,
   "metadata": {},
   "outputs": [
    {
     "data": {
      "text/html": [
       "<div>\n",
       "<style scoped>\n",
       "    .dataframe tbody tr th:only-of-type {\n",
       "        vertical-align: middle;\n",
       "    }\n",
       "\n",
       "    .dataframe tbody tr th {\n",
       "        vertical-align: top;\n",
       "    }\n",
       "\n",
       "    .dataframe thead th {\n",
       "        text-align: right;\n",
       "    }\n",
       "</style>\n",
       "<table border=\"1\" class=\"dataframe\">\n",
       "  <thead>\n",
       "    <tr style=\"text-align: right;\">\n",
       "      <th></th>\n",
       "      <th>method</th>\n",
       "      <th>rmse</th>\n",
       "      <th>mae</th>\n",
       "      <th>r2</th>\n",
       "    </tr>\n",
       "  </thead>\n",
       "  <tbody>\n",
       "    <tr>\n",
       "      <th>0</th>\n",
       "      <td>KNeighborsRegressor</td>\n",
       "      <td>24.2 ± 1.517</td>\n",
       "      <td>16.491 ± 1.199</td>\n",
       "      <td>22.361 ± 0.972</td>\n",
       "    </tr>\n",
       "    <tr>\n",
       "      <th>1</th>\n",
       "      <td>LinearRegression</td>\n",
       "      <td>16.165 ± 0.431</td>\n",
       "      <td>11.673 ± 0.525</td>\n",
       "      <td>65.358 ± 0.185</td>\n",
       "    </tr>\n",
       "    <tr>\n",
       "      <th>2</th>\n",
       "      <td>LinearSVR</td>\n",
       "      <td>18.636 ± 19.12</td>\n",
       "      <td>12.859 ± 13.295</td>\n",
       "      <td>53.522 ± 9.782</td>\n",
       "    </tr>\n",
       "    <tr>\n",
       "      <th>3</th>\n",
       "      <td>DecisionTreeRegressor</td>\n",
       "      <td>20.092 ± 3.905</td>\n",
       "      <td>13.331 ± 2.978</td>\n",
       "      <td>46.466 ± 2.075</td>\n",
       "    </tr>\n",
       "    <tr>\n",
       "      <th>4</th>\n",
       "      <td>Ridge</td>\n",
       "      <td>16.161 ± 0.432</td>\n",
       "      <td>11.666 ± 0.53</td>\n",
       "      <td>65.378 ± 0.185</td>\n",
       "    </tr>\n",
       "    <tr>\n",
       "      <th>5</th>\n",
       "      <td>Lasso</td>\n",
       "      <td>16.01 ± 0.344</td>\n",
       "      <td>11.375 ± 0.391</td>\n",
       "      <td>66.02 ± 0.146</td>\n",
       "    </tr>\n",
       "  </tbody>\n",
       "</table>\n",
       "</div>"
      ],
      "text/plain": [
       "                  method            rmse              mae              r2\n",
       "0    KNeighborsRegressor    24.2 ± 1.517   16.491 ± 1.199  22.361 ± 0.972\n",
       "1       LinearRegression  16.165 ± 0.431   11.673 ± 0.525  65.358 ± 0.185\n",
       "2              LinearSVR  18.636 ± 19.12  12.859 ± 13.295  53.522 ± 9.782\n",
       "3  DecisionTreeRegressor  20.092 ± 3.905   13.331 ± 2.978  46.466 ± 2.075\n",
       "4                  Ridge  16.161 ± 0.432    11.666 ± 0.53  65.378 ± 0.185\n",
       "5                  Lasso   16.01 ± 0.344   11.375 ± 0.391   66.02 ± 0.146"
      ]
     },
     "execution_count": 28,
     "metadata": {},
     "output_type": "execute_result"
    }
   ],
   "source": [
    "final_resultsDF"
   ]
  },
  {
   "cell_type": "code",
   "execution_count": 26,
   "metadata": {},
   "outputs": [],
   "source": [
    "# final_resultsDF.to_csv(\"Results/single_regressor_result_raw-1.csv\", index=False)"
   ]
  },
  {
   "cell_type": "markdown",
   "metadata": {},
   "source": [
    "### Optimization "
   ]
  },
  {
   "cell_type": "code",
   "execution_count": 52,
   "metadata": {},
   "outputs": [],
   "source": [
    "selected_features_classification = [\n",
    "     'temperature_mean',\n",
    "     'respRate_std',\n",
    "#      'respRate_var',\n",
    "     'skinTemperature_std',\n",
    "     'skinTemperature_var',\n",
    "     'heartRate_std',\n",
    "     'hrAlarmLow_max',\n",
    "     'hrAlarmLow_std',\n",
    "     'hrAlarmHigh_std', \n",
    "#      'heartRate_var',\n",
    "#      'bpCuffMean_var',\n",
    "     'sao2_std',\n",
    "#      'bpCuffMean_std',\n",
    "#      'sao2_var',\n",
    "     'heartRate_mean',\n",
    "#      'bpCuffSystolic_std',\n",
    "     'respRate_mean',\n",
    "#      'glucometer_var',\n",
    "     'skinTemperature_mean',\n",
    "#      'bpCuffSystolic_var',\n",
    "#      'glucometer_std',\n",
    "#      'bpCuffDiastolic_var',\n",
    "     'bpCuffDiastolic_std',\n",
    "     'BIRTH_WEIGHT',\n",
    "     'bpCuffSystolic_mean',\n",
    "     'bpCuffDiastolic_mean',\n",
    "     'sao2_mean',\n",
    "     'temperature_std',\n",
    "#      'temperature_var',\n",
    "#      'glucometer_mean',\n",
    "     'bpCuffMean_mean',\n",
    "     'PLATELET',\n",
    "     'D10W_MEAN', 'ADMISSION_LOCATION', 'INSURANCE', 'GESTATION', 'WHITE_BLOOD', \n",
    "     'DATEEVENTS', 'DW10_COUNT', 'PRESCRIPTIONS', 'HEAD_CIRC'] "
   ]
  },
  {
   "cell_type": "code",
   "execution_count": 63,
   "metadata": {},
   "outputs": [],
   "source": [
    "X_train, X_test, y_train, y_test = train_test_split(X, y, test_size=0.20, random_state=10)"
   ]
  },
  {
   "cell_type": "code",
   "execution_count": 77,
   "metadata": {},
   "outputs": [],
   "source": [
    "train_data = X_train[selected_features_classification]\n",
    "train_data[\"LOS\"] = y_train \n",
    "\n",
    "test_data = X_test[selected_features_classification]\n",
    "test_data[\"LOS\"] = y_test\n",
    "\n",
    "train_dfs = cv_partitioning(train_data, 10, 0.95)\n",
    "test_dfs = cv_partitioning(test_data, 10, 0.95)"
   ]
  },
  {
   "cell_type": "code",
   "execution_count": 65,
   "metadata": {},
   "outputs": [
    {
     "data": {
      "text/plain": [
       "(1896, 30)"
      ]
     },
     "execution_count": 65,
     "metadata": {},
     "output_type": "execute_result"
    }
   ],
   "source": [
    "train_dfs[0].shape"
   ]
  },
  {
   "cell_type": "code",
   "execution_count": 89,
   "metadata": {},
   "outputs": [],
   "source": [
    "regressors = [KNeighborsRegressor(n_neighbors=7, leaf_size=30, p=1, algorithm='auto'), \n",
    "              LinearRegression(), \n",
    "              Ridge(alpha=3), \n",
    "              Lasso(alpha=0.1, warm_start=True), \n",
    "              LinearSVR(C=0.009), \n",
    "              DecisionTreeRegressor(criterion='mse', max_depth=4)]\n",
    "\n",
    "results_data = []\n",
    "for i in range(0, 10): \n",
    "#     results_data.append(get_results(train_dfs[i], test_data, regressors))\n",
    "    results_data.append(get_results(train_data, test_dfs[i], regressors))\n",
    "    \n",
    "resultsDF = pd.concat(results_data)"
   ]
  },
  {
   "cell_type": "code",
   "execution_count": 90,
   "metadata": {},
   "outputs": [
    {
     "data": {
      "text/html": [
       "<div>\n",
       "<style scoped>\n",
       "    .dataframe tbody tr th:only-of-type {\n",
       "        vertical-align: middle;\n",
       "    }\n",
       "\n",
       "    .dataframe tbody tr th {\n",
       "        vertical-align: top;\n",
       "    }\n",
       "\n",
       "    .dataframe thead th {\n",
       "        text-align: right;\n",
       "    }\n",
       "</style>\n",
       "<table border=\"1\" class=\"dataframe\">\n",
       "  <thead>\n",
       "    <tr style=\"text-align: right;\">\n",
       "      <th></th>\n",
       "      <th>method</th>\n",
       "      <th>rmse</th>\n",
       "      <th>rmse_std</th>\n",
       "      <th>mae</th>\n",
       "      <th>mae_std</th>\n",
       "      <th>r2</th>\n",
       "      <th>r2_std</th>\n",
       "    </tr>\n",
       "  </thead>\n",
       "  <tbody>\n",
       "    <tr>\n",
       "      <th>0</th>\n",
       "      <td>KNeighborsRegressor</td>\n",
       "      <td>18.119268</td>\n",
       "      <td>2.290549</td>\n",
       "      <td>11.760837</td>\n",
       "      <td>1.421647</td>\n",
       "      <td>53.891159</td>\n",
       "      <td>0.823647</td>\n",
       "    </tr>\n",
       "    <tr>\n",
       "      <th>1</th>\n",
       "      <td>LinearRegression</td>\n",
       "      <td>14.776441</td>\n",
       "      <td>1.917044</td>\n",
       "      <td>10.815325</td>\n",
       "      <td>1.056418</td>\n",
       "      <td>69.332773</td>\n",
       "      <td>0.689050</td>\n",
       "    </tr>\n",
       "    <tr>\n",
       "      <th>2</th>\n",
       "      <td>LinearSVR</td>\n",
       "      <td>16.015995</td>\n",
       "      <td>3.034710</td>\n",
       "      <td>10.760605</td>\n",
       "      <td>1.483260</td>\n",
       "      <td>63.978637</td>\n",
       "      <td>0.771926</td>\n",
       "    </tr>\n",
       "    <tr>\n",
       "      <th>3</th>\n",
       "      <td>DecisionTreeRegressor</td>\n",
       "      <td>15.026019</td>\n",
       "      <td>1.484889</td>\n",
       "      <td>10.324216</td>\n",
       "      <td>0.932655</td>\n",
       "      <td>68.287157</td>\n",
       "      <td>0.650493</td>\n",
       "    </tr>\n",
       "    <tr>\n",
       "      <th>4</th>\n",
       "      <td>Ridge</td>\n",
       "      <td>14.780444</td>\n",
       "      <td>1.921370</td>\n",
       "      <td>10.814248</td>\n",
       "      <td>1.056263</td>\n",
       "      <td>69.316169</td>\n",
       "      <td>0.689624</td>\n",
       "    </tr>\n",
       "    <tr>\n",
       "      <th>5</th>\n",
       "      <td>Lasso</td>\n",
       "      <td>14.820150</td>\n",
       "      <td>1.992752</td>\n",
       "      <td>10.799545</td>\n",
       "      <td>1.045764</td>\n",
       "      <td>69.151297</td>\n",
       "      <td>0.699554</td>\n",
       "    </tr>\n",
       "  </tbody>\n",
       "</table>\n",
       "</div>"
      ],
      "text/plain": [
       "                  method       rmse  rmse_std        mae   mae_std         r2  \\\n",
       "0    KNeighborsRegressor  18.119268  2.290549  11.760837  1.421647  53.891159   \n",
       "1       LinearRegression  14.776441  1.917044  10.815325  1.056418  69.332773   \n",
       "2              LinearSVR  16.015995  3.034710  10.760605  1.483260  63.978637   \n",
       "3  DecisionTreeRegressor  15.026019  1.484889  10.324216  0.932655  68.287157   \n",
       "4                  Ridge  14.780444  1.921370  10.814248  1.056263  69.316169   \n",
       "5                  Lasso  14.820150  1.992752  10.799545  1.045764  69.151297   \n",
       "\n",
       "     r2_std  \n",
       "0  0.823647  \n",
       "1  0.689050  \n",
       "2  0.771926  \n",
       "3  0.650493  \n",
       "4  0.689624  \n",
       "5  0.699554  "
      ]
     },
     "execution_count": 90,
     "metadata": {},
     "output_type": "execute_result"
    }
   ],
   "source": [
    "names = ['KNeighborsRegressor', 'LinearRegression', 'LinearSVR', 'DecisionTreeRegressor', 'Ridge', 'Lasso']\n",
    "\n",
    "rmse_list = [] \n",
    "rmse_std = [] \n",
    "\n",
    "mae_list = []\n",
    "mae_std = [] \n",
    "\n",
    "r2_list = []\n",
    "r2_std = [] \n",
    "\n",
    "for n in names: \n",
    "    rmse_list.append(resultsDF[resultsDF.name == n].rmse.mean())\n",
    "    rmse_std.append(resultsDF[resultsDF.name == n].rmse.std()*10)\n",
    "    mae_list.append(resultsDF[resultsDF.name == n].mae.mean())\n",
    "    mae_std.append(resultsDF[resultsDF.name == n].mae.std()*10)\n",
    "    r2_list.append(resultsDF[resultsDF.name == n].r2.mean()*100)   \n",
    "    r2_std.append(resultsDF[resultsDF.name == n].r2.std()*100)\n",
    "\n",
    "final_results = {\"method\": names, \n",
    "                \"rmse\": rmse_list, \n",
    "                \"rmse_std\": rmse_std, \n",
    "                \"mae\": mae_list, \n",
    "                \"mae_std\": mae_std, \n",
    "                \"r2\": r2_list, \n",
    "                \"r2_std\": r2_std}\n",
    "\n",
    "final_resultsDF = pd.DataFrame.from_dict(final_results)\n",
    "\n",
    "final_resultsDF"
   ]
  },
  {
   "cell_type": "code",
   "execution_count": 91,
   "metadata": {},
   "outputs": [],
   "source": [
    "resultsDF.to_csv(\"Results/single_regressors_full_results.csv\" ,index=False)"
   ]
  },
  {
   "cell_type": "code",
   "execution_count": 92,
   "metadata": {},
   "outputs": [],
   "source": [
    "final_resultsDF[\"rmse\"] = final_resultsDF.apply(lambda x: change_format(x, 'rmse'), axis=1) \n",
    "final_resultsDF[\"mae\"] = final_resultsDF.apply(lambda x: change_format(x, 'mae'), axis=1) \n",
    "final_resultsDF[\"r2\"] = final_resultsDF.apply(lambda x: change_format(x, 'r2'), axis=1) \n",
    "\n",
    "final_resultsDF.drop([\"rmse_std\", \"mae_std\", \"r2_std\"], axis=1, inplace=True)"
   ]
  },
  {
   "cell_type": "code",
   "execution_count": 69,
   "metadata": {},
   "outputs": [
    {
     "data": {
      "text/html": [
       "<div>\n",
       "<style scoped>\n",
       "    .dataframe tbody tr th:only-of-type {\n",
       "        vertical-align: middle;\n",
       "    }\n",
       "\n",
       "    .dataframe tbody tr th {\n",
       "        vertical-align: top;\n",
       "    }\n",
       "\n",
       "    .dataframe thead th {\n",
       "        text-align: right;\n",
       "    }\n",
       "</style>\n",
       "<table border=\"1\" class=\"dataframe\">\n",
       "  <thead>\n",
       "    <tr style=\"text-align: right;\">\n",
       "      <th></th>\n",
       "      <th>method</th>\n",
       "      <th>rmse</th>\n",
       "      <th>mae</th>\n",
       "      <th>r2</th>\n",
       "    </tr>\n",
       "  </thead>\n",
       "  <tbody>\n",
       "    <tr>\n",
       "      <th>0</th>\n",
       "      <td>KNeighborsRegressor</td>\n",
       "      <td>18.218 ± 1.077</td>\n",
       "      <td>11.805 ± 0.611</td>\n",
       "      <td>53.24 ± 0.553</td>\n",
       "    </tr>\n",
       "    <tr>\n",
       "      <th>1</th>\n",
       "      <td>LinearRegression</td>\n",
       "      <td>14.825 ± 0.196</td>\n",
       "      <td>10.842 ± 0.241</td>\n",
       "      <td>69.038 ± 0.082</td>\n",
       "    </tr>\n",
       "    <tr>\n",
       "      <th>2</th>\n",
       "      <td>LinearSVR</td>\n",
       "      <td>16.074 ± 1.18</td>\n",
       "      <td>10.785 ± 0.353</td>\n",
       "      <td>63.598 ± 0.536</td>\n",
       "    </tr>\n",
       "    <tr>\n",
       "      <th>3</th>\n",
       "      <td>DecisionTreeRegressor</td>\n",
       "      <td>15.815 ± 5.991</td>\n",
       "      <td>10.624 ± 2.206</td>\n",
       "      <td>64.716 ± 2.68</td>\n",
       "    </tr>\n",
       "    <tr>\n",
       "      <th>4</th>\n",
       "      <td>Ridge</td>\n",
       "      <td>14.828 ± 0.195</td>\n",
       "      <td>10.84 ± 0.238</td>\n",
       "      <td>69.024 ± 0.081</td>\n",
       "    </tr>\n",
       "    <tr>\n",
       "      <th>5</th>\n",
       "      <td>Lasso</td>\n",
       "      <td>14.867 ± 0.208</td>\n",
       "      <td>10.822 ± 0.246</td>\n",
       "      <td>68.861 ± 0.087</td>\n",
       "    </tr>\n",
       "  </tbody>\n",
       "</table>\n",
       "</div>"
      ],
      "text/plain": [
       "                  method            rmse             mae              r2\n",
       "0    KNeighborsRegressor  18.218 ± 1.077  11.805 ± 0.611   53.24 ± 0.553\n",
       "1       LinearRegression  14.825 ± 0.196  10.842 ± 0.241  69.038 ± 0.082\n",
       "2              LinearSVR   16.074 ± 1.18  10.785 ± 0.353  63.598 ± 0.536\n",
       "3  DecisionTreeRegressor  15.815 ± 5.991  10.624 ± 2.206   64.716 ± 2.68\n",
       "4                  Ridge  14.828 ± 0.195   10.84 ± 0.238  69.024 ± 0.081\n",
       "5                  Lasso  14.867 ± 0.208  10.822 ± 0.246  68.861 ± 0.087"
      ]
     },
     "execution_count": 69,
     "metadata": {},
     "output_type": "execute_result"
    }
   ],
   "source": [
    "final_resultsDF"
   ]
  },
  {
   "cell_type": "code",
   "execution_count": 37,
   "metadata": {},
   "outputs": [],
   "source": [
    "# final_resultsDF.to_csv(\"Results/single_regressor_result_optimized-1.csv\", index=False)"
   ]
  },
  {
   "cell_type": "markdown",
   "metadata": {},
   "source": [
    "### Voting "
   ]
  },
  {
   "cell_type": "code",
   "execution_count": 93,
   "metadata": {},
   "outputs": [],
   "source": [
    "voting = VotingRegressor([('lr', LinearRegression()), \n",
    "                        ('ridge', Ridge(alpha=2.5, max_iter=1500)),\n",
    "                        ('dt', DecisionTreeRegressor(criterion='friedman_mse', max_depth=4)), \n",
    "#                         ('las',  Lasso(alpha=0.1)), \n",
    "#                         ('knn', KNeighborsRegressor(n_neighbors=6, leaf_size=50, p=1))\n",
    "                        ])"
   ]
  },
  {
   "cell_type": "code",
   "execution_count": 94,
   "metadata": {},
   "outputs": [],
   "source": [
    "results_data = []\n",
    "for i in range(0, 10): \n",
    "#     results_data.append(get_results(train_dfs[i], test_data, [voting]))\n",
    "    results_data.append(get_results(train_data, test_dfs[i], [voting])) "
   ]
  },
  {
   "cell_type": "code",
   "execution_count": 95,
   "metadata": {},
   "outputs": [
    {
     "data": {
      "text/html": [
       "<div>\n",
       "<style scoped>\n",
       "    .dataframe tbody tr th:only-of-type {\n",
       "        vertical-align: middle;\n",
       "    }\n",
       "\n",
       "    .dataframe tbody tr th {\n",
       "        vertical-align: top;\n",
       "    }\n",
       "\n",
       "    .dataframe thead th {\n",
       "        text-align: right;\n",
       "    }\n",
       "</style>\n",
       "<table border=\"1\" class=\"dataframe\">\n",
       "  <thead>\n",
       "    <tr style=\"text-align: right;\">\n",
       "      <th></th>\n",
       "      <th>method</th>\n",
       "      <th>rmse</th>\n",
       "      <th>rmse_std</th>\n",
       "      <th>mae</th>\n",
       "      <th>mae_std</th>\n",
       "      <th>r2</th>\n",
       "      <th>r2_std</th>\n",
       "    </tr>\n",
       "  </thead>\n",
       "  <tbody>\n",
       "    <tr>\n",
       "      <th>0</th>\n",
       "      <td>VotingRegressor</td>\n",
       "      <td>13.758227</td>\n",
       "      <td>0.170339</td>\n",
       "      <td>9.829068</td>\n",
       "      <td>0.104065</td>\n",
       "      <td>73.413735</td>\n",
       "      <td>0.569622</td>\n",
       "    </tr>\n",
       "  </tbody>\n",
       "</table>\n",
       "</div>"
      ],
      "text/plain": [
       "            method       rmse  rmse_std       mae   mae_std         r2  \\\n",
       "0  VotingRegressor  13.758227  0.170339  9.829068  0.104065  73.413735   \n",
       "\n",
       "     r2_std  \n",
       "0  0.569622  "
      ]
     },
     "execution_count": 95,
     "metadata": {},
     "output_type": "execute_result"
    }
   ],
   "source": [
    "resultsDF = pd.concat(results_data)\n",
    "\n",
    "names = ['VotingRegressor']\n",
    "\n",
    "\n",
    "rmse_list = [] \n",
    "rmse_std = [] \n",
    "\n",
    "mae_list = []\n",
    "mae_std = [] \n",
    "\n",
    "r2_list = []\n",
    "r2_std = [] \n",
    "\n",
    "for n in names: \n",
    "    rmse_list.append(resultsDF[resultsDF.name == n].rmse.mean())\n",
    "    rmse_std.append(resultsDF[resultsDF.name == n].rmse.std())\n",
    "    mae_list.append(resultsDF[resultsDF.name == n].mae.mean())\n",
    "    mae_std.append(resultsDF[resultsDF.name == n].mae.std())\n",
    "    r2_list.append(resultsDF[resultsDF.name == n].r2.mean()*100)   \n",
    "    r2_std.append(resultsDF[resultsDF.name == n].r2.std()*100)\n",
    "\n",
    "final_results = {\"method\": names, \n",
    "                \"rmse\": rmse_list, \n",
    "                \"rmse_std\": rmse_std, \n",
    "                \"mae\": mae_list, \n",
    "                \"mae_std\": mae_std, \n",
    "                \"r2\": r2_list, \n",
    "                \"r2_std\": r2_std}\n",
    "\n",
    "final_resultsDF = pd.DataFrame.from_dict(final_results)\n",
    "\n",
    "final_resultsDF"
   ]
  },
  {
   "cell_type": "code",
   "execution_count": 97,
   "metadata": {},
   "outputs": [],
   "source": [
    "resultsDF.to_csv(\"Results/single_voting_full_results.csv\" ,index=False)"
   ]
  },
  {
   "cell_type": "markdown",
   "metadata": {},
   "source": [
    "### <font color='purple'> Critical Diagram "
   ]
  },
  {
   "cell_type": "code",
   "execution_count": 41,
   "metadata": {},
   "outputs": [],
   "source": [
    "def compare_results(results, lst_models):      \n",
    "        fried_result = friedmanchisquare(*results)\n",
    "        \n",
    "        ranks = np.array([rankdata(-p) for p in results])\n",
    "        \n",
    "        # Calculating the average ranks.\n",
    "        average_ranks = np.mean(ranks, axis=0)\n",
    "\n",
    "        names = [lst_models[i] + ' - ' + str(round(average_ranks[i], 3)) for i in range(len(average_ranks))]\n",
    "        \n",
    "        # This method computes the critical difference for Nemenyi test with alpha=0.1.\n",
    "        # For some reason, this method only accepts alpha='0.05' or alpha='0.1'.\n",
    "        cd = compute_CD(average_ranks, n=len(results),alpha='0.05', test='nemenyi')\n",
    "        \n",
    "        # This method computes the critical difference for Bonferroni-Dunn test with alpha=0.05.\n",
    "        # For some reason, this method only accepts alpha='0.05' or alpha='0.1'.\n",
    "        cd1 = compute_CD(average_ranks, n=len(results), alpha='0.05', test='bonferroni-dunn')\n",
    "        \n",
    "        return fried_result, ranks, names, (cd, cd1), average_ranks"
   ]
  },
  {
   "cell_type": "code",
   "execution_count": 42,
   "metadata": {},
   "outputs": [],
   "source": [
    "def plot_comparisons(fried_result, names, cd, cd1, average_ranks):    \n",
    "    # This method generates the plot.\n",
    "    graph_ranks(average_ranks, names=names,\n",
    "                        cd=cd, width=10, textspace=1.5)\n",
    "        \n",
    "    plt.title(f'Friedman-Nemenyi={round(fried_result.pvalue, 4)}\\nCD={round(cd, 3)}')\n",
    "    plt.show()\n",
    "    \n",
    "    return"
   ]
  },
  {
   "cell_type": "code",
   "execution_count": 44,
   "metadata": {},
   "outputs": [
    {
     "ename": "ValueError",
     "evalue": "At least 3 sets of measurements must be given for Friedman test, got 0.",
     "output_type": "error",
     "traceback": [
      "\u001b[1;31m---------------------------------------------------------------------------\u001b[0m",
      "\u001b[1;31mValueError\u001b[0m                                Traceback (most recent call last)",
      "\u001b[1;32m<ipython-input-44-07a3d47e708f>\u001b[0m in \u001b[0;36m<module>\u001b[1;34m\u001b[0m\n\u001b[0;32m     11\u001b[0m                 dct_results['LinearSVR'], dct_results['DecisionTreeRegressor'], dct_results['Lasso']]\n\u001b[0;32m     12\u001b[0m \u001b[1;33m\u001b[0m\u001b[0m\n\u001b[1;32m---> 13\u001b[1;33m \u001b[0mfried_result\u001b[0m\u001b[1;33m,\u001b[0m \u001b[0mranks\u001b[0m\u001b[1;33m,\u001b[0m \u001b[0mnames\u001b[0m\u001b[1;33m,\u001b[0m \u001b[1;33m(\u001b[0m\u001b[0mcd\u001b[0m\u001b[1;33m,\u001b[0m \u001b[0mcd1\u001b[0m\u001b[1;33m)\u001b[0m\u001b[1;33m,\u001b[0m \u001b[0maverage_ranks\u001b[0m \u001b[1;33m=\u001b[0m \u001b[0mcompare_results\u001b[0m\u001b[1;33m(\u001b[0m\u001b[0mresults\u001b[0m\u001b[1;33m,\u001b[0m \u001b[0mnames\u001b[0m\u001b[1;33m)\u001b[0m\u001b[1;33m\u001b[0m\u001b[1;33m\u001b[0m\u001b[0m\n\u001b[0m",
      "\u001b[1;32m<ipython-input-41-fe3391d99c19>\u001b[0m in \u001b[0;36mcompare_results\u001b[1;34m(results, lst_models)\u001b[0m\n\u001b[0;32m      1\u001b[0m \u001b[1;32mdef\u001b[0m \u001b[0mcompare_results\u001b[0m\u001b[1;33m(\u001b[0m\u001b[0mresults\u001b[0m\u001b[1;33m,\u001b[0m \u001b[0mlst_models\u001b[0m\u001b[1;33m)\u001b[0m\u001b[1;33m:\u001b[0m\u001b[1;33m\u001b[0m\u001b[1;33m\u001b[0m\u001b[0m\n\u001b[1;32m----> 2\u001b[1;33m         \u001b[0mfried_result\u001b[0m \u001b[1;33m=\u001b[0m \u001b[0mfriedmanchisquare\u001b[0m\u001b[1;33m(\u001b[0m\u001b[1;33m*\u001b[0m\u001b[0mresults\u001b[0m\u001b[1;33m)\u001b[0m\u001b[1;33m\u001b[0m\u001b[1;33m\u001b[0m\u001b[0m\n\u001b[0m\u001b[0;32m      3\u001b[0m \u001b[1;33m\u001b[0m\u001b[0m\n\u001b[0;32m      4\u001b[0m         \u001b[0mranks\u001b[0m \u001b[1;33m=\u001b[0m \u001b[0mnp\u001b[0m\u001b[1;33m.\u001b[0m\u001b[0marray\u001b[0m\u001b[1;33m(\u001b[0m\u001b[1;33m[\u001b[0m\u001b[0mrankdata\u001b[0m\u001b[1;33m(\u001b[0m\u001b[1;33m-\u001b[0m\u001b[0mp\u001b[0m\u001b[1;33m)\u001b[0m \u001b[1;32mfor\u001b[0m \u001b[0mp\u001b[0m \u001b[1;32min\u001b[0m \u001b[0mresults\u001b[0m\u001b[1;33m]\u001b[0m\u001b[1;33m)\u001b[0m\u001b[1;33m\u001b[0m\u001b[1;33m\u001b[0m\u001b[0m\n\u001b[0;32m      5\u001b[0m \u001b[1;33m\u001b[0m\u001b[0m\n",
      "\u001b[1;32m~\\anaconda3\\envs\\academy\\lib\\site-packages\\scipy\\stats\\stats.py\u001b[0m in \u001b[0;36mfriedmanchisquare\u001b[1;34m(*args)\u001b[0m\n\u001b[0;32m   7951\u001b[0m     \u001b[1;32mif\u001b[0m \u001b[0mk\u001b[0m \u001b[1;33m<\u001b[0m \u001b[1;36m3\u001b[0m\u001b[1;33m:\u001b[0m\u001b[1;33m\u001b[0m\u001b[1;33m\u001b[0m\u001b[0m\n\u001b[0;32m   7952\u001b[0m         raise ValueError('At least 3 sets of measurements must be given '\n\u001b[1;32m-> 7953\u001b[1;33m                          'for Friedman test, got {}.'.format(k))\n\u001b[0m\u001b[0;32m   7954\u001b[0m \u001b[1;33m\u001b[0m\u001b[0m\n\u001b[0;32m   7955\u001b[0m     \u001b[0mn\u001b[0m \u001b[1;33m=\u001b[0m \u001b[0mlen\u001b[0m\u001b[1;33m(\u001b[0m\u001b[0margs\u001b[0m\u001b[1;33m[\u001b[0m\u001b[1;36m0\u001b[0m\u001b[1;33m]\u001b[0m\u001b[1;33m)\u001b[0m\u001b[1;33m\u001b[0m\u001b[1;33m\u001b[0m\u001b[0m\n",
      "\u001b[1;31mValueError\u001b[0m: At least 3 sets of measurements must be given for Friedman test, got 0."
     ]
    }
   ],
   "source": [
    "names = ['KNeighborsRegressor', 'LinearRegression', 'Ridge', 'LinearSVR', \n",
    "         'DecisionTreeRegressor', 'Lasso']\n",
    "\n",
    "dct_results = {}\n",
    "\n",
    "for n in names:\n",
    "    res = resultsDF[resultsDF.name == n].r2.to_list()\n",
    "    dct_results[n] = res\n",
    "\n",
    "results = np.c_[dct_results['KNeighborsRegressor'], dct_results['LinearRegression'], dct_results['Ridge'], \n",
    "                dct_results['LinearSVR'], dct_results['DecisionTreeRegressor'], dct_results['Lasso']]\n",
    "\n",
    "fried_result, ranks, names, (cd, cd1), average_ranks = compare_results(results, names)"
   ]
  },
  {
   "cell_type": "code",
   "execution_count": 49,
   "metadata": {},
   "outputs": [
    {
     "data": {
      "text/plain": [
       "['KNeighborsRegressor - 6.0',\n",
       " 'LinearRegression - 1.0',\n",
       " 'Ridge - 2.0',\n",
       " 'LinearSVR - 4.9',\n",
       " 'DecisionTreeRegressor - 4.1',\n",
       " 'Lasso - 3.0']"
      ]
     },
     "execution_count": 49,
     "metadata": {},
     "output_type": "execute_result"
    }
   ],
   "source": [
    "names"
   ]
  },
  {
   "cell_type": "code",
   "execution_count": 50,
   "metadata": {},
   "outputs": [
    {
     "data": {
      "image/png": "[encoded data removed]",
      "text/plain": [
       "<Figure size 720x147.6 with 1 Axes>"
      ]
     },
     "metadata": {},
     "output_type": "display_data"
    }
   ],
   "source": [
    "plot_comparisons(fried_result, names, cd, cd1, average_ranks)"
   ]
  },
  {
   "cell_type": "code",
   "execution_count": 53,
   "metadata": {},
   "outputs": [],
   "source": [
    "# resultsDF.to_csv(\"Results/single_regressors_full_results.csv\" ,index=False)"
   ]
  },
  {
   "cell_type": "code",
   "execution_count": 52,
   "metadata": {},
   "outputs": [],
   "source": [
    "# resultsDF"
   ]
  },
  {
   "cell_type": "code",
   "execution_count": null,
   "metadata": {},
   "outputs": [],
   "source": []
  }
 ],
 "metadata": {
  "kernelspec": {
   "display_name": "Python 3",
   "language": "python",
   "name": "python3"
  },
  "language_info": {
   "codemirror_mode": {
    "name": "ipython",
    "version": 3
   },
   "file_extension": ".py",
   "mimetype": "text/x-python",
   "name": "python",
   "nbconvert_exporter": "python",
   "pygments_lexer": "ipython3",
   "version": "3.7.10"
  }
 },
 "nbformat": 4,
 "nbformat_minor": 4
}
